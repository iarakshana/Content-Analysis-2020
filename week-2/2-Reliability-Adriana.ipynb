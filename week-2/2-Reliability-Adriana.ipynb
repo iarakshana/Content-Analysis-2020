{
 "cells": [
  {
   "cell_type": "markdown",
   "metadata": {},
   "source": [
    "# Week 2 - Sampling & Reliability\n",
    "\n",
    "Up until this week, we have assumed that the corpus you have used for analysis assignments represented a *meaningful* assemblage of texts from which reasonable inferences could be drawn about the social game, social world and social actors that produced it. \n",
    "\n",
    "This week, we ask you to build a corpus for preliminary analysis and articulate what your sample represents in context of your final project. We begin by exploring how we can get *human* readings of content at scale. We want to gather and utilize human responses for several reasons. First, we may want to use crowdsourced human scores as the primary method of coding, extracting or organizing content (as it was in two of the assigned readings). Second, we may want to validate or tune a computational algorithm we may have developed in terms of how it is associated with human meanings or experience. Finally, we may want to use human coding on a sample of data as the basis for training a model or algorithm to then extrapolate *human-like* annotations to the entire population. Here intelligent sampling is critical to maximize effective maching training. \n",
    "\n",
    "For this notebook we will be using the following packages"
   ]
  },
  {
   "cell_type": "code",
   "execution_count": 1,
   "metadata": {},
   "outputs": [],
   "source": [
    "#Special module written for this class\n",
    "#This provides access to data and to helper functions from previous weeks\n",
    "#Make sure you update it before starting this notebook\n",
    "import lucem_illud_2020 #pip install -U git+git://github.com/Computational-Content-Analysis-2020/lucem_illud_2020.git\n",
    "\n",
    "#All these packages need to be installed from pip\n",
    "import numpy as np #For arrays\n",
    "import scipy as sp #For some stats\n",
    "import pandas #Gives us DataFrames\n",
    "import matplotlib.pyplot as plt #For graphics\n",
    "import seaborn #Makes the graphics look nicer\n",
    "import pyanno #On python3 make sure to pip install pyanno3\n",
    "\n",
    "#We need to import these this way due to how pyanno is setup\n",
    "from pyanno.measures import pairwise_matrix, agreement, cohens_kappa, cohens_weighted_kappa, fleiss_kappa, krippendorffs_alpha, pearsons_rho, scotts_pi, spearmans_rho\n",
    "from pyanno.annotations import AnnotationsContainer\n",
    "from pyanno.models import ModelA, ModelBt, ModelB\n",
    "\n",
    "from functools import reduce\n",
    "from itertools import permutations\n",
    "import math\n",
    "\n",
    "\n",
    "#This 'magic' command makes the plots work better\n",
    "#in the notebook, don't use it outside of a notebook.\n",
    "#Also you can ignore the warning\n",
    "%matplotlib inline\n",
    "\n",
    "import os #For looking through files\n",
    "import os.path #For managing file paths"
   ]
  },
  {
   "cell_type": "markdown",
   "metadata": {},
   "source": [
    "## <span style=\"color:red\">*Pitch the Domain of your Project*</span>\n",
    "\n",
    "<span style=\"color:red\">In the two cells immediately following, describe **WHAT** you are planning to analyze for your final project (i.e., texts, contexts and the social game, world and actors you intend to learn about through your analysis) (<200 words) and **WHY** you are going to do it (i.e., why would theory and/or the average person benefit from knowing the results of your investigation) (<200 words)? [**Note**: your individual or collective project can change over the course of the quarter if new data and/or analysis opportunities arise or if old ones fade away.]"
   ]
  },
  {
   "cell_type": "markdown",
   "metadata": {},
   "source": [
    "## ***What?*** \n",
    "I plan on analyzing the movie corpus. My broad plan is to merge the movie script corpus with information on IMDb scores and reviews as well as box-office revenue information. IMDb information from IMDb's data website - \"contains the IMDb rating and votes information for titles\". Might also use this 5000 movie dataset that has more information beyond just scores and revenue. This is in order to predict what would be an ideal/ lucrative script - i.e. what genre of scripts, kind of characters, gender relationships, length, common themes, common titles, potentially actors and directors and trends between different decades. The primary analysis will be based on the scripts and use frequency as well as context of word usage in the script.  I hopr to use topic modeling to identify features of the scripts and once I figure out several important themes and topics (might overlap with genres perhaps), I will collect the scripts that relate to these topics. Then, I will try to see if any general overlapping sentiment score can be calculated for the scripts."
   ]
  },
  {
   "cell_type": "markdown",
   "metadata": {},
   "source": [
    "## ***Why?***\n",
    "I think this would be an interesting data analysis project as far as entertainment and movie analysis is concerned. I am taking a class on the economics of cultural policy and ran the idea by my professor and he suggested that it would be helpful since there isn't much broad script analysis done. The results would be helpful to movie conglomerates to know more definitely what kind of script themes and movies tend to do better at the box office. I would anticipate it is the more mass-produced marvel films in recent times for example but the data might help put this in the context of all different types of movies."
   ]
  },
  {
   "cell_type": "markdown",
   "metadata": {},
   "source": [
    "## <span style=\"color:red\">*Pitch Your Sample*</span>\n",
    "\n",
    "<span style=\"color:red\">In the cell immediately following, describe the rationale behind your proposed sample design for your final project. What is the social game, social work, or social actors about whom you are seeking to make inferences? What are its virtues with respect to your research questions? What are its limitations? What are alternatives? What would be a reasonable path to \"scale up\" your sample for further analysis (i.e., high-profile publication)? (<200 words)."
   ]
  },
  {
   "cell_type": "markdown",
   "metadata": {},
   "source": [
    "I am seeking to make inferences about the movie industry as well as preferences of the public as far as type of scripts are concerned. Comparing the male and female characters in the most lucrative films will inform us about the general disparity in the kinds of movies that tend to see box office success. My primary concern/ the potential limitations are parsing through the context of the texts, and unlike the soap opera corpus, the movie corpus does not have indicators for which character is speaking. Also, the count by years is different so sampling based on years might not be the best option. I might to need to resort to either convenience or relevance sampling depending on the inflation adjusted box office revenue that is available or based on the script count focus my analysis on a particular genre. From the IMDb dataset, I was able to find score and revenue information for 5000 films but need to check the overlap with the scripts I have available. A reasonable path to scale up would be to also include the TV corpus information to check overlap between movie and TV information which might add some interesting nuances. Also, the movie corpus is limtied to just Hollywood films which are largely English speaking so any analysis will shed light only on Western movie ideals and concepts in the broadest sense. Potentially adding other film industries like Bollywood or Nollywood would be a good way to scale up the analysis."
   ]
  },
  {
   "cell_type": "markdown",
   "metadata": {},
   "source": [
    "# Example Annotation Dataset"
   ]
  },
  {
   "cell_type": "markdown",
   "metadata": {},
   "source": [
    "Load Rzhetsky et al (2009)'s sample dataset, which can be found [here](https://github.com/enthought/uchicago-pyanno/tree/master/data). This data is the result of a content analytic / content extraction study in which Andrey Rzhetsky and colleagues from the National Library of Medicine, published [here](http://journals.plos.org/ploscompbiol/article?id=10.1371/journal.pcbi.1000391) in [PLOS Computational Biology](http://journals.plos.org/ploscompbiol/), gave eight annotators 10,000 sentence chunks from biomedical text in biomedical abstracts and articles, then asked them, in a loop design schematically illustrated below that provided 3 independent codings for each document. The sampling strategy pursued diversity by drawing from PubMed abstracts (1000) and full-text articles (9000: 20% from abstracts, 10% from introductions, 20% from methods, 25% from results, and 25% from discussions.) The dataset extract here involves respondents codes for sentences in terms of their *Evidence*: {0, 1, 2, 3, -1} where 0 is the complete lack of evidence, 3 is direct evidence present within the sentence, and -1 is didn't respond. (They also crowdsourced and analyzed *polarity*, *certainty*, and *number*). For example, consider the following two abutting sentence chunks: *\"Because null mutations in toxR and toxT abolish CT and TcpA expression in the El Tor biotype and also attenuate virulence...\"* [i.e., average certainty = 0], *\"...it is likely that the ToxR regulon has functional similarities between the two biotypes despite the clear differences in the inducing parameters observed in vitro\"* [i.e., average certainty = 1].\""
   ]
  },
  {
   "cell_type": "code",
   "execution_count": 2,
   "metadata": {},
   "outputs": [
    {
     "data": {
      "text/html": [
       "<img source=\"loopdesign.png\">"
      ],
      "text/plain": [
       "<IPython.core.display.HTML object>"
      ]
     },
     "metadata": {},
     "output_type": "display_data"
    }
   ],
   "source": [
    "%%html\n",
    "<img source=\"loopdesign.png\">"
   ]
  },
  {
   "cell_type": "markdown",
   "metadata": {},
   "source": [
    "[Click here for loop design](loopdesign.png)"
   ]
  },
  {
   "cell_type": "code",
   "execution_count": 100,
   "metadata": {},
   "outputs": [],
   "source": [
    "x = np.loadtxt(\"../data/pyAnno/testdata_numerical.txt\")\n",
    "anno = AnnotationsContainer.from_array(x, missing_values=[-1])"
   ]
  },
  {
   "cell_type": "markdown",
   "metadata": {},
   "source": [
    "Interrogate the AnnotationsContainer object."
   ]
  },
  {
   "cell_type": "code",
   "execution_count": 4,
   "metadata": {},
   "outputs": [
    {
     "data": {
      "text/plain": [
       "array([[ 1,  2,  3, ..., -1, -1, -1],\n",
       "       [ 0,  0,  0, ..., -1, -1, -1],\n",
       "       [ 2,  2,  1, ..., -1, -1, -1],\n",
       "       ...,\n",
       "       [ 2,  2, -1, ..., -1, -1,  1],\n",
       "       [ 2,  2, -1, ..., -1, -1,  3],\n",
       "       [ 1,  1, -1, ..., -1, -1,  0]])"
      ]
     },
     "execution_count": 4,
     "metadata": {},
     "output_type": "execute_result"
    }
   ],
   "source": [
    "anno.annotations"
   ]
  },
  {
   "cell_type": "code",
   "execution_count": 5,
   "metadata": {},
   "outputs": [
    {
     "data": {
      "text/plain": [
       "[1.0, 2.0, 3.0, 4.0]"
      ]
     },
     "execution_count": 5,
     "metadata": {},
     "output_type": "execute_result"
    }
   ],
   "source": [
    "anno.labels"
   ]
  },
  {
   "cell_type": "code",
   "execution_count": 6,
   "metadata": {},
   "outputs": [
    {
     "data": {
      "text/plain": [
       "[-1]"
      ]
     },
     "execution_count": 6,
     "metadata": {},
     "output_type": "execute_result"
    }
   ],
   "source": [
    "anno.missing_values"
   ]
  },
  {
   "cell_type": "markdown",
   "metadata": {},
   "source": [
    "# Annotation Statistics"
   ]
  },
  {
   "cell_type": "markdown",
   "metadata": {},
   "source": [
    "First, we assume categorical codes...that each code is qualitatively distinct from each other. Two measures are primarily used for this: Scott's $\\pi$, Cohen's $\\kappa$, and Krippendorff's $\\alpha$ which each measure the extent of agreement between two annotators, but take into account the possibility of the agreement occurring by chance in slightly different ways. Any agreement measure begins with the frequency of codes:"
   ]
  },
  {
   "cell_type": "code",
   "execution_count": 7,
   "metadata": {},
   "outputs": [
    {
     "data": {
      "text/plain": [
       "array([0.11666667, 0.245     , 0.34083333, 0.2975    ])"
      ]
     },
     "execution_count": 7,
     "metadata": {},
     "output_type": "execute_result"
    }
   ],
   "source": [
    "pyanno.measures.agreement.labels_frequency(anno.annotations,4)"
   ]
  },
  {
   "cell_type": "markdown",
   "metadata": {},
   "source": [
    "Now consider the \"confusion matrix\" or matrix of coded agreements between any two coders:"
   ]
  },
  {
   "cell_type": "code",
   "execution_count": 8,
   "metadata": {},
   "outputs": [
    {
     "name": "stdout",
     "output_type": "stream",
     "text": [
      "[[ 8.  7.  3.  2.]\n",
      " [ 9. 30. 13.  3.]\n",
      " [ 2.  9. 42. 11.]\n",
      " [ 1.  7. 14. 39.]]\n"
     ]
    },
    {
     "data": {
      "image/png": "[encoded data removed]",
      "text/plain": [
       "<Figure size 432x288 with 2 Axes>"
      ]
     },
     "metadata": {
      "needs_background": "light"
     },
     "output_type": "display_data"
    }
   ],
   "source": [
    "c = pyanno.measures.agreement.confusion_matrix(anno.annotations[:,0], anno.annotations[:,1],4)\n",
    "print(c)\n",
    "ac = seaborn.heatmap(c)\n",
    "plt.show()"
   ]
  },
  {
   "cell_type": "markdown",
   "metadata": {},
   "source": [
    "Scott's $\\pi$ is computed as:\n",
    "\n",
    "$\\pi = \\frac{\\text{Pr}(a)-\\text{Pr}(e)}{1-\\text{Pr}(e)}$\n",
    "\n",
    "Where Pr($a$) is relative observed agreement, and Pr($e$) is expected agreement using joint proportions calculated from the confusion matrix or matrix of coded agreements between any two coders:"
   ]
  },
  {
   "cell_type": "code",
   "execution_count": 9,
   "metadata": {},
   "outputs": [
    {
     "data": {
      "text/plain": [
       "0.4386478265891502"
      ]
     },
     "execution_count": 9,
     "metadata": {},
     "output_type": "execute_result"
    }
   ],
   "source": [
    "scotts_pi(anno.annotations[:,0], anno.annotations[:,1])"
   ]
  },
  {
   "cell_type": "markdown",
   "metadata": {},
   "source": [
    "The generalization of Scott's $\\pi$ to $n$ coders is Fleiss' $\\kappa$ (Fleiss called it $\\kappa$ because he thought he was generalizing Cohen's $\\kappa$)"
   ]
  },
  {
   "cell_type": "code",
   "execution_count": 10,
   "metadata": {},
   "outputs": [
    {
     "data": {
      "text/plain": [
       "0.40417653771912765"
      ]
     },
     "execution_count": 10,
     "metadata": {},
     "output_type": "execute_result"
    }
   ],
   "source": [
    "fleiss_kappa(anno.annotations[::])"
   ]
  },
  {
   "cell_type": "markdown",
   "metadata": {},
   "source": [
    "Krippendorff's $\\alpha$ generalizes of Fleiss' $\\kappa$ to $n$ coders and takes into account the fact that annotations here are not categorically different, but ordinal, by adding a weight matrix in which off-diagonal cells contain weights indicating the seriousness of the disagreement between each score. When produced with no arguments, it simply produces an arithmetic distance (e.g., 3-1=2), such that cells one off the diagonal are weighted 1, two off 2, etc."
   ]
  },
  {
   "cell_type": "code",
   "execution_count": 11,
   "metadata": {},
   "outputs": [
    {
     "data": {
      "text/plain": [
       "0.6472588223831547"
      ]
     },
     "execution_count": 11,
     "metadata": {},
     "output_type": "execute_result"
    }
   ],
   "source": [
    "krippendorffs_alpha(anno.annotations[::])"
   ]
  },
  {
   "cell_type": "markdown",
   "metadata": {},
   "source": [
    "Like Scott's $\\pi$, Cohen's $\\kappa$ also takes into account the possibility of the agreement occurring by chance, but in the following way:\n",
    "\n",
    "$\\kappa = \\frac{p_o-p_e}{1-p_e}=1-\\frac{1-p_o}{p_e}$\n",
    "\n",
    "where $p_o$ is the relative observed agreement among raters, and $p_e$ is the hypothetical probability of chance agreement, using the observed data to calculate the probabilities of each observer randomly saying each category. If the raters are in complete agreement then $\\kappa = 1$. If there is no agreement among the raters other than what would be expected by chance (as given by $p_e$), $\\kappa ≤ 0 $. Here, Cohen's $\\kappa$ statistic for the first two annotators is computed. This is probably the most common metric of agreement."
   ]
  },
  {
   "cell_type": "code",
   "execution_count": 12,
   "metadata": {},
   "outputs": [
    {
     "data": {
      "text/plain": [
       "0.43917037219392857"
      ]
     },
     "execution_count": 12,
     "metadata": {},
     "output_type": "execute_result"
    }
   ],
   "source": [
    "cohens_kappa(anno.annotations[:,0], anno.annotations[:,1])"
   ]
  },
  {
   "cell_type": "code",
   "execution_count": 13,
   "metadata": {},
   "outputs": [
    {
     "name": "stdout",
     "output_type": "stream",
     "text": [
      "[[1.         0.43917037 0.47677621        nan        nan        nan\n",
      "  0.45819119 0.43381462]\n",
      " [0.43917037 1.         0.38432922 0.41344423        nan        nan\n",
      "         nan 0.33643611]\n",
      " [0.47677621 0.38432922 1.         0.39583333 0.51704894        nan\n",
      "         nan        nan]\n",
      " [       nan 0.41344423 0.39583333 1.         0.34597068 0.4446844\n",
      "         nan        nan]\n",
      " [       nan        nan 0.51704894 0.34597068 1.         0.37938644\n",
      "  0.43039733        nan]\n",
      " [       nan        nan        nan 0.4446844  0.37938644 1.\n",
      "  0.38341929 0.31214748]\n",
      " [0.45819119        nan        nan        nan 0.43039733 0.38341929\n",
      "  1.         0.394806  ]\n",
      " [0.43381462 0.33643611        nan        nan        nan 0.31214748\n",
      "  0.394806   1.        ]]\n"
     ]
    }
   ],
   "source": [
    "m = pairwise_matrix(cohens_kappa, anno.annotations)\n",
    "print(m)"
   ]
  },
  {
   "cell_type": "code",
   "execution_count": 14,
   "metadata": {},
   "outputs": [
    {
     "data": {
      "image/png": "[encoded data removed]",
      "text/plain": [
       "<Figure size 432x288 with 2 Axes>"
      ]
     },
     "metadata": {
      "needs_background": "light"
     },
     "output_type": "display_data"
    }
   ],
   "source": [
    "ax = seaborn.heatmap(m)\n",
    "plt.show()"
   ]
  },
  {
   "cell_type": "markdown",
   "metadata": {},
   "source": [
    "You can see that this 8 by 3 loop design will be less stable than an 8 choose 3 combinatorial design, because each codes with more others. "
   ]
  },
  {
   "cell_type": "markdown",
   "metadata": {},
   "source": [
    "One can also assess the average Cohen's $\\kappa$ for all pairs of coders that have coded against one another:"
   ]
  },
  {
   "cell_type": "code",
   "execution_count": 15,
   "metadata": {},
   "outputs": [
    {
     "data": {
      "text/plain": [
       "0.40911598940065674"
      ]
     },
     "execution_count": 15,
     "metadata": {},
     "output_type": "execute_result"
    }
   ],
   "source": [
    "def pairwise_metric_average(metric, array):\n",
    "    \"\"\"Calculate the pairwise metric average for the real elements of metric function run on an array of annotations\"\"\"\n",
    "    p = permutations(range(array[0,:].size),2)\n",
    "    m = [metric(array[:,x[0]], array[:,x[1]]) for x in p]\n",
    "    clean_m = [c for c in m if not math.isnan(c)]\n",
    "    return reduce(lambda a, b: a + b, clean_m)/len(clean_m)    \n",
    " \n",
    "pairwise_metric_average(cohens_kappa, anno.annotations)"
   ]
  },
  {
   "cell_type": "markdown",
   "metadata": {},
   "source": [
    "As recognized with Krippendorff's flexible $\\alpha$, our scores are *not* categorical, but rather ordered and her considered metric. Weighted $\\kappa$ allows you to count disagreements differently and is useful when codes are ordered as they are here. Here a weight matrix is added to the calculation, in which off-diagonal cells contain weights indicating the seriousness of the disagreement between each score. When automatically produced, it simply produces an arithmetic distance (e.g., 3-1=2), such that cells one off the diagonal are weighted 1, two off 2, etc. Here\n",
    "\n",
    "$\\kappa = 1-\\frac{\\sum^k_{i=1}\\sum^k_{j=1}w_{ij}x_{ij}}{\\sum^k_{i=1}\\sum^k_{j=1}w_{ij}m_{ij}}$\n",
    "\n",
    "where $\\kappa$ = $n$ codes and $w_{ij}$,$x_{ij}$, and $m_{ij}$ represent elements in the weight, observed, and expected matrices, respectively. (Obviously, when diagonal cells contain weights of 0 and off-diagonal cells weights of 1, this equals $\\kappa$)."
   ]
  },
  {
   "cell_type": "code",
   "execution_count": 16,
   "metadata": {},
   "outputs": [
    {
     "data": {
      "text/plain": [
       "0.5330240507874497"
      ]
     },
     "execution_count": 16,
     "metadata": {},
     "output_type": "execute_result"
    }
   ],
   "source": [
    "cohens_weighted_kappa(anno.annotations[:,0], anno.annotations[:,1])"
   ]
  },
  {
   "cell_type": "markdown",
   "metadata": {},
   "source": [
    "Or averaged over the total:"
   ]
  },
  {
   "cell_type": "code",
   "execution_count": 17,
   "metadata": {},
   "outputs": [
    {
     "data": {
      "text/plain": [
       "0.5299113458717166"
      ]
     },
     "execution_count": 17,
     "metadata": {},
     "output_type": "execute_result"
    }
   ],
   "source": [
    "pairwise_metric_average(cohens_weighted_kappa,anno.annotations)"
   ]
  },
  {
   "cell_type": "markdown",
   "metadata": {},
   "source": [
    "Alternatively, if the annontation data can be understood as indicating real values, we can assess not agreement, but rather the correlation of values (Pearson's $\\rho$) or correlation of ranks (Spearman's $\\rho$) for pairs of coders:"
   ]
  },
  {
   "cell_type": "code",
   "execution_count": 18,
   "metadata": {},
   "outputs": [
    {
     "data": {
      "image/png": "[encoded data removed]",
      "text/plain": [
       "<Figure size 432x288 with 2 Axes>"
      ]
     },
     "metadata": {
      "needs_background": "light"
     },
     "output_type": "display_data"
    },
    {
     "data": {
      "image/png": "[encoded data removed]",
      "text/plain": [
       "<Figure size 432x288 with 2 Axes>"
      ]
     },
     "metadata": {
      "needs_background": "light"
     },
     "output_type": "display_data"
    }
   ],
   "source": [
    "n = pairwise_matrix(pearsons_rho, anno.annotations)\n",
    "m = pairwise_matrix(spearmans_rho, anno.annotations)\n",
    "an = seaborn.heatmap(n)\n",
    "plt.show()\n",
    "am = seaborn.heatmap(m)\n",
    "plt.show()"
   ]
  },
  {
   "cell_type": "markdown",
   "metadata": {},
   "source": [
    "Or averaged over all comparable pairs:"
   ]
  },
  {
   "cell_type": "code",
   "execution_count": 19,
   "metadata": {},
   "outputs": [
    {
     "name": "stdout",
     "output_type": "stream",
     "text": [
      "0.6517219321175077 0.63808488688039\n"
     ]
    }
   ],
   "source": [
    "print(pairwise_metric_average(pearsons_rho,anno.annotations), pairwise_metric_average(spearmans_rho,anno.annotations))"
   ]
  },
  {
   "cell_type": "markdown",
   "metadata": {},
   "source": [
    "## <span style=\"color:red\">*Your turn*</span>\n",
    "\n",
    "<span style=\"color:red\">Perform a content annotation survey of some kind in which at least 3 people evaluate and code each piece of content, using Amazon Mechanical Turk as described in the MTurk slides in the Assignment link on Canvas, or by hand with friends.  With the resulting data, calculate, visualize and discuss inter-coder agreement or covariation with appropriate metrics. What does this means for the reliability of human assessments regarding content in your domain?"
   ]
  },
  {
   "cell_type": "markdown",
   "metadata": {},
   "source": [
    "Asked friends to rank 10 actors from 1 to 10 based on how attractive they found the actor in question. - https://docs.google.com/forms/d/e/1FAIpQLSfNGTM1jWN4zNiU_hmQLi03ESPZWC02V_w6kA1jivZZO2Fdtw/viewform"
   ]
  },
  {
   "cell_type": "code",
   "execution_count": 131,
   "metadata": {},
   "outputs": [],
   "source": [
    "x = np.loadtxt(r\"C:\\Users\\iarak\\OneDrive\\Desktop\\CCA\\celebs.txt\")\n",
    "anno = AnnotationsContainer.from_array(x)"
   ]
  },
  {
   "cell_type": "code",
   "execution_count": 132,
   "metadata": {},
   "outputs": [
    {
     "data": {
      "text/plain": [
       "array([[ 6.,  7.,  8.,  9.,  7.,  7.,  8.,  8.,  4.,  5.,  2.],\n",
       "       [ 1.,  1.,  6.,  8.,  8., 10.,  3.,  6.,  7.,  6., 10.],\n",
       "       [ 7.,  9.,  4.,  1.,  9., 10.,  6.,  5.,  4.,  4.,  3.],\n",
       "       [ 7.,  7.,  5.,  7.,  8.,  7.,  6.,  8.,  7.,  7.,  8.],\n",
       "       [ 5.,  5.,  6.,  6.,  4.,  7.,  8.,  6.,  5.,  4.,  3.],\n",
       "       [10.,  5.,  7.,  9.,  9.,  3.,  7.,  7., 10.,  7.,  9.],\n",
       "       [ 7.,  7.,  7.,  6.,  8.,  3.,  7.,  5.,  3.,  6.,  6.],\n",
       "       [ 5.,  9.,  9.,  9.,  7., 10.,  5.,  8.,  7.,  4.,  9.],\n",
       "       [ 7.,  8.,  6.,  5.,  7.,  4.,  8.,  8.,  6.,  6.,  7.],\n",
       "       [10., 10., 10., 10., 10., 10.,  7.,  9.,  9.,  9.,  9.]])"
      ]
     },
     "execution_count": 132,
     "metadata": {},
     "output_type": "execute_result"
    }
   ],
   "source": [
    "x"
   ]
  },
  {
   "cell_type": "code",
   "execution_count": 133,
   "metadata": {},
   "outputs": [
    {
     "data": {
      "text/plain": [
       "array([0.02727273, 0.00909091, 0.05454545, 0.07272727, 0.1       ,\n",
       "       0.13636364, 0.23636364, 0.12727273, 0.12727273, 0.10909091])"
      ]
     },
     "execution_count": 133,
     "metadata": {},
     "output_type": "execute_result"
    }
   ],
   "source": [
    "pyanno.measures.agreement.labels_frequency(anno.annotations,4)"
   ]
  },
  {
   "cell_type": "code",
   "execution_count": 134,
   "metadata": {},
   "outputs": [
    {
     "name": "stdout",
     "output_type": "stream",
     "text": [
      "[[ 3.  0.  0.  0.  0.  0.  0.  0.]\n",
      " [ 0.  1.  0.  0.  0.  0.  0.  0.]\n",
      " [ 0.  0.  6.  0.  0.  0.  0.  0.]\n",
      " [ 0.  0.  0.  8.  0.  0.  0.  0.]\n",
      " [ 0.  0.  0.  0. 11.  0.  0.  0.]\n",
      " [ 0.  0.  0.  0.  0. 15.  0.  0.]\n",
      " [ 0.  0.  0.  0.  0.  0. 26.  0.]\n",
      " [ 0.  0.  0.  0.  0.  0.  0. 14.]]\n"
     ]
    },
    {
     "data": {
      "image/png": "[encoded data removed]",
      "text/plain": [
       "<Figure size 432x288 with 2 Axes>"
      ]
     },
     "metadata": {
      "needs_background": "light"
     },
     "output_type": "display_data"
    }
   ],
   "source": [
    "c = pyanno.measures.agreement.confusion_matrix(anno.annotations[:], anno.annotations[:],8)\n",
    "print(c)\n",
    "ac = seaborn.heatmap(c)\n",
    "plt.show()"
   ]
  },
  {
   "cell_type": "code",
   "execution_count": 137,
   "metadata": {},
   "outputs": [
    {
     "data": {
      "text/plain": [
       "0.3670886075949367"
      ]
     },
     "execution_count": 137,
     "metadata": {},
     "output_type": "execute_result"
    }
   ],
   "source": [
    "scotts_pi(anno.annotations[:,0], anno.annotations[:,1])"
   ]
  },
  {
   "cell_type": "code",
   "execution_count": 115,
   "metadata": {},
   "outputs": [
    {
     "data": {
      "text/plain": [
       "0.07460960092539037"
      ]
     },
     "execution_count": 115,
     "metadata": {},
     "output_type": "execute_result"
    }
   ],
   "source": [
    "fleiss_kappa(anno.annotations[::])"
   ]
  },
  {
   "cell_type": "code",
   "execution_count": 116,
   "metadata": {},
   "outputs": [
    {
     "data": {
      "text/plain": [
       "0.15370671893854349"
      ]
     },
     "execution_count": 116,
     "metadata": {},
     "output_type": "execute_result"
    }
   ],
   "source": [
    "krippendorffs_alpha(anno.annotations[::])"
   ]
  },
  {
   "cell_type": "code",
   "execution_count": 117,
   "metadata": {},
   "outputs": [
    {
     "data": {
      "text/plain": [
       "0.38271604938271603"
      ]
     },
     "execution_count": 117,
     "metadata": {},
     "output_type": "execute_result"
    }
   ],
   "source": [
    "cohens_kappa(anno.annotations[:,0], anno.annotations[:,1])"
   ]
  },
  {
   "cell_type": "code",
   "execution_count": 118,
   "metadata": {},
   "outputs": [
    {
     "name": "stdout",
     "output_type": "stream",
     "text": [
      "[[ 1.          0.38271605  0.05882353  0.1011236   0.06976744  0.\n",
      "   0.04761905 -0.01123596]\n",
      " [ 0.38271605  1.          0.20454545  0.18604651  0.15662651  0.1954023\n",
      "   0.06976744  0.20454545]\n",
      " [ 0.05882353  0.20454545  1.          0.18604651 -0.03448276 -0.01123596\n",
      "   0.16666667  0.14634146]\n",
      " [ 0.1011236   0.18604651  0.18604651  1.          0.1954023   0.13978495\n",
      "  -0.12359551  0.4047619 ]\n",
      " [ 0.06976744  0.15662651 -0.03448276  0.1954023   1.          0.06976744\n",
      "  -0.2195122   0.03614458]\n",
      " [ 0.          0.1954023  -0.01123596  0.13978495  0.06976744  1.\n",
      "  -0.12359551  0.13978495]\n",
      " [ 0.04761905  0.06976744  0.16666667 -0.12359551 -0.2195122  -0.12359551\n",
      "   1.         -0.2195122 ]\n",
      " [-0.01123596  0.20454545  0.14634146  0.4047619   0.03614458  0.13978495\n",
      "  -0.2195122   1.        ]]\n"
     ]
    }
   ],
   "source": [
    "m = pairwise_matrix(cohens_kappa, anno.annotations)\n",
    "print(m)"
   ]
  },
  {
   "cell_type": "code",
   "execution_count": 119,
   "metadata": {},
   "outputs": [
    {
     "data": {
      "image/png": "[encoded data removed]",
      "text/plain": [
       "<Figure size 432x288 with 2 Axes>"
      ]
     },
     "metadata": {
      "needs_background": "light"
     },
     "output_type": "display_data"
    }
   ],
   "source": [
    "ax = seaborn.heatmap(m)\n",
    "plt.show()"
   ]
  },
  {
   "cell_type": "markdown",
   "metadata": {},
   "source": [
    "There seems to be some agreements between the coders, although not much (as reflected by the many darker shades of purple and black in the heatmatp)."
   ]
  },
  {
   "cell_type": "code",
   "execution_count": 138,
   "metadata": {},
   "outputs": [
    {
     "data": {
      "text/plain": [
       "0.059612975646359354"
      ]
     },
     "execution_count": 138,
     "metadata": {},
     "output_type": "execute_result"
    }
   ],
   "source": [
    "def pairwise_metric_average(metric, array):\n",
    "    \"\"\"Calculate the pairwise metric average for the real elements of metric function run on an array of annotations\"\"\"\n",
    "    p = permutations(range(array[0,:].size),2)\n",
    "    m = [metric(array[:,x[0]], array[:,x[1]]) for x in p]\n",
    "    clean_m = [c for c in m if not math.isnan(c)]\n",
    "    return reduce(lambda a, b: a + b, clean_m)/len(clean_m)    \n",
    " \n",
    "pairwise_metric_average(cohens_kappa, anno.annotations)"
   ]
  },
  {
   "cell_type": "code",
   "execution_count": 139,
   "metadata": {},
   "outputs": [
    {
     "data": {
      "text/plain": [
       "0.5149253731343284"
      ]
     },
     "execution_count": 139,
     "metadata": {},
     "output_type": "execute_result"
    }
   ],
   "source": [
    "cohens_weighted_kappa(anno.annotations[:,0], anno.annotations[:,1])"
   ]
  },
  {
   "cell_type": "code",
   "execution_count": 140,
   "metadata": {},
   "outputs": [
    {
     "data": {
      "text/plain": [
       "0.15137446302656213"
      ]
     },
     "execution_count": 140,
     "metadata": {},
     "output_type": "execute_result"
    }
   ],
   "source": [
    "pairwise_metric_average(cohens_weighted_kappa,anno.annotations)"
   ]
  },
  {
   "cell_type": "code",
   "execution_count": 141,
   "metadata": {},
   "outputs": [
    {
     "data": {
      "image/png": "[encoded data removed]",
      "text/plain": [
       "<Figure size 432x288 with 2 Axes>"
      ]
     },
     "metadata": {
      "needs_background": "light"
     },
     "output_type": "display_data"
    },
    {
     "data": {
      "image/png": "[encoded data removed]",
      "text/plain": [
       "<Figure size 432x288 with 2 Axes>"
      ]
     },
     "metadata": {
      "needs_background": "light"
     },
     "output_type": "display_data"
    }
   ],
   "source": [
    "n = pairwise_matrix(pearsons_rho, anno.annotations)\n",
    "m = pairwise_matrix(spearmans_rho, anno.annotations)\n",
    "an = seaborn.heatmap(n)\n",
    "plt.show()\n",
    "am = seaborn.heatmap(m)\n",
    "plt.show()"
   ]
  },
  {
   "cell_type": "markdown",
   "metadata": {},
   "source": [
    "As we can see above, there seems to be a lot more agreements detected with this correlation method, as denoted by the lighter shades in these heatmaps. However, there still seems to be some disagreement denoted by black boxes in the heatmaps, which shows little correlation between coders."
   ]
  },
  {
   "cell_type": "code",
   "execution_count": 124,
   "metadata": {},
   "outputs": [
    {
     "name": "stdout",
     "output_type": "stream",
     "text": [
      "0.16158824653177684 0.15365092873759786\n"
     ]
    }
   ],
   "source": [
    "print(pairwise_metric_average(pearsons_rho,anno.annotations), pairwise_metric_average(spearmans_rho,anno.annotations))"
   ]
  },
  {
   "cell_type": "markdown",
   "metadata": {},
   "source": [
    "# Models"
   ]
  },
  {
   "cell_type": "markdown",
   "metadata": {},
   "source": [
    "However, what if some coders are better than others. The prior measures all rely on the assumption that all coders are equally good. What if some are worse than others? Now we use Rzhetsky et al (2009) and Dawid & Skene's models to make inference about true label classes by downweighting bad or deviant coders. Pyanno provides three relevant models: ModelA, ModelB, and ModelBt. Model A can only be currently run on a balanced 8-coder design, but assesses accuracy purely based on agreement. Model B with $\\theta$s models the relationship between each coder and code. Model B is the Dawid & Skene model from the reading. The following image schematically suggests the relationship between the models. <img src=\"../data/models.png\">"
   ]
  },
  {
   "cell_type": "markdown",
   "metadata": {},
   "source": [
    "The models should provide similar results. To estimate the parameters for any models, we first need to create a new model. "
   ]
  },
  {
   "cell_type": "markdown",
   "metadata": {},
   "source": [
    "## <span style=\"color:red\">*Your turn*</span>\n",
    "\n",
    "<span style=\"color:red\">In the cells immediately following, use the results of your content annotation survey to predict high and low-quality analysts, then predict MAP estimates for your codes in question. What do these estimates suggest about the distribution of skill among your coders? How different are these estimates from a majority vote?"
   ]
  },
  {
   "cell_type": "markdown",
   "metadata": {},
   "source": [
    "There are a few coders who overlap however given there are so many answer options which is why the metric calculations might be showing small coefficients. I'm not really sure how to interpret this model a and b stuff."
   ]
  },
  {
   "cell_type": "code",
   "execution_count": 207,
   "metadata": {},
   "outputs": [
    {
     "name": "stdout",
     "output_type": "stream",
     "text": [
      "[[[6.35858255e-01 1.54654748e-01 3.57962591e-02 ... 1.66188662e-02\n",
      "   2.56057825e-03 3.42613463e-02]\n",
      "  [1.08621392e-01 4.33516051e-01 1.78771008e-01 ... 3.41205137e-02\n",
      "   3.30063131e-02 3.18275451e-02]\n",
      "  [2.21541494e-02 1.55241579e-01 5.96499546e-01 ... 4.59656412e-03\n",
      "   1.79134777e-02 1.68713073e-02]\n",
      "  ...\n",
      "  [7.77839591e-02 7.11236800e-02 4.93792693e-02 ... 3.42974100e-01\n",
      "   1.28894580e-01 9.66676476e-02]\n",
      "  [1.17468661e-02 3.13307976e-02 5.49232941e-02 ... 2.09459251e-01\n",
      "   4.53901494e-01 1.16211449e-01]\n",
      "  [1.09538777e-02 1.99028195e-02 2.60594151e-02 ... 7.24067902e-02\n",
      "   1.89306787e-01 5.25843155e-01]]\n",
      "\n",
      " [[4.88881887e-01 1.04017872e-01 1.04512287e-01 ... 4.89313844e-02\n",
      "   1.21482483e-03 9.35569930e-02]\n",
      "  [2.38468639e-01 4.99336528e-01 9.15793527e-02 ... 1.18628475e-02\n",
      "   1.15316539e-02 5.84007541e-02]\n",
      "  [7.48643100e-02 1.97252411e-02 5.55762216e-01 ... 7.38451124e-03\n",
      "   7.42664806e-02 4.97206620e-03]\n",
      "  ...\n",
      "  [4.24794098e-02 8.86226152e-03 2.54461042e-02 ... 4.81815874e-01\n",
      "   6.99834061e-02 9.86502530e-02]\n",
      "  [2.11797488e-02 5.14075104e-02 2.37197840e-02 ... 7.43827886e-02\n",
      "   4.43282194e-01 1.95136187e-01]\n",
      "  [6.57014079e-02 3.85774533e-02 4.82546456e-03 ... 7.19902043e-02\n",
      "   1.77844720e-01 4.80595631e-01]]\n",
      "\n",
      " [[5.80210247e-01 7.01981720e-02 1.65642391e-01 ... 3.11797260e-03\n",
      "   1.94248805e-02 6.33806822e-02]\n",
      "  [1.29514533e-01 4.15256031e-01 1.92417802e-01 ... 3.67250777e-02\n",
      "   6.73489007e-02 1.07637796e-02]\n",
      "  [6.89660339e-02 6.97401977e-02 6.00964994e-01 ... 7.52362327e-03\n",
      "   5.98564113e-03 9.28548905e-03]\n",
      "  ...\n",
      "  [2.23479644e-02 6.19551628e-02 1.36664357e-03 ... 5.89535925e-01\n",
      "   1.11685806e-01 3.78614174e-02]\n",
      "  [6.29826023e-02 4.50074595e-03 4.79350495e-03 ... 1.99449601e-01\n",
      "   5.52942928e-01 1.03511655e-01]\n",
      "  [1.87670853e-03 2.78152399e-02 7.50794955e-03 ... 3.08136187e-01\n",
      "   4.97480528e-02 4.33492864e-01]]\n",
      "\n",
      " ...\n",
      "\n",
      " [[5.64176648e-01 9.77627498e-02 3.44839193e-02 ... 3.27288893e-02\n",
      "   1.69187016e-02 5.85877033e-03]\n",
      "  [1.52351408e-01 5.69055116e-01 1.07374487e-01 ... 1.25622776e-03\n",
      "   4.41895642e-02 2.36954514e-02]\n",
      "  [3.18313935e-02 1.45732528e-01 4.99306151e-01 ... 1.11223071e-01\n",
      "   8.85348661e-03 1.47759491e-02]\n",
      "  ...\n",
      "  [5.40543922e-02 1.28267914e-03 2.03777312e-02 ... 4.82243476e-01\n",
      "   8.47361604e-02 4.67472256e-02]\n",
      "  [1.95220262e-02 1.12470966e-01 3.71575151e-02 ... 6.04935494e-02\n",
      "   4.07203760e-01 1.33923344e-01]\n",
      "  [2.40401037e-02 3.84400966e-03 2.55205354e-02 ... 1.62527249e-01\n",
      "   2.29811709e-02 6.73756275e-01]]\n",
      "\n",
      " [[4.80036766e-01 9.54981550e-02 4.69645649e-02 ... 1.53540640e-02\n",
      "   7.33884758e-02 1.66581131e-02]\n",
      "  [8.82648958e-02 6.58770991e-01 5.50142805e-02 ... 3.65530784e-03\n",
      "   2.66306059e-02 5.98628252e-02]\n",
      "  [7.55088226e-02 7.54414709e-02 6.21142116e-01 ... 3.64346527e-04\n",
      "   6.71293530e-03 6.81226933e-02]\n",
      "  ...\n",
      "  [2.16212357e-02 5.18403390e-03 1.63642445e-02 ... 5.21855072e-01\n",
      "   7.00172696e-02 6.70868831e-02]\n",
      "  [8.18763121e-03 2.55049278e-03 2.17497969e-02 ... 1.63942684e-01\n",
      "   4.81601230e-01 1.87276940e-01]\n",
      "  [2.60016139e-02 2.91005071e-02 5.05857875e-02 ... 6.76201914e-02\n",
      "   1.55747315e-01 6.30829446e-01]]\n",
      "\n",
      " [[5.62467269e-01 8.32211147e-02 1.34393568e-02 ... 6.36992971e-02\n",
      "   2.86420001e-03 1.87977828e-02]\n",
      "  [1.32920450e-01 4.16180133e-01 1.66395914e-01 ... 2.16597509e-02\n",
      "   1.18584246e-02 2.83887270e-02]\n",
      "  [5.34010584e-02 7.15002905e-02 5.76060662e-01 ... 1.38786436e-04\n",
      "   4.39394662e-02 3.55302373e-03]\n",
      "  ...\n",
      "  [1.19796449e-02 3.38606075e-03 2.07438093e-02 ... 4.80326822e-01\n",
      "   1.34388713e-01 6.51317083e-02]\n",
      "  [5.58778712e-03 1.22063164e-01 1.06827579e-02 ... 7.02632530e-02\n",
      "   5.33412676e-01 1.29101905e-01]\n",
      "  [2.23987793e-02 1.14675571e-02 1.00265317e-02 ... 1.37717193e-01\n",
      "   1.29729664e-01 3.01075483e-01]]]\n",
      "-256.7389804725873\n"
     ]
    }
   ],
   "source": [
    "# create a new instance of model A, with 10 label classes\n",
    "model = ModelB.create_initial_state(10, 11)\n",
    "# other model parameters are initialized from the model prior\n",
    "print(model.theta)\n",
    "print(model.log_likelihood(anno.annotations))"
   ]
  },
  {
   "cell_type": "code",
   "execution_count": 208,
   "metadata": {},
   "outputs": [],
   "source": [
    "samples = model.sample_posterior_over_accuracy(anno.annotations, 9, burn_in_samples=5, thin_samples=1)"
   ]
  },
  {
   "cell_type": "markdown",
   "metadata": {},
   "source": [
    "Pyanno allows one to use either MLE (maximum likelihood estimation) or MAP (maximum a posteriori estimation) to estimate model parameters. Note that the parameters here correspond to our estimation of the accuracy of each annotator."
   ]
  },
  {
   "cell_type": "code",
   "execution_count": 209,
   "metadata": {},
   "outputs": [
    {
     "name": "stdout",
     "output_type": "stream",
     "text": [
      "[[[0.78947368 0.15789474 0.05263158 ... 0.         0.         0.        ]\n",
      "  [0.13636364 0.68181818 0.13636364 ... 0.         0.         0.        ]\n",
      "  [0.04347826 0.13043478 0.65217391 ... 0.         0.         0.        ]\n",
      "  ...\n",
      "  [0.         0.         0.         ... 0.65217391 0.13043478 0.04347826]\n",
      "  [0.         0.         0.         ... 0.13041967 0.65209833 0.13053556]\n",
      "  [0.         0.         0.         ... 0.05000667 0.15002    0.79997334]]\n",
      "\n",
      " [[0.78947368 0.15789474 0.05263158 ... 0.         0.         0.        ]\n",
      "  [0.13636364 0.68181818 0.13636364 ... 0.         0.         0.        ]\n",
      "  [0.04347826 0.13043478 0.65217391 ... 0.         0.         0.        ]\n",
      "  ...\n",
      "  [0.         0.         0.         ... 0.65217391 0.13043478 0.04347826]\n",
      "  [0.         0.         0.         ... 0.13041967 0.69557156 0.13053556]\n",
      "  [0.         0.         0.         ... 0.05000667 0.15002    0.79997334]]\n",
      "\n",
      " [[0.78947368 0.15789474 0.05263158 ... 0.         0.         0.        ]\n",
      "  [0.13636364 0.68181818 0.13636364 ... 0.         0.         0.        ]\n",
      "  [0.04347826 0.13043478 0.65217391 ... 0.         0.         0.        ]\n",
      "  ...\n",
      "  [0.         0.         0.         ... 0.65217391 0.13043478 0.04347826]\n",
      "  [0.         0.         0.         ... 0.13041967 0.69557156 0.13053556]\n",
      "  [0.         0.         0.         ... 0.05000667 0.15002    0.79997334]]\n",
      "\n",
      " ...\n",
      "\n",
      " [[0.78947368 0.15789474 0.05263158 ... 0.         0.         0.        ]\n",
      "  [0.13636364 0.68181818 0.13636364 ... 0.         0.         0.        ]\n",
      "  [0.04347826 0.13043478 0.65217391 ... 0.         0.         0.        ]\n",
      "  ...\n",
      "  [0.         0.         0.         ... 0.65217391 0.13043478 0.04347826]\n",
      "  [0.         0.         0.         ... 0.13041967 0.65221422 0.13041967]\n",
      "  [0.         0.         0.         ... 0.05000667 0.19989336 0.75009998]]\n",
      "\n",
      " [[0.78947368 0.15789474 0.05263158 ... 0.         0.         0.        ]\n",
      "  [0.13636364 0.68181818 0.13636364 ... 0.         0.         0.        ]\n",
      "  [0.04347826 0.13043478 0.65217391 ... 0.         0.         0.        ]\n",
      "  ...\n",
      "  [0.         0.         0.         ... 0.65217391 0.13043478 0.04347826]\n",
      "  [0.         0.         0.         ... 0.13041967 0.65221422 0.13041967]\n",
      "  [0.         0.         0.         ... 0.05000667 0.19989336 0.75009998]]\n",
      "\n",
      " [[0.78947368 0.15789474 0.05263158 ... 0.         0.         0.        ]\n",
      "  [0.13636364 0.68181818 0.13636364 ... 0.         0.         0.        ]\n",
      "  [0.04347826 0.13043478 0.65217391 ... 0.         0.         0.        ]\n",
      "  ...\n",
      "  [0.         0.         0.         ... 0.65217391 0.13043478 0.04347826]\n",
      "  [0.         0.         0.         ... 0.13041967 0.69568744 0.13041967]\n",
      "  [0.         0.         0.         ... 0.05000667 0.19989336 0.75009998]]]\n",
      "-200.89809495383435\n"
     ]
    },
    {
     "name": "stderr",
     "output_type": "stream",
     "text": [
      "C:\\Users\\iarak\\Anaconda3\\Anaconda\\lib\\site-packages\\pyanno\\util.py:80: RuntimeWarning: divide by zero encountered in log\n",
      "  log_theta = ninf_to_num(log(theta))\n"
     ]
    }
   ],
   "source": [
    "model.map(anno.annotations)\n",
    "print(model.theta)\n",
    "print(model.log_likelihood(anno.annotations))"
   ]
  },
  {
   "cell_type": "code",
   "execution_count": 211,
   "metadata": {},
   "outputs": [
    {
     "name": "stdout",
     "output_type": "stream",
     "text": [
      "[[[0.78947368 0.15789474 0.05263158 ... 0.         0.         0.        ]\n",
      "  [0.13636364 0.68181818 0.13636364 ... 0.         0.         0.        ]\n",
      "  [0.04347826 0.13043478 0.65217391 ... 0.         0.         0.        ]\n",
      "  ...\n",
      "  [0.         0.         0.         ... 0.65217391 0.13043478 0.04347826]\n",
      "  [0.         0.         0.         ... 0.13041967 0.65209833 0.13053556]\n",
      "  [0.         0.         0.         ... 0.05000667 0.15002    0.79997334]]\n",
      "\n",
      " [[0.78947368 0.15789474 0.05263158 ... 0.         0.         0.        ]\n",
      "  [0.13636364 0.68181818 0.13636364 ... 0.         0.         0.        ]\n",
      "  [0.04347826 0.13043478 0.65217391 ... 0.         0.         0.        ]\n",
      "  ...\n",
      "  [0.         0.         0.         ... 0.65217391 0.13043478 0.04347826]\n",
      "  [0.         0.         0.         ... 0.13041967 0.69557156 0.13053556]\n",
      "  [0.         0.         0.         ... 0.05000667 0.15002    0.79997334]]\n",
      "\n",
      " [[0.78947368 0.15789474 0.05263158 ... 0.         0.         0.        ]\n",
      "  [0.13636364 0.68181818 0.13636364 ... 0.         0.         0.        ]\n",
      "  [0.04347826 0.13043478 0.65217391 ... 0.         0.         0.        ]\n",
      "  ...\n",
      "  [0.         0.         0.         ... 0.65217391 0.13043478 0.04347826]\n",
      "  [0.         0.         0.         ... 0.13041967 0.69557156 0.13053556]\n",
      "  [0.         0.         0.         ... 0.05000667 0.15002    0.79997334]]\n",
      "\n",
      " ...\n",
      "\n",
      " [[0.78947368 0.15789474 0.05263158 ... 0.         0.         0.        ]\n",
      "  [0.13636364 0.68181818 0.13636364 ... 0.         0.         0.        ]\n",
      "  [0.04347826 0.13043478 0.65217391 ... 0.         0.         0.        ]\n",
      "  ...\n",
      "  [0.         0.         0.         ... 0.65217391 0.13043478 0.04347826]\n",
      "  [0.         0.         0.         ... 0.13041967 0.65221422 0.13041967]\n",
      "  [0.         0.         0.         ... 0.05000667 0.19989336 0.75009998]]\n",
      "\n",
      " [[0.78947368 0.15789474 0.05263158 ... 0.         0.         0.        ]\n",
      "  [0.13636364 0.68181818 0.13636364 ... 0.         0.         0.        ]\n",
      "  [0.04347826 0.13043478 0.65217391 ... 0.         0.         0.        ]\n",
      "  ...\n",
      "  [0.         0.         0.         ... 0.65217391 0.13043478 0.04347826]\n",
      "  [0.         0.         0.         ... 0.13041967 0.65221422 0.13041967]\n",
      "  [0.         0.         0.         ... 0.05000667 0.19989336 0.75009998]]\n",
      "\n",
      " [[0.78947368 0.15789474 0.05263158 ... 0.         0.         0.        ]\n",
      "  [0.13636364 0.68181818 0.13636364 ... 0.         0.         0.        ]\n",
      "  [0.04347826 0.13043478 0.65217391 ... 0.         0.         0.        ]\n",
      "  ...\n",
      "  [0.         0.         0.         ... 0.65217391 0.13043478 0.04347826]\n",
      "  [0.         0.         0.         ... 0.13041967 0.69568744 0.13041967]\n",
      "  [0.         0.         0.         ... 0.05000667 0.19989336 0.75009998]]]\n",
      "-200.89809495383435\n"
     ]
    },
    {
     "name": "stderr",
     "output_type": "stream",
     "text": [
      "C:\\Users\\iarak\\Anaconda3\\Anaconda\\lib\\site-packages\\pyanno\\util.py:80: RuntimeWarning: divide by zero encountered in log\n",
      "  log_theta = ninf_to_num(log(theta))\n"
     ]
    }
   ],
   "source": [
    "model = ModelB.create_initial_state(10, 11)\n",
    "model.map(anno.annotations)\n",
    "print(model.theta)\n",
    "print(model.log_likelihood(anno.annotations))"
   ]
  },
  {
   "cell_type": "markdown",
   "metadata": {},
   "source": [
    "Once we have model parameters estimated, we can now make inferences about the true label classes. We can calculate the posterior distribution over the true label classes."
   ]
  },
  {
   "cell_type": "code",
   "execution_count": 212,
   "metadata": {},
   "outputs": [
    {
     "name": "stdout",
     "output_type": "stream",
     "text": [
      "[[0.00000000e+000 0.00000000e+000 0.00000000e+000 0.00000000e+000\n",
      "  0.00000000e+000 0.00000000e+000 1.00000000e+000 0.00000000e+000\n",
      "  0.00000000e+000 0.00000000e+000]\n",
      " [0.00000000e+000 0.00000000e+000 0.00000000e+000 0.00000000e+000\n",
      "  0.00000000e+000 1.00000000e+000 0.00000000e+000 0.00000000e+000\n",
      "  0.00000000e+000 0.00000000e+000]\n",
      " [0.00000000e+000 0.00000000e+000 0.00000000e+000 1.00000000e+000\n",
      "  0.00000000e+000 0.00000000e+000 0.00000000e+000 0.00000000e+000\n",
      "  0.00000000e+000 0.00000000e+000]\n",
      " [0.00000000e+000 0.00000000e+000 0.00000000e+000 0.00000000e+000\n",
      "  0.00000000e+000 7.15871284e-006 9.99992841e-001 0.00000000e+000\n",
      "  0.00000000e+000 0.00000000e+000]\n",
      " [0.00000000e+000 0.00000000e+000 0.00000000e+000 0.00000000e+000\n",
      "  0.00000000e+000 1.00000000e+000 0.00000000e+000 0.00000000e+000\n",
      "  0.00000000e+000 0.00000000e+000]\n",
      " [0.00000000e+000 0.00000000e+000 0.00000000e+000 0.00000000e+000\n",
      "  0.00000000e+000 0.00000000e+000 1.00000000e+000 0.00000000e+000\n",
      "  0.00000000e+000 0.00000000e+000]\n",
      " [0.00000000e+000 0.00000000e+000 0.00000000e+000 0.00000000e+000\n",
      "  0.00000000e+000 0.00000000e+000 1.00000000e+000 0.00000000e+000\n",
      "  0.00000000e+000 0.00000000e+000]\n",
      " [0.00000000e+000 0.00000000e+000 0.00000000e+000 0.00000000e+000\n",
      "  0.00000000e+000 0.00000000e+000 0.00000000e+000 0.00000000e+000\n",
      "  1.00000000e+000 0.00000000e+000]\n",
      " [0.00000000e+000 0.00000000e+000 0.00000000e+000 0.00000000e+000\n",
      "  0.00000000e+000 1.05158696e-002 9.89484130e-001 0.00000000e+000\n",
      "  0.00000000e+000 0.00000000e+000]\n",
      " [0.00000000e+000 0.00000000e+000 0.00000000e+000 0.00000000e+000\n",
      "  0.00000000e+000 0.00000000e+000 0.00000000e+000 7.40955604e-117\n",
      "  2.66574909e-003 9.97334251e-001]]\n"
     ]
    }
   ],
   "source": [
    "posterior = model.infer_labels(anno.annotations)\n",
    "print(posterior)"
   ]
  },
  {
   "cell_type": "markdown",
   "metadata": {},
   "source": [
    "Let's turn the posterior of the first 100 samples into a heatmap."
   ]
  },
  {
   "cell_type": "code",
   "execution_count": 216,
   "metadata": {},
   "outputs": [],
   "source": [
    "votes = []\n",
    "for r in anno.annotations:\n",
    "    v = [0] * len(anno.labels)\n",
    "    votes.append(v)\n",
    "    for a in r:\n",
    "        if a > -1:\n",
    "            v[a] += 1\n",
    "votes_array = np.array(votes)"
   ]
  },
  {
   "cell_type": "code",
   "execution_count": 217,
   "metadata": {},
   "outputs": [
    {
     "data": {
      "image/png": "[encoded data removed]",
      "text/plain": [
       "<Figure size 1080x720 with 4 Axes>"
      ]
     },
     "metadata": {
      "needs_background": "light"
     },
     "output_type": "display_data"
    }
   ],
   "source": [
    "fig, (ax1, ax2) = plt.subplots(ncols=2, figsize = (15, 10), sharey=True)\n",
    "num_questions = 20\n",
    "\n",
    "seaborn.heatmap(votes_array[:num_questions], annot = True, ax=ax2)\n",
    "seaborn.heatmap(posterior[:num_questions], annot=True, ax =ax1)\n",
    "ax1.set_title(\"Model\")\n",
    "ax2.set_title(\"Votes\")\n",
    "plt.show()"
   ]
  },
  {
   "cell_type": "markdown",
   "metadata": {},
   "source": [
    "Coder 9 and 6 are the most similar based on the heatmaps?"
   ]
  },
  {
   "cell_type": "code",
   "execution_count": 218,
   "metadata": {},
   "outputs": [],
   "source": [
    "samples = model.sample_posterior_over_accuracy(anno.annotations, 200, burn_in_samples=100, thin_samples=3)"
   ]
  },
  {
   "cell_type": "code",
   "execution_count": 219,
   "metadata": {},
   "outputs": [
    {
     "name": "stdout",
     "output_type": "stream",
     "text": [
      "[[[0.55352448 0.12996648 0.07424829 ... 0.03830823 0.03257448 0.03132306]\n",
      "  [0.12397271 0.50287619 0.12119369 ... 0.02831876 0.02993366 0.02865904]\n",
      "  [0.06092831 0.1207549  0.4846363  ... 0.02810525 0.03292366 0.03337895]\n",
      "  ...\n",
      "  [0.03891118 0.02721766 0.03082491 ... 0.47816139 0.11253465 0.05937288]\n",
      "  [0.02679811 0.03075909 0.02873406 ... 0.11915327 0.47842043 0.13687411]\n",
      "  [0.03735322 0.03179364 0.03281915 ... 0.06708572 0.13401212 0.56106421]]\n",
      "\n",
      " [[0.54434277 0.13917038 0.06410588 ... 0.03408338 0.03735568 0.03505303]\n",
      "  [0.12216145 0.51540877 0.1200413  ... 0.02871985 0.03183903 0.0317995 ]\n",
      "  [0.05850072 0.12729009 0.47515227 ... 0.0336051  0.02980075 0.03203574]\n",
      "  ...\n",
      "  [0.03676361 0.02984718 0.02737848 ... 0.48174183 0.12510047 0.06358878]\n",
      "  [0.02822928 0.02991766 0.0341984  ... 0.12154232 0.50753622 0.12166998]\n",
      "  [0.0360728  0.03192759 0.03041049 ... 0.0666743  0.12856234 0.57030228]]\n",
      "\n",
      " [[0.55277958 0.14273922 0.06785193 ... 0.03278254 0.03865755 0.03458709]\n",
      "  [0.12261185 0.50020941 0.12388908 ... 0.03386722 0.03199173 0.02807345]\n",
      "  [0.06034353 0.11998307 0.4843112  ... 0.03040783 0.02767557 0.03289783]\n",
      "  ...\n",
      "  [0.03186399 0.03469391 0.02797131 ... 0.47519878 0.11378332 0.06071149]\n",
      "  [0.02745433 0.02883749 0.02924412 ... 0.12356474 0.51105254 0.12370221]\n",
      "  [0.0395229  0.03086843 0.0316897  ... 0.06759422 0.12866975 0.56031866]]\n",
      "\n",
      " ...\n",
      "\n",
      " [[0.54450878 0.13923585 0.06814417 ... 0.03644185 0.03485742 0.03648085]\n",
      "  [0.12214801 0.49477803 0.12919177 ... 0.03528842 0.03028162 0.03087089]\n",
      "  [0.05803452 0.12611147 0.48506198 ... 0.02957357 0.03029375 0.02984149]\n",
      "  ...\n",
      "  [0.03195958 0.03242061 0.03020461 ... 0.47986001 0.11684914 0.05751952]\n",
      "  [0.03170443 0.0296409  0.03499178 ... 0.11644582 0.47473422 0.13162337]\n",
      "  [0.03217416 0.03448096 0.03422829 ... 0.07454608 0.16183652 0.53629144]]\n",
      "\n",
      " [[0.54375187 0.1503419  0.06812567 ... 0.03366567 0.03503646 0.03659395]\n",
      "  [0.13108416 0.49956962 0.12118698 ... 0.03186067 0.03000305 0.02847653]\n",
      "  [0.06212615 0.12073751 0.48128987 ... 0.03055923 0.02912474 0.03252185]\n",
      "  ...\n",
      "  [0.03051282 0.03244629 0.03610723 ... 0.47850946 0.1168935  0.05607324]\n",
      "  [0.02789512 0.03209341 0.03198037 ... 0.12398039 0.47395334 0.12206086]\n",
      "  [0.03411265 0.03062877 0.03757162 ... 0.06726148 0.17137972 0.5317743 ]]\n",
      "\n",
      " [[0.54263932 0.14262893 0.07259918 ... 0.03397146 0.03174775 0.04101422]\n",
      "  [0.12073326 0.49872614 0.12244572 ... 0.03041039 0.03236014 0.03427201]\n",
      "  [0.0640519  0.12237625 0.48482459 ... 0.02800557 0.02666556 0.0297405 ]\n",
      "  ...\n",
      "  [0.0284515  0.03426913 0.03134281 ... 0.4663009  0.12012161 0.06910342]\n",
      "  [0.03041367 0.03200164 0.032338   ... 0.11756098 0.51132936 0.11942281]\n",
      "  [0.03345041 0.03119568 0.03556209 ... 0.06371286 0.1667847  0.53851274]]]\n",
      "[[[0.08883617 0.05792702 0.0495032  ... 0.03898891 0.02924038 0.03118674]\n",
      "  [0.05651626 0.08291415 0.05347415 ... 0.02759955 0.02725908 0.03072939]\n",
      "  [0.04223175 0.04927302 0.08794547 ... 0.02552593 0.03178323 0.02983521]\n",
      "  ...\n",
      "  [0.03363339 0.02516612 0.03073413 ... 0.08253014 0.05184658 0.04011175]\n",
      "  [0.02442392 0.03100876 0.02857131 ... 0.05512672 0.08779863 0.06119199]\n",
      "  [0.03512514 0.02908811 0.03328685 ... 0.04597936 0.06041923 0.09214166]]\n",
      "\n",
      " [[0.09555961 0.06261337 0.04283806 ... 0.03468367 0.03631587 0.03182718]\n",
      "  [0.05521968 0.088369   0.05262847 ... 0.02928298 0.03035704 0.03211585]\n",
      "  [0.04202654 0.06206173 0.08785274 ... 0.02966472 0.02601202 0.02967953]\n",
      "  ...\n",
      "  [0.03548203 0.03175314 0.02633677 ... 0.0869401  0.05607653 0.04609864]\n",
      "  [0.02503126 0.03212567 0.03124095 ... 0.05833312 0.08589239 0.05369977]\n",
      "  [0.03844447 0.03068082 0.0284464  ... 0.04205142 0.05576191 0.08405723]]\n",
      "\n",
      " [[0.09866589 0.06907378 0.04375792 ... 0.03228243 0.04112112 0.03534466]\n",
      "  [0.05461953 0.0797649  0.0549788  ... 0.02954994 0.03281739 0.02657537]\n",
      "  [0.0368084  0.05417937 0.08439188 ... 0.02878199 0.02678839 0.028275  ]\n",
      "  ...\n",
      "  [0.03392693 0.03526304 0.02897497 ... 0.08617878 0.04776469 0.04067013]\n",
      "  [0.02697228 0.02694159 0.03191373 ... 0.0588136  0.08763    0.05721304]\n",
      "  [0.03955574 0.02878408 0.03052186 ... 0.04829482 0.05483356 0.08473467]]\n",
      "\n",
      " ...\n",
      "\n",
      " [[0.09231643 0.06736595 0.04294277 ... 0.03116895 0.03282937 0.03573836]\n",
      "  [0.05502434 0.07879998 0.06039425 ... 0.03354256 0.02736244 0.02953475]\n",
      "  [0.03775474 0.05481352 0.07923084 ... 0.027502   0.03191639 0.02945111]\n",
      "  ...\n",
      "  [0.03164732 0.03264914 0.03178503 ... 0.09065088 0.05432422 0.03658262]\n",
      "  [0.03089697 0.03108432 0.03231952 ... 0.05450446 0.08168274 0.05744778]\n",
      "  [0.02992542 0.03285846 0.03166435 ... 0.04676656 0.0650337  0.08526704]]\n",
      "\n",
      " [[0.09208466 0.06598091 0.04574027 ... 0.03120904 0.03372465 0.0350301 ]\n",
      "  [0.05995168 0.0986719  0.05773483 ... 0.0327224  0.03062956 0.02770141]\n",
      "  [0.0411639  0.0579606  0.08928015 ... 0.02669437 0.02645878 0.0330601 ]\n",
      "  ...\n",
      "  [0.0273858  0.02961595 0.03149706 ... 0.08240688 0.05501187 0.03882569]\n",
      "  [0.02542072 0.03221483 0.0290079  ... 0.0610263  0.08088336 0.05162814]\n",
      "  [0.0331903  0.03413007 0.03641783 ... 0.04134089 0.07055589 0.09314041]]\n",
      "\n",
      " [[0.08446333 0.06643278 0.05085804 ... 0.03341556 0.03203681 0.0386676 ]\n",
      "  [0.05540452 0.08519991 0.0579971  ... 0.02701042 0.03030324 0.03389209]\n",
      "  [0.04320065 0.0567746  0.08037372 ... 0.02479251 0.02550203 0.0308214 ]\n",
      "  ...\n",
      "  [0.02609717 0.0346986  0.03111102 ... 0.09641555 0.05240848 0.04519617]\n",
      "  [0.02906179 0.03194934 0.02964867 ... 0.0560611  0.08945848 0.04939662]\n",
      "  [0.03178515 0.03051887 0.03300039 ... 0.03960929 0.06725125 0.09532401]]]\n"
     ]
    }
   ],
   "source": [
    "print(samples[0].mean(axis=0))\n",
    "print(samples[0].std(axis=0))"
   ]
  },
  {
   "cell_type": "markdown",
   "metadata": {},
   "source": [
    "Let's try everything again with ModelBt"
   ]
  },
  {
   "cell_type": "code",
   "execution_count": 221,
   "metadata": {},
   "outputs": [
    {
     "name": "stdout",
     "output_type": "stream",
     "text": [
      "[0.72741553 0.86265828 0.90193891 0.9487257  0.62684583 0.92014565\n",
      " 0.68384584 0.86313245 0.83121957 0.90900539 0.85259962]\n",
      "-321.6550269729477\n"
     ]
    }
   ],
   "source": [
    "# create a new instance of model B, with 4 label classes and 8 annotators.\n",
    "model = ModelBt.create_initial_state(10, 11)\n",
    "print(model.theta)\n",
    "print(model.log_likelihood(anno.annotations))"
   ]
  },
  {
   "cell_type": "code",
   "execution_count": 222,
   "metadata": {},
   "outputs": [
    {
     "name": "stdout",
     "output_type": "stream",
     "text": [
      "[0.3332896  0.48076121 0.90322369 0.47812273 0.16759615 0.35986934\n",
      " 0.38100499 0.48411704 0.3902501  0.57783862 0.19191828]\n",
      "-236.35907293182305\n"
     ]
    }
   ],
   "source": [
    "model.map(anno.annotations)\n",
    "print(model.theta)\n",
    "print(model.log_likelihood(anno.annotations))"
   ]
  },
  {
   "cell_type": "code",
   "execution_count": 223,
   "metadata": {},
   "outputs": [
    {
     "name": "stdout",
     "output_type": "stream",
     "text": [
      "[[2.03919757e-04 1.27615365e-04 3.10554748e-07 7.74641393e-04\n",
      "  4.97240138e-10 2.09067878e-03 3.34105645e-02 9.60077457e-01\n",
      "  3.08675397e-03 2.28058257e-04]\n",
      " [1.87478515e-03 1.46406298e-05 4.21875746e-07 3.29782236e-05\n",
      "  9.89819419e-12 9.95867775e-01 6.17706196e-04 8.95068167e-04\n",
      "  9.18013053e-05 6.04823224e-04]\n",
      " [2.06332421e-03 7.32645785e-05 8.14584970e-07 9.83636670e-01\n",
      "  4.18342467e-10 3.15893694e-03 2.41440148e-03 2.99781218e-04\n",
      "  6.93682005e-03 1.41598675e-03]\n",
      " [4.20048617e-06 1.22981464e-06 6.39703060e-09 2.77017468e-06\n",
      "  6.98400687e-11 5.30257180e-05 9.99761744e-01 1.64614371e-04\n",
      "  7.71132049e-06 4.69770839e-06]\n",
      " [7.48150224e-05 2.19042762e-05 2.43540529e-07 1.10138572e-03\n",
      "  3.19809057e-09 9.97272348e-01 8.11775690e-04 4.96506912e-04\n",
      "  1.37346629e-04 8.36710667e-05]\n",
      " [9.62310842e-06 2.81744519e-06 7.41503120e-08 6.34633472e-06\n",
      "  1.58729078e-11 2.19288749e-05 9.99104571e-01 1.15283152e-05\n",
      "  5.64201356e-04 2.78909116e-04]\n",
      " [2.63753150e-05 7.72214144e-06 1.17065536e-06 1.73942317e-05\n",
      "  4.40936093e-11 1.30492717e-02 9.86762892e-01 5.72559450e-05\n",
      "  4.84202300e-05 2.94974280e-05]\n",
      " [4.40580320e-05 1.28992717e-05 6.70971329e-08 3.57934249e-04\n",
      "  2.17357416e-10 1.00398232e-04 9.86188333e-04 4.45776576e-04\n",
      "  9.97803373e-01 2.49304619e-04]\n",
      " [7.09504041e-05 2.07727967e-05 1.08052232e-07 2.36745212e-04\n",
      "  1.15798970e-10 9.63671472e-01 2.65146831e-03 3.31388823e-02\n",
      "  1.30251900e-04 7.93489837e-05]\n",
      " [3.72272596e-06 1.08993642e-06 5.66943704e-09 2.45509704e-06\n",
      "  7.36881028e-13 8.48324558e-06 4.42257891e-05 4.45976043e-06\n",
      "  8.75467204e-03 9.91180886e-01]]\n"
     ]
    }
   ],
   "source": [
    "posterior = model.infer_labels(anno.annotations)\n",
    "print(posterior)"
   ]
  },
  {
   "cell_type": "markdown",
   "metadata": {},
   "source": [
    "Let's visualize the posterior of the first 10 samples according to ModelBt."
   ]
  },
  {
   "cell_type": "code",
   "execution_count": 224,
   "metadata": {},
   "outputs": [
    {
     "data": {
      "image/png": "[encoded data removed]",
      "text/plain": [
       "<Figure size 432x288 with 2 Axes>"
      ]
     },
     "metadata": {
      "needs_background": "light"
     },
     "output_type": "display_data"
    }
   ],
   "source": [
    "ax = seaborn.heatmap(posterior[:10,])\n",
    "plt.show()"
   ]
  },
  {
   "cell_type": "markdown",
   "metadata": {},
   "source": [
    "The property of these scores is that they enable us to identify the most likely code assuming coders of unequal quality, which also allows us to break ties when we know coder identity. For some analyses, we may simply use the posterior themselves rather than the most probably code outcome."
   ]
  },
  {
   "cell_type": "markdown",
   "metadata": {},
   "source": [
    "# Generating Annotations"
   ]
  },
  {
   "cell_type": "markdown",
   "metadata": {},
   "source": [
    "Pyanno also allows one to generate artificial data from a model."
   ]
  },
  {
   "cell_type": "code",
   "execution_count": 225,
   "metadata": {},
   "outputs": [
    {
     "data": {
      "text/plain": [
       "array([[3, 3, 0],\n",
       "       [2, 2, 3],\n",
       "       [3, 3, 0],\n",
       "       [0, 0, 0],\n",
       "       [1, 2, 0],\n",
       "       [2, 3, 0],\n",
       "       [1, 1, 0],\n",
       "       [0, 2, 3],\n",
       "       [3, 0, 3],\n",
       "       [1, 1, 1],\n",
       "       [3, 1, 0],\n",
       "       [3, 2, 3],\n",
       "       [1, 1, 1],\n",
       "       [3, 3, 1],\n",
       "       [3, 1, 2],\n",
       "       [0, 1, 3],\n",
       "       [1, 3, 0],\n",
       "       [0, 0, 1],\n",
       "       [3, 3, 0],\n",
       "       [1, 1, 3]])"
      ]
     },
     "execution_count": 225,
     "metadata": {},
     "output_type": "execute_result"
    }
   ],
   "source": [
    "model = ModelBt.create_initial_state(10, 3, theta=[0.33,0.48,0.90])\n",
    "#randome generate annotations with 4 label classes and 3 annotators. The accuracy of the three annotators are 0.33, 0.48, and 0.90 respectively for the first three from model.theta.\n",
    "model.generate_annotations(20)"
   ]
  },
  {
   "cell_type": "markdown",
   "metadata": {},
   "source": [
    "## Visualizing coder accuracy"
   ]
  },
  {
   "cell_type": "markdown",
   "metadata": {},
   "source": [
    "Pyanno provides a [graphical user interface](http://docs.enthought.com/uchicago-pyanno/user_guide.html) for making plots. However, it is not compatible with ipython notebooks. Nevertheless, nothing prevents us from making plots using matplotlib. Let's make a plot of the accuracy of each annotator inferred from ModelA."
   ]
  },
  {
   "cell_type": "code",
   "execution_count": 226,
   "metadata": {},
   "outputs": [],
   "source": [
    "model = ModelBt.create_initial_state(10, 11)\n",
    "model.mle(anno.annotations)\n",
    "samples = model.sample_posterior_over_accuracy(anno.annotations, 200, burn_in_samples=100, thin_samples=3)\n",
    "y =  samples.mean(axis=0)#.mean(axis = 1).mean(axis = 1)\n",
    "y_ci = samples.std(axis=0)#.mean(axis = 1).mean(axis = 1)"
   ]
  },
  {
   "cell_type": "code",
   "execution_count": 229,
   "metadata": {},
   "outputs": [
    {
     "data": {
      "image/png": "[encoded data removed]",
      "text/plain": [
       "<Figure size 432x288 with 1 Axes>"
      ]
     },
     "metadata": {
      "needs_background": "light"
     },
     "output_type": "display_data"
    }
   ],
   "source": [
    "plt.figure()\n",
    "plt.errorbar(range(11),y, yerr = y_ci)\n",
    "plt.show()"
   ]
  },
  {
   "cell_type": "markdown",
   "metadata": {},
   "source": [
    "# Q3"
   ]
  },
  {
   "cell_type": "markdown",
   "metadata": {},
   "source": [
    "## <span style=\"color:red\">*Your turn*</span>\n",
    "\n",
    "<span style=\"color:red\">In the cells immediately following, use the results of your content annotation survey to predict high and low-quality analysts, then predict MAP estimates for your codes in question. What do these estimates suggest about the distribution of skill among your coders? How different are these estimates from a majority vote?"
   ]
  },
  {
   "cell_type": "markdown",
   "metadata": {},
   "source": [
    "There is not much info on how to interpret the information given for model A and B"
   ]
  },
  {
   "cell_type": "code",
   "execution_count": 175,
   "metadata": {},
   "outputs": [],
   "source": [
    "x = np.loadtxt(r\"C:\\Users\\iarak\\OneDrive\\Desktop\\CCA\\celebs.txt\")\n",
    "anno = AnnotationsContainer.from_array(x)"
   ]
  },
  {
   "cell_type": "markdown",
   "metadata": {},
   "source": [
    "Let's examine the data structure."
   ]
  },
  {
   "cell_type": "code",
   "execution_count": 176,
   "metadata": {},
   "outputs": [
    {
     "data": {
      "text/plain": [
       "(10, 11)"
      ]
     },
     "execution_count": 176,
     "metadata": {},
     "output_type": "execute_result"
    }
   ],
   "source": [
    "x.shape"
   ]
  },
  {
   "cell_type": "code",
   "execution_count": 70,
   "metadata": {},
   "outputs": [
    {
     "data": {
      "text/plain": [
       "[0, 1]"
      ]
     },
     "execution_count": 70,
     "metadata": {},
     "output_type": "execute_result"
    }
   ],
   "source": [
    "anno_dv.labels"
   ]
  },
  {
   "cell_type": "code",
   "execution_count": 177,
   "metadata": {},
   "outputs": [
    {
     "data": {
      "text/plain": [
       "[1.0, 2.0, 3.0, 4.0, 5.0, 6.0, 7.0, 8.0, 9.0, 10.0]"
      ]
     },
     "execution_count": 177,
     "metadata": {},
     "output_type": "execute_result"
    }
   ],
   "source": [
    "anno.labels"
   ]
  },
  {
   "cell_type": "code",
   "execution_count": 71,
   "metadata": {},
   "outputs": [
    {
     "data": {
      "text/plain": [
       "[-1]"
      ]
     },
     "execution_count": 71,
     "metadata": {},
     "output_type": "execute_result"
    }
   ],
   "source": [
    "anno_dv.missing_values"
   ]
  },
  {
   "cell_type": "code",
   "execution_count": 72,
   "metadata": {},
   "outputs": [
    {
     "data": {
      "text/plain": [
       "(21461, 6)"
      ]
     },
     "execution_count": 72,
     "metadata": {},
     "output_type": "execute_result"
    }
   ],
   "source": [
    "anno_dv.annotations.shape"
   ]
  },
  {
   "cell_type": "code",
   "execution_count": 178,
   "metadata": {},
   "outputs": [
    {
     "data": {
      "text/plain": [
       "(10, 11)"
      ]
     },
     "execution_count": 178,
     "metadata": {},
     "output_type": "execute_result"
    }
   ],
   "source": [
    "anno.annotations.shape"
   ]
  },
  {
   "cell_type": "markdown",
   "metadata": {},
   "source": [
    "First, let's use Cohen's $\\kappa$ to measure agreement between coders..."
   ]
  },
  {
   "cell_type": "code",
   "execution_count": 73,
   "metadata": {},
   "outputs": [
    {
     "name": "stdout",
     "output_type": "stream",
     "text": [
      "[[1.         0.62426874 0.46682841 0.44599604 0.16569888 0.36657805]\n",
      " [0.62426874 1.         0.53480937 0.52673854 0.3306905  0.59513211]\n",
      " [0.46682841 0.53480937 1.         0.50580068 0.42393752 0.49833997]\n",
      " [0.44599604 0.52673854 0.50580068 1.         0.46517493 0.47023754]\n",
      " [0.16569888 0.3306905  0.42393752 0.46517493 1.         0.66190749]\n",
      " [0.36657805 0.59513211 0.49833997 0.47023754 0.66190749 1.        ]]\n"
     ]
    }
   ],
   "source": [
    "m = pairwise_matrix(cohens_kappa, anno_dv.annotations)\n",
    "print(m)"
   ]
  },
  {
   "cell_type": "code",
   "execution_count": 179,
   "metadata": {},
   "outputs": [
    {
     "name": "stdout",
     "output_type": "stream",
     "text": [
      "[[ 1.          0.38271605  0.05882353  0.1011236   0.06976744  0.\n",
      "   0.04761905 -0.11111111  0.15662651 -0.03448276  0.03225806]\n",
      " [ 0.38271605  1.          0.20454545  0.18604651  0.15662651  0.1954023\n",
      "   0.06976744 -0.03448276  0.06976744  0.         -0.01123596]\n",
      " [ 0.05882353  0.20454545  1.          0.18604651 -0.03448276 -0.01123596\n",
      "   0.16666667  0.29411765  0.06976744  0.26829268  0.        ]\n",
      " [ 0.1011236   0.18604651  0.18604651  1.          0.1954023   0.13978495\n",
      "  -0.12359551 -0.04651163  0.          0.09090909  0.18604651]\n",
      " [ 0.06976744  0.15662651 -0.03448276  0.1954023   1.          0.06976744\n",
      "  -0.2195122  -0.08433735 -0.04651163 -0.01123596  0.1954023 ]\n",
      " [ 0.          0.1954023  -0.01123596  0.13978495  0.06976744  1.\n",
      "  -0.12359551 -0.03092784  0.03614458  0.01098901 -0.01123596]\n",
      " [ 0.04761905  0.06976744  0.16666667 -0.12359551 -0.2195122  -0.12359551\n",
      "   1.          0.11392405 -0.14942529 -0.03448276 -0.11111111]\n",
      " [-0.11111111 -0.03448276  0.29411765 -0.04651163 -0.08433735 -0.03092784\n",
      "   0.11392405  1.          0.02173913  0.21348315  0.11111111]\n",
      " [ 0.15662651  0.06976744  0.06976744  0.         -0.04651163  0.03614458\n",
      "  -0.14942529  0.02173913  1.          0.27710843  0.        ]\n",
      " [-0.03448276  0.          0.26829268  0.09090909 -0.01123596  0.01098901\n",
      "  -0.03448276  0.21348315  0.27710843  1.          0.13043478]\n",
      " [ 0.03225806 -0.01123596  0.          0.18604651  0.1954023  -0.01123596\n",
      "  -0.11111111  0.11111111  0.          0.13043478  1.        ]]\n"
     ]
    }
   ],
   "source": [
    "m = pairwise_matrix(cohens_kappa, anno.annotations)\n",
    "print(m)"
   ]
  },
  {
   "cell_type": "markdown",
   "metadata": {},
   "source": [
    "Let's visualize that..."
   ]
  },
  {
   "cell_type": "code",
   "execution_count": 74,
   "metadata": {},
   "outputs": [
    {
     "data": {
      "image/png": "[encoded data removed]",
      "text/plain": [
       "<Figure size 432x288 with 2 Axes>"
      ]
     },
     "metadata": {
      "needs_background": "light"
     },
     "output_type": "display_data"
    }
   ],
   "source": [
    "ax = seaborn.heatmap(m)\n",
    "plt.show()"
   ]
  },
  {
   "cell_type": "code",
   "execution_count": 180,
   "metadata": {},
   "outputs": [
    {
     "data": {
      "image/png": "[encoded data removed]",
      "text/plain": [
       "<Figure size 432x288 with 2 Axes>"
      ]
     },
     "metadata": {
      "needs_background": "light"
     },
     "output_type": "display_data"
    }
   ],
   "source": [
    "ax = seaborn.heatmap(m)\n",
    "plt.show()"
   ]
  },
  {
   "cell_type": "code",
   "execution_count": 75,
   "metadata": {},
   "outputs": [
    {
     "data": {
      "text/plain": [
       "0.4721425844540702"
      ]
     },
     "execution_count": 75,
     "metadata": {},
     "output_type": "execute_result"
    }
   ],
   "source": [
    "pairwise_metric_average(cohens_kappa, anno_dv.annotations)"
   ]
  },
  {
   "cell_type": "code",
   "execution_count": 181,
   "metadata": {},
   "outputs": [
    {
     "data": {
      "text/plain": [
       "0.059612975646359354"
      ]
     },
     "execution_count": 181,
     "metadata": {},
     "output_type": "execute_result"
    }
   ],
   "source": [
    "pairwise_metric_average(cohens_kappa, anno.annotations)"
   ]
  },
  {
   "cell_type": "markdown",
   "metadata": {},
   "source": [
    "Let's compute the statistics on each of the datasets and with Pearson's $\\rho$. "
   ]
  },
  {
   "cell_type": "code",
   "execution_count": 183,
   "metadata": {},
   "outputs": [],
   "source": [
    "ck = pairwise_matrix(cohens_kappa, anno.annotations)\n",
    "pr = pairwise_matrix(pearsons_rho, anno.annotations)\n",
    "titles = ['DV', 'IV', 'Central Variable', \"Control Variable\"]"
   ]
  },
  {
   "cell_type": "code",
   "execution_count": 187,
   "metadata": {},
   "outputs": [
    {
     "data": {
      "text/plain": [
       "<matplotlib.axes._subplots.AxesSubplot at 0x29fafca3fd0>"
      ]
     },
     "execution_count": 187,
     "metadata": {},
     "output_type": "execute_result"
    },
    {
     "data": {
      "image/png": "[encoded data removed]",
      "text/plain": [
       "<Figure size 432x288 with 2 Axes>"
      ]
     },
     "metadata": {
      "needs_background": "light"
     },
     "output_type": "display_data"
    }
   ],
   "source": [
    "seaborn.heatmap(ck)"
   ]
  },
  {
   "cell_type": "code",
   "execution_count": 189,
   "metadata": {},
   "outputs": [
    {
     "data": {
      "text/plain": [
       "<matplotlib.axes._subplots.AxesSubplot at 0x29fafa54390>"
      ]
     },
     "execution_count": 189,
     "metadata": {},
     "output_type": "execute_result"
    },
    {
     "data": {
      "image/png": "[encoded data removed]",
      "text/plain": [
       "<Figure size 432x288 with 2 Axes>"
      ]
     },
     "metadata": {
      "needs_background": "light"
     },
     "output_type": "display_data"
    }
   ],
   "source": [
    "seaborn.heatmap(pr)"
   ]
  },
  {
   "cell_type": "markdown",
   "metadata": {},
   "source": [
    "Now we will compare the student coders."
   ]
  },
  {
   "cell_type": "code",
   "execution_count": 252,
   "metadata": {},
   "outputs": [],
   "source": [
    "nondiag = (np.eye(11)-np.ones(1))*-1.0"
   ]
  },
  {
   "cell_type": "code",
   "execution_count": 253,
   "metadata": {},
   "outputs": [
    {
     "name": "stdout",
     "output_type": "stream",
     "text": [
      "0.05961297564635937\n",
      "0.2381744038167413\n"
     ]
    }
   ],
   "source": [
    "xck = pairwise_matrix(cohens_kappa, anno.annotations)\n",
    "xpr = pairwise_matrix(pearsons_rho, anno.annotations)\n",
    "\n",
    "print(np.average(xck, weights=nondiag))\n",
    "print(np.average(xpr, weights=nondiag))"
   ]
  },
  {
   "cell_type": "markdown",
   "metadata": {},
   "source": [
    "Now we are going to bring in \"gold standard\" data. In this case, this is where we asked authors of the articles to code their own article's variables and compare with our student coders."
   ]
  },
  {
   "cell_type": "code",
   "execution_count": 233,
   "metadata": {},
   "outputs": [],
   "source": [
    "anno_merge = AnnotationsContainer.from_array(mergedata[:,0:10])\n"
   ]
  },
  {
   "cell_type": "code",
   "execution_count": 234,
   "metadata": {},
   "outputs": [
    {
     "name": "stdout",
     "output_type": "stream",
     "text": [
      "0.3744311057948666\n",
      "0.38563437203620626\n"
     ]
    }
   ],
   "source": [
    "print(cohens_kappa(anno_merge.annotations[:,0], anno_merge.annotations[:,1]))\n",
    "print(pearsons_rho(anno_merge.annotations[:,0], anno_merge.annotations[:,1]))"
   ]
  },
  {
   "cell_type": "markdown",
   "metadata": {},
   "source": [
    "Whoah! Student coders and authors viewed articles that were \"central\" or critical to the published argument as fundamentally different (exhibiting negative agreement and correlation). Why? Likely because that researchers recalled what they had _intended_ as their central variables before analysis, but those that _worked out_ became central in the text."
   ]
  },
  {
   "cell_type": "markdown",
   "metadata": {},
   "source": [
    "Now for the assessment of the relative values of authors, then student coders."
   ]
  },
  {
   "cell_type": "code",
   "execution_count": 235,
   "metadata": {},
   "outputs": [
    {
     "name": "stdout",
     "output_type": "stream",
     "text": [
      "0.4763912310286678\n",
      "0.35834738617200673\n"
     ]
    }
   ],
   "source": [
    "\n",
    "print(np.average(anno_merge.annotations[:,0]))\n",
    "print(np.average(anno_merge.annotations[:,1]))\n"
   ]
  },
  {
   "cell_type": "markdown",
   "metadata": {},
   "source": [
    "## Now we are going to use models to predict the correct annotations\n",
    "\n",
    "Recall that Model A is built for 8 coders, but we have 6. We're going to *hack* it by adding two blank columns."
   ]
  },
  {
   "cell_type": "code",
   "execution_count": 241,
   "metadata": {},
   "outputs": [
    {
     "data": {
      "text/plain": [
       "(10, 11)"
      ]
     },
     "execution_count": 241,
     "metadata": {},
     "output_type": "execute_result"
    }
   ],
   "source": [
    "x.shape"
   ]
  },
  {
   "cell_type": "code",
   "execution_count": 255,
   "metadata": {},
   "outputs": [
    {
     "data": {
      "text/plain": [
       "array([[ 6.,  7.,  8.,  9.,  7.,  7.,  8.,  8.,  4.,  5.,  2., -1., -1.],\n",
       "       [ 1.,  1.,  6.,  8.,  8., 10.,  3.,  6.,  7.,  6., 10., -1., -1.],\n",
       "       [ 7.,  9.,  4.,  1.,  9., 10.,  6.,  5.,  4.,  4.,  3., -1., -1.],\n",
       "       [ 7.,  7.,  5.,  7.,  8.,  7.,  6.,  8.,  7.,  7.,  8., -1., -1.],\n",
       "       [ 5.,  5.,  6.,  6.,  4.,  7.,  8.,  6.,  5.,  4.,  3., -1., -1.],\n",
       "       [10.,  5.,  7.,  9.,  9.,  3.,  7.,  7., 10.,  7.,  9., -1., -1.],\n",
       "       [ 7.,  7.,  7.,  6.,  8.,  3.,  7.,  5.,  3.,  6.,  6., -1., -1.],\n",
       "       [ 5.,  9.,  9.,  9.,  7., 10.,  5.,  8.,  7.,  4.,  9., -1., -1.],\n",
       "       [ 7.,  8.,  6.,  5.,  7.,  4.,  8.,  8.,  6.,  6.,  7., -1., -1.],\n",
       "       [10., 10., 10., 10., 10., 10.,  7.,  9.,  9.,  9.,  9., -1., -1.]])"
      ]
     },
     "execution_count": 255,
     "metadata": {},
     "output_type": "execute_result"
    }
   ],
   "source": [
    "negs2 = np.ones((10, 2), dtype=np.int)*(-1)\n",
    "xA = np.concatenate((x, negs2), axis=1)\n",
    "xA"
   ]
  },
  {
   "cell_type": "code",
   "execution_count": 243,
   "metadata": {},
   "outputs": [
    {
     "data": {
      "text/plain": [
       "array([0.76226519, 0.61874535, 0.73608479, 0.81498378, 0.9010209 ,\n",
       "       0.89346279, 0.81168871, 0.63629279])"
      ]
     },
     "execution_count": 243,
     "metadata": {},
     "output_type": "execute_result"
    }
   ],
   "source": [
    "anno_xA = AnnotationsContainer.from_array(xA)\n",
    "model_xA = ModelA.create_initial_state(2)\n",
    "model_xA.theta"
   ]
  },
  {
   "cell_type": "code",
   "execution_count": 283,
   "metadata": {},
   "outputs": [
    {
     "name": "stdout",
     "output_type": "stream",
     "text": [
      "[0.01091329 0.02669829 0.03700753 0.41227966 0.00898391 0.01508785\n",
      " 0.07779565 0.09782932 0.30161185 0.01179265]\n",
      "-261.2267374675295\n"
     ]
    }
   ],
   "source": [
    "model_xB = ModelB.create_initial_state(10, 11)\n",
    "print(model_xB.pi)\n",
    "print(model_xB.log_likelihood(anno.annotations))"
   ]
  },
  {
   "cell_type": "code",
   "execution_count": 273,
   "metadata": {},
   "outputs": [
    {
     "name": "stdout",
     "output_type": "stream",
     "text": [
      "[0.00000000e+000 0.00000000e+000 0.00000000e+000 1.00000000e-001\n",
      " 0.00000000e+000 2.01052303e-001 4.98947697e-001 6.06327483e-110\n",
      " 1.00266575e-001 9.97334251e-002]\n",
      "-200.89809495383435\n"
     ]
    },
    {
     "name": "stderr",
     "output_type": "stream",
     "text": [
      "C:\\Users\\iarak\\Anaconda3\\Anaconda\\lib\\site-packages\\pyanno\\util.py:80: RuntimeWarning: divide by zero encountered in log\n",
      "  log_theta = ninf_to_num(log(theta))\n"
     ]
    }
   ],
   "source": [
    "model_xB.map(anno.annotations)\n",
    "print(model_xB.pi)\n",
    "print(model_xB.log_likelihood(anno.annotations))"
   ]
  },
  {
   "cell_type": "code",
   "execution_count": 271,
   "metadata": {},
   "outputs": [
    {
     "name": "stdout",
     "output_type": "stream",
     "text": [
      "[[3.96438213e-12 2.03180089e-06 1.17070997e-06 1.80599438e-05\n",
      "  3.69454522e-06 2.74884046e-02 9.45222776e-01 2.72141026e-02\n",
      "  8.21065178e-06 4.15487888e-05]\n",
      " [1.14624920e-08 2.10415703e-02 2.11826481e-06 1.12567360e-07\n",
      "  1.13909113e-03 5.71821281e-01 9.46916201e-02 4.04804367e-02\n",
      "  2.72983184e-04 2.70550776e-01]\n",
      " [3.21738255e-09 5.89386203e-03 1.01130434e-03 2.59874573e-02\n",
      "  9.51790623e-01 1.01934402e-02 7.11399177e-04 1.06228579e-04\n",
      "  4.79002570e-05 4.25778187e-03]\n",
      " [7.60253559e-13 2.11832754e-12 1.11023880e-14 7.31006749e-15\n",
      "  7.31471371e-11 4.64605968e-04 9.99518221e-01 1.71541804e-05\n",
      "  1.83180587e-08 1.40040318e-12]\n",
      " [1.38735752e-12 3.24004888e-08 2.23726178e-07 2.72721388e-03\n",
      "  7.92846758e-03 9.89188449e-01 1.44222967e-04 1.13786114e-05\n",
      "  1.13290209e-08 1.91724861e-10]\n",
      " [1.07946545e-06 1.59714708e-03 1.08568424e-06 8.69922191e-03\n",
      "  6.39401572e-02 4.92580399e-02 1.41924844e-01 2.82322314e-02\n",
      "  7.04901207e-01 1.44498659e-03]\n",
      " [4.09823200e-09 5.08034971e-09 9.60801377e-08 4.43614015e-04\n",
      "  1.84864824e-03 6.41595895e-01 3.56102500e-01 9.18273678e-06\n",
      "  1.15126530e-08 4.28725531e-08]\n",
      " [1.81739119e-09 5.92994743e-05 1.68017782e-07 1.41893253e-06\n",
      "  2.47427851e-01 4.28302168e-03 1.47973852e-01 2.20116477e-01\n",
      "  3.07366024e-01 7.27718859e-02]\n",
      " [2.81760443e-12 3.15644202e-10 1.60456841e-12 8.47965778e-09\n",
      "  2.41745892e-04 8.24162488e-01 1.71224279e-01 4.37136768e-03\n",
      "  1.02046877e-07 8.73834835e-09]\n",
      " [9.14583532e-15 2.39907481e-15 1.76694727e-12 3.62330169e-14\n",
      "  2.07902314e-15 5.36569229e-13 4.39420165e-11 1.94896656e-08\n",
      "  1.14513227e-03 9.98854848e-01]]\n"
     ]
    }
   ],
   "source": [
    "# compute the posterior distribution over true annotations\n",
    "posterior_xB = model_xB.infer_labels(anno.annotations)\n",
    "# each row show the probability of each label class for the\n",
    "# corresponding item\n",
    "print(posterior_xB)"
   ]
  },
  {
   "cell_type": "code",
   "execution_count": 274,
   "metadata": {},
   "outputs": [],
   "source": [
    "samples_xB = model_xB.sample_posterior_over_accuracy(anno.annotations, 200, burn_in_samples=100, thin_samples=3)"
   ]
  },
  {
   "cell_type": "code",
   "execution_count": 275,
   "metadata": {},
   "outputs": [
    {
     "name": "stdout",
     "output_type": "stream",
     "text": [
      "Mean\n",
      "[[[0.54673827 0.13177836 0.07803859 ... 0.03140113 0.03684149 0.03586908]\n",
      "  [0.11354454 0.50515402 0.13606011 ... 0.03311326 0.02899403 0.02845327]\n",
      "  [0.06182521 0.12095105 0.4831965  ... 0.03164363 0.03182481 0.02871945]\n",
      "  ...\n",
      "  [0.03306051 0.02945099 0.02898885 ... 0.48109496 0.1234107  0.0590375 ]\n",
      "  [0.02832877 0.02698453 0.03161122 ... 0.11800837 0.48426157 0.12751817]\n",
      "  [0.03231929 0.03216494 0.03371206 ... 0.06651388 0.1350079  0.56755451]]\n",
      "\n",
      " [[0.55918266 0.13222031 0.07305609 ... 0.03172285 0.03724485 0.02939445]\n",
      "  [0.12267187 0.49353023 0.12517018 ... 0.02910632 0.03315395 0.0338514 ]\n",
      "  [0.06157715 0.11979526 0.47895203 ... 0.02751766 0.03450534 0.03219743]\n",
      "  ...\n",
      "  [0.03440206 0.02814637 0.03307396 ... 0.47715859 0.12437576 0.06164221]\n",
      "  [0.03032255 0.03702541 0.0288767  ... 0.11927777 0.50626358 0.12195539]\n",
      "  [0.03645084 0.03398544 0.033717   ... 0.06509348 0.1306963  0.56783526]]\n",
      "\n",
      " [[0.55386334 0.13253189 0.06530733 ... 0.04198445 0.03335878 0.03436644]\n",
      "  [0.12016585 0.50471657 0.13063649 ... 0.03157543 0.03247383 0.02684909]\n",
      "  [0.05764394 0.12863266 0.4795574  ... 0.02957747 0.02908486 0.02925039]\n",
      "  ...\n",
      "  [0.02842436 0.02983311 0.03229203 ... 0.49167613 0.12134154 0.05474982]\n",
      "  [0.0323472  0.02713917 0.02852776 ... 0.12376982 0.50980085 0.11437228]\n",
      "  [0.03368038 0.0339521  0.03212922 ... 0.07123247 0.13575079 0.55235055]]\n",
      "\n",
      " ...\n",
      "\n",
      " [[0.54407915 0.13909343 0.07078005 ... 0.03620661 0.03199954 0.03403781]\n",
      "  [0.12497724 0.50248171 0.11892807 ... 0.03007943 0.03191236 0.03164898]\n",
      "  [0.05867787 0.11537853 0.48605875 ... 0.03029493 0.02964121 0.03520738]\n",
      "  ...\n",
      "  [0.03314319 0.02833094 0.03186066 ... 0.47195838 0.12933004 0.06110651]\n",
      "  [0.03062233 0.03220231 0.02931388 ... 0.11963641 0.47788959 0.12996434]\n",
      "  [0.03360801 0.03244663 0.03281503 ... 0.06386016 0.16788645 0.53364492]]\n",
      "\n",
      " [[0.54499977 0.13851996 0.06647236 ... 0.03601011 0.03933158 0.03678436]\n",
      "  [0.12414495 0.50531134 0.12758601 ... 0.03111879 0.03072712 0.02745461]\n",
      "  [0.06149066 0.12629217 0.48341507 ... 0.02693137 0.03137757 0.03287909]\n",
      "  ...\n",
      "  [0.02647724 0.02759753 0.03061292 ... 0.47377149 0.1147456  0.06613777]\n",
      "  [0.03066474 0.03110535 0.02871806 ... 0.11908816 0.48430699 0.11988342]\n",
      "  [0.03188116 0.03198304 0.0322481  ... 0.07111586 0.15909428 0.54192618]]\n",
      "\n",
      " [[0.55191677 0.13369106 0.07306979 ... 0.03080939 0.03802351 0.03654182]\n",
      "  [0.11958968 0.50586869 0.12567603 ... 0.03048591 0.03390645 0.03001992]\n",
      "  [0.06119238 0.12326754 0.48277631 ... 0.02895265 0.03289919 0.02803217]\n",
      "  ...\n",
      "  [0.03255901 0.03160037 0.03121647 ... 0.48446706 0.119025   0.06795752]\n",
      "  [0.02892638 0.03100346 0.02929645 ... 0.11938449 0.52412208 0.11658772]\n",
      "  [0.03507471 0.03454723 0.03319105 ... 0.06500032 0.17096856 0.52843714]]]\n",
      "\n",
      "STD\n",
      "[[[0.08666423 0.05587134 0.05233202 ... 0.03239938 0.03511559 0.03941008]\n",
      "  [0.05071097 0.08098017 0.06230238 ... 0.03207302 0.03040845 0.02429737]\n",
      "  [0.04143496 0.05522208 0.08692128 ... 0.02982542 0.03276519 0.02762291]\n",
      "  ...\n",
      "  [0.02740834 0.02982497 0.02817157 ... 0.09272452 0.06198678 0.0417922 ]\n",
      "  [0.02608701 0.02667917 0.03029885 ... 0.05359292 0.08225957 0.05717351]\n",
      "  [0.02969516 0.03125028 0.03384091 ... 0.04532342 0.05858597 0.09383522]]\n",
      "\n",
      " [[0.09354489 0.05806682 0.04740044 ... 0.03142593 0.03514851 0.0262188 ]\n",
      "  [0.05779163 0.08855591 0.0541658  ... 0.02522659 0.03314094 0.03040832]\n",
      "  [0.03868798 0.05297693 0.08917884 ... 0.02870649 0.03242838 0.0294847 ]\n",
      "  ...\n",
      "  [0.02880282 0.02825889 0.03384825 ... 0.08591184 0.05370892 0.03985872]\n",
      "  [0.02960264 0.03197512 0.0234395  ... 0.05469454 0.07572927 0.05443002]\n",
      "  [0.03477887 0.032396   0.03265222 ... 0.04538678 0.05936829 0.09377162]]\n",
      "\n",
      " [[0.08922581 0.05910968 0.0442076  ... 0.03950808 0.03035947 0.03176152]\n",
      "  [0.05405604 0.08669067 0.0555468  ... 0.02969315 0.02832143 0.02509709]\n",
      "  [0.03737225 0.05367161 0.08416019 ... 0.03010626 0.02657609 0.02755766]\n",
      "  ...\n",
      "  [0.0278616  0.02740787 0.03173245 ... 0.08069214 0.05531914 0.03611155]\n",
      "  [0.0302559  0.02511242 0.02591398 ... 0.05841814 0.08168839 0.05094956]\n",
      "  [0.03630051 0.03254412 0.03064663 ... 0.04229579 0.06144544 0.08684981]]\n",
      "\n",
      " ...\n",
      "\n",
      " [[0.09314132 0.06716254 0.04732839 ... 0.03568853 0.02955706 0.03175812]\n",
      "  [0.05723939 0.08592104 0.05404349 ... 0.03038473 0.02996967 0.02820841]\n",
      "  [0.03909174 0.05745563 0.09062258 ... 0.02919654 0.02918096 0.03396746]\n",
      "  ...\n",
      "  [0.03332845 0.02702875 0.0298435  ... 0.08725086 0.05995373 0.03715597]\n",
      "  [0.03025538 0.03232768 0.03169273 ... 0.05641722 0.08894748 0.0575705 ]\n",
      "  [0.03158433 0.03144647 0.03135307 ... 0.04889341 0.06762914 0.09094584]]\n",
      "\n",
      " [[0.0771487  0.06021478 0.04101951 ... 0.03469191 0.04044812 0.03377498]\n",
      "  [0.06083317 0.08925021 0.05295074 ... 0.02990477 0.02947964 0.02629749]\n",
      "  [0.04197976 0.05733452 0.08828711 ... 0.02346825 0.0325805  0.03247066]\n",
      "  ...\n",
      "  [0.02509057 0.02517889 0.0303759  ... 0.0907067  0.05142146 0.04258062]\n",
      "  [0.02698145 0.03113761 0.02814618 ... 0.05292579 0.08610412 0.05213218]\n",
      "  [0.03244485 0.02874148 0.02957801 ... 0.05181358 0.06887633 0.08979139]]\n",
      "\n",
      " [[0.08941347 0.06158241 0.05376327 ... 0.02820293 0.0365261  0.03538948]\n",
      "  [0.05702794 0.08844815 0.05213685 ... 0.02960695 0.03226463 0.02887519]\n",
      "  [0.03960564 0.05640009 0.09313498 ... 0.02718878 0.03350394 0.02891034]\n",
      "  ...\n",
      "  [0.02945413 0.0291499  0.02863738 ... 0.08443308 0.05189852 0.0509023 ]\n",
      "  [0.02878494 0.02880865 0.02580326 ... 0.05587646 0.08119689 0.04981791]\n",
      "  [0.03081992 0.03649544 0.03019527 ... 0.04545886 0.06885663 0.09287236]]]\n"
     ]
    }
   ],
   "source": [
    "# we can then compute a credible interval for the parameters:\n",
    "ci_x_mean = samples_xB[0].mean(axis=0)\n",
    "print(\"Mean\")\n",
    "print(ci_x_mean)\n",
    "\n",
    "ci_x_stdev = samples_xB[0].std(axis=0)\n",
    "print(\"\\nSTD\")\n",
    "print(ci_x_stdev)\n"
   ]
  },
  {
   "cell_type": "markdown",
   "metadata": {},
   "source": [
    "We will use Model B estimates for other variable assessments."
   ]
  },
  {
   "cell_type": "code",
   "execution_count": 277,
   "metadata": {},
   "outputs": [
    {
     "name": "stdout",
     "output_type": "stream",
     "text": [
      "-264.5798506930321\n",
      "[7.74429670e-19 1.00000000e+00 4.32097061e-37 3.23649689e-62\n",
      " 0.00000000e+00 0.00000000e+00 0.00000000e+00 0.00000000e+00\n",
      " 0.00000000e+00 0.00000000e+00 0.00000000e+00]\n",
      "-61.491277330881175\n",
      "(48, 6)\n",
      "(48, 11)\n"
     ]
    },
    {
     "name": "stderr",
     "output_type": "stream",
     "text": [
      "C:\\Users\\iarak\\Anaconda3\\Anaconda\\lib\\site-packages\\pyanno\\util.py:80: RuntimeWarning: divide by zero encountered in log\n",
      "  log_theta = ninf_to_num(log(theta))\n"
     ]
    },
    {
     "name": "stdout",
     "output_type": "stream",
     "text": [
      "[[[0.55216511 0.12946603 0.06516045 0.03191272 0.0323267  0.03616263\n",
      "   0.03072956 0.0325386  0.03194706 0.02576584 0.03182529]\n",
      "  [0.08840536 0.62217279 0.08764988 0.04604857 0.02445813 0.01964373\n",
      "   0.02139108 0.02263023 0.02243993 0.02285584 0.02230445]\n",
      "  [0.06339958 0.11898795 0.46462091 0.11518509 0.05865854 0.03199988\n",
      "   0.02997406 0.02784006 0.03092177 0.03253905 0.02587312]\n",
      "  [0.02823532 0.05677665 0.12471218 0.46812481 0.11296091 0.06003233\n",
      "   0.03004259 0.0310025  0.02704022 0.03382381 0.02724868]\n",
      "  [0.02940544 0.02946284 0.0599073  0.12430635 0.46176518 0.11860276\n",
      "   0.057676   0.02982587 0.02920342 0.03150289 0.02834196]\n",
      "  [0.03112813 0.02796694 0.03067735 0.05737878 0.12248046 0.47097029\n",
      "   0.11971993 0.0554375  0.02832706 0.02738254 0.02853102]\n",
      "  [0.02732496 0.02635121 0.02669508 0.02726697 0.05995467 0.11191782\n",
      "   0.49067447 0.11770685 0.05968976 0.02481178 0.02760643]\n",
      "  [0.03095866 0.02842105 0.03015927 0.0294826  0.02600184 0.06008784\n",
      "   0.12604873 0.46384792 0.11673708 0.05905935 0.02919567]\n",
      "  [0.02921829 0.02915392 0.03264106 0.03170966 0.02926065 0.02919088\n",
      "   0.060673   0.11776919 0.46220514 0.1153452  0.06283302]\n",
      "  [0.02757644 0.03065564 0.03278381 0.0300751  0.02994149 0.02560334\n",
      "   0.0298457  0.06365445 0.11709974 0.48939013 0.12337416]\n",
      "  [0.03612374 0.03155932 0.03213477 0.03516156 0.03377715 0.03166504\n",
      "   0.03415767 0.03140415 0.0658415  0.13713039 0.53104471]]\n",
      "\n",
      " [[0.5376113  0.13160386 0.06833088 0.03055176 0.03411009 0.03423215\n",
      "   0.03247064 0.02984596 0.03329513 0.03687763 0.03107062]\n",
      "  [0.06886585 0.70018633 0.07410647 0.03533909 0.01818791 0.01730217\n",
      "   0.01852508 0.01616548 0.01621291 0.01720692 0.01790179]\n",
      "  [0.05765145 0.11606553 0.46101214 0.12436912 0.05845512 0.03273689\n",
      "   0.03374447 0.02905778 0.0291623  0.02888746 0.02885775]\n",
      "  [0.02793135 0.05422039 0.11818268 0.47232947 0.12192564 0.05872242\n",
      "   0.0326572  0.02565158 0.02887066 0.02766642 0.03184218]\n",
      "  [0.03128536 0.02880538 0.05968349 0.12230687 0.48171967 0.10971243\n",
      "   0.05486937 0.02782819 0.02709973 0.03199617 0.02469335]\n",
      "  [0.03071733 0.02901942 0.02884371 0.05919495 0.12029556 0.47368502\n",
      "   0.11528789 0.05737709 0.02778258 0.02882691 0.02896953]\n",
      "  [0.03249741 0.02714197 0.0296935  0.02613155 0.05783538 0.1146387\n",
      "   0.47253953 0.11908656 0.06194281 0.02690201 0.03159057]\n",
      "  [0.03191734 0.02994356 0.02897504 0.03047169 0.03061209 0.05594747\n",
      "   0.11335406 0.47406409 0.11618488 0.05962631 0.02890347]\n",
      "  [0.03230991 0.0270721  0.02628889 0.02596689 0.02604469 0.02911368\n",
      "   0.05776493 0.12094322 0.47051762 0.12507203 0.05890604]\n",
      "  [0.02788922 0.02827266 0.02964542 0.02981824 0.03093955 0.03143518\n",
      "   0.03052052 0.065867   0.11616909 0.48257319 0.12686993]\n",
      "  [0.03594169 0.03671775 0.03893132 0.03513134 0.02976252 0.033814\n",
      "   0.03443835 0.03086168 0.06789148 0.1305483  0.52596156]]\n",
      "\n",
      " [[0.53219396 0.13241731 0.0679079  0.03274097 0.03306554 0.03484285\n",
      "   0.03133147 0.03267986 0.03637485 0.03293669 0.0335086 ]\n",
      "  [0.40635796 0.40224674 0.05988258 0.02795521 0.01618795 0.01482772\n",
      "   0.01384823 0.01573059 0.01376284 0.01395923 0.01524094]\n",
      "  [0.06528766 0.12296798 0.4636199  0.11148244 0.06207797 0.02957678\n",
      "   0.02621208 0.03192419 0.02876946 0.02881676 0.0292648 ]\n",
      "  [0.02956162 0.06054619 0.11777456 0.46953132 0.114518   0.05974206\n",
      "   0.02772348 0.03335817 0.02853194 0.03167586 0.02703679]\n",
      "  [0.02894641 0.02963063 0.0607735  0.11950196 0.47499647 0.11659583\n",
      "   0.05401004 0.02646723 0.03088776 0.02911808 0.0290721 ]\n",
      "  [0.03184156 0.03254374 0.03145652 0.05624459 0.1123804  0.4751348\n",
      "   0.11921972 0.05416784 0.03058674 0.02770489 0.02871919]\n",
      "  [0.03084847 0.02855062 0.03024565 0.03092124 0.05765759 0.12268795\n",
      "   0.46737957 0.11791616 0.05578207 0.02880833 0.02920233]\n",
      "  [0.03169972 0.03250448 0.0294541  0.02687981 0.02747689 0.05568028\n",
      "   0.11275254 0.47168263 0.12708688 0.05635794 0.02842472]\n",
      "  [0.03115994 0.03017889 0.0299284  0.02654265 0.02927398 0.02852659\n",
      "   0.05881239 0.12442724 0.46217477 0.1206978  0.05827735]\n",
      "  [0.03226556 0.03167745 0.03040678 0.02890638 0.02833795 0.02897065\n",
      "   0.0292145  0.05356021 0.12266731 0.49204416 0.12194904]\n",
      "  [0.03312789 0.03237624 0.03494752 0.03570226 0.03202107 0.03207116\n",
      "   0.03361001 0.0364224  0.06188857 0.13127176 0.53656112]]\n",
      "\n",
      " [[0.5290096  0.13214643 0.07301573 0.0358059  0.03473437 0.03746321\n",
      "   0.03585754 0.02663322 0.03245894 0.03046639 0.03240867]\n",
      "  [0.06171908 0.74908253 0.06048986 0.03022919 0.01391982 0.0149813\n",
      "   0.01196108 0.01485303 0.01338706 0.0144792  0.01489786]\n",
      "  [0.05955572 0.11901589 0.46528224 0.11612453 0.06102874 0.02775583\n",
      "   0.02907106 0.03024268 0.03108512 0.03237304 0.02846514]\n",
      "  [0.03214997 0.06241498 0.11569595 0.46783929 0.11985683 0.06002926\n",
      "   0.02967249 0.02510486 0.02458127 0.03141073 0.03124438]\n",
      "  [0.03018358 0.02975443 0.05822088 0.11550253 0.46934668 0.12245196\n",
      "   0.05620509 0.02580553 0.03261514 0.02937194 0.03054226]\n",
      "  [0.0282247  0.03373363 0.02915051 0.05920815 0.11213757 0.46925484\n",
      "   0.12262732 0.05665732 0.02928402 0.03061684 0.0291051 ]\n",
      "  [0.03204984 0.0273715  0.02743917 0.03014699 0.05919677 0.11883999\n",
      "   0.46818374 0.12001185 0.05866613 0.02934608 0.02874793]\n",
      "  [0.03010211 0.02868838 0.02846469 0.0263767  0.02802938 0.06167066\n",
      "   0.11838395 0.47077234 0.11636551 0.05999431 0.03115198]\n",
      "  [0.02803554 0.03111514 0.03086987 0.02799043 0.02904717 0.02610734\n",
      "   0.05640383 0.12057129 0.46645099 0.12481484 0.05859355]\n",
      "  [0.03064665 0.02805494 0.03119069 0.03005159 0.03401689 0.03132144\n",
      "   0.03277954 0.0606799  0.11960624 0.48209113 0.119561  ]\n",
      "  [0.03311543 0.03464979 0.03300669 0.0295455  0.03581726 0.03386565\n",
      "   0.03022931 0.03458684 0.06464153 0.12928302 0.541259  ]]\n",
      "\n",
      " [[0.53128929 0.13484409 0.0682151  0.03188045 0.02884859 0.03293488\n",
      "   0.0353997  0.03461779 0.03595357 0.03367886 0.03233768]\n",
      "  [0.2837618  0.48472387 0.07039004 0.0386577  0.01878962 0.01764128\n",
      "   0.01533747 0.01990538 0.01747605 0.01652443 0.01679237]\n",
      "  [0.05533803 0.1164973  0.47537086 0.11342904 0.05969792 0.03235872\n",
      "   0.03072875 0.0286971  0.0306304  0.03114664 0.02610524]\n",
      "  [0.03317544 0.05546779 0.12683361 0.46035963 0.11719811 0.05695436\n",
      "   0.03099596 0.02812912 0.02902746 0.03139751 0.03046101]\n",
      "  [0.0301344  0.03023944 0.05821529 0.10932012 0.47872533 0.11396901\n",
      "   0.05761605 0.02858834 0.03253319 0.03204099 0.02861786]\n",
      "  [0.02960646 0.02820736 0.0276236  0.05434496 0.1163453  0.46749903\n",
      "   0.12169803 0.06304218 0.02871812 0.03353783 0.02937713]\n",
      "  [0.02969957 0.0302515  0.02843785 0.03109173 0.05774585 0.11660529\n",
      "   0.46672352 0.11784712 0.06125106 0.03134573 0.02900079]\n",
      "  [0.02988361 0.02695609 0.02884742 0.03288135 0.0333968  0.05445611\n",
      "   0.12601568 0.45890825 0.11945719 0.05849683 0.03070067]\n",
      "  [0.03052824 0.0319505  0.02838518 0.02794457 0.02844183 0.02934494\n",
      "   0.05702517 0.11949889 0.47317684 0.11412256 0.05958127]\n",
      "  [0.02934289 0.03107153 0.02903142 0.03035956 0.03005213 0.02708261\n",
      "   0.03164485 0.05837648 0.12626741 0.48843439 0.11833675]\n",
      "  [0.03378359 0.03210607 0.02947864 0.03915243 0.03653913 0.0319491\n",
      "   0.03157992 0.03140914 0.06917427 0.13308292 0.53174478]]\n",
      "\n",
      " [[0.53008185 0.1372168  0.06526703 0.03731369 0.03246858 0.03561697\n",
      "   0.02917971 0.03687776 0.0314255  0.03577429 0.02877783]\n",
      "  [0.0949708  0.6146087  0.09006787 0.04512048 0.02480768 0.02121628\n",
      "   0.02211212 0.0209447  0.02030484 0.02578516 0.02006138]\n",
      "  [0.05813769 0.11703586 0.48059234 0.11483614 0.0539033  0.02827934\n",
      "   0.02881334 0.02975131 0.02755708 0.0323488  0.0287448 ]\n",
      "  [0.02735314 0.06118635 0.11542836 0.46863201 0.11980945 0.06174578\n",
      "   0.02769371 0.02818081 0.02739174 0.03190524 0.03067341]\n",
      "  [0.03223196 0.028148   0.05734045 0.11933698 0.47078717 0.10994326\n",
      "   0.05626295 0.03202603 0.03106757 0.03167748 0.03117816]\n",
      "  [0.0328755  0.02840199 0.02854741 0.05968359 0.1163962  0.47685493\n",
      "   0.11363782 0.05405412 0.02762063 0.03136594 0.03056187]\n",
      "  [0.02929265 0.03039857 0.02836654 0.02849132 0.06169234 0.11506149\n",
      "   0.46779889 0.11252669 0.0581336  0.03762813 0.03060977]\n",
      "  [0.02868775 0.02685229 0.03344234 0.03087228 0.02547585 0.05820577\n",
      "   0.1202692  0.47017379 0.11841681 0.05873693 0.02886698]\n",
      "  [0.02816712 0.02748809 0.02800188 0.02678143 0.02705429 0.02915627\n",
      "   0.06049969 0.11946867 0.47609446 0.12069695 0.05659115]\n",
      "  [0.03045373 0.03110167 0.03049493 0.02895096 0.02833132 0.03556406\n",
      "   0.03029824 0.06476533 0.11643285 0.48249829 0.12110862]\n",
      "  [0.03417696 0.03608209 0.03226911 0.03430029 0.03023093 0.03254607\n",
      "   0.03336978 0.03274362 0.06561261 0.13693891 0.53172963]]]\n"
     ]
    }
   ],
   "source": [
    "#test\n",
    "model_testB = ModelB.create_initial_state(11, 6)\n",
    "print(model_testB.log_likelihood(anno_test.annotations))\n",
    "model_testB.map(anno_test.annotations)\n",
    "print(model_testB.pi)\n",
    "print(model_testB.log_likelihood(anno_test.annotations))\n",
    "print(anno_test.annotations.shape)\n",
    "posterior_testB = model_testB.infer_labels(anno_test.annotations)\n",
    "print(posterior_testB.shape)\n",
    "samples_testB = model_testB.sample_posterior_over_accuracy(anno_test.annotations, 200, burn_in_samples=100, thin_samples=3)\n",
    "ci_test_mean = samples_testB[0].mean(axis=0)\n",
    "print(ci_test_mean)"
   ]
  },
  {
   "cell_type": "code",
   "execution_count": 279,
   "metadata": {},
   "outputs": [
    {
     "name": "stdout",
     "output_type": "stream",
     "text": [
      "-200.89809495383435\n",
      "[0.00000000e+000 0.00000000e+000 0.00000000e+000 1.00000000e-001\n",
      " 0.00000000e+000 2.01052303e-001 4.98947697e-001 6.06327483e-110\n",
      " 1.00266575e-001 9.97334251e-002]\n",
      "-200.89809495383435\n",
      "(10, 11)\n",
      "(10, 10)\n"
     ]
    },
    {
     "name": "stderr",
     "output_type": "stream",
     "text": [
      "C:\\Users\\iarak\\Anaconda3\\Anaconda\\lib\\site-packages\\pyanno\\util.py:80: RuntimeWarning: divide by zero encountered in log\n",
      "  log_theta = ninf_to_num(log(theta))\n"
     ]
    },
    {
     "name": "stdout",
     "output_type": "stream",
     "text": [
      "[[[0.55261874 0.13949821 0.06800027 ... 0.02764325 0.03392185 0.03593482]\n",
      "  [0.12156004 0.49442589 0.13155143 ... 0.03201779 0.03074036 0.02783385]\n",
      "  [0.05841114 0.1230695  0.48180649 ... 0.03086017 0.03344941 0.02789801]\n",
      "  ...\n",
      "  [0.04037828 0.02938079 0.03164314 ... 0.47446434 0.12536287 0.05805596]\n",
      "  [0.03211956 0.02684704 0.02475596 ... 0.12606432 0.48833112 0.12896972]\n",
      "  [0.03302797 0.03535415 0.03071222 ... 0.07188341 0.13857664 0.55108141]]\n",
      "\n",
      " [[0.54378898 0.13704548 0.07494291 ... 0.03368811 0.0356754  0.03497396]\n",
      "  [0.12414356 0.4998205  0.12021937 ... 0.03462653 0.03007781 0.03261738]\n",
      "  [0.06403943 0.12026807 0.48491904 ... 0.02969681 0.02928538 0.02948712]\n",
      "  ...\n",
      "  [0.03434659 0.02651734 0.03247454 ... 0.48152905 0.1195533  0.06381261]\n",
      "  [0.03040425 0.03318733 0.03366979 ... 0.11680744 0.50376303 0.11641406]\n",
      "  [0.03766748 0.0378108  0.03140176 ... 0.06227162 0.13020958 0.56908425]]\n",
      "\n",
      " [[0.54910986 0.14096079 0.07186796 ... 0.03161774 0.033573   0.03475894]\n",
      "  [0.12569031 0.4964515  0.12998962 ... 0.03125983 0.03122887 0.03350133]\n",
      "  [0.06230681 0.11822767 0.48811707 ... 0.03095648 0.03075658 0.03068077]\n",
      "  ...\n",
      "  [0.03093015 0.02997682 0.02935122 ... 0.49394115 0.11083947 0.06247981]\n",
      "  [0.02992415 0.03130544 0.0315348  ... 0.11786964 0.50108378 0.12252621]\n",
      "  [0.03195971 0.03105766 0.03210278 ... 0.07228731 0.13842719 0.56392416]]\n",
      "\n",
      " ...\n",
      "\n",
      " [[0.56049454 0.12998194 0.06410027 ... 0.03954407 0.03650948 0.03728348]\n",
      "  [0.1246998  0.50340331 0.12755124 ... 0.03022004 0.03011462 0.0318265 ]\n",
      "  [0.05949909 0.11569021 0.47367056 ... 0.03018333 0.03231044 0.0319703 ]\n",
      "  ...\n",
      "  [0.03176826 0.02896888 0.02886128 ... 0.4864785  0.11771363 0.05770252]\n",
      "  [0.02972608 0.02782638 0.03190252 ... 0.12089973 0.47368286 0.14223365]\n",
      "  [0.03334854 0.03264075 0.03295523 ... 0.06476142 0.16214271 0.5422965 ]]\n",
      "\n",
      " [[0.53847954 0.14602309 0.07464038 ... 0.03394301 0.03456041 0.034349  ]\n",
      "  [0.11626618 0.50020985 0.13427751 ... 0.03107813 0.03013638 0.0335679 ]\n",
      "  [0.05928624 0.1254872  0.47934473 ... 0.03053594 0.02752215 0.03349899]\n",
      "  ...\n",
      "  [0.02812321 0.03112121 0.02797962 ... 0.47600182 0.1225409  0.06383253]\n",
      "  [0.02716207 0.02936661 0.02962864 ... 0.11854189 0.47631207 0.12243861]\n",
      "  [0.03146069 0.03129178 0.03279644 ... 0.06723421 0.16377936 0.54218764]]\n",
      "\n",
      " [[0.54850928 0.14103187 0.0667916  ... 0.03388002 0.03569961 0.03894354]\n",
      "  [0.12762923 0.50459561 0.12903864 ... 0.02925622 0.03428863 0.03531937]\n",
      "  [0.06246464 0.12328284 0.49104434 ... 0.03106589 0.03099296 0.03073396]\n",
      "  ...\n",
      "  [0.02985817 0.03114089 0.03023836 ... 0.48358616 0.11901566 0.06882453]\n",
      "  [0.02799946 0.03008894 0.03209417 ... 0.11874916 0.52454058 0.12178003]\n",
      "  [0.02910097 0.0362164  0.03575078 ... 0.06597234 0.15541974 0.54899106]]]\n"
     ]
    }
   ],
   "source": [
    "#indepedent variables\n",
    "model_ivB = ModelB.create_initial_state(11, 6)\n",
    "print(model_xB.log_likelihood(anno.annotations))\n",
    "model_xB.map(anno.annotations)\n",
    "print(model_xB.pi)\n",
    "print(model_xB.log_likelihood(anno.annotations))\n",
    "print(anno.annotations.shape)\n",
    "posterior_xB = model_xB.infer_labels(anno.annotations)\n",
    "print(posterior_xB.shape)\n",
    "samples_xB = model_xB.sample_posterior_over_accuracy(anno.annotations, 200, burn_in_samples=100, thin_samples=3)\n",
    "ci_x_mean = samples_xB[0].mean(axis=0)\n",
    "print(ci_x_mean)\n",
    "\n"
   ]
  },
  {
   "cell_type": "markdown",
   "metadata": {},
   "source": [
    "Now we will package up the predicted data into a format we can use for other, subsequent analysis:"
   ]
  },
  {
   "cell_type": "code",
   "execution_count": 280,
   "metadata": {},
   "outputs": [
    {
     "name": "stdout",
     "output_type": "stream",
     "text": [
      "(10, 10)\n"
     ]
    }
   ],
   "source": [
    "print(posterior_xB.shape)"
   ]
  },
  {
   "cell_type": "code",
   "execution_count": 281,
   "metadata": {},
   "outputs": [],
   "source": [
    "predicted_annotations =posterior_xB"
   ]
  },
  {
   "cell_type": "code",
   "execution_count": 282,
   "metadata": {},
   "outputs": [
    {
     "data": {
      "text/plain": [
       "(10, 10)"
      ]
     },
     "execution_count": 282,
     "metadata": {},
     "output_type": "execute_result"
    }
   ],
   "source": [
    "predicted_annotations.shape"
   ]
  }
 ],
 "metadata": {
  "anaconda-cloud": {},
  "kernelspec": {
   "display_name": "Python 3",
   "language": "python",
   "name": "python3"
  },
  "language_info": {
   "codemirror_mode": {
    "name": "ipython",
    "version": 3
   },
   "file_extension": ".py",
   "mimetype": "text/x-python",
   "name": "python",
   "nbconvert_exporter": "python",
   "pygments_lexer": "ipython3",
   "version": "3.7.0"
  }
 },
 "nbformat": 4,
 "nbformat_minor": 1
}

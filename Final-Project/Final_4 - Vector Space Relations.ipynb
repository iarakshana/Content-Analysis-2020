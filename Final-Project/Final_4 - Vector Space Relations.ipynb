{
 "cells": [
  {
   "cell_type": "code",
   "execution_count": 276,
   "metadata": {},
   "outputs": [],
   "source": [
    "import re\n",
    "import zipfile\n",
    "import os\n",
    "import sys\n",
    "import pandas as pd"
   ]
  },
  {
   "cell_type": "code",
   "execution_count": 281,
   "metadata": {},
   "outputs": [
    {
     "data": {
      "text/html": [
       "<div>\n",
       "<style scoped>\n",
       "    .dataframe tbody tr th:only-of-type {\n",
       "        vertical-align: middle;\n",
       "    }\n",
       "\n",
       "    .dataframe tbody tr th {\n",
       "        vertical-align: top;\n",
       "    }\n",
       "\n",
       "    .dataframe thead th {\n",
       "        text-align: right;\n",
       "    }\n",
       "</style>\n",
       "<table border=\"1\" class=\"dataframe\">\n",
       "  <thead>\n",
       "    <tr style=\"text-align: right;\">\n",
       "      <th></th>\n",
       "      <th>Unnamed: 0</th>\n",
       "      <th>Unnamed: 0.1</th>\n",
       "      <th>Movie Name</th>\n",
       "      <th>Genre</th>\n",
       "      <th>Year</th>\n",
       "      <th>Country</th>\n",
       "      <th>IMDb</th>\n",
       "      <th>Tokenized</th>\n",
       "      <th>Text</th>\n",
       "      <th>word_count</th>\n",
       "      <th>normalized_tokens</th>\n",
       "      <th>Tagged_Female</th>\n",
       "      <th>Tagged_Male</th>\n",
       "    </tr>\n",
       "  </thead>\n",
       "  <tbody>\n",
       "    <tr>\n",
       "      <th>0</th>\n",
       "      <td>0</td>\n",
       "      <td>3547424</td>\n",
       "      <td>Goodbye to All That</td>\n",
       "      <td>Short, Musical</td>\n",
       "      <td>1930</td>\n",
       "      <td>English</td>\n",
       "      <td>290635</td>\n",
       "      <td>['In', 'the', 'future', 'a', 'computer', 'prog...</td>\n",
       "      <td>@3547424 In the future , a computer program ca...</td>\n",
       "      <td>35320</td>\n",
       "      <td>['future', 'computer', 'program', 'called', 's...</td>\n",
       "      <td>([future, computer, program, called, skynet, d...</td>\n",
       "      <td>([future, computer, program, called, skynet, d...</td>\n",
       "    </tr>\n",
       "    <tr>\n",
       "      <th>1</th>\n",
       "      <td>1</td>\n",
       "      <td>3660608</td>\n",
       "      <td>Abraham Lincoln</td>\n",
       "      <td>Biography, Drama, History</td>\n",
       "      <td>1930</td>\n",
       "      <td>English</td>\n",
       "      <td>20620</td>\n",
       "      <td>['Tom', 'Lincoln', 'It', \"'s\", 'a', 'comin', '...</td>\n",
       "      <td>@3660608 Tom Lincoln ! It's a comin ' - Boy or...</td>\n",
       "      <td>49770</td>\n",
       "      <td>['tom', 'lincoln', 'comin', 'boy', 'gal', 't',...</td>\n",
       "      <td>([tom, lincoln, comin, boy, gal, t, ai, nt, fu...</td>\n",
       "      <td>([tom, lincoln, comin, boy, gal, t, ai, nt, fu...</td>\n",
       "    </tr>\n",
       "    <tr>\n",
       "      <th>2</th>\n",
       "      <td>2</td>\n",
       "      <td>60053</td>\n",
       "      <td>All Quiet on the Western Front</td>\n",
       "      <td>Drama, War</td>\n",
       "      <td>1930</td>\n",
       "      <td>English, French, German, Latin</td>\n",
       "      <td>20629</td>\n",
       "      <td>['Thirty', 'thousand', 'From', 'the', 'Russian...</td>\n",
       "      <td>@60053 - Thirty thousand . - From the Russians...</td>\n",
       "      <td>69596</td>\n",
       "      <td>['russians', 'french', 'russians', 'capture', ...</td>\n",
       "      <td>([russians, french, russians, capture, day, mr...</td>\n",
       "      <td>([russians, french, russians, capture, day, mr...</td>\n",
       "    </tr>\n",
       "    <tr>\n",
       "      <th>3</th>\n",
       "      <td>3</td>\n",
       "      <td>3435788</td>\n",
       "      <td>Born Reckless</td>\n",
       "      <td>Crime, Drama, Film-Noir</td>\n",
       "      <td>1930</td>\n",
       "      <td>English, Italian, French</td>\n",
       "      <td>20702</td>\n",
       "      <td>['Louis', 'Louis', 'Beretti', 'Shh', 'Put', 't...</td>\n",
       "      <td>@3435788 Louis ? Louis ? - Beretti ? - Shh ! P...</td>\n",
       "      <td>49565</td>\n",
       "      <td>['louis', 'louis', 'beretti', 'shh', 'sap', 'k...</td>\n",
       "      <td>([louis, louis, beretti, shh, sap, know, bette...</td>\n",
       "      <td>([louis, louis, beretti, shh, sap, know, bette...</td>\n",
       "    </tr>\n",
       "    <tr>\n",
       "      <th>4</th>\n",
       "      <td>4</td>\n",
       "      <td>6922578</td>\n",
       "      <td>King of Jazz</td>\n",
       "      <td>Animation, Music</td>\n",
       "      <td>1930</td>\n",
       "      <td>English</td>\n",
       "      <td>21025</td>\n",
       "      <td>['Music', 'hath', 'charms', 'that', 'nothing',...</td>\n",
       "      <td>@6922578 Music hath charms that nothing else h...</td>\n",
       "      <td>33966</td>\n",
       "      <td>['music', 'hath', 'charms', 'music', 'hath', '...</td>\n",
       "      <td>([music, hath, charms, music, hath, charms, cl...</td>\n",
       "      <td>([music, hath, charms, music, hath, charms, cl...</td>\n",
       "    </tr>\n",
       "  </tbody>\n",
       "</table>\n",
       "</div>"
      ],
      "text/plain": [
       "   Unnamed: 0  Unnamed: 0.1                      Movie Name  \\\n",
       "0           0       3547424             Goodbye to All That   \n",
       "1           1       3660608                 Abraham Lincoln   \n",
       "2           2         60053  All Quiet on the Western Front   \n",
       "3           3       3435788                   Born Reckless   \n",
       "4           4       6922578                    King of Jazz   \n",
       "\n",
       "                       Genre  Year                         Country    IMDb  \\\n",
       "0             Short, Musical  1930                         English  290635   \n",
       "1  Biography, Drama, History  1930                         English   20620   \n",
       "2                 Drama, War  1930  English, French, German, Latin   20629   \n",
       "3    Crime, Drama, Film-Noir  1930        English, Italian, French   20702   \n",
       "4           Animation, Music  1930                         English   21025   \n",
       "\n",
       "                                           Tokenized  \\\n",
       "0  ['In', 'the', 'future', 'a', 'computer', 'prog...   \n",
       "1  ['Tom', 'Lincoln', 'It', \"'s\", 'a', 'comin', '...   \n",
       "2  ['Thirty', 'thousand', 'From', 'the', 'Russian...   \n",
       "3  ['Louis', 'Louis', 'Beretti', 'Shh', 'Put', 't...   \n",
       "4  ['Music', 'hath', 'charms', 'that', 'nothing',...   \n",
       "\n",
       "                                                Text  word_count  \\\n",
       "0  @3547424 In the future , a computer program ca...       35320   \n",
       "1  @3660608 Tom Lincoln ! It's a comin ' - Boy or...       49770   \n",
       "2  @60053 - Thirty thousand . - From the Russians...       69596   \n",
       "3  @3435788 Louis ? Louis ? - Beretti ? - Shh ! P...       49565   \n",
       "4  @6922578 Music hath charms that nothing else h...       33966   \n",
       "\n",
       "                                   normalized_tokens  \\\n",
       "0  ['future', 'computer', 'program', 'called', 's...   \n",
       "1  ['tom', 'lincoln', 'comin', 'boy', 'gal', 't',...   \n",
       "2  ['russians', 'french', 'russians', 'capture', ...   \n",
       "3  ['louis', 'louis', 'beretti', 'shh', 'sap', 'k...   \n",
       "4  ['music', 'hath', 'charms', 'music', 'hath', '...   \n",
       "\n",
       "                                       Tagged_Female  \\\n",
       "0  ([future, computer, program, called, skynet, d...   \n",
       "1  ([tom, lincoln, comin, boy, gal, t, ai, nt, fu...   \n",
       "2  ([russians, french, russians, capture, day, mr...   \n",
       "3  ([louis, louis, beretti, shh, sap, know, bette...   \n",
       "4  ([music, hath, charms, music, hath, charms, cl...   \n",
       "\n",
       "                                         Tagged_Male  \n",
       "0  ([future, computer, program, called, skynet, d...  \n",
       "1  ([tom, lincoln, comin, boy, gal, t, ai, nt, fu...  \n",
       "2  ([russians, french, russians, capture, day, mr...  \n",
       "3  ([louis, louis, beretti, shh, sap, know, bette...  \n",
       "4  ([music, hath, charms, music, hath, charms, cl...  "
      ]
     },
     "execution_count": 281,
     "metadata": {},
     "output_type": "execute_result"
    }
   ],
   "source": [
    "movdf_norm.head()"
   ]
  },
  {
   "cell_type": "code",
   "execution_count": 277,
   "metadata": {},
   "outputs": [],
   "source": [
    "#All these packages need to be installed from pip\n",
    "import gensim#For word2vec, etc\n",
    "import requests #For downloading our datasets\n",
    "import lucem_illud_2020\n",
    "\n",
    "import numpy as np #For arrays\n",
    "import pandas #Gives us DataFrames\n",
    "import matplotlib.pyplot as plt #For graphics\n",
    "import seaborn #Makes the graphics look nicer\n",
    "import sklearn.metrics.pairwise #For cosine similarity\n",
    "import sklearn.manifold #For T-SNE\n",
    "import sklearn.decomposition #For PCA\n",
    "\n",
    "#This 'magic' command makes the plots work better\n",
    "#in the notebook, don't use it outside of a notebook.\n",
    "#Also you can ignore the warning\n",
    "%matplotlib inline\n",
    "\n",
    "import os #For looking through files\n",
    "import os.path #For managing file paths"
   ]
  },
  {
   "cell_type": "code",
   "execution_count": 21,
   "metadata": {
    "scrolled": true
   },
   "outputs": [
    {
     "name": "stderr",
     "output_type": "stream",
     "text": [
      "C:\\Users\\iarak\\Anaconda3\\Anaconda\\lib\\site-packages\\IPython\\core\\interactiveshell.py:2785: DtypeWarning: Columns (5) have mixed types.Specify dtype option on import or set low_memory=False.\n",
      "  interactivity=interactivity, compiler=compiler, result=result)\n"
     ]
    }
   ],
   "source": [
    "title_basics_df = pd.read_csv('title.basics.tsv.gz', sep='\\t')\n",
    "title_cast_df = pd.read_csv('title.principals.tsv.gz', sep='\\t')\n",
    "title_ratings_df = pd.read_csv('title.ratings.tsv.gz', sep='\\t')"
   ]
  },
  {
   "cell_type": "code",
   "execution_count": 22,
   "metadata": {},
   "outputs": [],
   "source": [
    "movie_metadata = pd.read_csv(r'\\Users\\iarak\\OneDrive\\Desktop\\CCA\\imdb-5000-movie-dataset\\movie_metadata.csv')"
   ]
  },
  {
   "cell_type": "code",
   "execution_count": 23,
   "metadata": {},
   "outputs": [
    {
     "data": {
      "text/plain": [
       "0                                              Avatar \n",
       "1            Pirates of the Caribbean: At World's End \n",
       "2                                             Spectre \n",
       "3                               The Dark Knight Rises \n",
       "4    Star Wars: Episode VII - The Force Awakens    ...\n",
       "Name: movie_title, dtype: object"
      ]
     },
     "execution_count": 23,
     "metadata": {},
     "output_type": "execute_result"
    }
   ],
   "source": [
    "movie_metadata['movie_title'].head()"
   ]
  },
  {
   "cell_type": "code",
   "execution_count": 24,
   "metadata": {},
   "outputs": [
    {
     "data": {
      "text/plain": [
       "Index(['color', 'director_name', 'num_critic_for_reviews', 'duration',\n",
       "       'director_facebook_likes', 'actor_3_facebook_likes', 'actor_2_name',\n",
       "       'actor_1_facebook_likes', 'gross', 'genres', 'actor_1_name',\n",
       "       'movie_title', 'num_voted_users', 'cast_total_facebook_likes',\n",
       "       'actor_3_name', 'facenumber_in_poster', 'plot_keywords',\n",
       "       'movie_imdb_link', 'num_user_for_reviews', 'language', 'country',\n",
       "       'content_rating', 'budget', 'title_year', 'actor_2_facebook_likes',\n",
       "       'imdb_score', 'aspect_ratio', 'movie_facebook_likes'],\n",
       "      dtype='object')"
      ]
     },
     "execution_count": 24,
     "metadata": {},
     "output_type": "execute_result"
    }
   ],
   "source": [
    "movie_metadata.columns"
   ]
  },
  {
   "cell_type": "code",
   "execution_count": 25,
   "metadata": {},
   "outputs": [],
   "source": [
    "## Helper Functions\n",
    "def clean_year(y):\n",
    "    # Return year as an integer or 'NaN' if empty\n",
    "    import numpy as np\n",
    "    try:\n",
    "        return int(y)\n",
    "    except:\n",
    "        return np.nan\n",
    "\n",
    "def clean_genre(y):\n",
    "    # Return only the first genre listed\n",
    "    y = str(y)\n",
    "    if y == '\\\\N':\n",
    "        return ''\n",
    "    return y.split(',')[0].strip()\n",
    "\n",
    "title_basics_df.drop('endYear', axis=1, inplace=True)\n",
    "title_basics_df['startYear'] = title_basics_df['startYear'].apply(clean_year)\n",
    "title_basics_df['runtimeMinutes'] = title_basics_df['runtimeMinutes'].apply(clean_year)\n",
    "title_basics_df['genres'] = title_basics_df['genres'].apply(clean_genre)\n",
    "title_basics_df.dropna(inplace=True, how='any', subset=['startYear', 'runtimeMinutes'])"
   ]
  },
  {
   "cell_type": "code",
   "execution_count": 26,
   "metadata": {},
   "outputs": [],
   "source": [
    "mask = ((title_basics_df['startYear'] >= 1930) &\n",
    "        (title_basics_df['startYear'] <= 2017) &\n",
    "        (title_basics_df['titleType'] == 'movie') &\n",
    "        (title_basics_df['isAdult'] == 0) & \n",
    "        (title_basics_df['runtimeMinutes'] > 80) &\n",
    "        (title_basics_df['genres'] != ''))"
   ]
  },
  {
   "cell_type": "code",
   "execution_count": 27,
   "metadata": {},
   "outputs": [],
   "source": [
    "titles = title_basics_df[mask].merge(title_cast_df, on='tconst')\n",
    "titles = titles.merge(title_ratings_df, on='tconst')"
   ]
  },
  {
   "cell_type": "code",
   "execution_count": 28,
   "metadata": {},
   "outputs": [],
   "source": [
    "import pickle\n",
    "with open('my_data.pkl', 'wb') as picklefile:\n",
    "   pickle.dump(titles['tconst'].values, picklefile)"
   ]
  },
  {
   "cell_type": "code",
   "execution_count": 3,
   "metadata": {},
   "outputs": [],
   "source": [
    "corpus_name = r\"C:\\Users\\iarak\\OneDrive\\Desktop\\CCA\\Movies\""
   ]
  },
  {
   "cell_type": "code",
   "execution_count": 4,
   "metadata": {},
   "outputs": [],
   "source": [
    "def loadcorpus(corpus_name, corpus_style=\"text\"):\n",
    "    texts_raw = {}\n",
    "    for file in os.listdir(corpus_name + \"/\"):\n",
    "        if corpus_style in file:\n",
    "            print(file)\n",
    "            zfile = zipfile.ZipFile(corpus_name + \"/\" + file)\n",
    "            for file in zfile.namelist():\n",
    "                texts_raw[file] = []\n",
    "                with zfile.open(file) as f:\n",
    "                    for line in f:\n",
    "                        texts_raw[file].append(line)\n",
    "    return texts_raw"
   ]
  },
  {
   "cell_type": "code",
   "execution_count": 5,
   "metadata": {},
   "outputs": [
    {
     "name": "stdout",
     "output_type": "stream",
     "text": [
      "text_00_myn.zip\n",
      "text_01_ote.zip\n",
      "text_02_mqu.zip\n",
      "text_03_mnq.zip\n",
      "text_04_mlq.zip\n",
      "text_05_nko.zip\n",
      "text_06_jfy.zip\n",
      "text_07_oma.zip\n",
      "text_08_loh.zip\n",
      "text_09_oii.zip\n",
      "text_10_aoy.zip\n",
      "text_11_uoy.zip\n",
      "text_12_rcq.zip\n",
      "text_13_idi.zip\n",
      "text_14_lnc.zip\n",
      "text_15_guo.zip\n",
      "text_16_qll.zip\n",
      "text_17_arp.zip\n",
      "text_18_jfj.zip\n",
      "text_19_gvc.zip\n",
      "text_20_cde.zip\n",
      "text_21_fqa.zip\n",
      "text_22_etp.zip\n",
      "text_23_fmh.zip\n",
      "text_24_ywo.zip\n",
      "text_25_byg.zip\n",
      "text_26_ngj.zip\n",
      "text_27_fle.zip\n",
      "text_28_rfy.zip\n",
      "text_29_oye.zip\n",
      "text_30_wkp.zip\n",
      "text_31_akv.zip\n",
      "text_32_ldf.zip\n",
      "text_33_kje.zip\n"
     ]
    }
   ],
   "source": [
    "movie_raw = loadcorpus(corpus_name)"
   ]
  },
  {
   "cell_type": "code",
   "execution_count": 6,
   "metadata": {},
   "outputs": [],
   "source": [
    "zfile = zipfile.ZipFile(corpus_name + \"/sources_movies.zip\")\n",
    "source = []"
   ]
  },
  {
   "cell_type": "code",
   "execution_count": 7,
   "metadata": {},
   "outputs": [],
   "source": [
    "for file in zfile.namelist():\n",
    "    with zfile.open(file) as f:\n",
    "        for line in f:\n",
    "            source.append(line)"
   ]
  },
  {
   "cell_type": "code",
   "execution_count": 8,
   "metadata": {},
   "outputs": [],
   "source": [
    "def clean_raw_text(raw_texts):\n",
    "    clean_texts = []\n",
    "    for text in raw_texts:\n",
    "        try:\n",
    "            text = text.decode(\"utf-8\")\n",
    "            clean_text = text.replace(\" \\'m\", \"'m\").replace(\" \\'ll\", \"'ll\").replace(\" \\'re\", \"'re\").replace(\" \\'s\", \"'s\").replace(\" \\'re\", \"'re\").replace(\" n\\'t\", \"n't\").replace(\" \\'ve\", \"'ve\").replace(\" /'d\", \"'d\")\n",
    "            clean_texts.append(clean_text)\n",
    "        except AttributeError:\n",
    "            # print(\"ERROR CLEANING\")\n",
    "            # print(text)\n",
    "            continue\n",
    "        except UnicodeDecodeError:\n",
    "            # print(\"Unicode Error, Skip\")\n",
    "            continue\n",
    "    return clean_texts"
   ]
  },
  {
   "cell_type": "code",
   "execution_count": 9,
   "metadata": {},
   "outputs": [],
   "source": [
    "movie_texts = {}"
   ]
  },
  {
   "cell_type": "code",
   "execution_count": 10,
   "metadata": {},
   "outputs": [],
   "source": [
    "for files in movie_raw:\n",
    "    if len(movie_texts) > 2000:\n",
    "        break\n",
    "    movies = clean_raw_text(movie_raw[files][1:])\n",
    "    for movie in movies:\n",
    "        txts = lucem_illud_2020.word_tokenize(movie) #whenever I would sub the word_tokenize function for \n",
    "                                                        #nltk or nltk.tokenize.word_tokenize, it would get stuck\n",
    "        try:\n",
    "            movie_texts[txts[0][2:]] = txts[1:]\n",
    "        except IndexError:\n",
    "            continue"
   ]
  },
  {
   "cell_type": "code",
   "execution_count": 11,
   "metadata": {},
   "outputs": [],
   "source": [
    "movie_df = pd.DataFrame(columns=[\"Movie Name\", \"Genre\", \"Year\", \"Country\",\"IMDb\", \"Tokenized\"])"
   ]
  },
  {
   "cell_type": "code",
   "execution_count": 12,
   "metadata": {},
   "outputs": [],
   "source": [
    "for movie in source[3:]:\n",
    "    try:\n",
    "        tid, fileid, total_words, genre, year, lang, country, imdb, title = movie.decode(\"utf-8\").split(\"\\t\")\n",
    "    except UnicodeDecodeError:\n",
    "        continue\n",
    "    try:\n",
    "        movie_df.loc[fileid.strip()] = [title.strip(), genre.strip(), year.strip(), country.strip(), imdb.strip(), movie_texts[fileid.strip()]]\n",
    "    except KeyError:\n",
    "        continue"
   ]
  },
  {
   "cell_type": "code",
   "execution_count": 38,
   "metadata": {},
   "outputs": [],
   "source": [
    "movie_df.to_csv(\"movdf_tok2k.csv\")"
   ]
  },
  {
   "cell_type": "code",
   "execution_count": 13,
   "metadata": {},
   "outputs": [],
   "source": [
    "movies_texts = {}"
   ]
  },
  {
   "cell_type": "code",
   "execution_count": 14,
   "metadata": {},
   "outputs": [],
   "source": [
    "for files in movie_raw:\n",
    "    if len(movies_texts) > 2000:\n",
    "        break\n",
    "    movies = clean_raw_text(movie_raw[files][1:])\n",
    "    for movie in movies:\n",
    "        txts = lucem_illud_2020.word_tokenize(movie)\n",
    "        try:\n",
    "            movies_texts[txts[0][2:]] = movie[1:]\n",
    "        except IndexError:\n",
    "            continue"
   ]
  },
  {
   "cell_type": "code",
   "execution_count": 15,
   "metadata": {},
   "outputs": [],
   "source": [
    "movies_df = pd.DataFrame(columns=[\"Movie Name\", \"Genre\", \"Year\", \"Country\",\"IMDb\", \"Text\"])"
   ]
  },
  {
   "cell_type": "code",
   "execution_count": 16,
   "metadata": {},
   "outputs": [],
   "source": [
    "for movie in source[3:]:\n",
    "    try:\n",
    "        tid, fileid, total_words, genre, year, lang, country, imdb, title = movie.decode(\"utf-8\").split(\"\\t\")\n",
    "    except UnicodeDecodeError:\n",
    "        continue\n",
    "    try:\n",
    "        movies_df.loc[fileid.strip()] = [title.strip(), genre.strip(), year.strip(), country.strip(),imdb.strip(), movies_texts[fileid.strip()]]\n",
    "    except KeyError:\n",
    "        continue"
   ]
  },
  {
   "cell_type": "code",
   "execution_count": 28,
   "metadata": {},
   "outputs": [],
   "source": [
    "movies_df.to_csv(r\"C:\\Users\\iarak\\OneDrive\\Desktop\\CCA\\Movies\\movdf_text2k.csv\")"
   ]
  },
  {
   "cell_type": "code",
   "execution_count": 37,
   "metadata": {},
   "outputs": [],
   "source": [
    "movies_df.to_csv(\"movdf_text2k.csv\")"
   ]
  },
  {
   "cell_type": "code",
   "execution_count": 43,
   "metadata": {},
   "outputs": [],
   "source": [
    "tok = pandas.read_csv(\"movdf_tok2k.csv\")"
   ]
  },
  {
   "cell_type": "code",
   "execution_count": 44,
   "metadata": {},
   "outputs": [],
   "source": [
    "tex = pandas.read_csv(\"movdf_text2k.csv\")"
   ]
  },
  {
   "cell_type": "code",
   "execution_count": 197,
   "metadata": {},
   "outputs": [],
   "source": [
    "movdf_tok10k = pandas.read_csv(\"movdf_tok10k.csv\")"
   ]
  },
  {
   "cell_type": "code",
   "execution_count": 198,
   "metadata": {},
   "outputs": [],
   "source": [
    "movdf_text10k = pandas.read_csv(\"movdf_text10k.csv\")"
   ]
  },
  {
   "cell_type": "code",
   "execution_count": 46,
   "metadata": {},
   "outputs": [
    {
     "data": {
      "text/html": [
       "<div>\n",
       "<style scoped>\n",
       "    .dataframe tbody tr th:only-of-type {\n",
       "        vertical-align: middle;\n",
       "    }\n",
       "\n",
       "    .dataframe tbody tr th {\n",
       "        vertical-align: top;\n",
       "    }\n",
       "\n",
       "    .dataframe thead th {\n",
       "        text-align: right;\n",
       "    }\n",
       "</style>\n",
       "<table border=\"1\" class=\"dataframe\">\n",
       "  <thead>\n",
       "    <tr style=\"text-align: right;\">\n",
       "      <th></th>\n",
       "      <th>Unnamed: 0</th>\n",
       "      <th>Movie Name</th>\n",
       "      <th>Genre</th>\n",
       "      <th>Year</th>\n",
       "      <th>Country</th>\n",
       "      <th>IMDb</th>\n",
       "      <th>Tokenized</th>\n",
       "      <th>normalized_words</th>\n",
       "    </tr>\n",
       "  </thead>\n",
       "  <tbody>\n",
       "    <tr>\n",
       "      <th>0</th>\n",
       "      <td>3435788</td>\n",
       "      <td>Born Reckless</td>\n",
       "      <td>Crime, Drama, Film-Noir</td>\n",
       "      <td>1930</td>\n",
       "      <td>English, Italian, French</td>\n",
       "      <td>20702</td>\n",
       "      <td>['Louis', 'Louis', 'Beretti', 'Shh', 'Put', 't...</td>\n",
       "      <td>['louis', 'louis', 'beretti', 'shh', 'sap', 'k...</td>\n",
       "    </tr>\n",
       "    <tr>\n",
       "      <th>1</th>\n",
       "      <td>3147360</td>\n",
       "      <td>The Devil's Parade</td>\n",
       "      <td>Short</td>\n",
       "      <td>1930</td>\n",
       "      <td>English</td>\n",
       "      <td>225503</td>\n",
       "      <td>['Good', 'luck', 'Hi', 'Uh', 'I', 'have', 'an'...</td>\n",
       "      <td>['good', 'luck', 'hi', 'uh', 'appointment', 'e...</td>\n",
       "    </tr>\n",
       "    <tr>\n",
       "      <th>2</th>\n",
       "      <td>6880640</td>\n",
       "      <td>Dishonored</td>\n",
       "      <td>Drama, Romance, War</td>\n",
       "      <td>1931</td>\n",
       "      <td>English</td>\n",
       "      <td>21800</td>\n",
       "      <td>['I', 'thought', 'I', 'smelled', 'gas', 'That'...</td>\n",
       "      <td>['thought', 'smelled', 'gas', 'year', 'decency...</td>\n",
       "    </tr>\n",
       "    <tr>\n",
       "      <th>3</th>\n",
       "      <td>5482259</td>\n",
       "      <td>Indiscreet</td>\n",
       "      <td>Comedy, Drama, Musical</td>\n",
       "      <td>1931</td>\n",
       "      <td>English</td>\n",
       "      <td>22000</td>\n",
       "      <td>['Subtitles', 'Lu', 's', 'Filipe', 'Bernardes'...</td>\n",
       "      <td>['subtitles', 'lu', 's', 'filipe', 'bernardes'...</td>\n",
       "    </tr>\n",
       "    <tr>\n",
       "      <th>4</th>\n",
       "      <td>3276830</td>\n",
       "      <td>Smart Money</td>\n",
       "      <td>Crime, Drama</td>\n",
       "      <td>1931</td>\n",
       "      <td>English</td>\n",
       "      <td>22403</td>\n",
       "      <td>['Aces', 'Fine', 'Come', 'on', 'ace', 'Ah', 'T...</td>\n",
       "      <td>['aces', 'fine', 'come', 'ace', 'ah', 'thank',...</td>\n",
       "    </tr>\n",
       "  </tbody>\n",
       "</table>\n",
       "</div>"
      ],
      "text/plain": [
       "   Unnamed: 0          Movie Name                    Genre  Year  \\\n",
       "0     3435788       Born Reckless  Crime, Drama, Film-Noir  1930   \n",
       "1     3147360  The Devil's Parade                    Short  1930   \n",
       "2     6880640          Dishonored      Drama, Romance, War  1931   \n",
       "3     5482259          Indiscreet   Comedy, Drama, Musical  1931   \n",
       "4     3276830         Smart Money             Crime, Drama  1931   \n",
       "\n",
       "                    Country    IMDb  \\\n",
       "0  English, Italian, French   20702   \n",
       "1                   English  225503   \n",
       "2                   English   21800   \n",
       "3                   English   22000   \n",
       "4                   English   22403   \n",
       "\n",
       "                                           Tokenized  \\\n",
       "0  ['Louis', 'Louis', 'Beretti', 'Shh', 'Put', 't...   \n",
       "1  ['Good', 'luck', 'Hi', 'Uh', 'I', 'have', 'an'...   \n",
       "2  ['I', 'thought', 'I', 'smelled', 'gas', 'That'...   \n",
       "3  ['Subtitles', 'Lu', 's', 'Filipe', 'Bernardes'...   \n",
       "4  ['Aces', 'Fine', 'Come', 'on', 'ace', 'Ah', 'T...   \n",
       "\n",
       "                                    normalized_words  \n",
       "0  ['louis', 'louis', 'beretti', 'shh', 'sap', 'k...  \n",
       "1  ['good', 'luck', 'hi', 'uh', 'appointment', 'e...  \n",
       "2  ['thought', 'smelled', 'gas', 'year', 'decency...  \n",
       "3  ['subtitles', 'lu', 's', 'filipe', 'bernardes'...  \n",
       "4  ['aces', 'fine', 'come', 'ace', 'ah', 'thank',...  "
      ]
     },
     "execution_count": 46,
     "metadata": {},
     "output_type": "execute_result"
    }
   ],
   "source": [
    "tok.head()"
   ]
  },
  {
   "cell_type": "code",
   "execution_count": 45,
   "metadata": {},
   "outputs": [
    {
     "data": {
      "text/html": [
       "<div>\n",
       "<style scoped>\n",
       "    .dataframe tbody tr th:only-of-type {\n",
       "        vertical-align: middle;\n",
       "    }\n",
       "\n",
       "    .dataframe tbody tr th {\n",
       "        vertical-align: top;\n",
       "    }\n",
       "\n",
       "    .dataframe thead th {\n",
       "        text-align: right;\n",
       "    }\n",
       "</style>\n",
       "<table border=\"1\" class=\"dataframe\">\n",
       "  <thead>\n",
       "    <tr style=\"text-align: right;\">\n",
       "      <th></th>\n",
       "      <th>Unnamed: 0</th>\n",
       "      <th>Movie Name</th>\n",
       "      <th>Genre</th>\n",
       "      <th>Year</th>\n",
       "      <th>Country</th>\n",
       "      <th>IMDb</th>\n",
       "      <th>Text</th>\n",
       "    </tr>\n",
       "  </thead>\n",
       "  <tbody>\n",
       "    <tr>\n",
       "      <th>0</th>\n",
       "      <td>3435788</td>\n",
       "      <td>Born Reckless</td>\n",
       "      <td>Crime, Drama, Film-Noir</td>\n",
       "      <td>1930</td>\n",
       "      <td>English, Italian, French</td>\n",
       "      <td>20702</td>\n",
       "      <td>@3435788 Louis ? Louis ? - Beretti ? - Shh ! P...</td>\n",
       "    </tr>\n",
       "    <tr>\n",
       "      <th>1</th>\n",
       "      <td>3147360</td>\n",
       "      <td>The Devil's Parade</td>\n",
       "      <td>Short</td>\n",
       "      <td>1930</td>\n",
       "      <td>English</td>\n",
       "      <td>225503</td>\n",
       "      <td>@3147360 Good luck . Hi . Uh , I have an appoi...</td>\n",
       "    </tr>\n",
       "    <tr>\n",
       "      <th>2</th>\n",
       "      <td>6880640</td>\n",
       "      <td>Dishonored</td>\n",
       "      <td>Drama, Romance, War</td>\n",
       "      <td>1931</td>\n",
       "      <td>English</td>\n",
       "      <td>21800</td>\n",
       "      <td>@6880640 I thought I smelled gas . That's thre...</td>\n",
       "    </tr>\n",
       "    <tr>\n",
       "      <th>3</th>\n",
       "      <td>5482259</td>\n",
       "      <td>Indiscreet</td>\n",
       "      <td>Comedy, Drama, Musical</td>\n",
       "      <td>1931</td>\n",
       "      <td>English</td>\n",
       "      <td>22000</td>\n",
       "      <td>@5482259 Subtitles : Lu ? s Filipe Bernardes W...</td>\n",
       "    </tr>\n",
       "    <tr>\n",
       "      <th>4</th>\n",
       "      <td>3276830</td>\n",
       "      <td>Smart Money</td>\n",
       "      <td>Crime, Drama</td>\n",
       "      <td>1931</td>\n",
       "      <td>English</td>\n",
       "      <td>22403</td>\n",
       "      <td>@3276830 Aces . Fine . Come on , ace . Ah . Th...</td>\n",
       "    </tr>\n",
       "  </tbody>\n",
       "</table>\n",
       "</div>"
      ],
      "text/plain": [
       "   Unnamed: 0          Movie Name                    Genre  Year  \\\n",
       "0     3435788       Born Reckless  Crime, Drama, Film-Noir  1930   \n",
       "1     3147360  The Devil's Parade                    Short  1930   \n",
       "2     6880640          Dishonored      Drama, Romance, War  1931   \n",
       "3     5482259          Indiscreet   Comedy, Drama, Musical  1931   \n",
       "4     3276830         Smart Money             Crime, Drama  1931   \n",
       "\n",
       "                    Country    IMDb  \\\n",
       "0  English, Italian, French   20702   \n",
       "1                   English  225503   \n",
       "2                   English   21800   \n",
       "3                   English   22000   \n",
       "4                   English   22403   \n",
       "\n",
       "                                                Text  \n",
       "0  @3435788 Louis ? Louis ? - Beretti ? - Shh ! P...  \n",
       "1  @3147360 Good luck . Hi . Uh , I have an appoi...  \n",
       "2  @6880640 I thought I smelled gas . That's thre...  \n",
       "3  @5482259 Subtitles : Lu ? s Filipe Bernardes W...  \n",
       "4  @3276830 Aces . Fine . Come on , ace . Ah . Th...  "
      ]
     },
     "execution_count": 45,
     "metadata": {},
     "output_type": "execute_result"
    }
   ],
   "source": [
    "tex.head()"
   ]
  },
  {
   "cell_type": "code",
   "execution_count": 53,
   "metadata": {},
   "outputs": [],
   "source": [
    "t_column = tex[\"Text\"]\n",
    "movie_df2k = pd.concat([tok,t_column], axis = 1)\n",
    "\n",
    "#pd.merge(left=tok, right=tex, left_on='Unnamed: 0', right_on='Unnamed: 0', how='left')"
   ]
  },
  {
   "cell_type": "code",
   "execution_count": 199,
   "metadata": {},
   "outputs": [],
   "source": [
    "t10_column = movdf_text10k[\"Text\"]\n",
    "movie_df10k = pd.concat([movdf_tok10k,t10_column], axis = 1)\n",
    "\n",
    "#pd.merge(left=tok, right=tex, left_on='Unnamed: 0', right_on='Unnamed: 0', how='left')"
   ]
  },
  {
   "cell_type": "code",
   "execution_count": 220,
   "metadata": {},
   "outputs": [
    {
     "data": {
      "text/html": [
       "<div>\n",
       "<style scoped>\n",
       "    .dataframe tbody tr th:only-of-type {\n",
       "        vertical-align: middle;\n",
       "    }\n",
       "\n",
       "    .dataframe tbody tr th {\n",
       "        vertical-align: top;\n",
       "    }\n",
       "\n",
       "    .dataframe thead th {\n",
       "        text-align: right;\n",
       "    }\n",
       "</style>\n",
       "<table border=\"1\" class=\"dataframe\">\n",
       "  <thead>\n",
       "    <tr style=\"text-align: right;\">\n",
       "      <th></th>\n",
       "      <th>Unnamed: 0</th>\n",
       "      <th>Movie Name</th>\n",
       "      <th>Genre</th>\n",
       "      <th>Year</th>\n",
       "      <th>Country</th>\n",
       "      <th>IMDb</th>\n",
       "      <th>Tokenized</th>\n",
       "      <th>Text</th>\n",
       "    </tr>\n",
       "  </thead>\n",
       "  <tbody>\n",
       "    <tr>\n",
       "      <th>0</th>\n",
       "      <td>3547424</td>\n",
       "      <td>Goodbye to All That</td>\n",
       "      <td>Short, Musical</td>\n",
       "      <td>1930</td>\n",
       "      <td>English</td>\n",
       "      <td>290635</td>\n",
       "      <td>['In', 'the', 'future', 'a', 'computer', 'prog...</td>\n",
       "      <td>@3547424 In the future , a computer program ca...</td>\n",
       "    </tr>\n",
       "    <tr>\n",
       "      <th>1</th>\n",
       "      <td>3660608</td>\n",
       "      <td>Abraham Lincoln</td>\n",
       "      <td>Biography, Drama, History</td>\n",
       "      <td>1930</td>\n",
       "      <td>English</td>\n",
       "      <td>20620</td>\n",
       "      <td>['Tom', 'Lincoln', 'It', \"'s\", 'a', 'comin', '...</td>\n",
       "      <td>@3660608 Tom Lincoln ! It's a comin ' - Boy or...</td>\n",
       "    </tr>\n",
       "    <tr>\n",
       "      <th>2</th>\n",
       "      <td>60053</td>\n",
       "      <td>All Quiet on the Western Front</td>\n",
       "      <td>Drama, War</td>\n",
       "      <td>1930</td>\n",
       "      <td>English, French, German, Latin</td>\n",
       "      <td>20629</td>\n",
       "      <td>['Thirty', 'thousand', 'From', 'the', 'Russian...</td>\n",
       "      <td>@60053 - Thirty thousand . - From the Russians...</td>\n",
       "    </tr>\n",
       "    <tr>\n",
       "      <th>3</th>\n",
       "      <td>3435788</td>\n",
       "      <td>Born Reckless</td>\n",
       "      <td>Crime, Drama, Film-Noir</td>\n",
       "      <td>1930</td>\n",
       "      <td>English, Italian, French</td>\n",
       "      <td>20702</td>\n",
       "      <td>['Louis', 'Louis', 'Beretti', 'Shh', 'Put', 't...</td>\n",
       "      <td>@3435788 Louis ? Louis ? - Beretti ? - Shh ! P...</td>\n",
       "    </tr>\n",
       "    <tr>\n",
       "      <th>4</th>\n",
       "      <td>6922578</td>\n",
       "      <td>King of Jazz</td>\n",
       "      <td>Animation, Music</td>\n",
       "      <td>1930</td>\n",
       "      <td>English</td>\n",
       "      <td>21025</td>\n",
       "      <td>['Music', 'hath', 'charms', 'that', 'nothing',...</td>\n",
       "      <td>@6922578 Music hath charms that nothing else h...</td>\n",
       "    </tr>\n",
       "  </tbody>\n",
       "</table>\n",
       "</div>"
      ],
      "text/plain": [
       "   Unnamed: 0                      Movie Name                      Genre  \\\n",
       "0     3547424             Goodbye to All That             Short, Musical   \n",
       "1     3660608                 Abraham Lincoln  Biography, Drama, History   \n",
       "2       60053  All Quiet on the Western Front                 Drama, War   \n",
       "3     3435788                   Born Reckless    Crime, Drama, Film-Noir   \n",
       "4     6922578                    King of Jazz           Animation, Music   \n",
       "\n",
       "   Year                         Country    IMDb  \\\n",
       "0  1930                         English  290635   \n",
       "1  1930                         English   20620   \n",
       "2  1930  English, French, German, Latin   20629   \n",
       "3  1930        English, Italian, French   20702   \n",
       "4  1930                         English   21025   \n",
       "\n",
       "                                           Tokenized  \\\n",
       "0  ['In', 'the', 'future', 'a', 'computer', 'prog...   \n",
       "1  ['Tom', 'Lincoln', 'It', \"'s\", 'a', 'comin', '...   \n",
       "2  ['Thirty', 'thousand', 'From', 'the', 'Russian...   \n",
       "3  ['Louis', 'Louis', 'Beretti', 'Shh', 'Put', 't...   \n",
       "4  ['Music', 'hath', 'charms', 'that', 'nothing',...   \n",
       "\n",
       "                                                Text  \n",
       "0  @3547424 In the future , a computer program ca...  \n",
       "1  @3660608 Tom Lincoln ! It's a comin ' - Boy or...  \n",
       "2  @60053 - Thirty thousand . - From the Russians...  \n",
       "3  @3435788 Louis ? Louis ? - Beretti ? - Shh ! P...  \n",
       "4  @6922578 Music hath charms that nothing else h...  "
      ]
     },
     "execution_count": 220,
     "metadata": {},
     "output_type": "execute_result"
    }
   ],
   "source": [
    "movie_df10k.head()"
   ]
  },
  {
   "cell_type": "code",
   "execution_count": 14,
   "metadata": {},
   "outputs": [],
   "source": [
    "movies_df['tokenized_words'] = movies_df['Text'].apply(lambda x: lucem_illud_2020.word_tokenize(x))\n",
    "movies_df['normalized_words'] = movies_df['tokenized_words'].apply(lambda x: lucem_illud_2020.normalizeTokens(x, lemma=False))"
   ]
  },
  {
   "cell_type": "code",
   "execution_count": 93,
   "metadata": {},
   "outputs": [],
   "source": [
    "movie_df10k['word_count'] = movie_df10k['Tokenized'].apply(lambda x: len(x))"
   ]
  },
  {
   "cell_type": "code",
   "execution_count": 306,
   "metadata": {},
   "outputs": [],
   "source": [
    "mov_romance = movdf_norm[movdf_norm['Genre'].str.contains('Romance', na=False)] #114 movies"
   ]
  },
  {
   "cell_type": "code",
   "execution_count": 307,
   "metadata": {},
   "outputs": [],
   "source": [
    "mov_drama = movdf_norm[movdf_norm['Genre'].str.contains('Drama', na=False)] #114 movies"
   ]
  },
  {
   "cell_type": "code",
   "execution_count": 309,
   "metadata": {},
   "outputs": [],
   "source": [
    "mov_comedy = movdf_norm[movdf_norm['Genre'].str.contains('Comedy', na=False)] #114 movies"
   ]
  },
  {
   "cell_type": "code",
   "execution_count": 310,
   "metadata": {},
   "outputs": [],
   "source": [
    "mov_horror = movdf_norm[movdf_norm['Genre'].str.contains('Horror', na=False)] #114 movies"
   ]
  },
  {
   "cell_type": "code",
   "execution_count": 311,
   "metadata": {},
   "outputs": [],
   "source": [
    "mov_scifi = movdf_norm[movdf_norm['Genre'].str.contains('Sci-Fi', na=False)] #114 movies"
   ]
  },
  {
   "cell_type": "code",
   "execution_count": 308,
   "metadata": {},
   "outputs": [],
   "source": [
    "mov_sport = movdf_norm[movdf_norm['Genre'].str.contains('Sport', na=False)] #114 movies"
   ]
  },
  {
   "cell_type": "code",
   "execution_count": 94,
   "metadata": {},
   "outputs": [],
   "source": [
    "movie_df10k_genre = pd.concat([movie_df10k,movie_df10k.Genre.str.get_dummies(sep=', ')],1)"
   ]
  },
  {
   "cell_type": "code",
   "execution_count": 278,
   "metadata": {},
   "outputs": [],
   "source": [
    "import spacy\n",
    "import en_core_web_sm"
   ]
  },
  {
   "cell_type": "code",
   "execution_count": 279,
   "metadata": {},
   "outputs": [],
   "source": [
    "nlp = spacy.load('en_core_web_sm')"
   ]
  },
  {
   "cell_type": "code",
   "execution_count": 74,
   "metadata": {},
   "outputs": [],
   "source": [
    "def word_tokenize(word_list):\n",
    "    tokenized = []\n",
    "    # pass word list through language model.\n",
    "    doc = nlp(word_list)\n",
    "    for token in doc:\n",
    "        if not token.is_punct and len(token.text.strip()) > 0:\n",
    "            tokenized.append(token.text)\n",
    "    return tokenized"
   ]
  },
  {
   "cell_type": "code",
   "execution_count": 75,
   "metadata": {},
   "outputs": [],
   "source": [
    "def wordCounter(wordLst):\n",
    "    wordCounts = {}\n",
    "    for word in wordLst:\n",
    "        #We usually need to normalize the case\n",
    "        wLower = word.lower()\n",
    "        if wLower in wordCounts:\n",
    "            wordCounts[wLower] += 1\n",
    "        else:\n",
    "            wordCounts[wLower] = 1\n",
    "    #convert to DataFrame\n",
    "    countsForFrame = {'word' : [], 'count' : []}\n",
    "    for w, c in wordCounts.items():\n",
    "        countsForFrame['word'].append(w)\n",
    "        countsForFrame['count'].append(c)\n",
    "    return pandas.DataFrame(countsForFrame)"
   ]
  },
  {
   "cell_type": "code",
   "execution_count": 280,
   "metadata": {},
   "outputs": [],
   "source": [
    "import networkx as nx"
   ]
  },
  {
   "cell_type": "code",
   "execution_count": 237,
   "metadata": {},
   "outputs": [],
   "source": [
    "is_1930s =  movdf_norm['Year'].isin([\"1930\", \"1931\",\"1932\", \"1933\", \"1934\", \"1935\", \"1936\", \"1937\", \"1938\", \"1939\"])\n",
    "only_1930s = movdf_norm[is_1930s]"
   ]
  },
  {
   "cell_type": "code",
   "execution_count": 289,
   "metadata": {},
   "outputs": [],
   "source": [
    "is_1940s =  movdf_norm['Year'].isin([\"1940\", \"1941\",\"1942\", \"1943\", \"1944\", \"1945\", \"1946\", \"1947\", \"1948\", \"1949\"])\n",
    "only_1940s = movdf_norm[is_1940s]"
   ]
  },
  {
   "cell_type": "code",
   "execution_count": 290,
   "metadata": {},
   "outputs": [],
   "source": [
    "is_1950s =  movdf_norm['Year'].isin([\"1950\", \"1951\",\"1952\", \"1953\", \"1954\", \"1955\", \"1956\", \"1957\", \"1958\", \"1959\"])\n",
    "only_1950s = movdf_norm[is_1950s]"
   ]
  },
  {
   "cell_type": "code",
   "execution_count": 288,
   "metadata": {},
   "outputs": [
    {
     "data": {
      "text/html": [
       "<div>\n",
       "<style scoped>\n",
       "    .dataframe tbody tr th:only-of-type {\n",
       "        vertical-align: middle;\n",
       "    }\n",
       "\n",
       "    .dataframe tbody tr th {\n",
       "        vertical-align: top;\n",
       "    }\n",
       "\n",
       "    .dataframe thead th {\n",
       "        text-align: right;\n",
       "    }\n",
       "</style>\n",
       "<table border=\"1\" class=\"dataframe\">\n",
       "  <thead>\n",
       "    <tr style=\"text-align: right;\">\n",
       "      <th></th>\n",
       "      <th>Unnamed: 0</th>\n",
       "      <th>Unnamed: 0.1</th>\n",
       "      <th>Movie Name</th>\n",
       "      <th>Genre</th>\n",
       "      <th>Year</th>\n",
       "      <th>Country</th>\n",
       "      <th>IMDb</th>\n",
       "      <th>Tokenized</th>\n",
       "      <th>Text</th>\n",
       "      <th>word_count</th>\n",
       "      <th>normalized_tokens</th>\n",
       "      <th>Tagged_Female</th>\n",
       "      <th>Tagged_Male</th>\n",
       "    </tr>\n",
       "  </thead>\n",
       "  <tbody>\n",
       "    <tr>\n",
       "      <th>0</th>\n",
       "      <td>0</td>\n",
       "      <td>3547424</td>\n",
       "      <td>Goodbye to All That</td>\n",
       "      <td>Short, Musical</td>\n",
       "      <td>1930</td>\n",
       "      <td>English</td>\n",
       "      <td>290635</td>\n",
       "      <td>['In', 'the', 'future', 'a', 'computer', 'prog...</td>\n",
       "      <td>@3547424 In the future , a computer program ca...</td>\n",
       "      <td>35320</td>\n",
       "      <td>['future', 'computer', 'program', 'called', 's...</td>\n",
       "      <td>([future, computer, program, called, skynet, d...</td>\n",
       "      <td>([future, computer, program, called, skynet, d...</td>\n",
       "    </tr>\n",
       "    <tr>\n",
       "      <th>1</th>\n",
       "      <td>1</td>\n",
       "      <td>3660608</td>\n",
       "      <td>Abraham Lincoln</td>\n",
       "      <td>Biography, Drama, History</td>\n",
       "      <td>1930</td>\n",
       "      <td>English</td>\n",
       "      <td>20620</td>\n",
       "      <td>['Tom', 'Lincoln', 'It', \"'s\", 'a', 'comin', '...</td>\n",
       "      <td>@3660608 Tom Lincoln ! It's a comin ' - Boy or...</td>\n",
       "      <td>49770</td>\n",
       "      <td>['tom', 'lincoln', 'comin', 'boy', 'gal', 't',...</td>\n",
       "      <td>([tom, lincoln, comin, boy, gal, t, ai, nt, fu...</td>\n",
       "      <td>([tom, lincoln, comin, boy, gal, t, ai, nt, fu...</td>\n",
       "    </tr>\n",
       "    <tr>\n",
       "      <th>2</th>\n",
       "      <td>2</td>\n",
       "      <td>60053</td>\n",
       "      <td>All Quiet on the Western Front</td>\n",
       "      <td>Drama, War</td>\n",
       "      <td>1930</td>\n",
       "      <td>English, French, German, Latin</td>\n",
       "      <td>20629</td>\n",
       "      <td>['Thirty', 'thousand', 'From', 'the', 'Russian...</td>\n",
       "      <td>@60053 - Thirty thousand . - From the Russians...</td>\n",
       "      <td>69596</td>\n",
       "      <td>['russians', 'french', 'russians', 'capture', ...</td>\n",
       "      <td>([russians, french, russians, capture, day, mr...</td>\n",
       "      <td>([russians, french, russians, capture, day, mr...</td>\n",
       "    </tr>\n",
       "    <tr>\n",
       "      <th>3</th>\n",
       "      <td>3</td>\n",
       "      <td>3435788</td>\n",
       "      <td>Born Reckless</td>\n",
       "      <td>Crime, Drama, Film-Noir</td>\n",
       "      <td>1930</td>\n",
       "      <td>English, Italian, French</td>\n",
       "      <td>20702</td>\n",
       "      <td>['Louis', 'Louis', 'Beretti', 'Shh', 'Put', 't...</td>\n",
       "      <td>@3435788 Louis ? Louis ? - Beretti ? - Shh ! P...</td>\n",
       "      <td>49565</td>\n",
       "      <td>['louis', 'louis', 'beretti', 'shh', 'sap', 'k...</td>\n",
       "      <td>([louis, louis, beretti, shh, sap, know, bette...</td>\n",
       "      <td>([louis, louis, beretti, shh, sap, know, bette...</td>\n",
       "    </tr>\n",
       "    <tr>\n",
       "      <th>4</th>\n",
       "      <td>4</td>\n",
       "      <td>6922578</td>\n",
       "      <td>King of Jazz</td>\n",
       "      <td>Animation, Music</td>\n",
       "      <td>1930</td>\n",
       "      <td>English</td>\n",
       "      <td>21025</td>\n",
       "      <td>['Music', 'hath', 'charms', 'that', 'nothing',...</td>\n",
       "      <td>@6922578 Music hath charms that nothing else h...</td>\n",
       "      <td>33966</td>\n",
       "      <td>['music', 'hath', 'charms', 'music', 'hath', '...</td>\n",
       "      <td>([music, hath, charms, music, hath, charms, cl...</td>\n",
       "      <td>([music, hath, charms, music, hath, charms, cl...</td>\n",
       "    </tr>\n",
       "  </tbody>\n",
       "</table>\n",
       "</div>"
      ],
      "text/plain": [
       "   Unnamed: 0  Unnamed: 0.1                      Movie Name  \\\n",
       "0           0       3547424             Goodbye to All That   \n",
       "1           1       3660608                 Abraham Lincoln   \n",
       "2           2         60053  All Quiet on the Western Front   \n",
       "3           3       3435788                   Born Reckless   \n",
       "4           4       6922578                    King of Jazz   \n",
       "\n",
       "                       Genre  Year                         Country    IMDb  \\\n",
       "0             Short, Musical  1930                         English  290635   \n",
       "1  Biography, Drama, History  1930                         English   20620   \n",
       "2                 Drama, War  1930  English, French, German, Latin   20629   \n",
       "3    Crime, Drama, Film-Noir  1930        English, Italian, French   20702   \n",
       "4           Animation, Music  1930                         English   21025   \n",
       "\n",
       "                                           Tokenized  \\\n",
       "0  ['In', 'the', 'future', 'a', 'computer', 'prog...   \n",
       "1  ['Tom', 'Lincoln', 'It', \"'s\", 'a', 'comin', '...   \n",
       "2  ['Thirty', 'thousand', 'From', 'the', 'Russian...   \n",
       "3  ['Louis', 'Louis', 'Beretti', 'Shh', 'Put', 't...   \n",
       "4  ['Music', 'hath', 'charms', 'that', 'nothing',...   \n",
       "\n",
       "                                                Text  word_count  \\\n",
       "0  @3547424 In the future , a computer program ca...       35320   \n",
       "1  @3660608 Tom Lincoln ! It's a comin ' - Boy or...       49770   \n",
       "2  @60053 - Thirty thousand . - From the Russians...       69596   \n",
       "3  @3435788 Louis ? Louis ? - Beretti ? - Shh ! P...       49565   \n",
       "4  @6922578 Music hath charms that nothing else h...       33966   \n",
       "\n",
       "                                   normalized_tokens  \\\n",
       "0  ['future', 'computer', 'program', 'called', 's...   \n",
       "1  ['tom', 'lincoln', 'comin', 'boy', 'gal', 't',...   \n",
       "2  ['russians', 'french', 'russians', 'capture', ...   \n",
       "3  ['louis', 'louis', 'beretti', 'shh', 'sap', 'k...   \n",
       "4  ['music', 'hath', 'charms', 'music', 'hath', '...   \n",
       "\n",
       "                                       Tagged_Female  \\\n",
       "0  ([future, computer, program, called, skynet, d...   \n",
       "1  ([tom, lincoln, comin, boy, gal, t, ai, nt, fu...   \n",
       "2  ([russians, french, russians, capture, day, mr...   \n",
       "3  ([louis, louis, beretti, shh, sap, know, bette...   \n",
       "4  ([music, hath, charms, music, hath, charms, cl...   \n",
       "\n",
       "                                         Tagged_Male  \n",
       "0  ([future, computer, program, called, skynet, d...  \n",
       "1  ([tom, lincoln, comin, boy, gal, t, ai, nt, fu...  \n",
       "2  ([russians, french, russians, capture, day, mr...  \n",
       "3  ([louis, louis, beretti, shh, sap, know, bette...  \n",
       "4  ([music, hath, charms, music, hath, charms, cl...  "
      ]
     },
     "execution_count": 288,
     "metadata": {},
     "output_type": "execute_result"
    }
   ],
   "source": [
    "movdf_norm.head()"
   ]
  },
  {
   "cell_type": "code",
   "execution_count": 295,
   "metadata": {},
   "outputs": [],
   "source": [
    "is_1960s =  movdf_norm['Year'].isin([\"1960\", \"1961\",\"1962\", \"1963\", \"1964\", \"1965\", \"1966\", \"1967\", \"1968\", \"1969\"])\n",
    "only_1960s = movdf_norm[is_1960s]"
   ]
  },
  {
   "cell_type": "code",
   "execution_count": 294,
   "metadata": {},
   "outputs": [],
   "source": [
    "is_1970s =  movdf_norm['Year'].isin([\"1970\", \"1971\",\"1972\", \"1973\", \"1974\", \"1975\", \"1976\", \"1977\", \"1978\", \"1979\"])\n",
    "only_1970s = movdf_norm[is_1970s]"
   ]
  },
  {
   "cell_type": "code",
   "execution_count": 293,
   "metadata": {},
   "outputs": [],
   "source": [
    "is_1980s =  movdf_norm['Year'].isin([\"1980\", \"1981\",\"1982\", \"1983\", \"1984\", \"1985\", \"1986\", \"1987\", \"1988\", \"1989\"])\n",
    "only_1980s = movdf_norm[is_1980s]"
   ]
  },
  {
   "cell_type": "code",
   "execution_count": 292,
   "metadata": {},
   "outputs": [],
   "source": [
    "is_1990s =  movdf_norm['Year'].isin([\"1990\", \"1991\",\"1992\", \"1993\", \"1994\", \"1995\", \"1996\", \"1997\", \"1998\", \"1999\"])\n",
    "only_1990s = movdf_norm[is_1990s]"
   ]
  },
  {
   "cell_type": "code",
   "execution_count": 291,
   "metadata": {},
   "outputs": [],
   "source": [
    "is_2000s =  movdf_norm['Year'].isin([\"2000\", \"2001\",\"2002\", \"2003\", \"2004\", \"2005\", \"2006\", \"2007\", \"2008\", \"2009\"])\n",
    "only_2000s = movdf_norm[is_2000s]"
   ]
  },
  {
   "cell_type": "code",
   "execution_count": 238,
   "metadata": {},
   "outputs": [],
   "source": [
    "is_2010s =  movdf_norm['Year'].isin([\"2010\", \"2011\",\"2012\", \"2013\", \"2014\", \"2015\", \"2016\", \"2017\", \"2018\", \"2019\"])\n",
    "only_2010s = movdf_norm[is_2010s]"
   ]
  },
  {
   "cell_type": "code",
   "execution_count": 356,
   "metadata": {
    "scrolled": true
   },
   "outputs": [
    {
     "name": "stdout",
     "output_type": "stream",
     "text": [
      "[nltk_data] Downloading package punkt to\n",
      "[nltk_data]     C:\\Users\\iarak\\AppData\\Roaming\\nltk_data...\n",
      "[nltk_data]   Package punkt is already up-to-date!\n",
      "[nltk_data] Downloading package averaged_perceptron_tagger to\n",
      "[nltk_data]     C:\\Users\\iarak\\AppData\\Roaming\\nltk_data...\n",
      "[nltk_data]   Package averaged_perceptron_tagger is already up-to-\n",
      "[nltk_data]       date!\n"
     ]
    },
    {
     "data": {
      "text/plain": [
       "True"
      ]
     },
     "execution_count": 356,
     "metadata": {},
     "output_type": "execute_result"
    }
   ],
   "source": [
    "import nltk\n",
    "nltk.download('punkt')\n",
    "from nltk.tokenize import word_tokenize\n",
    "from nltk.corpus import stopwords\n",
    "from nltk.stem.wordnet import WordNetLemmatizer\n",
    "from nltk.stem.porter import PorterStemmer\n",
    "from nltk import tokenize\n",
    "nltk.download('averaged_perceptron_tagger')"
   ]
  },
  {
   "cell_type": "code",
   "execution_count": 106,
   "metadata": {},
   "outputs": [
    {
     "data": {
      "text/html": [
       "<div>\n",
       "<style scoped>\n",
       "    .dataframe tbody tr th:only-of-type {\n",
       "        vertical-align: middle;\n",
       "    }\n",
       "\n",
       "    .dataframe tbody tr th {\n",
       "        vertical-align: top;\n",
       "    }\n",
       "\n",
       "    .dataframe thead th {\n",
       "        text-align: right;\n",
       "    }\n",
       "</style>\n",
       "<table border=\"1\" class=\"dataframe\">\n",
       "  <thead>\n",
       "    <tr style=\"text-align: right;\">\n",
       "      <th></th>\n",
       "      <th>Unnamed: 0</th>\n",
       "      <th>Movie Name</th>\n",
       "      <th>Genre</th>\n",
       "      <th>Year</th>\n",
       "      <th>Country</th>\n",
       "      <th>IMDb</th>\n",
       "      <th>Tokenized</th>\n",
       "      <th>Text</th>\n",
       "      <th>word_count</th>\n",
       "    </tr>\n",
       "  </thead>\n",
       "  <tbody>\n",
       "    <tr>\n",
       "      <th>669</th>\n",
       "      <td>217801</td>\n",
       "      <td>Teamwork: Past and Present</td>\n",
       "      <td>Animation, Short</td>\n",
       "      <td>1950</td>\n",
       "      <td>English</td>\n",
       "      <td>242025</td>\n",
       "      <td>['Cinema', 'Service', 'In', 'Cooperation', 'wi...</td>\n",
       "      <td>@217801 Cinema Service In Cooperation with Inf...</td>\n",
       "      <td>60919</td>\n",
       "    </tr>\n",
       "    <tr>\n",
       "      <th>670</th>\n",
       "      <td>5128801</td>\n",
       "      <td>Fugitive Lady</td>\n",
       "      <td>Crime, Drama</td>\n",
       "      <td>1950</td>\n",
       "      <td>English</td>\n",
       "      <td>41925</td>\n",
       "      <td>['Is', 'it', 'your', 'husband', 'Spare', 'your...</td>\n",
       "      <td>@5128801 Is it your husband ? Spare yourself t...</td>\n",
       "      <td>52783</td>\n",
       "    </tr>\n",
       "    <tr>\n",
       "      <th>671</th>\n",
       "      <td>5221380</td>\n",
       "      <td>Gone to Earth</td>\n",
       "      <td>Drama, Romance</td>\n",
       "      <td>1950</td>\n",
       "      <td>English</td>\n",
       "      <td>42513</td>\n",
       "      <td>['Gone', 'to', 'earth', 'Foxy', 'They', \"'re\",...</td>\n",
       "      <td>@5221380 Gone to earth ! Foxy ? They're out to...</td>\n",
       "      <td>40611</td>\n",
       "    </tr>\n",
       "    <tr>\n",
       "      <th>672</th>\n",
       "      <td>3614423</td>\n",
       "      <td>Madeleine</td>\n",
       "      <td>Crime, Drama</td>\n",
       "      <td>1950</td>\n",
       "      <td>English</td>\n",
       "      <td>42700</td>\n",
       "      <td>['NARRATOR', 'In', 'this', 'great', 'city', 'o...</td>\n",
       "      <td>@3614423 NARRATOR : In this great city of Glas...</td>\n",
       "      <td>77463</td>\n",
       "    </tr>\n",
       "    <tr>\n",
       "      <th>673</th>\n",
       "      <td>6977128</td>\n",
       "      <td>The Astonished Heart</td>\n",
       "      <td>Drama, Romance</td>\n",
       "      <td>1950</td>\n",
       "      <td>English</td>\n",
       "      <td>41134</td>\n",
       "      <td>['The', 'Astonished', 'Heart', 'Subtitles', 'b...</td>\n",
       "      <td>@6977128 The Astonished Heart Subtitles by Seg...</td>\n",
       "      <td>81802</td>\n",
       "    </tr>\n",
       "    <tr>\n",
       "      <th>...</th>\n",
       "      <td>...</td>\n",
       "      <td>...</td>\n",
       "      <td>...</td>\n",
       "      <td>...</td>\n",
       "      <td>...</td>\n",
       "      <td>...</td>\n",
       "      <td>...</td>\n",
       "      <td>...</td>\n",
       "      <td>...</td>\n",
       "    </tr>\n",
       "    <tr>\n",
       "      <th>1122</th>\n",
       "      <td>3150118</td>\n",
       "      <td>The Horse Soldiers</td>\n",
       "      <td>Adventure, Romance, War</td>\n",
       "      <td>1959</td>\n",
       "      <td>English</td>\n",
       "      <td>52902</td>\n",
       "      <td>['I', 'left', 'my', 'love', 'my', 'love', 'I',...</td>\n",
       "      <td>@3150118 I left my love , my love I left A-sle...</td>\n",
       "      <td>69778</td>\n",
       "    </tr>\n",
       "    <tr>\n",
       "      <th>1123</th>\n",
       "      <td>6667519</td>\n",
       "      <td>The Immoral Mr. Teas</td>\n",
       "      <td>Comedy</td>\n",
       "      <td>1959</td>\n",
       "      <td>English</td>\n",
       "      <td>52920</td>\n",
       "      <td>['For', 'years', 'man', 'has', 'retreated', 'b...</td>\n",
       "      <td>@6667519 For years man has retreated back to n...</td>\n",
       "      <td>9647</td>\n",
       "    </tr>\n",
       "    <tr>\n",
       "      <th>1124</th>\n",
       "      <td>6898426</td>\n",
       "      <td>The Naked Venus</td>\n",
       "      <td>Drama</td>\n",
       "      <td>1959</td>\n",
       "      <td>English</td>\n",
       "      <td>144415</td>\n",
       "      <td>['No', 'we', 'must', 'get', 'closer', 'Now', '...</td>\n",
       "      <td>@6898426 No , we must get closer . Now , that'...</td>\n",
       "      <td>62365</td>\n",
       "    </tr>\n",
       "    <tr>\n",
       "      <th>1125</th>\n",
       "      <td>4772801</td>\n",
       "      <td>The Nun's Story</td>\n",
       "      <td>Drama</td>\n",
       "      <td>1959</td>\n",
       "      <td>English</td>\n",
       "      <td>53131</td>\n",
       "      <td>['He', 'that', 'shall', 'lose', 'his', 'life',...</td>\n",
       "      <td>@4772801 \" He that shall lose his life for me ...</td>\n",
       "      <td>72824</td>\n",
       "    </tr>\n",
       "    <tr>\n",
       "      <th>1126</th>\n",
       "      <td>3140475</td>\n",
       "      <td>Warlock</td>\n",
       "      <td>Western</td>\n",
       "      <td>1959</td>\n",
       "      <td>English</td>\n",
       "      <td>53434</td>\n",
       "      <td>['Get', 'off', 'the', 'streets', 'They', \"'re\"...</td>\n",
       "      <td>@3140475 Get off the streets ! They're coming ...</td>\n",
       "      <td>70664</td>\n",
       "    </tr>\n",
       "  </tbody>\n",
       "</table>\n",
       "<p>458 rows × 9 columns</p>\n",
       "</div>"
      ],
      "text/plain": [
       "      Unnamed: 0                  Movie Name                    Genre  Year  \\\n",
       "669       217801  Teamwork: Past and Present         Animation, Short  1950   \n",
       "670      5128801               Fugitive Lady             Crime, Drama  1950   \n",
       "671      5221380               Gone to Earth           Drama, Romance  1950   \n",
       "672      3614423                   Madeleine             Crime, Drama  1950   \n",
       "673      6977128        The Astonished Heart           Drama, Romance  1950   \n",
       "...          ...                         ...                      ...   ...   \n",
       "1122     3150118          The Horse Soldiers  Adventure, Romance, War  1959   \n",
       "1123     6667519        The Immoral Mr. Teas                   Comedy  1959   \n",
       "1124     6898426             The Naked Venus                    Drama  1959   \n",
       "1125     4772801             The Nun's Story                    Drama  1959   \n",
       "1126     3140475                     Warlock                  Western  1959   \n",
       "\n",
       "      Country    IMDb                                          Tokenized  \\\n",
       "669   English  242025  ['Cinema', 'Service', 'In', 'Cooperation', 'wi...   \n",
       "670   English   41925  ['Is', 'it', 'your', 'husband', 'Spare', 'your...   \n",
       "671   English   42513  ['Gone', 'to', 'earth', 'Foxy', 'They', \"'re\",...   \n",
       "672   English   42700  ['NARRATOR', 'In', 'this', 'great', 'city', 'o...   \n",
       "673   English   41134  ['The', 'Astonished', 'Heart', 'Subtitles', 'b...   \n",
       "...       ...     ...                                                ...   \n",
       "1122  English   52902  ['I', 'left', 'my', 'love', 'my', 'love', 'I',...   \n",
       "1123  English   52920  ['For', 'years', 'man', 'has', 'retreated', 'b...   \n",
       "1124  English  144415  ['No', 'we', 'must', 'get', 'closer', 'Now', '...   \n",
       "1125  English   53131  ['He', 'that', 'shall', 'lose', 'his', 'life',...   \n",
       "1126  English   53434  ['Get', 'off', 'the', 'streets', 'They', \"'re\"...   \n",
       "\n",
       "                                                   Text  word_count  \n",
       "669   @217801 Cinema Service In Cooperation with Inf...       60919  \n",
       "670   @5128801 Is it your husband ? Spare yourself t...       52783  \n",
       "671   @5221380 Gone to earth ! Foxy ? They're out to...       40611  \n",
       "672   @3614423 NARRATOR : In this great city of Glas...       77463  \n",
       "673   @6977128 The Astonished Heart Subtitles by Seg...       81802  \n",
       "...                                                 ...         ...  \n",
       "1122  @3150118 I left my love , my love I left A-sle...       69778  \n",
       "1123  @6667519 For years man has retreated back to n...        9647  \n",
       "1124  @6898426 No , we must get closer . Now , that'...       62365  \n",
       "1125  @4772801 \" He that shall lose his life for me ...       72824  \n",
       "1126  @3140475 Get off the streets ! They're coming ...       70664  \n",
       "\n",
       "[458 rows x 9 columns]"
      ]
     },
     "execution_count": 106,
     "metadata": {},
     "output_type": "execute_result"
    }
   ],
   "source": [
    "only_1950s"
   ]
  },
  {
   "cell_type": "code",
   "execution_count": 107,
   "metadata": {},
   "outputs": [
    {
     "data": {
      "text/html": [
       "<div>\n",
       "<style scoped>\n",
       "    .dataframe tbody tr th:only-of-type {\n",
       "        vertical-align: middle;\n",
       "    }\n",
       "\n",
       "    .dataframe tbody tr th {\n",
       "        vertical-align: top;\n",
       "    }\n",
       "\n",
       "    .dataframe thead th {\n",
       "        text-align: right;\n",
       "    }\n",
       "</style>\n",
       "<table border=\"1\" class=\"dataframe\">\n",
       "  <thead>\n",
       "    <tr style=\"text-align: right;\">\n",
       "      <th></th>\n",
       "      <th>Unnamed: 0</th>\n",
       "      <th>Movie Name</th>\n",
       "      <th>Genre</th>\n",
       "      <th>Year</th>\n",
       "      <th>Country</th>\n",
       "      <th>IMDb</th>\n",
       "      <th>Tokenized</th>\n",
       "      <th>Text</th>\n",
       "      <th>word_count</th>\n",
       "    </tr>\n",
       "  </thead>\n",
       "  <tbody>\n",
       "    <tr>\n",
       "      <th>4054</th>\n",
       "      <td>3546996</td>\n",
       "      <td>Dogwoman: Dead Dog Walking</td>\n",
       "      <td>Comedy, Mystery</td>\n",
       "      <td>2000</td>\n",
       "      <td>English</td>\n",
       "      <td>242414</td>\n",
       "      <td>['Hey', 'mister', 'Get', 'over', 'here', 'Hey'...</td>\n",
       "      <td>@3546996 Hey , mister . Get over here . Hey ! ...</td>\n",
       "      <td>32350</td>\n",
       "    </tr>\n",
       "    <tr>\n",
       "      <th>4055</th>\n",
       "      <td>6250993</td>\n",
       "      <td>Looking for Alibrandi</td>\n",
       "      <td>Comedy, Drama, Romance</td>\n",
       "      <td>2000</td>\n",
       "      <td>English, Italian</td>\n",
       "      <td>217629</td>\n",
       "      <td>['Josie', 'Put', 'the', 'music', 'back', 'on',...</td>\n",
       "      <td>@6250993 Josie ! Put the music back on , we ha...</td>\n",
       "      <td>8152</td>\n",
       "    </tr>\n",
       "    <tr>\n",
       "      <th>4056</th>\n",
       "      <td>6704233</td>\n",
       "      <td>Mr. Accident</td>\n",
       "      <td>Comedy</td>\n",
       "      <td>2000</td>\n",
       "      <td>English</td>\n",
       "      <td>156807</td>\n",
       "      <td>['Dinner', \"'s\", 'ready', 'kids', 'Oh', 'boy',...</td>\n",
       "      <td>@6704233 Dinner's ready , kids . Oh , boy ! Eg...</td>\n",
       "      <td>49081</td>\n",
       "    </tr>\n",
       "    <tr>\n",
       "      <th>4057</th>\n",
       "      <td>6270680</td>\n",
       "      <td>The Wog Boy</td>\n",
       "      <td>Comedy</td>\n",
       "      <td>2000</td>\n",
       "      <td>English</td>\n",
       "      <td>216417</td>\n",
       "      <td>['WOG', 'BritishEnglish', 'snakeoffensive', 'w...</td>\n",
       "      <td>@6270680 WOG ( BritishEnglish ; snakeoffensive...</td>\n",
       "      <td>45384</td>\n",
       "    </tr>\n",
       "    <tr>\n",
       "      <th>4058</th>\n",
       "      <td>49408</td>\n",
       "      <td>Better Than Sex</td>\n",
       "      <td>Comedy, Drama, Romance</td>\n",
       "      <td>2000</td>\n",
       "      <td>English</td>\n",
       "      <td>236019</td>\n",
       "      <td>['A', 'country', 'mesmerized', 'by', 'Japanese...</td>\n",
       "      <td>@49408 A country mesmerized by Japanese cultur...</td>\n",
       "      <td>38660</td>\n",
       "    </tr>\n",
       "    <tr>\n",
       "      <th>...</th>\n",
       "      <td>...</td>\n",
       "      <td>...</td>\n",
       "      <td>...</td>\n",
       "      <td>...</td>\n",
       "      <td>...</td>\n",
       "      <td>...</td>\n",
       "      <td>...</td>\n",
       "      <td>...</td>\n",
       "      <td>...</td>\n",
       "    </tr>\n",
       "    <tr>\n",
       "      <th>6672</th>\n",
       "      <td>3526695</td>\n",
       "      <td>Knowing</td>\n",
       "      <td>Drama, Mystery, Sci-Fi, Thriller</td>\n",
       "      <td>2009</td>\n",
       "      <td>English</td>\n",
       "      <td>448011</td>\n",
       "      <td>['Everyone', 'inside', 'now', 'Lucinda', 'we',...</td>\n",
       "      <td>@3526695 Everyone inside now ! Lucinda , we're...</td>\n",
       "      <td>54794</td>\n",
       "    </tr>\n",
       "    <tr>\n",
       "      <th>6673</th>\n",
       "      <td>3551145</td>\n",
       "      <td>State of Play</td>\n",
       "      <td>Crime, Drama, Mystery</td>\n",
       "      <td>2009</td>\n",
       "      <td>English, Cantonese</td>\n",
       "      <td>473705</td>\n",
       "      <td>['CHATTERING', 'EXCLAIMING', '@horns_honking',...</td>\n",
       "      <td>@3551145 ( CHATTERING ) ( EXCLAIMING ) ( @horn...</td>\n",
       "      <td>100738</td>\n",
       "    </tr>\n",
       "    <tr>\n",
       "      <th>6674</th>\n",
       "      <td>3765934</td>\n",
       "      <td>Helen</td>\n",
       "      <td>Drama</td>\n",
       "      <td>2009</td>\n",
       "      <td>English</td>\n",
       "      <td>1012729</td>\n",
       "      <td>['Birds_squawking', '@waves_crashing', 'Piano_...</td>\n",
       "      <td>@3765934 [Birds_squawking] , @waves_crashing [...</td>\n",
       "      <td>41300</td>\n",
       "    </tr>\n",
       "    <tr>\n",
       "      <th>6675</th>\n",
       "      <td>3640889</td>\n",
       "      <td>The Lovely Bones</td>\n",
       "      <td>Drama, Fantasy, Thriller</td>\n",
       "      <td>2009</td>\n",
       "      <td>English</td>\n",
       "      <td>380510</td>\n",
       "      <td>['I', 'remember', 'being', 'really', 'small', ...</td>\n",
       "      <td>@3640889 I remember being really small too sma...</td>\n",
       "      <td>45928</td>\n",
       "    </tr>\n",
       "    <tr>\n",
       "      <th>6676</th>\n",
       "      <td>3590190</td>\n",
       "      <td>Shorts</td>\n",
       "      <td>Comedy, Family, Fantasy</td>\n",
       "      <td>2009</td>\n",
       "      <td>English</td>\n",
       "      <td>1100119</td>\n",
       "      <td>['I', 'know', 'Let', \"'s\", 'play', 'Who', 'Bli...</td>\n",
       "      <td>@3590190 I know . Let's play Who Blinks First ...</td>\n",
       "      <td>58929</td>\n",
       "    </tr>\n",
       "  </tbody>\n",
       "</table>\n",
       "<p>2623 rows × 9 columns</p>\n",
       "</div>"
      ],
      "text/plain": [
       "      Unnamed: 0                  Movie Name  \\\n",
       "4054     3546996  Dogwoman: Dead Dog Walking   \n",
       "4055     6250993       Looking for Alibrandi   \n",
       "4056     6704233                Mr. Accident   \n",
       "4057     6270680                 The Wog Boy   \n",
       "4058       49408             Better Than Sex   \n",
       "...          ...                         ...   \n",
       "6672     3526695                     Knowing   \n",
       "6673     3551145               State of Play   \n",
       "6674     3765934                       Helen   \n",
       "6675     3640889            The Lovely Bones   \n",
       "6676     3590190                      Shorts   \n",
       "\n",
       "                                 Genre  Year             Country     IMDb  \\\n",
       "4054                   Comedy, Mystery  2000             English   242414   \n",
       "4055            Comedy, Drama, Romance  2000    English, Italian   217629   \n",
       "4056                            Comedy  2000             English   156807   \n",
       "4057                            Comedy  2000             English   216417   \n",
       "4058            Comedy, Drama, Romance  2000             English   236019   \n",
       "...                                ...   ...                 ...      ...   \n",
       "6672  Drama, Mystery, Sci-Fi, Thriller  2009             English   448011   \n",
       "6673             Crime, Drama, Mystery  2009  English, Cantonese   473705   \n",
       "6674                             Drama  2009             English  1012729   \n",
       "6675          Drama, Fantasy, Thriller  2009             English   380510   \n",
       "6676           Comedy, Family, Fantasy  2009             English  1100119   \n",
       "\n",
       "                                              Tokenized  \\\n",
       "4054  ['Hey', 'mister', 'Get', 'over', 'here', 'Hey'...   \n",
       "4055  ['Josie', 'Put', 'the', 'music', 'back', 'on',...   \n",
       "4056  ['Dinner', \"'s\", 'ready', 'kids', 'Oh', 'boy',...   \n",
       "4057  ['WOG', 'BritishEnglish', 'snakeoffensive', 'w...   \n",
       "4058  ['A', 'country', 'mesmerized', 'by', 'Japanese...   \n",
       "...                                                 ...   \n",
       "6672  ['Everyone', 'inside', 'now', 'Lucinda', 'we',...   \n",
       "6673  ['CHATTERING', 'EXCLAIMING', '@horns_honking',...   \n",
       "6674  ['Birds_squawking', '@waves_crashing', 'Piano_...   \n",
       "6675  ['I', 'remember', 'being', 'really', 'small', ...   \n",
       "6676  ['I', 'know', 'Let', \"'s\", 'play', 'Who', 'Bli...   \n",
       "\n",
       "                                                   Text  word_count  \n",
       "4054  @3546996 Hey , mister . Get over here . Hey ! ...       32350  \n",
       "4055  @6250993 Josie ! Put the music back on , we ha...        8152  \n",
       "4056  @6704233 Dinner's ready , kids . Oh , boy ! Eg...       49081  \n",
       "4057  @6270680 WOG ( BritishEnglish ; snakeoffensive...       45384  \n",
       "4058  @49408 A country mesmerized by Japanese cultur...       38660  \n",
       "...                                                 ...         ...  \n",
       "6672  @3526695 Everyone inside now ! Lucinda , we're...       54794  \n",
       "6673  @3551145 ( CHATTERING ) ( EXCLAIMING ) ( @horn...      100738  \n",
       "6674  @3765934 [Birds_squawking] , @waves_crashing [...       41300  \n",
       "6675  @3640889 I remember being really small too sma...       45928  \n",
       "6676  @3590190 I know . Let's play Who Blinks First ...       58929  \n",
       "\n",
       "[2623 rows x 9 columns]"
      ]
     },
     "execution_count": 107,
     "metadata": {},
     "output_type": "execute_result"
    }
   ],
   "source": [
    "only_2000s"
   ]
  },
  {
   "cell_type": "code",
   "execution_count": null,
   "metadata": {},
   "outputs": [],
   "source": []
  },
  {
   "cell_type": "code",
   "execution_count": 87,
   "metadata": {},
   "outputs": [
    {
     "name": "stderr",
     "output_type": "stream",
     "text": [
      "C:\\Users\\iarak\\Anaconda3\\Anaconda\\lib\\site-packages\\ipykernel_launcher.py:1: SettingWithCopyWarning: \n",
      "A value is trying to be set on a copy of a slice from a DataFrame.\n",
      "Try using .loc[row_indexer,col_indexer] = value instead\n",
      "\n",
      "See the caveats in the documentation: https://pandas.pydata.org/pandas-docs/stable/user_guide/indexing.html#returning-a-view-versus-a-copy\n",
      "  \"\"\"Entry point for launching an IPython kernel.\n"
     ]
    }
   ],
   "source": [
    "only_1950s['normalized_tokens_POS'] = [nltk.pos_tag(t) for t in only_1950s['Tokenized']]\n",
    "reviewcfdist_WordtoPOS_50s = nltk.ConditionalFreqDist(only_1950s['normalized_tokens_POS'].sum())\n",
    "reviewcfdist_POStoWord_50s = nltk.ConditionalFreqDist((p, w) for w, p in only_1950s['normalized_tokens_POS'].sum())"
   ]
  },
  {
   "cell_type": "code",
   "execution_count": 88,
   "metadata": {},
   "outputs": [
    {
     "data": {
      "text/html": [
       "<div>\n",
       "<style scoped>\n",
       "    .dataframe tbody tr th:only-of-type {\n",
       "        vertical-align: middle;\n",
       "    }\n",
       "\n",
       "    .dataframe tbody tr th {\n",
       "        vertical-align: top;\n",
       "    }\n",
       "\n",
       "    .dataframe thead th {\n",
       "        text-align: right;\n",
       "    }\n",
       "</style>\n",
       "<table border=\"1\" class=\"dataframe\">\n",
       "  <thead>\n",
       "    <tr style=\"text-align: right;\">\n",
       "      <th></th>\n",
       "      <th>Unnamed: 0</th>\n",
       "      <th>Movie Name</th>\n",
       "      <th>Genre</th>\n",
       "      <th>Year</th>\n",
       "      <th>Country</th>\n",
       "      <th>IMDb</th>\n",
       "      <th>Tokenized</th>\n",
       "      <th>normalized_words</th>\n",
       "      <th>Text</th>\n",
       "      <th>word_count</th>\n",
       "      <th>normalized_tokens_POS</th>\n",
       "    </tr>\n",
       "  </thead>\n",
       "  <tbody>\n",
       "    <tr>\n",
       "      <th>97</th>\n",
       "      <td>3614423</td>\n",
       "      <td>Madeleine</td>\n",
       "      <td>Crime, Drama</td>\n",
       "      <td>1950</td>\n",
       "      <td>English</td>\n",
       "      <td>42700</td>\n",
       "      <td>['NARRATOR', 'In', 'this', 'great', 'city', 'o...</td>\n",
       "      <td>['narrator', 'great', 'city', 'glasgow', 'squa...</td>\n",
       "      <td>@3614423 NARRATOR : In this great city of Glas...</td>\n",
       "      <td>77463</td>\n",
       "      <td>[([, NN), (', ''), (N, NNP), (A, NNP), (R, NNP...</td>\n",
       "    </tr>\n",
       "    <tr>\n",
       "      <th>98</th>\n",
       "      <td>5985738</td>\n",
       "      <td>Annie Get Your Gun</td>\n",
       "      <td>Biography, Comedy, Musical</td>\n",
       "      <td>1950</td>\n",
       "      <td>English</td>\n",
       "      <td>42200</td>\n",
       "      <td>['Who', \"'s\", 'got', 'the', 'stuff', 'that', '...</td>\n",
       "      <td>['got', 'stuff', 'wild', 'west', 'wild', 'plea...</td>\n",
       "      <td>@5985738 \" Who's got the stuff that made the W...</td>\n",
       "      <td>80813</td>\n",
       "      <td>[([, NN), (', ''), (W, NNP), (h, NN), (o, NN),...</td>\n",
       "    </tr>\n",
       "    <tr>\n",
       "      <th>99</th>\n",
       "      <td>3380824</td>\n",
       "      <td>Under My Skin</td>\n",
       "      <td>Drama, Sport, Thriller</td>\n",
       "      <td>1950</td>\n",
       "      <td>English, Italian, French</td>\n",
       "      <td>42005</td>\n",
       "      <td>['Bell_Tolling_In_Distance', 'Tolling_Continue...</td>\n",
       "      <td>['bell_tolling_in_distance', 'tolling_continue...</td>\n",
       "      <td>@3380824 [Bell_Tolling_In_Distance] [Tolling_C...</td>\n",
       "      <td>58938</td>\n",
       "      <td>[([, NN), (', ''), (B, NNP), (e, NN), (l, NN),...</td>\n",
       "    </tr>\n",
       "    <tr>\n",
       "      <th>100</th>\n",
       "      <td>6406396</td>\n",
       "      <td>Outcast of the Islands</td>\n",
       "      <td>Drama, Adventure</td>\n",
       "      <td>1951</td>\n",
       "      <td>English</td>\n",
       "      <td>45002</td>\n",
       "      <td>['INDISTINCTWHISPERING', '@man_screams', 'MACH...</td>\n",
       "      <td>['indistinctwhispering', '@man_screams', 'mach...</td>\n",
       "      <td>@6406396 ( INDISTINCTWHISPERING ) - ( @man_scr...</td>\n",
       "      <td>77040</td>\n",
       "      <td>[([, NN), (', ''), (I, PRP), (N, NNP), (D, NNP...</td>\n",
       "    </tr>\n",
       "    <tr>\n",
       "      <th>101</th>\n",
       "      <td>6169646</td>\n",
       "      <td>The Tales of Hoffmann</td>\n",
       "      <td>Fantasy, Music, Musical</td>\n",
       "      <td>1951</td>\n",
       "      <td>English</td>\n",
       "      <td>44103</td>\n",
       "      <td>['Some', 'drink', 'drink', 'drink', 'drink', '...</td>\n",
       "      <td>['drink', 'drink', 'drink', 'drink', 'drink', ...</td>\n",
       "      <td>@6169646 Some drink , drink , drink , drink , ...</td>\n",
       "      <td>48519</td>\n",
       "      <td>[([, NN), (', ''), (S, NNP), (o, MD), (m, VB),...</td>\n",
       "    </tr>\n",
       "  </tbody>\n",
       "</table>\n",
       "</div>"
      ],
      "text/plain": [
       "     Unnamed: 0              Movie Name                       Genre  Year  \\\n",
       "97      3614423               Madeleine                Crime, Drama  1950   \n",
       "98      5985738      Annie Get Your Gun  Biography, Comedy, Musical  1950   \n",
       "99      3380824           Under My Skin      Drama, Sport, Thriller  1950   \n",
       "100     6406396  Outcast of the Islands            Drama, Adventure  1951   \n",
       "101     6169646   The Tales of Hoffmann     Fantasy, Music, Musical  1951   \n",
       "\n",
       "                      Country   IMDb  \\\n",
       "97                    English  42700   \n",
       "98                    English  42200   \n",
       "99   English, Italian, French  42005   \n",
       "100                   English  45002   \n",
       "101                   English  44103   \n",
       "\n",
       "                                             Tokenized  \\\n",
       "97   ['NARRATOR', 'In', 'this', 'great', 'city', 'o...   \n",
       "98   ['Who', \"'s\", 'got', 'the', 'stuff', 'that', '...   \n",
       "99   ['Bell_Tolling_In_Distance', 'Tolling_Continue...   \n",
       "100  ['INDISTINCTWHISPERING', '@man_screams', 'MACH...   \n",
       "101  ['Some', 'drink', 'drink', 'drink', 'drink', '...   \n",
       "\n",
       "                                      normalized_words  \\\n",
       "97   ['narrator', 'great', 'city', 'glasgow', 'squa...   \n",
       "98   ['got', 'stuff', 'wild', 'west', 'wild', 'plea...   \n",
       "99   ['bell_tolling_in_distance', 'tolling_continue...   \n",
       "100  ['indistinctwhispering', '@man_screams', 'mach...   \n",
       "101  ['drink', 'drink', 'drink', 'drink', 'drink', ...   \n",
       "\n",
       "                                                  Text  word_count  \\\n",
       "97   @3614423 NARRATOR : In this great city of Glas...       77463   \n",
       "98   @5985738 \" Who's got the stuff that made the W...       80813   \n",
       "99   @3380824 [Bell_Tolling_In_Distance] [Tolling_C...       58938   \n",
       "100  @6406396 ( INDISTINCTWHISPERING ) - ( @man_scr...       77040   \n",
       "101  @6169646 Some drink , drink , drink , drink , ...       48519   \n",
       "\n",
       "                                 normalized_tokens_POS  \n",
       "97   [([, NN), (', ''), (N, NNP), (A, NNP), (R, NNP...  \n",
       "98   [([, NN), (', ''), (W, NNP), (h, NN), (o, NN),...  \n",
       "99   [([, NN), (', ''), (B, NNP), (e, NN), (l, NN),...  \n",
       "100  [([, NN), (', ''), (I, PRP), (N, NNP), (D, NNP...  \n",
       "101  [([, NN), (', ''), (S, NNP), (o, MD), (m, VB),...  "
      ]
     },
     "execution_count": 88,
     "metadata": {},
     "output_type": "execute_result"
    }
   ],
   "source": [
    "only_1950s.head()"
   ]
  },
  {
   "cell_type": "code",
   "execution_count": null,
   "metadata": {},
   "outputs": [],
   "source": [
    "only_2000s['normalized_tokens_POS'] = [nltk.pos_tag(t) for t in only_2000s['Tokenized']]\n",
    "reviewcfdist_WordtoPOS_00s = nltk.ConditionalFreqDist(only_2000s['normalized_tokens_POS'].sum())\n",
    "reviewcfdist_POStoWord_00s = nltk.ConditionalFreqDist((p, w) for w, p in only_2000s['normalized_tokens_POS'].sum())"
   ]
  },
  {
   "cell_type": "code",
   "execution_count": 127,
   "metadata": {},
   "outputs": [
    {
     "name": "stderr",
     "output_type": "stream",
     "text": [
      "C:\\Users\\iarak\\Anaconda3\\Anaconda\\lib\\site-packages\\ipykernel_launcher.py:1: SettingWithCopyWarning: \n",
      "A value is trying to be set on a copy of a slice from a DataFrame.\n",
      "Try using .loc[row_indexer,col_indexer] = value instead\n",
      "\n",
      "See the caveats in the documentation: https://pandas.pydata.org/pandas-docs/stable/user_guide/indexing.html#returning-a-view-versus-a-copy\n",
      "  \"\"\"Entry point for launching an IPython kernel.\n"
     ]
    }
   ],
   "source": [
    "only_1930s['normalized_tokens'] = only_1930s['Tokenized'].apply(lambda x: lucem_illud_2020.normalizeTokens(x, lemma=False))"
   ]
  },
  {
   "cell_type": "code",
   "execution_count": 128,
   "metadata": {},
   "outputs": [
    {
     "name": "stderr",
     "output_type": "stream",
     "text": [
      "C:\\Users\\iarak\\Anaconda3\\Anaconda\\lib\\site-packages\\ipykernel_launcher.py:1: SettingWithCopyWarning: \n",
      "A value is trying to be set on a copy of a slice from a DataFrame.\n",
      "Try using .loc[row_indexer,col_indexer] = value instead\n",
      "\n",
      "See the caveats in the documentation: https://pandas.pydata.org/pandas-docs/stable/user_guide/indexing.html#returning-a-view-versus-a-copy\n",
      "  \"\"\"Entry point for launching an IPython kernel.\n"
     ]
    }
   ],
   "source": [
    "only_1940s['normalized_tokens'] = only_1940s['Tokenized'].apply(lambda x: lucem_illud_2020.normalizeTokens(x, lemma=False))"
   ]
  },
  {
   "cell_type": "code",
   "execution_count": 118,
   "metadata": {},
   "outputs": [
    {
     "name": "stderr",
     "output_type": "stream",
     "text": [
      "C:\\Users\\iarak\\Anaconda3\\Anaconda\\lib\\site-packages\\ipykernel_launcher.py:1: SettingWithCopyWarning: \n",
      "A value is trying to be set on a copy of a slice from a DataFrame.\n",
      "Try using .loc[row_indexer,col_indexer] = value instead\n",
      "\n",
      "See the caveats in the documentation: https://pandas.pydata.org/pandas-docs/stable/user_guide/indexing.html#returning-a-view-versus-a-copy\n",
      "  \"\"\"Entry point for launching an IPython kernel.\n"
     ]
    }
   ],
   "source": [
    "only_1950s['normalized_tokens'] = only_1950s['Tokenized'].apply(lambda x: lucem_illud_2020.normalizeTokens(x, lemma=False))"
   ]
  },
  {
   "cell_type": "code",
   "execution_count": 129,
   "metadata": {},
   "outputs": [
    {
     "name": "stderr",
     "output_type": "stream",
     "text": [
      "C:\\Users\\iarak\\Anaconda3\\Anaconda\\lib\\site-packages\\ipykernel_launcher.py:1: SettingWithCopyWarning: \n",
      "A value is trying to be set on a copy of a slice from a DataFrame.\n",
      "Try using .loc[row_indexer,col_indexer] = value instead\n",
      "\n",
      "See the caveats in the documentation: https://pandas.pydata.org/pandas-docs/stable/user_guide/indexing.html#returning-a-view-versus-a-copy\n",
      "  \"\"\"Entry point for launching an IPython kernel.\n"
     ]
    }
   ],
   "source": [
    "only_1960s['normalized_tokens'] = only_1960s['Tokenized'].apply(lambda x: lucem_illud_2020.normalizeTokens(x, lemma=False))"
   ]
  },
  {
   "cell_type": "code",
   "execution_count": 130,
   "metadata": {},
   "outputs": [
    {
     "name": "stderr",
     "output_type": "stream",
     "text": [
      "C:\\Users\\iarak\\Anaconda3\\Anaconda\\lib\\site-packages\\ipykernel_launcher.py:1: SettingWithCopyWarning: \n",
      "A value is trying to be set on a copy of a slice from a DataFrame.\n",
      "Try using .loc[row_indexer,col_indexer] = value instead\n",
      "\n",
      "See the caveats in the documentation: https://pandas.pydata.org/pandas-docs/stable/user_guide/indexing.html#returning-a-view-versus-a-copy\n",
      "  \"\"\"Entry point for launching an IPython kernel.\n"
     ]
    }
   ],
   "source": [
    "only_1970s['normalized_tokens'] = only_1970s['Tokenized'].apply(lambda x: lucem_illud_2020.normalizeTokens(x, lemma=False))"
   ]
  },
  {
   "cell_type": "code",
   "execution_count": 131,
   "metadata": {},
   "outputs": [
    {
     "name": "stderr",
     "output_type": "stream",
     "text": [
      "C:\\Users\\iarak\\Anaconda3\\Anaconda\\lib\\site-packages\\ipykernel_launcher.py:1: SettingWithCopyWarning: \n",
      "A value is trying to be set on a copy of a slice from a DataFrame.\n",
      "Try using .loc[row_indexer,col_indexer] = value instead\n",
      "\n",
      "See the caveats in the documentation: https://pandas.pydata.org/pandas-docs/stable/user_guide/indexing.html#returning-a-view-versus-a-copy\n",
      "  \"\"\"Entry point for launching an IPython kernel.\n"
     ]
    }
   ],
   "source": [
    "only_1980s['normalized_tokens'] = only_1980s['Tokenized'].apply(lambda x: lucem_illud_2020.normalizeTokens(x, lemma=False))"
   ]
  },
  {
   "cell_type": "code",
   "execution_count": 132,
   "metadata": {},
   "outputs": [
    {
     "name": "stderr",
     "output_type": "stream",
     "text": [
      "C:\\Users\\iarak\\Anaconda3\\Anaconda\\lib\\site-packages\\ipykernel_launcher.py:1: SettingWithCopyWarning: \n",
      "A value is trying to be set on a copy of a slice from a DataFrame.\n",
      "Try using .loc[row_indexer,col_indexer] = value instead\n",
      "\n",
      "See the caveats in the documentation: https://pandas.pydata.org/pandas-docs/stable/user_guide/indexing.html#returning-a-view-versus-a-copy\n",
      "  \"\"\"Entry point for launching an IPython kernel.\n"
     ]
    }
   ],
   "source": [
    "only_1990s['normalized_tokens'] = only_1990s['Tokenized'].apply(lambda x: lucem_illud_2020.normalizeTokens(x, lemma=False))"
   ]
  },
  {
   "cell_type": "code",
   "execution_count": 119,
   "metadata": {},
   "outputs": [
    {
     "name": "stderr",
     "output_type": "stream",
     "text": [
      "C:\\Users\\iarak\\Anaconda3\\Anaconda\\lib\\site-packages\\ipykernel_launcher.py:1: SettingWithCopyWarning: \n",
      "A value is trying to be set on a copy of a slice from a DataFrame.\n",
      "Try using .loc[row_indexer,col_indexer] = value instead\n",
      "\n",
      "See the caveats in the documentation: https://pandas.pydata.org/pandas-docs/stable/user_guide/indexing.html#returning-a-view-versus-a-copy\n",
      "  \"\"\"Entry point for launching an IPython kernel.\n"
     ]
    }
   ],
   "source": [
    "only_2000s['normalized_tokens'] = only_2000s['Tokenized'].apply(lambda x: lucem_illud_2020.normalizeTokens(x, lemma=False))"
   ]
  },
  {
   "cell_type": "code",
   "execution_count": 133,
   "metadata": {},
   "outputs": [
    {
     "name": "stderr",
     "output_type": "stream",
     "text": [
      "C:\\Users\\iarak\\Anaconda3\\Anaconda\\lib\\site-packages\\ipykernel_launcher.py:1: SettingWithCopyWarning: \n",
      "A value is trying to be set on a copy of a slice from a DataFrame.\n",
      "Try using .loc[row_indexer,col_indexer] = value instead\n",
      "\n",
      "See the caveats in the documentation: https://pandas.pydata.org/pandas-docs/stable/user_guide/indexing.html#returning-a-view-versus-a-copy\n",
      "  \"\"\"Entry point for launching an IPython kernel.\n"
     ]
    }
   ],
   "source": [
    "only_2010s['normalized_tokens'] = only_2010s['Tokenized'].apply(lambda x: lucem_illud_2020.normalizeTokens(x, lemma=False))"
   ]
  },
  {
   "cell_type": "code",
   "execution_count": 134,
   "metadata": {},
   "outputs": [
    {
     "name": "stderr",
     "output_type": "stream",
     "text": [
      "C:\\Users\\iarak\\Anaconda3\\Anaconda\\lib\\site-packages\\ipykernel_launcher.py:1: SettingWithCopyWarning: \n",
      "A value is trying to be set on a copy of a slice from a DataFrame.\n",
      "Try using .loc[row_indexer,col_indexer] = value instead\n",
      "\n",
      "See the caveats in the documentation: https://pandas.pydata.org/pandas-docs/stable/user_guide/indexing.html#returning-a-view-versus-a-copy\n",
      "  \"\"\"Entry point for launching an IPython kernel.\n"
     ]
    }
   ],
   "source": [
    "mov_romance['normalized_tokens'] = mov_romance['Tokenized'].apply(lambda x: lucem_illud_2020.normalizeTokens(x, lemma=False))"
   ]
  },
  {
   "cell_type": "code",
   "execution_count": 135,
   "metadata": {},
   "outputs": [
    {
     "name": "stderr",
     "output_type": "stream",
     "text": [
      "C:\\Users\\iarak\\Anaconda3\\Anaconda\\lib\\site-packages\\ipykernel_launcher.py:1: SettingWithCopyWarning: \n",
      "A value is trying to be set on a copy of a slice from a DataFrame.\n",
      "Try using .loc[row_indexer,col_indexer] = value instead\n",
      "\n",
      "See the caveats in the documentation: https://pandas.pydata.org/pandas-docs/stable/user_guide/indexing.html#returning-a-view-versus-a-copy\n",
      "  \"\"\"Entry point for launching an IPython kernel.\n"
     ]
    }
   ],
   "source": [
    "mov_drama['normalized_tokens'] = mov_drama['Tokenized'].apply(lambda x: lucem_illud_2020.normalizeTokens(x, lemma=False))"
   ]
  },
  {
   "cell_type": "code",
   "execution_count": 136,
   "metadata": {},
   "outputs": [
    {
     "name": "stderr",
     "output_type": "stream",
     "text": [
      "C:\\Users\\iarak\\Anaconda3\\Anaconda\\lib\\site-packages\\ipykernel_launcher.py:1: SettingWithCopyWarning: \n",
      "A value is trying to be set on a copy of a slice from a DataFrame.\n",
      "Try using .loc[row_indexer,col_indexer] = value instead\n",
      "\n",
      "See the caveats in the documentation: https://pandas.pydata.org/pandas-docs/stable/user_guide/indexing.html#returning-a-view-versus-a-copy\n",
      "  \"\"\"Entry point for launching an IPython kernel.\n"
     ]
    }
   ],
   "source": [
    "mov_comedy['normalized_tokens'] = mov_comedy['Tokenized'].apply(lambda x: lucem_illud_2020.normalizeTokens(x, lemma=False))"
   ]
  },
  {
   "cell_type": "code",
   "execution_count": 137,
   "metadata": {},
   "outputs": [
    {
     "name": "stderr",
     "output_type": "stream",
     "text": [
      "C:\\Users\\iarak\\Anaconda3\\Anaconda\\lib\\site-packages\\ipykernel_launcher.py:1: SettingWithCopyWarning: \n",
      "A value is trying to be set on a copy of a slice from a DataFrame.\n",
      "Try using .loc[row_indexer,col_indexer] = value instead\n",
      "\n",
      "See the caveats in the documentation: https://pandas.pydata.org/pandas-docs/stable/user_guide/indexing.html#returning-a-view-versus-a-copy\n",
      "  \"\"\"Entry point for launching an IPython kernel.\n"
     ]
    }
   ],
   "source": [
    "mov_horror['normalized_tokens'] = mov_horror['Tokenized'].apply(lambda x: lucem_illud_2020.normalizeTokens(x, lemma=False))"
   ]
  },
  {
   "cell_type": "code",
   "execution_count": 138,
   "metadata": {},
   "outputs": [
    {
     "name": "stderr",
     "output_type": "stream",
     "text": [
      "C:\\Users\\iarak\\Anaconda3\\Anaconda\\lib\\site-packages\\ipykernel_launcher.py:1: SettingWithCopyWarning: \n",
      "A value is trying to be set on a copy of a slice from a DataFrame.\n",
      "Try using .loc[row_indexer,col_indexer] = value instead\n",
      "\n",
      "See the caveats in the documentation: https://pandas.pydata.org/pandas-docs/stable/user_guide/indexing.html#returning-a-view-versus-a-copy\n",
      "  \"\"\"Entry point for launching an IPython kernel.\n"
     ]
    }
   ],
   "source": [
    "mov_scifi['normalized_tokens'] = mov_scifi['Tokenized'].apply(lambda x: lucem_illud_2020.normalizeTokens(x, lemma=False))"
   ]
  },
  {
   "cell_type": "code",
   "execution_count": 139,
   "metadata": {},
   "outputs": [
    {
     "name": "stderr",
     "output_type": "stream",
     "text": [
      "C:\\Users\\iarak\\Anaconda3\\Anaconda\\lib\\site-packages\\ipykernel_launcher.py:1: SettingWithCopyWarning: \n",
      "A value is trying to be set on a copy of a slice from a DataFrame.\n",
      "Try using .loc[row_indexer,col_indexer] = value instead\n",
      "\n",
      "See the caveats in the documentation: https://pandas.pydata.org/pandas-docs/stable/user_guide/indexing.html#returning-a-view-versus-a-copy\n",
      "  \"\"\"Entry point for launching an IPython kernel.\n"
     ]
    }
   ],
   "source": [
    "mov_sport['normalized_tokens'] = mov_sport['Tokenized'].apply(lambda x: lucem_illud_2020.normalizeTokens(x, lemma=False))"
   ]
  },
  {
   "cell_type": "code",
   "execution_count": 140,
   "metadata": {},
   "outputs": [
    {
     "data": {
      "text/plain": [
       "Unnamed: 0    9909\n",
       "Movie Name    9909\n",
       "Genre         9845\n",
       "Year          9909\n",
       "Country       9726\n",
       "IMDb          9909\n",
       "Tokenized     9909\n",
       "Text          9909\n",
       "word_count    9909\n",
       "dtype: int64"
      ]
     },
     "execution_count": 140,
     "metadata": {},
     "output_type": "execute_result"
    }
   ],
   "source": [
    "movie_df10k.count()"
   ]
  },
  {
   "cell_type": "code",
   "execution_count": 141,
   "metadata": {},
   "outputs": [],
   "source": [
    "frames = [only_1930s, only_1940s, only_1950s, only_1960s, only_1970s, only_1980s, only_1990s, only_2000s, only_2010s]\n",
    "result = pd.concat(frames)"
   ]
  },
  {
   "cell_type": "code",
   "execution_count": 142,
   "metadata": {},
   "outputs": [
    {
     "data": {
      "text/plain": [
       "Unnamed: 0           9909\n",
       "Movie Name           9909\n",
       "Genre                9845\n",
       "Year                 9909\n",
       "Country              9726\n",
       "IMDb                 9909\n",
       "Tokenized            9909\n",
       "Text                 9909\n",
       "word_count           9909\n",
       "normalized_tokens    9909\n",
       "dtype: int64"
      ]
     },
     "execution_count": 142,
     "metadata": {},
     "output_type": "execute_result"
    }
   ],
   "source": [
    "result.count()"
   ]
  },
  {
   "cell_type": "code",
   "execution_count": 143,
   "metadata": {},
   "outputs": [],
   "source": [
    "result.to_csv(\"movdf_norm.csv\")"
   ]
  },
  {
   "cell_type": "code",
   "execution_count": 219,
   "metadata": {},
   "outputs": [],
   "source": [
    "movdf_norm = pd.read_csv(\"movdf_norm.csv\")"
   ]
  },
  {
   "cell_type": "code",
   "execution_count": 239,
   "metadata": {},
   "outputs": [
    {
     "data": {
      "text/html": [
       "<div>\n",
       "<style scoped>\n",
       "    .dataframe tbody tr th:only-of-type {\n",
       "        vertical-align: middle;\n",
       "    }\n",
       "\n",
       "    .dataframe tbody tr th {\n",
       "        vertical-align: top;\n",
       "    }\n",
       "\n",
       "    .dataframe thead th {\n",
       "        text-align: right;\n",
       "    }\n",
       "</style>\n",
       "<table border=\"1\" class=\"dataframe\">\n",
       "  <thead>\n",
       "    <tr style=\"text-align: right;\">\n",
       "      <th></th>\n",
       "      <th>Unnamed: 0</th>\n",
       "      <th>Unnamed: 0.1</th>\n",
       "      <th>Movie Name</th>\n",
       "      <th>Genre</th>\n",
       "      <th>Year</th>\n",
       "      <th>Country</th>\n",
       "      <th>IMDb</th>\n",
       "      <th>Tokenized</th>\n",
       "      <th>Text</th>\n",
       "      <th>word_count</th>\n",
       "      <th>normalized_tokens</th>\n",
       "      <th>Tagged_Female</th>\n",
       "      <th>Tagged_Male</th>\n",
       "    </tr>\n",
       "  </thead>\n",
       "  <tbody>\n",
       "    <tr>\n",
       "      <th>0</th>\n",
       "      <td>0</td>\n",
       "      <td>3547424</td>\n",
       "      <td>Goodbye to All That</td>\n",
       "      <td>Short, Musical</td>\n",
       "      <td>1930</td>\n",
       "      <td>English</td>\n",
       "      <td>290635</td>\n",
       "      <td>['In', 'the', 'future', 'a', 'computer', 'prog...</td>\n",
       "      <td>@3547424 In the future , a computer program ca...</td>\n",
       "      <td>35320</td>\n",
       "      <td>['future', 'computer', 'program', 'called', 's...</td>\n",
       "      <td>([future, computer, program, called, skynet, d...</td>\n",
       "      <td>([future, computer, program, called, skynet, d...</td>\n",
       "    </tr>\n",
       "    <tr>\n",
       "      <th>1</th>\n",
       "      <td>1</td>\n",
       "      <td>3660608</td>\n",
       "      <td>Abraham Lincoln</td>\n",
       "      <td>Biography, Drama, History</td>\n",
       "      <td>1930</td>\n",
       "      <td>English</td>\n",
       "      <td>20620</td>\n",
       "      <td>['Tom', 'Lincoln', 'It', \"'s\", 'a', 'comin', '...</td>\n",
       "      <td>@3660608 Tom Lincoln ! It's a comin ' - Boy or...</td>\n",
       "      <td>49770</td>\n",
       "      <td>['tom', 'lincoln', 'comin', 'boy', 'gal', 't',...</td>\n",
       "      <td>([tom, lincoln, comin, boy, gal, t, ai, nt, fu...</td>\n",
       "      <td>([tom, lincoln, comin, boy, gal, t, ai, nt, fu...</td>\n",
       "    </tr>\n",
       "    <tr>\n",
       "      <th>2</th>\n",
       "      <td>2</td>\n",
       "      <td>60053</td>\n",
       "      <td>All Quiet on the Western Front</td>\n",
       "      <td>Drama, War</td>\n",
       "      <td>1930</td>\n",
       "      <td>English, French, German, Latin</td>\n",
       "      <td>20629</td>\n",
       "      <td>['Thirty', 'thousand', 'From', 'the', 'Russian...</td>\n",
       "      <td>@60053 - Thirty thousand . - From the Russians...</td>\n",
       "      <td>69596</td>\n",
       "      <td>['russians', 'french', 'russians', 'capture', ...</td>\n",
       "      <td>([russians, french, russians, capture, day, mr...</td>\n",
       "      <td>([russians, french, russians, capture, day, mr...</td>\n",
       "    </tr>\n",
       "    <tr>\n",
       "      <th>3</th>\n",
       "      <td>3</td>\n",
       "      <td>3435788</td>\n",
       "      <td>Born Reckless</td>\n",
       "      <td>Crime, Drama, Film-Noir</td>\n",
       "      <td>1930</td>\n",
       "      <td>English, Italian, French</td>\n",
       "      <td>20702</td>\n",
       "      <td>['Louis', 'Louis', 'Beretti', 'Shh', 'Put', 't...</td>\n",
       "      <td>@3435788 Louis ? Louis ? - Beretti ? - Shh ! P...</td>\n",
       "      <td>49565</td>\n",
       "      <td>['louis', 'louis', 'beretti', 'shh', 'sap', 'k...</td>\n",
       "      <td>([louis, louis, beretti, shh, sap, know, bette...</td>\n",
       "      <td>([louis, louis, beretti, shh, sap, know, bette...</td>\n",
       "    </tr>\n",
       "    <tr>\n",
       "      <th>4</th>\n",
       "      <td>4</td>\n",
       "      <td>6922578</td>\n",
       "      <td>King of Jazz</td>\n",
       "      <td>Animation, Music</td>\n",
       "      <td>1930</td>\n",
       "      <td>English</td>\n",
       "      <td>21025</td>\n",
       "      <td>['Music', 'hath', 'charms', 'that', 'nothing',...</td>\n",
       "      <td>@6922578 Music hath charms that nothing else h...</td>\n",
       "      <td>33966</td>\n",
       "      <td>['music', 'hath', 'charms', 'music', 'hath', '...</td>\n",
       "      <td>([music, hath, charms, music, hath, charms, cl...</td>\n",
       "      <td>([music, hath, charms, music, hath, charms, cl...</td>\n",
       "    </tr>\n",
       "  </tbody>\n",
       "</table>\n",
       "</div>"
      ],
      "text/plain": [
       "   Unnamed: 0  Unnamed: 0.1                      Movie Name  \\\n",
       "0           0       3547424             Goodbye to All That   \n",
       "1           1       3660608                 Abraham Lincoln   \n",
       "2           2         60053  All Quiet on the Western Front   \n",
       "3           3       3435788                   Born Reckless   \n",
       "4           4       6922578                    King of Jazz   \n",
       "\n",
       "                       Genre  Year                         Country    IMDb  \\\n",
       "0             Short, Musical  1930                         English  290635   \n",
       "1  Biography, Drama, History  1930                         English   20620   \n",
       "2                 Drama, War  1930  English, French, German, Latin   20629   \n",
       "3    Crime, Drama, Film-Noir  1930        English, Italian, French   20702   \n",
       "4           Animation, Music  1930                         English   21025   \n",
       "\n",
       "                                           Tokenized  \\\n",
       "0  ['In', 'the', 'future', 'a', 'computer', 'prog...   \n",
       "1  ['Tom', 'Lincoln', 'It', \"'s\", 'a', 'comin', '...   \n",
       "2  ['Thirty', 'thousand', 'From', 'the', 'Russian...   \n",
       "3  ['Louis', 'Louis', 'Beretti', 'Shh', 'Put', 't...   \n",
       "4  ['Music', 'hath', 'charms', 'that', 'nothing',...   \n",
       "\n",
       "                                                Text  word_count  \\\n",
       "0  @3547424 In the future , a computer program ca...       35320   \n",
       "1  @3660608 Tom Lincoln ! It's a comin ' - Boy or...       49770   \n",
       "2  @60053 - Thirty thousand . - From the Russians...       69596   \n",
       "3  @3435788 Louis ? Louis ? - Beretti ? - Shh ! P...       49565   \n",
       "4  @6922578 Music hath charms that nothing else h...       33966   \n",
       "\n",
       "                                   normalized_tokens  \\\n",
       "0  ['future', 'computer', 'program', 'called', 's...   \n",
       "1  ['tom', 'lincoln', 'comin', 'boy', 'gal', 't',...   \n",
       "2  ['russians', 'french', 'russians', 'capture', ...   \n",
       "3  ['louis', 'louis', 'beretti', 'shh', 'sap', 'k...   \n",
       "4  ['music', 'hath', 'charms', 'music', 'hath', '...   \n",
       "\n",
       "                                       Tagged_Female  \\\n",
       "0  ([future, computer, program, called, skynet, d...   \n",
       "1  ([tom, lincoln, comin, boy, gal, t, ai, nt, fu...   \n",
       "2  ([russians, french, russians, capture, day, mr...   \n",
       "3  ([louis, louis, beretti, shh, sap, know, bette...   \n",
       "4  ([music, hath, charms, music, hath, charms, cl...   \n",
       "\n",
       "                                         Tagged_Male  \n",
       "0  ([future, computer, program, called, skynet, d...  \n",
       "1  ([tom, lincoln, comin, boy, gal, t, ai, nt, fu...  \n",
       "2  ([russians, french, russians, capture, day, mr...  \n",
       "3  ([louis, louis, beretti, shh, sap, know, bette...  \n",
       "4  ([music, hath, charms, music, hath, charms, cl...  "
      ]
     },
     "execution_count": 239,
     "metadata": {},
     "output_type": "execute_result"
    }
   ],
   "source": [
    "movdf_norm.head()"
   ]
  },
  {
   "cell_type": "code",
   "execution_count": 240,
   "metadata": {},
   "outputs": [
    {
     "data": {
      "text/html": [
       "<div>\n",
       "<style scoped>\n",
       "    .dataframe tbody tr th:only-of-type {\n",
       "        vertical-align: middle;\n",
       "    }\n",
       "\n",
       "    .dataframe tbody tr th {\n",
       "        vertical-align: top;\n",
       "    }\n",
       "\n",
       "    .dataframe thead th {\n",
       "        text-align: right;\n",
       "    }\n",
       "</style>\n",
       "<table border=\"1\" class=\"dataframe\">\n",
       "  <thead>\n",
       "    <tr style=\"text-align: right;\">\n",
       "      <th></th>\n",
       "      <th>Unnamed: 0</th>\n",
       "      <th>Unnamed: 0.1</th>\n",
       "      <th>Movie Name</th>\n",
       "      <th>Genre</th>\n",
       "      <th>Year</th>\n",
       "      <th>Country</th>\n",
       "      <th>IMDb</th>\n",
       "      <th>Tokenized</th>\n",
       "      <th>Text</th>\n",
       "      <th>word_count</th>\n",
       "      <th>normalized_tokens</th>\n",
       "      <th>Tagged_Female</th>\n",
       "      <th>Tagged_Male</th>\n",
       "    </tr>\n",
       "  </thead>\n",
       "  <tbody>\n",
       "    <tr>\n",
       "      <th>0</th>\n",
       "      <td>0</td>\n",
       "      <td>3547424</td>\n",
       "      <td>Goodbye to All That</td>\n",
       "      <td>Short, Musical</td>\n",
       "      <td>1930</td>\n",
       "      <td>English</td>\n",
       "      <td>290635</td>\n",
       "      <td>['In', 'the', 'future', 'a', 'computer', 'prog...</td>\n",
       "      <td>@3547424 In the future , a computer program ca...</td>\n",
       "      <td>35320</td>\n",
       "      <td>['future', 'computer', 'program', 'called', 's...</td>\n",
       "      <td>([future, computer, program, called, skynet, d...</td>\n",
       "      <td>([future, computer, program, called, skynet, d...</td>\n",
       "    </tr>\n",
       "    <tr>\n",
       "      <th>1</th>\n",
       "      <td>1</td>\n",
       "      <td>3660608</td>\n",
       "      <td>Abraham Lincoln</td>\n",
       "      <td>Biography, Drama, History</td>\n",
       "      <td>1930</td>\n",
       "      <td>English</td>\n",
       "      <td>20620</td>\n",
       "      <td>['Tom', 'Lincoln', 'It', \"'s\", 'a', 'comin', '...</td>\n",
       "      <td>@3660608 Tom Lincoln ! It's a comin ' - Boy or...</td>\n",
       "      <td>49770</td>\n",
       "      <td>['tom', 'lincoln', 'comin', 'boy', 'gal', 't',...</td>\n",
       "      <td>([tom, lincoln, comin, boy, gal, t, ai, nt, fu...</td>\n",
       "      <td>([tom, lincoln, comin, boy, gal, t, ai, nt, fu...</td>\n",
       "    </tr>\n",
       "    <tr>\n",
       "      <th>2</th>\n",
       "      <td>2</td>\n",
       "      <td>60053</td>\n",
       "      <td>All Quiet on the Western Front</td>\n",
       "      <td>Drama, War</td>\n",
       "      <td>1930</td>\n",
       "      <td>English, French, German, Latin</td>\n",
       "      <td>20629</td>\n",
       "      <td>['Thirty', 'thousand', 'From', 'the', 'Russian...</td>\n",
       "      <td>@60053 - Thirty thousand . - From the Russians...</td>\n",
       "      <td>69596</td>\n",
       "      <td>['russians', 'french', 'russians', 'capture', ...</td>\n",
       "      <td>([russians, french, russians, capture, day, mr...</td>\n",
       "      <td>([russians, french, russians, capture, day, mr...</td>\n",
       "    </tr>\n",
       "    <tr>\n",
       "      <th>3</th>\n",
       "      <td>3</td>\n",
       "      <td>3435788</td>\n",
       "      <td>Born Reckless</td>\n",
       "      <td>Crime, Drama, Film-Noir</td>\n",
       "      <td>1930</td>\n",
       "      <td>English, Italian, French</td>\n",
       "      <td>20702</td>\n",
       "      <td>['Louis', 'Louis', 'Beretti', 'Shh', 'Put', 't...</td>\n",
       "      <td>@3435788 Louis ? Louis ? - Beretti ? - Shh ! P...</td>\n",
       "      <td>49565</td>\n",
       "      <td>['louis', 'louis', 'beretti', 'shh', 'sap', 'k...</td>\n",
       "      <td>([louis, louis, beretti, shh, sap, know, bette...</td>\n",
       "      <td>([louis, louis, beretti, shh, sap, know, bette...</td>\n",
       "    </tr>\n",
       "    <tr>\n",
       "      <th>4</th>\n",
       "      <td>4</td>\n",
       "      <td>6922578</td>\n",
       "      <td>King of Jazz</td>\n",
       "      <td>Animation, Music</td>\n",
       "      <td>1930</td>\n",
       "      <td>English</td>\n",
       "      <td>21025</td>\n",
       "      <td>['Music', 'hath', 'charms', 'that', 'nothing',...</td>\n",
       "      <td>@6922578 Music hath charms that nothing else h...</td>\n",
       "      <td>33966</td>\n",
       "      <td>['music', 'hath', 'charms', 'music', 'hath', '...</td>\n",
       "      <td>([music, hath, charms, music, hath, charms, cl...</td>\n",
       "      <td>([music, hath, charms, music, hath, charms, cl...</td>\n",
       "    </tr>\n",
       "    <tr>\n",
       "      <th>...</th>\n",
       "      <td>...</td>\n",
       "      <td>...</td>\n",
       "      <td>...</td>\n",
       "      <td>...</td>\n",
       "      <td>...</td>\n",
       "      <td>...</td>\n",
       "      <td>...</td>\n",
       "      <td>...</td>\n",
       "      <td>...</td>\n",
       "      <td>...</td>\n",
       "      <td>...</td>\n",
       "      <td>...</td>\n",
       "      <td>...</td>\n",
       "    </tr>\n",
       "    <tr>\n",
       "      <th>295</th>\n",
       "      <td>295</td>\n",
       "      <td>4655701</td>\n",
       "      <td>The Pointer</td>\n",
       "      <td>Animation, Comedy, Family</td>\n",
       "      <td>1939</td>\n",
       "      <td>English</td>\n",
       "      <td>31803</td>\n",
       "      <td>['And', 'when', 'the', 'game', 'is', 'first', ...</td>\n",
       "      <td>@4655701 \" And when the game is first sighted ...</td>\n",
       "      <td>2335</td>\n",
       "      <td>['game', 'sighted', 'true', 'pointer', 'positi...</td>\n",
       "      <td>([game, sighted, true, pointer, position, circ...</td>\n",
       "      <td>([game, sighted, true, pointer, position, circ...</td>\n",
       "    </tr>\n",
       "    <tr>\n",
       "      <th>296</th>\n",
       "      <td>296</td>\n",
       "      <td>94962</td>\n",
       "      <td>The Private Lives of Elizabeth and Essex</td>\n",
       "      <td>Biography, Drama, History</td>\n",
       "      <td>1939</td>\n",
       "      <td>English</td>\n",
       "      <td>31826</td>\n",
       "      <td>['There', 'he', 'is', 'How', 'nobly', 'he', 'b...</td>\n",
       "      <td>@94962 There he is ! How nobly he bears himsel...</td>\n",
       "      <td>86174</td>\n",
       "      <td>['nobly', 'bears', 'oh', 'wonderful', 'man', '...</td>\n",
       "      <td>([nobly, bears, oh, wonderful, man, hero, carr...</td>\n",
       "      <td>([nobly, bears, oh, wonderful, man, hero, carr...</td>\n",
       "    </tr>\n",
       "    <tr>\n",
       "      <th>297</th>\n",
       "      <td>297</td>\n",
       "      <td>4417553</td>\n",
       "      <td>The Rains Came</td>\n",
       "      <td>Adventure, Drama, Romance</td>\n",
       "      <td>1939</td>\n",
       "      <td>English</td>\n",
       "      <td>31835</td>\n",
       "      <td>['Good', 'morning', 'miss', 'macdaid', 'Good',...</td>\n",
       "      <td>@4417553 Good morning , miss macdaid . Good mo...</td>\n",
       "      <td>67649</td>\n",
       "      <td>['good', 'morning', 'miss', 'macdaid', 'good',...</td>\n",
       "      <td>([good, morning, miss, macdaid, good, morning,...</td>\n",
       "      <td>([good, morning, miss, macdaid, good, morning,...</td>\n",
       "    </tr>\n",
       "    <tr>\n",
       "      <th>298</th>\n",
       "      <td>298</td>\n",
       "      <td>49387</td>\n",
       "      <td>The Wizard of Oz</td>\n",
       "      <td>Adventure, Family, Fantasy</td>\n",
       "      <td>1939</td>\n",
       "      <td>English</td>\n",
       "      <td>32138</td>\n",
       "      <td>['The', 'Wizard', 'of', 'Oz', '1939', '29.97',...</td>\n",
       "      <td>@49387 The Wizard of Oz ( 1939 ) - 29.97 fps S...</td>\n",
       "      <td>73336</td>\n",
       "      <td>['wizard', 'oz', 'fps', 'coming', 'toto', 'hur...</td>\n",
       "      <td>([wizard, oz, fps, coming, toto, hurt, tried, ...</td>\n",
       "      <td>([wizard, oz, fps, coming, toto, hurt, tried, ...</td>\n",
       "    </tr>\n",
       "    <tr>\n",
       "      <th>299</th>\n",
       "      <td>299</td>\n",
       "      <td>5824699</td>\n",
       "      <td>They Made Me a Criminal</td>\n",
       "      <td>Crime, Drama, Film-Noir</td>\n",
       "      <td>1939</td>\n",
       "      <td>English</td>\n",
       "      <td>32022</td>\n",
       "      <td>['CAPTIONING', 'MADE', 'POSSIBLE', 'BY', 'TURN...</td>\n",
       "      <td>@5824699 CAPTIONING MADE POSSIBLE BY TURNER EN...</td>\n",
       "      <td>93899</td>\n",
       "      <td>['captioning', 'possible', 'turner', 'entertai...</td>\n",
       "      <td>([captioning, possible, turner, entertainment,...</td>\n",
       "      <td>([captioning, possible, turner, entertainment,...</td>\n",
       "    </tr>\n",
       "  </tbody>\n",
       "</table>\n",
       "<p>300 rows × 13 columns</p>\n",
       "</div>"
      ],
      "text/plain": [
       "     Unnamed: 0  Unnamed: 0.1                                Movie Name  \\\n",
       "0             0       3547424                       Goodbye to All That   \n",
       "1             1       3660608                           Abraham Lincoln   \n",
       "2             2         60053            All Quiet on the Western Front   \n",
       "3             3       3435788                             Born Reckless   \n",
       "4             4       6922578                              King of Jazz   \n",
       "..          ...           ...                                       ...   \n",
       "295         295       4655701                               The Pointer   \n",
       "296         296         94962  The Private Lives of Elizabeth and Essex   \n",
       "297         297       4417553                            The Rains Came   \n",
       "298         298         49387                          The Wizard of Oz   \n",
       "299         299       5824699                   They Made Me a Criminal   \n",
       "\n",
       "                          Genre  Year                         Country    IMDb  \\\n",
       "0                Short, Musical  1930                         English  290635   \n",
       "1     Biography, Drama, History  1930                         English   20620   \n",
       "2                    Drama, War  1930  English, French, German, Latin   20629   \n",
       "3       Crime, Drama, Film-Noir  1930        English, Italian, French   20702   \n",
       "4              Animation, Music  1930                         English   21025   \n",
       "..                          ...   ...                             ...     ...   \n",
       "295   Animation, Comedy, Family  1939                         English   31803   \n",
       "296   Biography, Drama, History  1939                         English   31826   \n",
       "297   Adventure, Drama, Romance  1939                         English   31835   \n",
       "298  Adventure, Family, Fantasy  1939                         English   32138   \n",
       "299     Crime, Drama, Film-Noir  1939                         English   32022   \n",
       "\n",
       "                                             Tokenized  \\\n",
       "0    ['In', 'the', 'future', 'a', 'computer', 'prog...   \n",
       "1    ['Tom', 'Lincoln', 'It', \"'s\", 'a', 'comin', '...   \n",
       "2    ['Thirty', 'thousand', 'From', 'the', 'Russian...   \n",
       "3    ['Louis', 'Louis', 'Beretti', 'Shh', 'Put', 't...   \n",
       "4    ['Music', 'hath', 'charms', 'that', 'nothing',...   \n",
       "..                                                 ...   \n",
       "295  ['And', 'when', 'the', 'game', 'is', 'first', ...   \n",
       "296  ['There', 'he', 'is', 'How', 'nobly', 'he', 'b...   \n",
       "297  ['Good', 'morning', 'miss', 'macdaid', 'Good',...   \n",
       "298  ['The', 'Wizard', 'of', 'Oz', '1939', '29.97',...   \n",
       "299  ['CAPTIONING', 'MADE', 'POSSIBLE', 'BY', 'TURN...   \n",
       "\n",
       "                                                  Text  word_count  \\\n",
       "0    @3547424 In the future , a computer program ca...       35320   \n",
       "1    @3660608 Tom Lincoln ! It's a comin ' - Boy or...       49770   \n",
       "2    @60053 - Thirty thousand . - From the Russians...       69596   \n",
       "3    @3435788 Louis ? Louis ? - Beretti ? - Shh ! P...       49565   \n",
       "4    @6922578 Music hath charms that nothing else h...       33966   \n",
       "..                                                 ...         ...   \n",
       "295  @4655701 \" And when the game is first sighted ...        2335   \n",
       "296  @94962 There he is ! How nobly he bears himsel...       86174   \n",
       "297  @4417553 Good morning , miss macdaid . Good mo...       67649   \n",
       "298  @49387 The Wizard of Oz ( 1939 ) - 29.97 fps S...       73336   \n",
       "299  @5824699 CAPTIONING MADE POSSIBLE BY TURNER EN...       93899   \n",
       "\n",
       "                                     normalized_tokens  \\\n",
       "0    ['future', 'computer', 'program', 'called', 's...   \n",
       "1    ['tom', 'lincoln', 'comin', 'boy', 'gal', 't',...   \n",
       "2    ['russians', 'french', 'russians', 'capture', ...   \n",
       "3    ['louis', 'louis', 'beretti', 'shh', 'sap', 'k...   \n",
       "4    ['music', 'hath', 'charms', 'music', 'hath', '...   \n",
       "..                                                 ...   \n",
       "295  ['game', 'sighted', 'true', 'pointer', 'positi...   \n",
       "296  ['nobly', 'bears', 'oh', 'wonderful', 'man', '...   \n",
       "297  ['good', 'morning', 'miss', 'macdaid', 'good',...   \n",
       "298  ['wizard', 'oz', 'fps', 'coming', 'toto', 'hur...   \n",
       "299  ['captioning', 'possible', 'turner', 'entertai...   \n",
       "\n",
       "                                         Tagged_Female  \\\n",
       "0    ([future, computer, program, called, skynet, d...   \n",
       "1    ([tom, lincoln, comin, boy, gal, t, ai, nt, fu...   \n",
       "2    ([russians, french, russians, capture, day, mr...   \n",
       "3    ([louis, louis, beretti, shh, sap, know, bette...   \n",
       "4    ([music, hath, charms, music, hath, charms, cl...   \n",
       "..                                                 ...   \n",
       "295  ([game, sighted, true, pointer, position, circ...   \n",
       "296  ([nobly, bears, oh, wonderful, man, hero, carr...   \n",
       "297  ([good, morning, miss, macdaid, good, morning,...   \n",
       "298  ([wizard, oz, fps, coming, toto, hurt, tried, ...   \n",
       "299  ([captioning, possible, turner, entertainment,...   \n",
       "\n",
       "                                           Tagged_Male  \n",
       "0    ([future, computer, program, called, skynet, d...  \n",
       "1    ([tom, lincoln, comin, boy, gal, t, ai, nt, fu...  \n",
       "2    ([russians, french, russians, capture, day, mr...  \n",
       "3    ([louis, louis, beretti, shh, sap, know, bette...  \n",
       "4    ([music, hath, charms, music, hath, charms, cl...  \n",
       "..                                                 ...  \n",
       "295  ([game, sighted, true, pointer, position, circ...  \n",
       "296  ([nobly, bears, oh, wonderful, man, hero, carr...  \n",
       "297  ([good, morning, miss, macdaid, good, morning,...  \n",
       "298  ([wizard, oz, fps, coming, toto, hurt, tried, ...  \n",
       "299  ([captioning, possible, turner, entertainment,...  \n",
       "\n",
       "[300 rows x 13 columns]"
      ]
     },
     "execution_count": 240,
     "metadata": {},
     "output_type": "execute_result"
    }
   ],
   "source": [
    "only_1930s"
   ]
  },
  {
   "cell_type": "code",
   "execution_count": 421,
   "metadata": {},
   "outputs": [],
   "source": [
    "keywords_black = ['black', 'african', 'negro', 'nigger', 'dark', 'dusky']"
   ]
  },
  {
   "cell_type": "code",
   "execution_count": null,
   "metadata": {},
   "outputs": [],
   "source": [
    "keywords_white = ['white', 'caucasian', 'pale']"
   ]
  },
  {
   "cell_type": "code",
   "execution_count": 222,
   "metadata": {},
   "outputs": [],
   "source": [
    "keywords = ['woman', 'women', 'girl', 'girls', 'she', 'her', 'hers', 'female', 'females']"
   ]
  },
  {
   "cell_type": "code",
   "execution_count": 223,
   "metadata": {},
   "outputs": [],
   "source": [
    "taggedDocs = []\n",
    "for index, row in result.iterrows():\n",
    "    #Just doing a simple keyword assignment\n",
    "    docKeywords = [s for s in keywords if s in row['normalized_tokens']]\n",
    "    docKeywords.append(row['Year'])\n",
    "    docKeywords.append(row['Movie Name']) #This lets us extract individual documnets since doi's are unique\n",
    "    taggedDocs.append(gensim.models.doc2vec.LabeledSentence(words = row['normalized_tokens'], tags = docKeywords))\n",
    "movdf_norm['Tagged_Female'] = taggedDocs"
   ]
  },
  {
   "cell_type": "code",
   "execution_count": 422,
   "metadata": {},
   "outputs": [],
   "source": [
    "taggedDocs_b = []\n",
    "for index, row in result.iterrows():\n",
    "    #Just doing a simple keyword assignment\n",
    "    docKeywords = [s for s in keywords if s in row['normalized_tokens']]\n",
    "    docKeywords.append(row['Year'])\n",
    "    docKeywords.append(row['Movie Name']) #This lets us extract individual documnets since doi's are unique\n",
    "    taggedDocs_b.append(gensim.models.doc2vec.LabeledSentence(words = row['normalized_tokens'], tags = docKeywords))\n",
    "movdf_norm['Tagged_Black'] = taggedDocs_b"
   ]
  },
  {
   "cell_type": "code",
   "execution_count": 423,
   "metadata": {},
   "outputs": [],
   "source": [
    "taggedDocs_w = []\n",
    "for index, row in result.iterrows():\n",
    "    #Just doing a simple keyword assignment\n",
    "    docKeywords = [s for s in keywords if s in row['normalized_tokens']]\n",
    "    docKeywords.append(row['Year'])\n",
    "    docKeywords.append(row['Movie Name']) #This lets us extract individual documnets since doi's are unique\n",
    "    taggedDocs_w.append(gensim.models.doc2vec.LabeledSentence(words = row['normalized_tokens'], tags = docKeywords))\n",
    "movdf_norm['Tagged_White'] = taggedDocs_w"
   ]
  },
  {
   "cell_type": "code",
   "execution_count": 227,
   "metadata": {},
   "outputs": [
    {
     "name": "stderr",
     "output_type": "stream",
     "text": [
      "C:\\Users\\iarak\\Anaconda3\\Anaconda\\lib\\site-packages\\gensim\\models\\doc2vec.py:574: UserWarning: The parameter `size` is deprecated, will be removed in 4.0.0, use `vector_size` instead.\n",
      "  warnings.warn(\"The parameter `size` is deprecated, will be removed in 4.0.0, use `vector_size` instead.\")\n"
     ]
    }
   ],
   "source": [
    "mvD2V_female = gensim.models.doc2vec.Doc2Vec(movdf_norm['Tagged_Female'], size = 100)"
   ]
  },
  {
   "cell_type": "code",
   "execution_count": 424,
   "metadata": {},
   "outputs": [
    {
     "name": "stderr",
     "output_type": "stream",
     "text": [
      "C:\\Users\\iarak\\Anaconda3\\Anaconda\\lib\\site-packages\\gensim\\models\\doc2vec.py:574: UserWarning: The parameter `size` is deprecated, will be removed in 4.0.0, use `vector_size` instead.\n",
      "  warnings.warn(\"The parameter `size` is deprecated, will be removed in 4.0.0, use `vector_size` instead.\")\n"
     ]
    }
   ],
   "source": [
    "mvD2V_black = gensim.models.doc2vec.Doc2Vec(movdf_norm['Tagged_Black'], size = 100)"
   ]
  },
  {
   "cell_type": "code",
   "execution_count": 425,
   "metadata": {},
   "outputs": [
    {
     "name": "stderr",
     "output_type": "stream",
     "text": [
      "C:\\Users\\iarak\\Anaconda3\\Anaconda\\lib\\site-packages\\gensim\\models\\doc2vec.py:574: UserWarning: The parameter `size` is deprecated, will be removed in 4.0.0, use `vector_size` instead.\n",
      "  warnings.warn(\"The parameter `size` is deprecated, will be removed in 4.0.0, use `vector_size` instead.\")\n"
     ]
    }
   ],
   "source": [
    "mvD2V_white = gensim.models.doc2vec.Doc2Vec(movdf_norm['Tagged_White'], size = 100)"
   ]
  },
  {
   "cell_type": "code",
   "execution_count": 430,
   "metadata": {},
   "outputs": [
    {
     "data": {
      "text/plain": [
       "[('middle-', 0.6157759428024292),\n",
       " ('hispanic', 0.6144207119941711),\n",
       " ('virile', 0.5726508498191833),\n",
       " ('75-year', 0.5551630258560181),\n",
       " ('supremacist', 0.5520462989807129),\n",
       " ('35-year', 0.5476308465003967),\n",
       " ('70-year', 0.5468528270721436),\n",
       " ('60-year', 0.5424657464027405),\n",
       " ('bantu', 0.5330668687820435),\n",
       " ('nigger', 0.5303345918655396)]"
      ]
     },
     "execution_count": 430,
     "metadata": {},
     "output_type": "execute_result"
    }
   ],
   "source": [
    "mvD2V_black.most_similar(positive = ['black', 'man', 'woman'], negative = ['white'], topn = 10)"
   ]
  },
  {
   "cell_type": "code",
   "execution_count": 233,
   "metadata": {},
   "outputs": [
    {
     "data": {
      "text/plain": [
       "[('brunette', 0.5521952509880066),\n",
       " ('blonde', 0.547403872013092),\n",
       " ('redhead', 0.5351743698120117),\n",
       " ('prettiest', 0.5166902542114258),\n",
       " ('pinup', 0.5048144459724426),\n",
       " ('flirt', 0.4958895742893219),\n",
       " ('minder', 0.4949256181716919),\n",
       " ('niece', 0.489028662443161),\n",
       " ('bombshells', 0.48542696237564087),\n",
       " ('blond', 0.48342978954315186)]"
      ]
     },
     "execution_count": 233,
     "metadata": {},
     "output_type": "execute_result"
    }
   ],
   "source": [
    "mvD2V_female.most_similar(positive = ['woman','girl'], negative = ['man'], topn = 10)"
   ]
  },
  {
   "cell_type": "code",
   "execution_count": 284,
   "metadata": {},
   "outputs": [
    {
     "data": {
      "text/plain": [
       "[('buddy', 0.5500340461730957),\n",
       " ('rascals', 0.5384502410888672),\n",
       " ('homie', 0.5353148579597473),\n",
       " ('dawg', 0.5141319036483765),\n",
       " ('lad', 0.502248227596283),\n",
       " ('homies', 0.5002907514572144),\n",
       " ('marky', 0.4982272684574127),\n",
       " ('homey', 0.4966511130332947),\n",
       " ('fam', 0.49355340003967285),\n",
       " ('homeboy', 0.49234485626220703)]"
      ]
     },
     "execution_count": 284,
     "metadata": {},
     "output_type": "execute_result"
    }
   ],
   "source": [
    "mvD2V_female.most_similar(positive = ['man','boy'], negative = ['woman'], topn = 10)"
   ]
  },
  {
   "cell_type": "code",
   "execution_count": 285,
   "metadata": {},
   "outputs": [
    {
     "data": {
      "text/plain": [
       "[('buddy', 0.538259744644165),\n",
       " ('pac', 0.5161625742912292),\n",
       " ('wino', 0.5065416097640991),\n",
       " ('codger', 0.503322958946228),\n",
       " ('90-year', 0.4994574189186096),\n",
       " ('wassup', 0.49546095728874207),\n",
       " ('drillbit', 0.4872071146965027),\n",
       " ('akaba', 0.4833415746688843),\n",
       " ('dawg', 0.4815308451652527),\n",
       " ('70-year', 0.48041391372680664)]"
      ]
     },
     "execution_count": 285,
     "metadata": {},
     "output_type": "execute_result"
    }
   ],
   "source": [
    "mvD2V_female.most_similar(positive = ['man','boy'], negative = ['girl'], topn = 10)"
   ]
  },
  {
   "cell_type": "code",
   "execution_count": 282,
   "metadata": {},
   "outputs": [
    {
     "data": {
      "text/plain": [
       "[('lad', 0.5718072056770325),\n",
       " ('fellas', 0.5570385456085205),\n",
       " ('punks', 0.5454502105712891),\n",
       " ('seanie', 0.5385161638259888),\n",
       " ('beastie', 0.537162184715271),\n",
       " ('uns', 0.5318154692649841),\n",
       " ('90-year', 0.5277386903762817),\n",
       " ('homie', 0.5272852182388306),\n",
       " ('battie', 0.5156999826431274),\n",
       " ('frat', 0.5095157623291016)]"
      ]
     },
     "execution_count": 282,
     "metadata": {},
     "output_type": "execute_result"
    }
   ],
   "source": [
    "mvD2V_female.most_similar(positive = ['man','boy', 'boys'], negative = ['girl'], topn = 10)"
   ]
  },
  {
   "cell_type": "code",
   "execution_count": 235,
   "metadata": {},
   "outputs": [
    {
     "data": {
      "text/plain": [
       "[('woman', 0.5541423559188843),\n",
       " ('The Diary of a Teenage Girl', 0.3833690881729126),\n",
       " ('Naked', 0.3794119656085968),\n",
       " (1324, 0.37631744146347046),\n",
       " ('The Watcher', 0.3411709666252136)]"
      ]
     },
     "execution_count": 235,
     "metadata": {},
     "output_type": "execute_result"
    }
   ],
   "source": [
    "mvD2V_female.docvecs.most_similar([ mvD2V_female['woman'] ], topn=5 )"
   ]
  },
  {
   "cell_type": "code",
   "execution_count": 153,
   "metadata": {},
   "outputs": [
    {
     "data": {
      "text/plain": [
       "[('Next Day Air', 0.3951632082462311),\n",
       " ('Chris Rock: Bigger & Blacker', 0.393730491399765),\n",
       " ('Bones', 0.3874121308326721),\n",
       " ('Black Samson', 0.38594597578048706),\n",
       " ('Rocky III', 0.3774665594100952)]"
      ]
     },
     "execution_count": 153,
     "metadata": {},
     "output_type": "execute_result"
    }
   ],
   "source": [
    "mvD2V_female.docvecs.most_similar([ mvD2V_female['man'] ], topn=5 )"
   ]
  },
  {
   "cell_type": "code",
   "execution_count": 224,
   "metadata": {},
   "outputs": [],
   "source": [
    "keywords_male = ['man', 'men', 'boy', 'boys', 'he', 'him', 'his', 'male', 'males']"
   ]
  },
  {
   "cell_type": "code",
   "execution_count": 225,
   "metadata": {},
   "outputs": [],
   "source": [
    "taggedDocs = []\n",
    "for index, row in result.iterrows():\n",
    "    #Just doing a simple keyword assignment\n",
    "    docKeywords = [s for s in keywords_male if s in row['normalized_tokens']]\n",
    "    docKeywords.append(row['Year'])\n",
    "    docKeywords.append(row['Movie Name']) #This lets us extract individual documnets since doi's are unique\n",
    "    taggedDocs.append(gensim.models.doc2vec.LabeledSentence(words = row['normalized_tokens'], tags = docKeywords))\n",
    "movdf_norm['Tagged_Male'] = taggedDocs"
   ]
  },
  {
   "cell_type": "code",
   "execution_count": 226,
   "metadata": {},
   "outputs": [
    {
     "name": "stderr",
     "output_type": "stream",
     "text": [
      "C:\\Users\\iarak\\Anaconda3\\Anaconda\\lib\\site-packages\\gensim\\models\\doc2vec.py:574: UserWarning: The parameter `size` is deprecated, will be removed in 4.0.0, use `vector_size` instead.\n",
      "  warnings.warn(\"The parameter `size` is deprecated, will be removed in 4.0.0, use `vector_size` instead.\")\n"
     ]
    }
   ],
   "source": [
    "mvD2V_male = gensim.models.doc2vec.Doc2Vec(movdf_norm['Tagged_Male'], size = 100)"
   ]
  },
  {
   "cell_type": "code",
   "execution_count": 435,
   "metadata": {
    "scrolled": true
   },
   "outputs": [
    {
     "data": {
      "text/plain": [
       "[('brunette', 0.5565112233161926),\n",
       " ('blonde', 0.5417287349700928),\n",
       " ('senufo', 0.5303738713264465),\n",
       " ('redhead', 0.5236705541610718),\n",
       " ('banji', 0.5231536626815796),\n",
       " ('shizu', 0.5184228420257568),\n",
       " ('prettiest', 0.5122871398925781),\n",
       " ('lakeisha', 0.5092297196388245),\n",
       " ('scrubba', 0.49742981791496277),\n",
       " ('bombshells', 0.4924485683441162)]"
      ]
     },
     "execution_count": 435,
     "metadata": {},
     "output_type": "execute_result"
    }
   ],
   "source": [
    "mvD2V_male.most_similar(positive = ['woman','girl'], negative = ['man'], topn = 10)"
   ]
  },
  {
   "cell_type": "code",
   "execution_count": 286,
   "metadata": {},
   "outputs": [
    {
     "data": {
      "text/plain": [
       "[('buddy', 0.5860825181007385),\n",
       " ('atta', 0.5367481708526611),\n",
       " ('jangers', 0.5269747972488403),\n",
       " ('jamesy', 0.5155718922615051),\n",
       " ('lad', 0.5068671703338623),\n",
       " ('homie', 0.5006662607192993),\n",
       " ('scout', 0.48949190974235535),\n",
       " ('dink', 0.4848521053791046),\n",
       " ('bro', 0.48441779613494873),\n",
       " ('drummer', 0.4813867509365082)]"
      ]
     },
     "execution_count": 286,
     "metadata": {},
     "output_type": "execute_result"
    }
   ],
   "source": [
    "mvD2V_male.most_similar(positive = ['man','boy'], negative = ['woman'], topn = 10)"
   ]
  },
  {
   "cell_type": "code",
   "execution_count": 159,
   "metadata": {},
   "outputs": [
    {
     "data": {
      "text/plain": [
       "[('The Coalition', 0.4299658238887787),\n",
       " ('The Diary of a Teenage Girl', 0.39427292346954346),\n",
       " ('The 1999 Masters Tournament Special: The Course of History',\n",
       "  0.3768041133880615),\n",
       " ('Monogamy', 0.37058204412460327),\n",
       " ('Secrets of a Psychopath', 0.3620717525482178)]"
      ]
     },
     "execution_count": 159,
     "metadata": {},
     "output_type": "execute_result"
    }
   ],
   "source": [
    "mvD2V_male.docvecs.most_similar([ mvD2V_male['woman'] ], topn=5 )"
   ]
  },
  {
   "cell_type": "code",
   "execution_count": 160,
   "metadata": {
    "scrolled": true
   },
   "outputs": [
    {
     "data": {
      "text/plain": [
       "[('Harley Davidson and the Marlboro Man', 0.42032676935195923),\n",
       " (\"Mickey's Fire Brigade\", 0.3987990617752075),\n",
       " ('Next Day Air', 0.39816921949386597),\n",
       " ('Popstar: Never Stop Never Stopping', 0.39178556203842163),\n",
       " ('Chris Rock: Bigger & Blacker', 0.38694828748703003)]"
      ]
     },
     "execution_count": 160,
     "metadata": {},
     "output_type": "execute_result"
    }
   ],
   "source": [
    "mvD2V_male.docvecs.most_similar([ mvD2V_male['man'] ], topn=5 )"
   ]
  },
  {
   "cell_type": "code",
   "execution_count": 162,
   "metadata": {},
   "outputs": [
    {
     "data": {
      "text/html": [
       "<div>\n",
       "<style scoped>\n",
       "    .dataframe tbody tr th:only-of-type {\n",
       "        vertical-align: middle;\n",
       "    }\n",
       "\n",
       "    .dataframe tbody tr th {\n",
       "        vertical-align: top;\n",
       "    }\n",
       "\n",
       "    .dataframe thead th {\n",
       "        text-align: right;\n",
       "    }\n",
       "</style>\n",
       "<table border=\"1\" class=\"dataframe\">\n",
       "  <thead>\n",
       "    <tr style=\"text-align: right;\">\n",
       "      <th></th>\n",
       "      <th>Unnamed: 0</th>\n",
       "      <th>Movie Name</th>\n",
       "      <th>Genre</th>\n",
       "      <th>Year</th>\n",
       "      <th>Country</th>\n",
       "      <th>IMDb</th>\n",
       "      <th>Tokenized</th>\n",
       "      <th>Text</th>\n",
       "      <th>word_count</th>\n",
       "      <th>normalized_tokens</th>\n",
       "    </tr>\n",
       "  </thead>\n",
       "  <tbody>\n",
       "    <tr>\n",
       "      <th>0</th>\n",
       "      <td>3547424</td>\n",
       "      <td>Goodbye to All That</td>\n",
       "      <td>Short, Musical</td>\n",
       "      <td>1930</td>\n",
       "      <td>English</td>\n",
       "      <td>290635</td>\n",
       "      <td>['In', 'the', 'future', 'a', 'computer', 'prog...</td>\n",
       "      <td>@3547424 In the future , a computer program ca...</td>\n",
       "      <td>35320</td>\n",
       "      <td>[future, computer, program, called, skynet, de...</td>\n",
       "    </tr>\n",
       "    <tr>\n",
       "      <th>1</th>\n",
       "      <td>3660608</td>\n",
       "      <td>Abraham Lincoln</td>\n",
       "      <td>Biography, Drama, History</td>\n",
       "      <td>1930</td>\n",
       "      <td>English</td>\n",
       "      <td>20620</td>\n",
       "      <td>['Tom', 'Lincoln', 'It', \"'s\", 'a', 'comin', '...</td>\n",
       "      <td>@3660608 Tom Lincoln ! It's a comin ' - Boy or...</td>\n",
       "      <td>49770</td>\n",
       "      <td>[tom, lincoln, comin, boy, gal, t, ai, nt, fur...</td>\n",
       "    </tr>\n",
       "    <tr>\n",
       "      <th>2</th>\n",
       "      <td>60053</td>\n",
       "      <td>All Quiet on the Western Front</td>\n",
       "      <td>Drama, War</td>\n",
       "      <td>1930</td>\n",
       "      <td>English, French, German, Latin</td>\n",
       "      <td>20629</td>\n",
       "      <td>['Thirty', 'thousand', 'From', 'the', 'Russian...</td>\n",
       "      <td>@60053 - Thirty thousand . - From the Russians...</td>\n",
       "      <td>69596</td>\n",
       "      <td>[russians, french, russians, capture, day, mr,...</td>\n",
       "    </tr>\n",
       "    <tr>\n",
       "      <th>3</th>\n",
       "      <td>3435788</td>\n",
       "      <td>Born Reckless</td>\n",
       "      <td>Crime, Drama, Film-Noir</td>\n",
       "      <td>1930</td>\n",
       "      <td>English, Italian, French</td>\n",
       "      <td>20702</td>\n",
       "      <td>['Louis', 'Louis', 'Beretti', 'Shh', 'Put', 't...</td>\n",
       "      <td>@3435788 Louis ? Louis ? - Beretti ? - Shh ! P...</td>\n",
       "      <td>49565</td>\n",
       "      <td>[louis, louis, beretti, shh, sap, know, better...</td>\n",
       "    </tr>\n",
       "    <tr>\n",
       "      <th>4</th>\n",
       "      <td>6922578</td>\n",
       "      <td>King of Jazz</td>\n",
       "      <td>Animation, Music</td>\n",
       "      <td>1930</td>\n",
       "      <td>English</td>\n",
       "      <td>21025</td>\n",
       "      <td>['Music', 'hath', 'charms', 'that', 'nothing',...</td>\n",
       "      <td>@6922578 Music hath charms that nothing else h...</td>\n",
       "      <td>33966</td>\n",
       "      <td>[music, hath, charms, music, hath, charms, cla...</td>\n",
       "    </tr>\n",
       "    <tr>\n",
       "      <th>...</th>\n",
       "      <td>...</td>\n",
       "      <td>...</td>\n",
       "      <td>...</td>\n",
       "      <td>...</td>\n",
       "      <td>...</td>\n",
       "      <td>...</td>\n",
       "      <td>...</td>\n",
       "      <td>...</td>\n",
       "      <td>...</td>\n",
       "      <td>...</td>\n",
       "    </tr>\n",
       "    <tr>\n",
       "      <th>295</th>\n",
       "      <td>4655701</td>\n",
       "      <td>The Pointer</td>\n",
       "      <td>Animation, Comedy, Family</td>\n",
       "      <td>1939</td>\n",
       "      <td>English</td>\n",
       "      <td>31803</td>\n",
       "      <td>['And', 'when', 'the', 'game', 'is', 'first', ...</td>\n",
       "      <td>@4655701 \" And when the game is first sighted ...</td>\n",
       "      <td>2335</td>\n",
       "      <td>[game, sighted, true, pointer, position, circu...</td>\n",
       "    </tr>\n",
       "    <tr>\n",
       "      <th>296</th>\n",
       "      <td>94962</td>\n",
       "      <td>The Private Lives of Elizabeth and Essex</td>\n",
       "      <td>Biography, Drama, History</td>\n",
       "      <td>1939</td>\n",
       "      <td>English</td>\n",
       "      <td>31826</td>\n",
       "      <td>['There', 'he', 'is', 'How', 'nobly', 'he', 'b...</td>\n",
       "      <td>@94962 There he is ! How nobly he bears himsel...</td>\n",
       "      <td>86174</td>\n",
       "      <td>[nobly, bears, oh, wonderful, man, hero, carri...</td>\n",
       "    </tr>\n",
       "    <tr>\n",
       "      <th>297</th>\n",
       "      <td>4417553</td>\n",
       "      <td>The Rains Came</td>\n",
       "      <td>Adventure, Drama, Romance</td>\n",
       "      <td>1939</td>\n",
       "      <td>English</td>\n",
       "      <td>31835</td>\n",
       "      <td>['Good', 'morning', 'miss', 'macdaid', 'Good',...</td>\n",
       "      <td>@4417553 Good morning , miss macdaid . Good mo...</td>\n",
       "      <td>67649</td>\n",
       "      <td>[good, morning, miss, macdaid, good, morning, ...</td>\n",
       "    </tr>\n",
       "    <tr>\n",
       "      <th>298</th>\n",
       "      <td>49387</td>\n",
       "      <td>The Wizard of Oz</td>\n",
       "      <td>Adventure, Family, Fantasy</td>\n",
       "      <td>1939</td>\n",
       "      <td>English</td>\n",
       "      <td>32138</td>\n",
       "      <td>['The', 'Wizard', 'of', 'Oz', '1939', '29.97',...</td>\n",
       "      <td>@49387 The Wizard of Oz ( 1939 ) - 29.97 fps S...</td>\n",
       "      <td>73336</td>\n",
       "      <td>[wizard, oz, fps, coming, toto, hurt, tried, c...</td>\n",
       "    </tr>\n",
       "    <tr>\n",
       "      <th>299</th>\n",
       "      <td>5824699</td>\n",
       "      <td>They Made Me a Criminal</td>\n",
       "      <td>Crime, Drama, Film-Noir</td>\n",
       "      <td>1939</td>\n",
       "      <td>English</td>\n",
       "      <td>32022</td>\n",
       "      <td>['CAPTIONING', 'MADE', 'POSSIBLE', 'BY', 'TURN...</td>\n",
       "      <td>@5824699 CAPTIONING MADE POSSIBLE BY TURNER EN...</td>\n",
       "      <td>93899</td>\n",
       "      <td>[captioning, possible, turner, entertainment, ...</td>\n",
       "    </tr>\n",
       "  </tbody>\n",
       "</table>\n",
       "<p>300 rows × 10 columns</p>\n",
       "</div>"
      ],
      "text/plain": [
       "     Unnamed: 0                                Movie Name  \\\n",
       "0       3547424                       Goodbye to All That   \n",
       "1       3660608                           Abraham Lincoln   \n",
       "2         60053            All Quiet on the Western Front   \n",
       "3       3435788                             Born Reckless   \n",
       "4       6922578                              King of Jazz   \n",
       "..          ...                                       ...   \n",
       "295     4655701                               The Pointer   \n",
       "296       94962  The Private Lives of Elizabeth and Essex   \n",
       "297     4417553                            The Rains Came   \n",
       "298       49387                          The Wizard of Oz   \n",
       "299     5824699                   They Made Me a Criminal   \n",
       "\n",
       "                          Genre  Year                         Country    IMDb  \\\n",
       "0                Short, Musical  1930                         English  290635   \n",
       "1     Biography, Drama, History  1930                         English   20620   \n",
       "2                    Drama, War  1930  English, French, German, Latin   20629   \n",
       "3       Crime, Drama, Film-Noir  1930        English, Italian, French   20702   \n",
       "4              Animation, Music  1930                         English   21025   \n",
       "..                          ...   ...                             ...     ...   \n",
       "295   Animation, Comedy, Family  1939                         English   31803   \n",
       "296   Biography, Drama, History  1939                         English   31826   \n",
       "297   Adventure, Drama, Romance  1939                         English   31835   \n",
       "298  Adventure, Family, Fantasy  1939                         English   32138   \n",
       "299     Crime, Drama, Film-Noir  1939                         English   32022   \n",
       "\n",
       "                                             Tokenized  \\\n",
       "0    ['In', 'the', 'future', 'a', 'computer', 'prog...   \n",
       "1    ['Tom', 'Lincoln', 'It', \"'s\", 'a', 'comin', '...   \n",
       "2    ['Thirty', 'thousand', 'From', 'the', 'Russian...   \n",
       "3    ['Louis', 'Louis', 'Beretti', 'Shh', 'Put', 't...   \n",
       "4    ['Music', 'hath', 'charms', 'that', 'nothing',...   \n",
       "..                                                 ...   \n",
       "295  ['And', 'when', 'the', 'game', 'is', 'first', ...   \n",
       "296  ['There', 'he', 'is', 'How', 'nobly', 'he', 'b...   \n",
       "297  ['Good', 'morning', 'miss', 'macdaid', 'Good',...   \n",
       "298  ['The', 'Wizard', 'of', 'Oz', '1939', '29.97',...   \n",
       "299  ['CAPTIONING', 'MADE', 'POSSIBLE', 'BY', 'TURN...   \n",
       "\n",
       "                                                  Text  word_count  \\\n",
       "0    @3547424 In the future , a computer program ca...       35320   \n",
       "1    @3660608 Tom Lincoln ! It's a comin ' - Boy or...       49770   \n",
       "2    @60053 - Thirty thousand . - From the Russians...       69596   \n",
       "3    @3435788 Louis ? Louis ? - Beretti ? - Shh ! P...       49565   \n",
       "4    @6922578 Music hath charms that nothing else h...       33966   \n",
       "..                                                 ...         ...   \n",
       "295  @4655701 \" And when the game is first sighted ...        2335   \n",
       "296  @94962 There he is ! How nobly he bears himsel...       86174   \n",
       "297  @4417553 Good morning , miss macdaid . Good mo...       67649   \n",
       "298  @49387 The Wizard of Oz ( 1939 ) - 29.97 fps S...       73336   \n",
       "299  @5824699 CAPTIONING MADE POSSIBLE BY TURNER EN...       93899   \n",
       "\n",
       "                                     normalized_tokens  \n",
       "0    [future, computer, program, called, skynet, de...  \n",
       "1    [tom, lincoln, comin, boy, gal, t, ai, nt, fur...  \n",
       "2    [russians, french, russians, capture, day, mr,...  \n",
       "3    [louis, louis, beretti, shh, sap, know, better...  \n",
       "4    [music, hath, charms, music, hath, charms, cla...  \n",
       "..                                                 ...  \n",
       "295  [game, sighted, true, pointer, position, circu...  \n",
       "296  [nobly, bears, oh, wonderful, man, hero, carri...  \n",
       "297  [good, morning, miss, macdaid, good, morning, ...  \n",
       "298  [wizard, oz, fps, coming, toto, hurt, tried, c...  \n",
       "299  [captioning, possible, turner, entertainment, ...  \n",
       "\n",
       "[300 rows x 10 columns]"
      ]
     },
     "execution_count": 162,
     "metadata": {},
     "output_type": "execute_result"
    }
   ],
   "source": [
    "only_1930s"
   ]
  },
  {
   "cell_type": "code",
   "execution_count": 241,
   "metadata": {},
   "outputs": [
    {
     "name": "stderr",
     "output_type": "stream",
     "text": [
      "C:\\Users\\iarak\\Anaconda3\\Anaconda\\lib\\site-packages\\gensim\\models\\doc2vec.py:574: UserWarning: The parameter `size` is deprecated, will be removed in 4.0.0, use `vector_size` instead.\n",
      "  warnings.warn(\"The parameter `size` is deprecated, will be removed in 4.0.0, use `vector_size` instead.\")\n"
     ]
    }
   ],
   "source": [
    "mvD2V_female30 = gensim.models.doc2vec.Doc2Vec(only_1930s['Tagged_Female'], size = 100)"
   ]
  },
  {
   "cell_type": "code",
   "execution_count": 446,
   "metadata": {
    "scrolled": false
   },
   "outputs": [
    {
     "data": {
      "text/plain": [
       "[('danced', 0.8751518726348877),\n",
       " ('wonderful', 0.8557447195053101),\n",
       " ('grown', 0.8504206538200378),\n",
       " ('happy', 0.8413878679275513),\n",
       " ('beautiful', 0.8326112031936646),\n",
       " ('husbands', 0.8314074873924255),\n",
       " ('married', 0.8272198438644409),\n",
       " ('grandest', 0.8158673048019409),\n",
       " ('witty', 0.8075016736984253),\n",
       " ('cared', 0.8072414398193359)]"
      ]
     },
     "execution_count": 446,
     "metadata": {},
     "output_type": "execute_result"
    }
   ],
   "source": [
    "mvD2V_female30.most_similar(positive = ['woman','girl'], negative = ['boy','man'], topn = 10)"
   ]
  },
  {
   "cell_type": "code",
   "execution_count": 271,
   "metadata": {
    "scrolled": false
   },
   "outputs": [
    {
     "data": {
      "text/plain": [
       "[('fills', 0.870810866355896),\n",
       " ('whims', 0.8586344718933105),\n",
       " ('bachelor', 0.8577793836593628),\n",
       " ('galatea', 0.8541094064712524),\n",
       " ('passionately', 0.8492810130119324),\n",
       " ('sadly', 0.8484880924224854),\n",
       " ('sort', 0.8438996076583862),\n",
       " ('warsaw', 0.8437552452087402),\n",
       " ('flattered', 0.8420652151107788),\n",
       " ('misfortune', 0.8356046080589294)]"
      ]
     },
     "execution_count": 271,
     "metadata": {},
     "output_type": "execute_result"
    }
   ],
   "source": [
    "mvD2V_female30.most_similar(positive = ['woman','girl'], negative = ['boy'], topn = 10)"
   ]
  },
  {
   "cell_type": "code",
   "execution_count": 243,
   "metadata": {},
   "outputs": [
    {
     "data": {
      "text/plain": [
       "[('rod', 0.8757494688034058),\n",
       " ('winner', 0.8682180643081665),\n",
       " ('okay', 0.865630567073822),\n",
       " ('hey', 0.8622487783432007),\n",
       " ('bud', 0.8590623140335083),\n",
       " ('kelly', 0.8521363735198975),\n",
       " ('chew', 0.8508784174919128),\n",
       " ('vest', 0.8505472540855408),\n",
       " ('callin', 0.8472992181777954),\n",
       " ('kenny', 0.8464716672897339)]"
      ]
     },
     "execution_count": 243,
     "metadata": {},
     "output_type": "execute_result"
    }
   ],
   "source": [
    "mvD2V_female30.most_similar(positive = ['man','boy', 'boys'], negative = ['woman'], topn = 10)"
   ]
  },
  {
   "cell_type": "code",
   "execution_count": 244,
   "metadata": {},
   "outputs": [
    {
     "data": {
      "text/plain": [
       "[('The Private Lives of Elizabeth and Essex', 0.7831279039382935),\n",
       " ('The Wizard of Athens', 0.772983729839325),\n",
       " ('The Kiss Before the Mirror', 0.7203293442726135),\n",
       " ('The Cookie Carnival', 0.7196592688560486),\n",
       " ('Prophet Without Honor', 0.7093160152435303)]"
      ]
     },
     "execution_count": 244,
     "metadata": {},
     "output_type": "execute_result"
    }
   ],
   "source": [
    "mvD2V_female30.docvecs.most_similar([ mvD2V_female30['woman'] ], topn=5 )"
   ]
  },
  {
   "cell_type": "code",
   "execution_count": 245,
   "metadata": {
    "scrolled": true
   },
   "outputs": [
    {
     "data": {
      "text/plain": [
       "[('Prophet Without Honor', 0.6819611191749573),\n",
       " ('The Cookie Carnival', 0.6590220928192139),\n",
       " ('The Golden Touch', 0.6574287414550781),\n",
       " ('Forgotten Men', 0.6396072506904602),\n",
       " ('The Wizard of Athens', 0.6393693685531616)]"
      ]
     },
     "execution_count": 245,
     "metadata": {},
     "output_type": "execute_result"
    }
   ],
   "source": [
    "mvD2V_female30.docvecs.most_similar([ mvD2V_female30['man'] ], topn=5 )"
   ]
  },
  {
   "cell_type": "code",
   "execution_count": 246,
   "metadata": {},
   "outputs": [
    {
     "name": "stderr",
     "output_type": "stream",
     "text": [
      "C:\\Users\\iarak\\Anaconda3\\Anaconda\\lib\\site-packages\\gensim\\models\\doc2vec.py:574: UserWarning: The parameter `size` is deprecated, will be removed in 4.0.0, use `vector_size` instead.\n",
      "  warnings.warn(\"The parameter `size` is deprecated, will be removed in 4.0.0, use `vector_size` instead.\")\n"
     ]
    }
   ],
   "source": [
    "mvD2V_male30 = gensim.models.doc2vec.Doc2Vec(only_1930s['Tagged_Male'], size = 100)"
   ]
  },
  {
   "cell_type": "code",
   "execution_count": 247,
   "metadata": {
    "scrolled": true
   },
   "outputs": [
    {
     "data": {
      "text/plain": [
       "[('ethne', 0.8599731922149658),\n",
       " ('poor', 0.8572390675544739),\n",
       " ('happy', 0.8530095815658569),\n",
       " ('little', 0.8389343023300171),\n",
       " ('jittery', 0.8288356065750122),\n",
       " ('marvel', 0.8287340402603149),\n",
       " ('plumb', 0.8282456398010254),\n",
       " ('wonderful', 0.8279853463172913),\n",
       " ('jamboree', 0.8276212215423584),\n",
       " ('bit', 0.8253376483917236)]"
      ]
     },
     "execution_count": 247,
     "metadata": {},
     "output_type": "execute_result"
    }
   ],
   "source": [
    "mvD2V_male30.most_similar(positive = ['woman','girl'], negative = ['man'], topn = 10)"
   ]
  },
  {
   "cell_type": "code",
   "execution_count": 248,
   "metadata": {},
   "outputs": [
    {
     "data": {
      "text/plain": [
       "[('okay', 0.9269222617149353),\n",
       " ('hot', 0.9240001440048218),\n",
       " ('johnnie', 0.9159027338027954),\n",
       " ('chuck', 0.9149597883224487),\n",
       " ('hey', 0.9044833183288574),\n",
       " ('homework', 0.8992699384689331),\n",
       " ('eights', 0.8946920037269592),\n",
       " ('pan', 0.8932305574417114),\n",
       " ('curly', 0.8927897214889526),\n",
       " ('joe', 0.8920267820358276)]"
      ]
     },
     "execution_count": 248,
     "metadata": {},
     "output_type": "execute_result"
    }
   ],
   "source": [
    "mvD2V_male30.most_similar(positive = ['man','boy', 'boys'], negative = ['woman'], topn = 10)"
   ]
  },
  {
   "cell_type": "code",
   "execution_count": 249,
   "metadata": {},
   "outputs": [
    {
     "data": {
      "text/plain": [
       "[('King of Jazz', 0.8181129097938538),\n",
       " ('The Golden Touch', 0.7775777578353882),\n",
       " ('Java Head', 0.7525003552436829),\n",
       " ('Death Takes a Holiday', 0.7126948833465576),\n",
       " ('The Man in the Iron Mask', 0.7122690677642822)]"
      ]
     },
     "execution_count": 249,
     "metadata": {},
     "output_type": "execute_result"
    }
   ],
   "source": [
    "mvD2V_male30.docvecs.most_similar([ mvD2V_male30['woman'] ], topn=5 )"
   ]
  },
  {
   "cell_type": "code",
   "execution_count": 250,
   "metadata": {
    "scrolled": false
   },
   "outputs": [
    {
     "data": {
      "text/plain": [
       "[('The Golden Touch', 0.7935831546783447),\n",
       " ('The Wizard of Athens', 0.6168086528778076),\n",
       " ('Horse Feathers', 0.5772114992141724),\n",
       " (\"Father Noah's Ark\", 0.571049690246582),\n",
       " ('The Last Days of Pompeii', 0.5700556039810181)]"
      ]
     },
     "execution_count": 250,
     "metadata": {},
     "output_type": "execute_result"
    }
   ],
   "source": [
    "mvD2V_male30.docvecs.most_similar([ mvD2V_male30['man'] ], topn=5 )"
   ]
  },
  {
   "cell_type": "code",
   "execution_count": 252,
   "metadata": {},
   "outputs": [
    {
     "name": "stderr",
     "output_type": "stream",
     "text": [
      "C:\\Users\\iarak\\Anaconda3\\Anaconda\\lib\\site-packages\\gensim\\models\\doc2vec.py:574: UserWarning: The parameter `size` is deprecated, will be removed in 4.0.0, use `vector_size` instead.\n",
      "  warnings.warn(\"The parameter `size` is deprecated, will be removed in 4.0.0, use `vector_size` instead.\")\n"
     ]
    }
   ],
   "source": [
    "mvD2V_female10 = gensim.models.doc2vec.Doc2Vec(only_2010s['Tagged_Female'], size = 100)"
   ]
  },
  {
   "cell_type": "code",
   "execution_count": 253,
   "metadata": {
    "scrolled": true
   },
   "outputs": [
    {
     "name": "stderr",
     "output_type": "stream",
     "text": [
      "C:\\Users\\iarak\\Anaconda3\\Anaconda\\lib\\site-packages\\gensim\\models\\doc2vec.py:574: UserWarning: The parameter `size` is deprecated, will be removed in 4.0.0, use `vector_size` instead.\n",
      "  warnings.warn(\"The parameter `size` is deprecated, will be removed in 4.0.0, use `vector_size` instead.\")\n"
     ]
    }
   ],
   "source": [
    "mvD2V_male10 = gensim.models.doc2vec.Doc2Vec(only_2010s['Tagged_Male'], size = 100)"
   ]
  },
  {
   "cell_type": "code",
   "execution_count": 296,
   "metadata": {},
   "outputs": [
    {
     "name": "stderr",
     "output_type": "stream",
     "text": [
      "C:\\Users\\iarak\\Anaconda3\\Anaconda\\lib\\site-packages\\gensim\\models\\doc2vec.py:574: UserWarning: The parameter `size` is deprecated, will be removed in 4.0.0, use `vector_size` instead.\n",
      "  warnings.warn(\"The parameter `size` is deprecated, will be removed in 4.0.0, use `vector_size` instead.\")\n"
     ]
    }
   ],
   "source": [
    "mvD2V_female50 = gensim.models.doc2vec.Doc2Vec(only_1950s['Tagged_Female'], size = 100)"
   ]
  },
  {
   "cell_type": "code",
   "execution_count": 300,
   "metadata": {},
   "outputs": [
    {
     "data": {
      "text/plain": [
       "[('faithful', 0.8399957418441772),\n",
       " ('sophisticated', 0.8392194509506226),\n",
       " ('attractive', 0.8286294937133789),\n",
       " ('mustache', 0.8201954364776611),\n",
       " ('unreal', 0.8033789396286011),\n",
       " ('marriage', 0.7966414093971252),\n",
       " ('quality', 0.7872207164764404),\n",
       " ('modest', 0.7836649417877197),\n",
       " ('farthing', 0.7808701992034912),\n",
       " ('women', 0.7785411477088928)]"
      ]
     },
     "execution_count": 300,
     "metadata": {},
     "output_type": "execute_result"
    }
   ],
   "source": [
    "mvD2V_female50.most_similar(positive = ['woman','girl'], negative = ['boy', 'man'], topn = 10)"
   ]
  },
  {
   "cell_type": "code",
   "execution_count": 431,
   "metadata": {},
   "outputs": [
    {
     "data": {
      "text/plain": [
       "[('rue', 0.6686202883720398),\n",
       " ('unreal', 0.6677115559577942),\n",
       " ('nightgown', 0.6505573391914368),\n",
       " ('coloured', 0.6226263642311096),\n",
       " ('undressing', 0.6157325506210327),\n",
       " ('countryside', 0.614405632019043),\n",
       " ('finnish', 0.5984609127044678),\n",
       " ('marriage', 0.594973087310791),\n",
       " ('faithful', 0.5868976712226868),\n",
       " ('spells', 0.5847991108894348)]"
      ]
     },
     "execution_count": 431,
     "metadata": {},
     "output_type": "execute_result"
    }
   ],
   "source": [
    "mvD2V_female50.most_similar(positive = ['woman','girl'], negative = ['man'], topn = 10)"
   ]
  },
  {
   "cell_type": "code",
   "execution_count": 297,
   "metadata": {
    "scrolled": true
   },
   "outputs": [
    {
     "name": "stderr",
     "output_type": "stream",
     "text": [
      "C:\\Users\\iarak\\Anaconda3\\Anaconda\\lib\\site-packages\\gensim\\models\\doc2vec.py:574: UserWarning: The parameter `size` is deprecated, will be removed in 4.0.0, use `vector_size` instead.\n",
      "  warnings.warn(\"The parameter `size` is deprecated, will be removed in 4.0.0, use `vector_size` instead.\")\n"
     ]
    }
   ],
   "source": [
    "mvD2V_male50 = gensim.models.doc2vec.Doc2Vec(only_1950s['Tagged_Male'], size = 100)"
   ]
  },
  {
   "cell_type": "code",
   "execution_count": 436,
   "metadata": {},
   "outputs": [
    {
     "data": {
      "text/plain": [
       "[('unreal', 0.6547532081604004),\n",
       " ('implications', 0.6396994590759277),\n",
       " ('unspoiled', 0.6319620609283447),\n",
       " ('biology', 0.6225079298019409),\n",
       " ('sweetly', 0.6195385456085205),\n",
       " ('romantic', 0.6165996789932251),\n",
       " ('inquisitive', 0.614595890045166),\n",
       " ('tenderness', 0.6062914729118347),\n",
       " ('musical', 0.6060701608657837),\n",
       " ('cambridge', 0.6027778387069702)]"
      ]
     },
     "execution_count": 436,
     "metadata": {},
     "output_type": "execute_result"
    }
   ],
   "source": [
    "mvD2V_male50.most_similar(positive = ['woman','girl'], negative = ['boy', 'man'], topn = 10)"
   ]
  },
  {
   "cell_type": "code",
   "execution_count": null,
   "metadata": {},
   "outputs": [],
   "source": []
  },
  {
   "cell_type": "code",
   "execution_count": 469,
   "metadata": {},
   "outputs": [
    {
     "data": {
      "text/plain": [
       "[('kahlo', 0.43362975120544434),\n",
       " ('compounded', 0.39324620366096497),\n",
       " ('spouse', 0.3930877149105072),\n",
       " ('wetting', 0.3902273178100586),\n",
       " ('carmela', 0.3896549642086029),\n",
       " ('repulsive', 0.3879573941230774),\n",
       " ('orgasm', 0.37481024861335754),\n",
       " ('anastasia', 0.3741909861564636),\n",
       " ('narcolepsy', 0.3733978271484375),\n",
       " ('mikayla', 0.36498379707336426)]"
      ]
     },
     "execution_count": 469,
     "metadata": {},
     "output_type": "execute_result"
    }
   ],
   "source": [
    "mvD2V_male10.most_similar(positive = ['woman','girl'], negative = ['boy', 'man'], topn = 10)"
   ]
  },
  {
   "cell_type": "code",
   "execution_count": 298,
   "metadata": {},
   "outputs": [
    {
     "name": "stderr",
     "output_type": "stream",
     "text": [
      "C:\\Users\\iarak\\Anaconda3\\Anaconda\\lib\\site-packages\\gensim\\models\\doc2vec.py:574: UserWarning: The parameter `size` is deprecated, will be removed in 4.0.0, use `vector_size` instead.\n",
      "  warnings.warn(\"The parameter `size` is deprecated, will be removed in 4.0.0, use `vector_size` instead.\")\n"
     ]
    }
   ],
   "source": [
    "mvD2V_female00 = gensim.models.doc2vec.Doc2Vec(only_2000s['Tagged_Female'], size = 100)"
   ]
  },
  {
   "cell_type": "code",
   "execution_count": 432,
   "metadata": {},
   "outputs": [
    {
     "data": {
      "text/plain": [
       "[('ayoung', 0.421100914478302),\n",
       " ('romantic', 0.4095713794231415),\n",
       " ('exhibitionist', 0.4050207734107971),\n",
       " ('monogamous', 0.4032568633556366),\n",
       " ('attractive', 0.40316757559776306),\n",
       " ('flirts', 0.398554265499115),\n",
       " ('reesa', 0.3958331048488617),\n",
       " ('sex', 0.3800505995750427),\n",
       " ('husband', 0.3777911961078644),\n",
       " ('tantric', 0.3761769235134125)]"
      ]
     },
     "execution_count": 432,
     "metadata": {},
     "output_type": "execute_result"
    }
   ],
   "source": [
    "mvD2V_female00.most_similar(positive = ['woman','girl'], negative = ['boy', 'man'], topn = 10)"
   ]
  },
  {
   "cell_type": "code",
   "execution_count": 299,
   "metadata": {
    "scrolled": true
   },
   "outputs": [
    {
     "name": "stderr",
     "output_type": "stream",
     "text": [
      "C:\\Users\\iarak\\Anaconda3\\Anaconda\\lib\\site-packages\\gensim\\models\\doc2vec.py:574: UserWarning: The parameter `size` is deprecated, will be removed in 4.0.0, use `vector_size` instead.\n",
      "  warnings.warn(\"The parameter `size` is deprecated, will be removed in 4.0.0, use `vector_size` instead.\")\n"
     ]
    }
   ],
   "source": [
    "mvD2V_male00 = gensim.models.doc2vec.Doc2Vec(only_2000s['Tagged_Male'], size = 100)"
   ]
  },
  {
   "cell_type": "markdown",
   "metadata": {},
   "source": []
  },
  {
   "cell_type": "code",
   "execution_count": 305,
   "metadata": {},
   "outputs": [
    {
     "data": {
      "text/html": [
       "<div>\n",
       "<style scoped>\n",
       "    .dataframe tbody tr th:only-of-type {\n",
       "        vertical-align: middle;\n",
       "    }\n",
       "\n",
       "    .dataframe tbody tr th {\n",
       "        vertical-align: top;\n",
       "    }\n",
       "\n",
       "    .dataframe thead th {\n",
       "        text-align: right;\n",
       "    }\n",
       "</style>\n",
       "<table border=\"1\" class=\"dataframe\">\n",
       "  <thead>\n",
       "    <tr style=\"text-align: right;\">\n",
       "      <th></th>\n",
       "      <th>Unnamed: 0</th>\n",
       "      <th>Movie Name</th>\n",
       "      <th>Genre</th>\n",
       "      <th>Year</th>\n",
       "      <th>Country</th>\n",
       "      <th>IMDb</th>\n",
       "      <th>Tokenized</th>\n",
       "      <th>Text</th>\n",
       "    </tr>\n",
       "  </thead>\n",
       "  <tbody>\n",
       "    <tr>\n",
       "      <th>5</th>\n",
       "      <td>216680</td>\n",
       "      <td>Maybe It's Love</td>\n",
       "      <td>Comedy, Romance, Sport</td>\n",
       "      <td>1930</td>\n",
       "      <td>English</td>\n",
       "      <td>21133</td>\n",
       "      <td>['Hey', 'I', \"'m\", 'talking', 'to', 'you', 'Gi...</td>\n",
       "      <td>@216680 Hey , I'm talking to you Give me 600 d...</td>\n",
       "    </tr>\n",
       "    <tr>\n",
       "      <th>8</th>\n",
       "      <td>5242481</td>\n",
       "      <td>The Divorcee</td>\n",
       "      <td>Romance, Drama</td>\n",
       "      <td>1930</td>\n",
       "      <td>English, French</td>\n",
       "      <td>20827</td>\n",
       "      <td>['SINGIN', 'INTHERAINPLAYINGONRADIO', 'PLAYING...</td>\n",
       "      <td>@5242481 ( SINGIN ' INTHERAINPLAYINGONRADIO ) ...</td>\n",
       "    </tr>\n",
       "    <tr>\n",
       "      <th>12</th>\n",
       "      <td>5159706</td>\n",
       "      <td>The Wizard of Athens</td>\n",
       "      <td>Romance</td>\n",
       "      <td>1931</td>\n",
       "      <td>NaN</td>\n",
       "      <td>232030</td>\n",
       "      <td>['The', 'film', 'was', 'restored', 'with', 'th...</td>\n",
       "      <td>@5159706 The film was restored with the help o...</td>\n",
       "    </tr>\n",
       "    <tr>\n",
       "      <th>14</th>\n",
       "      <td>4735122</td>\n",
       "      <td>An American Tragedy</td>\n",
       "      <td>Crime, Drama, Romance</td>\n",
       "      <td>1931</td>\n",
       "      <td>English</td>\n",
       "      <td>21607</td>\n",
       "      <td>['Front', 'For', 'Mrs', 'Adams', '310', 'Thank...</td>\n",
       "      <td>@4735122 Front ! For Mrs . Adams , 310 . - Tha...</td>\n",
       "    </tr>\n",
       "    <tr>\n",
       "      <th>16</th>\n",
       "      <td>3512517</td>\n",
       "      <td>Bad Girl</td>\n",
       "      <td>Drama, Romance</td>\n",
       "      <td>1931</td>\n",
       "      <td>English</td>\n",
       "      <td>21635</td>\n",
       "      <td>['I', \"'m\", 'most', 'frightened', 'to', 'death...</td>\n",
       "      <td>@3512517 I'm ' most frightened to death . Sure...</td>\n",
       "    </tr>\n",
       "  </tbody>\n",
       "</table>\n",
       "</div>"
      ],
      "text/plain": [
       "    Unnamed: 0            Movie Name                   Genre  Year  \\\n",
       "5       216680       Maybe It's Love  Comedy, Romance, Sport  1930   \n",
       "8      5242481          The Divorcee          Romance, Drama  1930   \n",
       "12     5159706  The Wizard of Athens                 Romance  1931   \n",
       "14     4735122   An American Tragedy   Crime, Drama, Romance  1931   \n",
       "16     3512517              Bad Girl          Drama, Romance  1931   \n",
       "\n",
       "            Country    IMDb  \\\n",
       "5           English   21133   \n",
       "8   English, French   20827   \n",
       "12              NaN  232030   \n",
       "14          English   21607   \n",
       "16          English   21635   \n",
       "\n",
       "                                            Tokenized  \\\n",
       "5   ['Hey', 'I', \"'m\", 'talking', 'to', 'you', 'Gi...   \n",
       "8   ['SINGIN', 'INTHERAINPLAYINGONRADIO', 'PLAYING...   \n",
       "12  ['The', 'film', 'was', 'restored', 'with', 'th...   \n",
       "14  ['Front', 'For', 'Mrs', 'Adams', '310', 'Thank...   \n",
       "16  ['I', \"'m\", 'most', 'frightened', 'to', 'death...   \n",
       "\n",
       "                                                 Text  \n",
       "5   @216680 Hey , I'm talking to you Give me 600 d...  \n",
       "8   @5242481 ( SINGIN ' INTHERAINPLAYINGONRADIO ) ...  \n",
       "12  @5159706 The film was restored with the help o...  \n",
       "14  @4735122 Front ! For Mrs . Adams , 310 . - Tha...  \n",
       "16  @3512517 I'm ' most frightened to death . Sure...  "
      ]
     },
     "execution_count": 305,
     "metadata": {},
     "output_type": "execute_result"
    }
   ],
   "source": [
    "mov_romance.head()"
   ]
  },
  {
   "cell_type": "code",
   "execution_count": null,
   "metadata": {},
   "outputs": [],
   "source": [
    "mvD2V_female50.most_similar(positive = ['woman','girl'], negative = ['boy'], topn = 10)"
   ]
  },
  {
   "cell_type": "code",
   "execution_count": 303,
   "metadata": {},
   "outputs": [
    {
     "data": {
      "text/plain": [
       "[('ayoung', 0.4809384346008301),\n",
       " ('disgraziata', 0.47323155403137207),\n",
       " ('@woman_sobbing', 0.4613232910633087),\n",
       " ('scorned', 0.45875248312950134),\n",
       " ('attractive', 0.4490853548049927),\n",
       " ('sexy', 0.4464961290359497),\n",
       " ('engaged', 0.44285258650779724),\n",
       " ('husband', 0.43684622645378113),\n",
       " ('lady', 0.43442755937576294),\n",
       " ('monologues', 0.43098539113998413)]"
      ]
     },
     "execution_count": 303,
     "metadata": {},
     "output_type": "execute_result"
    }
   ],
   "source": [
    "mvD2V_male00.most_similar(positive = ['woman','girl'], negative = ['boy'], topn = 10)"
   ]
  },
  {
   "cell_type": "code",
   "execution_count": 269,
   "metadata": {
    "scrolled": false
   },
   "outputs": [
    {
     "data": {
      "text/plain": [
       "[('attractive', 0.5501745939254761),\n",
       " ('lady', 0.5045493841171265),\n",
       " ('sexy', 0.45774829387664795),\n",
       " ('women', 0.45704615116119385),\n",
       " ('virtuous', 0.4526621103286743),\n",
       " ('lesbian', 0.4518219232559204),\n",
       " ('vagina', 0.43385642766952515),\n",
       " ('succubus', 0.43176722526550293),\n",
       " ('extensions', 0.43111667037010193),\n",
       " ('passionately', 0.4297320246696472)]"
      ]
     },
     "execution_count": 269,
     "metadata": {},
     "output_type": "execute_result"
    }
   ],
   "source": [
    "mvD2V_female10.most_similar(positive = ['woman','girl'], negative = ['boy', 'man'], topn = 10)"
   ]
  },
  {
   "cell_type": "code",
   "execution_count": 272,
   "metadata": {
    "scrolled": false
   },
   "outputs": [
    {
     "data": {
      "text/plain": [
       "[('teenage', 0.5076894164085388),\n",
       " ('prettiest', 0.47473573684692383),\n",
       " ('repulsive', 0.4720174968242645),\n",
       " ('anastasia', 0.46894145011901855),\n",
       " ('unisex', 0.4540039896965027),\n",
       " ('gal', 0.4490604102611542),\n",
       " ('daughter', 0.4469003677368164),\n",
       " ('attractive', 0.446414053440094),\n",
       " ('blonde', 0.4446640610694885),\n",
       " ('cutest', 0.4441664516925812)]"
      ]
     },
     "execution_count": 272,
     "metadata": {},
     "output_type": "execute_result"
    }
   ],
   "source": [
    "mvD2V_female10.most_similar(positive = ['woman','girl'], negative = ['man'], topn = 10)"
   ]
  },
  {
   "cell_type": "code",
   "execution_count": 270,
   "metadata": {},
   "outputs": [
    {
     "data": {
      "text/plain": [
       "[('pac', 0.5555817484855652),\n",
       " ('kenyon', 0.5414891242980957),\n",
       " ('suge', 0.5100535154342651),\n",
       " ('wassup', 0.49403077363967896),\n",
       " ('holla', 0.49166756868362427),\n",
       " ('adage', 0.4767882227897644),\n",
       " ('dawg', 0.47488802671432495),\n",
       " ('strath', 0.47144997119903564),\n",
       " ('homie', 0.4710428714752197),\n",
       " ('lad', 0.4698023498058319)]"
      ]
     },
     "execution_count": 270,
     "metadata": {},
     "output_type": "execute_result"
    }
   ],
   "source": [
    "mvD2V_female10.most_similar(positive = ['man','boy'], negative = ['girl'], topn = 10)"
   ]
  },
  {
   "cell_type": "code",
   "execution_count": 273,
   "metadata": {},
   "outputs": [
    {
     "data": {
      "text/plain": [
       "[('holla', 0.5561041831970215),\n",
       " ('homie', 0.5540950298309326),\n",
       " ('buddy', 0.5457623600959778),\n",
       " (\"ol'\", 0.5332292318344116),\n",
       " ('lad', 0.5123417377471924),\n",
       " ('jangers', 0.5032162070274353),\n",
       " ('baldy', 0.4975564479827881),\n",
       " ('looky', 0.4960930347442627),\n",
       " ('dawg', 0.4960693120956421),\n",
       " ('sparring', 0.49574899673461914)]"
      ]
     },
     "execution_count": 273,
     "metadata": {},
     "output_type": "execute_result"
    }
   ],
   "source": [
    "mvD2V_female10.most_similar(positive = ['man','boy'], negative = ['woman'], topn = 10)"
   ]
  },
  {
   "cell_type": "code",
   "execution_count": 256,
   "metadata": {},
   "outputs": [
    {
     "data": {
      "text/plain": [
       "[('The Sheik', 0.3647248148918152),\n",
       " ('The Trials of Muhammad Ali', 0.35542288422584534),\n",
       " ('Michael Che Matters', 0.3355468809604645),\n",
       " ('Islam: The Untold Story', 0.32005053758621216),\n",
       " ('The Infidel', 0.31960564851760864)]"
      ]
     },
     "execution_count": 256,
     "metadata": {},
     "output_type": "execute_result"
    }
   ],
   "source": [
    "mvD2V_female10.docvecs.most_similar([ mvD2V_female10['woman'] ], topn=5 )"
   ]
  },
  {
   "cell_type": "code",
   "execution_count": 257,
   "metadata": {
    "scrolled": true
   },
   "outputs": [
    {
     "data": {
      "text/plain": [
       "[('Kill Kapone', 0.4358126223087311),\n",
       " ('Moonlight', 0.4162462651729584),\n",
       " ('Gimme the Loot', 0.3777922987937927),\n",
       " ('Popstar: Never Stop Never Stopping', 0.3574278652667999),\n",
       " ('11:55', 0.35534051060676575)]"
      ]
     },
     "execution_count": 257,
     "metadata": {},
     "output_type": "execute_result"
    }
   ],
   "source": [
    "mvD2V_female10.docvecs.most_similar([ mvD2V_female10['man'] ], topn=5 )"
   ]
  },
  {
   "cell_type": "code",
   "execution_count": 274,
   "metadata": {
    "scrolled": true
   },
   "outputs": [
    {
     "data": {
      "text/plain": [
       "[('mousy', 0.4952544569969177),\n",
       " ('viviane', 0.48638713359832764),\n",
       " ('teenage', 0.46564269065856934),\n",
       " ('kahlo', 0.4628382921218872),\n",
       " ('daughter', 0.4587686359882355),\n",
       " ('repulsive', 0.4586496651172638),\n",
       " ('midwife', 0.4584082365036011),\n",
       " ('prettiest', 0.4486565887928009),\n",
       " ('thatta', 0.4433322846889496),\n",
       " ('plaything', 0.44203343987464905)]"
      ]
     },
     "execution_count": 274,
     "metadata": {},
     "output_type": "execute_result"
    }
   ],
   "source": [
    "mvD2V_male10.most_similar(positive = ['woman','girl'], negative = ['man'], topn = 10)"
   ]
  },
  {
   "cell_type": "code",
   "execution_count": 275,
   "metadata": {
    "scrolled": true
   },
   "outputs": [
    {
     "data": {
      "text/plain": [
       "[('attractive', 0.5243823528289795),\n",
       " ('spouse', 0.4797504246234894),\n",
       " ('viviane', 0.46638941764831543),\n",
       " ('lady', 0.45652347803115845),\n",
       " ('women', 0.4493873119354248),\n",
       " ('vag', 0.4432179033756256),\n",
       " ('attentions', 0.43785402178764343),\n",
       " ('slowmusicplaying', 0.4377157390117645),\n",
       " ('youwould', 0.4332337975502014),\n",
       " ('threesome', 0.42975151538848877)]"
      ]
     },
     "execution_count": 275,
     "metadata": {},
     "output_type": "execute_result"
    }
   ],
   "source": [
    "mvD2V_male10.most_similar(positive = ['woman','girl'], negative = ['boy'], topn = 10)"
   ]
  },
  {
   "cell_type": "code",
   "execution_count": 264,
   "metadata": {},
   "outputs": [
    {
     "data": {
      "text/plain": [
       "[('looky', 0.5742918848991394),\n",
       " ('cutz', 0.572991132736206),\n",
       " ('ozzie', 0.5533235669136047),\n",
       " ('dawg', 0.5314915180206299),\n",
       " ('homie', 0.529471755027771),\n",
       " ('holla', 0.527309238910675),\n",
       " ('homey', 0.525794506072998),\n",
       " ('blanco', 0.5239157676696777),\n",
       " ('ralphie', 0.5217177867889404),\n",
       " ('watusi', 0.5209876298904419)]"
      ]
     },
     "execution_count": 264,
     "metadata": {},
     "output_type": "execute_result"
    }
   ],
   "source": [
    "mvD2V_male10.most_similar(positive = ['man','boy', 'male'], negative = ['woman'], topn = 10)"
   ]
  },
  {
   "cell_type": "code",
   "execution_count": 261,
   "metadata": {},
   "outputs": [
    {
     "data": {
      "text/plain": [
       "[('The Coalition', 0.3954083323478699),\n",
       " ('Secrets of a Psychopath', 0.3932313024997711),\n",
       " (563, 0.3836069107055664),\n",
       " ('Naked', 0.3682278096675873),\n",
       " ('Da Sweet Blood of Jesus', 0.35995328426361084)]"
      ]
     },
     "execution_count": 261,
     "metadata": {},
     "output_type": "execute_result"
    }
   ],
   "source": [
    "mvD2V_male10.docvecs.most_similar([ mvD2V_male10['woman'] ], topn=5 )"
   ]
  },
  {
   "cell_type": "code",
   "execution_count": 262,
   "metadata": {
    "scrolled": true
   },
   "outputs": [
    {
     "data": {
      "text/plain": [
       "[('Moonlight', 0.4425789713859558),\n",
       " ('Gimme the Loot', 0.3990898132324219),\n",
       " (964, 0.37310439348220825),\n",
       " ('Popstar: Never Stop Never Stopping', 0.3723667860031128),\n",
       " ('American Brawler', 0.360543429851532)]"
      ]
     },
     "execution_count": 262,
     "metadata": {},
     "output_type": "execute_result"
    }
   ],
   "source": [
    "mvD2V_male10.docvecs.most_similar([ mvD2V_male10['man'] ], topn=5 )"
   ]
  },
  {
   "cell_type": "code",
   "execution_count": 312,
   "metadata": {},
   "outputs": [
    {
     "name": "stderr",
     "output_type": "stream",
     "text": [
      "C:\\Users\\iarak\\Anaconda3\\Anaconda\\lib\\site-packages\\gensim\\models\\doc2vec.py:574: UserWarning: The parameter `size` is deprecated, will be removed in 4.0.0, use `vector_size` instead.\n",
      "  warnings.warn(\"The parameter `size` is deprecated, will be removed in 4.0.0, use `vector_size` instead.\")\n"
     ]
    }
   ],
   "source": [
    "mvD2V_rom_male = gensim.models.doc2vec.Doc2Vec(mov_romance['Tagged_Male'], size = 100)"
   ]
  },
  {
   "cell_type": "code",
   "execution_count": 313,
   "metadata": {},
   "outputs": [
    {
     "name": "stderr",
     "output_type": "stream",
     "text": [
      "C:\\Users\\iarak\\Anaconda3\\Anaconda\\lib\\site-packages\\gensim\\models\\doc2vec.py:574: UserWarning: The parameter `size` is deprecated, will be removed in 4.0.0, use `vector_size` instead.\n",
      "  warnings.warn(\"The parameter `size` is deprecated, will be removed in 4.0.0, use `vector_size` instead.\")\n"
     ]
    }
   ],
   "source": [
    "mvD2V_rom_female = gensim.models.doc2vec.Doc2Vec(mov_romance['Tagged_Female'], size = 100)"
   ]
  },
  {
   "cell_type": "code",
   "execution_count": 434,
   "metadata": {},
   "outputs": [
    {
     "data": {
      "text/plain": [
       "[('attractive', 0.543552041053772),\n",
       " ('desirable', 0.5255258083343506),\n",
       " ('prostitute', 0.5176061391830444),\n",
       " ('vivacious', 0.5054903030395508),\n",
       " ('impressionable', 0.503525972366333),\n",
       " ('ideal', 0.4975433051586151),\n",
       " ('magda', 0.49329113960266113),\n",
       " ('adele', 0.4838694930076599),\n",
       " ('demure', 0.48195120692253113),\n",
       " ('intelligent', 0.47508466243743896)]"
      ]
     },
     "execution_count": 434,
     "metadata": {},
     "output_type": "execute_result"
    }
   ],
   "source": [
    "mvD2V_rom_female.most_similar(positive = ['woman','girl'], negative = ['boy', 'man'], topn = 10)"
   ]
  },
  {
   "cell_type": "code",
   "execution_count": 325,
   "metadata": {
    "scrolled": false
   },
   "outputs": [
    {
     "data": {
      "text/plain": [
       "[('adele', 0.5639798641204834),\n",
       " ('prettiest', 0.5620129108428955),\n",
       " ('insanely', 0.5505530834197998),\n",
       " ('attractive', 0.5194960236549377),\n",
       " ('meta', 0.5139561295509338),\n",
       " ('jealous', 0.5102865695953369),\n",
       " ('impressionable', 0.5059460997581482),\n",
       " ('redhead', 0.4959574341773987),\n",
       " ('glamour', 0.49541404843330383),\n",
       " ('feisty', 0.4921097755432129)]"
      ]
     },
     "execution_count": 325,
     "metadata": {},
     "output_type": "execute_result"
    }
   ],
   "source": [
    "mvD2V_rom_female.most_similar(positive = ['woman','girl'], negative = ['man'], topn = 10)"
   ]
  },
  {
   "cell_type": "code",
   "execution_count": 338,
   "metadata": {
    "scrolled": false
   },
   "outputs": [
    {
     "data": {
      "text/plain": [
       "[('prettiest', 0.579849123954773),\n",
       " ('goldenrod', 0.5258733034133911),\n",
       " ('blond', 0.5102574825286865),\n",
       " ('attractive', 0.4982985258102417),\n",
       " ('redhead', 0.4951922297477722),\n",
       " ('insanely', 0.4912869334220886),\n",
       " ('mermaid', 0.4798300266265869),\n",
       " ('wilma', 0.4768679141998291),\n",
       " ('adele', 0.47348636388778687),\n",
       " ('paraded', 0.47293227910995483)]"
      ]
     },
     "execution_count": 338,
     "metadata": {},
     "output_type": "execute_result"
    }
   ],
   "source": [
    "mvD2V_rom_male.most_similar(positive = ['woman','girl'], negative = ['man'], topn = 10)"
   ]
  },
  {
   "cell_type": "code",
   "execution_count": 327,
   "metadata": {
    "scrolled": false
   },
   "outputs": [
    {
     "data": {
      "text/plain": [
       "[('redhead', 0.5138537883758545),\n",
       " ('peignoir', 0.5102139711380005),\n",
       " ('prettiest', 0.5037169456481934),\n",
       " ('attractive', 0.5025854110717773),\n",
       " ('scrubba', 0.492868572473526),\n",
       " ('charmer', 0.4899721145629883),\n",
       " ('blonde', 0.47883540391921997),\n",
       " ('flirt', 0.46782612800598145),\n",
       " ('daughter', 0.46521151065826416),\n",
       " ('schoolgirl', 0.4647250175476074)]"
      ]
     },
     "execution_count": 327,
     "metadata": {},
     "output_type": "execute_result"
    }
   ],
   "source": [
    "mvD2V_com_female.most_similar(positive = ['woman','girl'], negative = ['man', 'boy'], topn = 10)"
   ]
  },
  {
   "cell_type": "code",
   "execution_count": 339,
   "metadata": {
    "scrolled": false
   },
   "outputs": [
    {
     "data": {
      "text/plain": [
       "[('prettiest', 0.5202256441116333),\n",
       " ('redhead', 0.49230724573135376),\n",
       " ('cellringing', 0.469688355922699),\n",
       " ('jenna', 0.463897705078125),\n",
       " ('attractive', 0.45945030450820923),\n",
       " ('pinup', 0.45561161637306213),\n",
       " ('daughter', 0.4534066319465637),\n",
       " ('peignoir', 0.4477114677429199),\n",
       " ('blonde', 0.4470895230770111),\n",
       " ('teenage', 0.4421575665473938)]"
      ]
     },
     "execution_count": 339,
     "metadata": {},
     "output_type": "execute_result"
    }
   ],
   "source": [
    "mvD2V_com_male.most_similar(positive = ['woman','girl'], negative = ['man'], topn = 10)"
   ]
  },
  {
   "cell_type": "code",
   "execution_count": 352,
   "metadata": {
    "scrolled": false
   },
   "outputs": [
    {
     "data": {
      "text/plain": [
       "[('cynthia', 0.8991438150405884),\n",
       " ('cheeky', 0.883186399936676),\n",
       " ('mood', 0.8707400560379028),\n",
       " ('diving', 0.870449423789978),\n",
       " ('wife', 0.8673449158668518),\n",
       " ('lovers', 0.8655206561088562),\n",
       " ('sticky', 0.8611229658126831),\n",
       " ('stig', 0.85368412733078),\n",
       " ('tattoo', 0.8490241765975952),\n",
       " ('drawer', 0.8488390445709229)]"
      ]
     },
     "execution_count": 352,
     "metadata": {},
     "output_type": "execute_result"
    }
   ],
   "source": [
    "mvD2V_sport_female.most_similar(positive = ['woman','girl'], negative = ['boy'], topn = 10)"
   ]
  },
  {
   "cell_type": "code",
   "execution_count": 448,
   "metadata": {
    "scrolled": false
   },
   "outputs": [
    {
     "data": {
      "text/plain": [
       "[('zoo', 0.7864915132522583),\n",
       " ('gasa', 0.7713215351104736),\n",
       " ('jesse', 0.7037802934646606),\n",
       " ('babysitter', 0.6995480060577393),\n",
       " ('cousins', 0.6990125775337219),\n",
       " ('privy', 0.6936843395233154),\n",
       " ('puerto', 0.6888267993927002),\n",
       " ('yu', 0.6810210943222046),\n",
       " ('nauseous', 0.6684030294418335),\n",
       " ('friend', 0.6672254204750061)]"
      ]
     },
     "execution_count": 448,
     "metadata": {},
     "output_type": "execute_result"
    }
   ],
   "source": [
    "mvD2V_sport_male.most_similar(positive = ['woman','girl'], negative = ['man', 'boy'], topn = 10)"
   ]
  },
  {
   "cell_type": "code",
   "execution_count": 447,
   "metadata": {
    "scrolled": false
   },
   "outputs": [
    {
     "data": {
      "text/plain": [
       "[('tong', 0.47916531562805176),\n",
       " ('sleepwalk', 0.47539374232292175),\n",
       " ('marcellina', 0.4216529130935669),\n",
       " ('prona', 0.4198969900608063),\n",
       " ('bernice', 0.40237897634506226),\n",
       " ('premeditated', 0.39812546968460083),\n",
       " ('diary', 0.3924519419670105),\n",
       " ('53rd', 0.3877643346786499),\n",
       " ('lovett', 0.3866000175476074),\n",
       " ('kipling', 0.3809763491153717)]"
      ]
     },
     "execution_count": 447,
     "metadata": {},
     "output_type": "execute_result"
    }
   ],
   "source": [
    "mvD2V_hor_female.most_similar(positive = ['woman','girl'], negative = ['man', 'boy'], topn = 10)"
   ]
  },
  {
   "cell_type": "code",
   "execution_count": 341,
   "metadata": {
    "scrolled": false
   },
   "outputs": [
    {
     "data": {
      "text/plain": [
       "[('beezel', 0.5858185887336731),\n",
       " ('child', 0.5797515511512756),\n",
       " ('prettiest', 0.5778923034667969),\n",
       " ('sister', 0.5757694840431213),\n",
       " ('orphan', 0.5677846670150757),\n",
       " ('judie', 0.5676324367523193),\n",
       " ('terrace', 0.5632544159889221),\n",
       " ('diary', 0.5605330467224121),\n",
       " ('mancini', 0.5568317174911499),\n",
       " ('angel', 0.5518367290496826)]"
      ]
     },
     "execution_count": 341,
     "metadata": {},
     "output_type": "execute_result"
    }
   ],
   "source": [
    "mvD2V_hor_male.most_similar(positive = ['woman','girl'], negative = ['man'], topn = 10)"
   ]
  },
  {
   "cell_type": "code",
   "execution_count": 330,
   "metadata": {
    "scrolled": false
   },
   "outputs": [
    {
     "data": {
      "text/plain": [
       "[('flower', 0.766666054725647),\n",
       " ('attractive', 0.750607967376709),\n",
       " ('wookiee', 0.7502974271774292),\n",
       " ('brunette', 0.7406696081161499),\n",
       " ('sister', 0.7392488718032837),\n",
       " ('poor', 0.7329496145248413),\n",
       " ('christmas', 0.7321585416793823),\n",
       " ('sweetest', 0.7285386323928833),\n",
       " ('brighten', 0.7274667024612427),\n",
       " ('loved', 0.7242461442947388)]"
      ]
     },
     "execution_count": 330,
     "metadata": {},
     "output_type": "execute_result"
    }
   ],
   "source": [
    "mvD2V_sci_female.most_similar(positive = ['woman','girl'], negative = ['man'], topn = 10)"
   ]
  },
  {
   "cell_type": "code",
   "execution_count": 342,
   "metadata": {
    "scrolled": false
   },
   "outputs": [
    {
     "data": {
      "text/plain": [
       "[('brunette', 0.8223984241485596),\n",
       " ('sister', 0.8023303747177124),\n",
       " ('newborn', 0.797775149345398),\n",
       " ('flower', 0.7786012887954712),\n",
       " ('lark', 0.7749928832054138),\n",
       " ('stephen', 0.7648159861564636),\n",
       " ('ruiz', 0.7598992586135864),\n",
       " ('smiled', 0.7564586997032166),\n",
       " ('grandmother', 0.7509604692459106),\n",
       " ('melody', 0.7313690185546875)]"
      ]
     },
     "execution_count": 342,
     "metadata": {},
     "output_type": "execute_result"
    }
   ],
   "source": [
    "mvD2V_sci_male.most_similar(positive = ['woman','girl'], negative = ['man'], topn = 10)"
   ]
  },
  {
   "cell_type": "code",
   "execution_count": 331,
   "metadata": {
    "scrolled": false
   },
   "outputs": [
    {
     "data": {
      "text/plain": [
       "[('senufo', 0.5790035128593445),\n",
       " ('prettiest', 0.543915331363678),\n",
       " ('hatcheck', 0.5423387289047241),\n",
       " ('mousy', 0.5393045544624329),\n",
       " ('sistah', 0.5374859571456909),\n",
       " ('seamstress', 0.4974568486213684),\n",
       " ('doll', 0.494300901889801),\n",
       " ('granddaughter', 0.4887765347957611),\n",
       " ('enniscorthy', 0.48455163836479187),\n",
       " ('angelina', 0.48044389486312866)]"
      ]
     },
     "execution_count": 331,
     "metadata": {},
     "output_type": "execute_result"
    }
   ],
   "source": [
    "mvD2V_dra_female.most_similar(positive = ['woman','girl'], negative = ['man'], topn = 10)"
   ]
  },
  {
   "cell_type": "code",
   "execution_count": 343,
   "metadata": {
    "scrolled": false
   },
   "outputs": [
    {
     "data": {
      "text/plain": [
       "[('mousy', 0.5169826149940491),\n",
       " ('attractive', 0.5166906118392944),\n",
       " ('blonde', 0.5149984955787659),\n",
       " ('prettiest', 0.5059575438499451),\n",
       " ('leefolt', 0.5057158470153809),\n",
       " ('hatcheck', 0.5010898113250732),\n",
       " ('granddaughter', 0.4970228374004364),\n",
       " ('rhett', 0.4912625253200531),\n",
       " ('ambrosia', 0.49015602469444275),\n",
       " ('adorable', 0.4806331396102905)]"
      ]
     },
     "execution_count": 343,
     "metadata": {},
     "output_type": "execute_result"
    }
   ],
   "source": [
    "mvD2V_dra_male.most_similar(positive = ['woman','girl'], negative = ['man'], topn = 10)"
   ]
  },
  {
   "cell_type": "code",
   "execution_count": 335,
   "metadata": {},
   "outputs": [
    {
     "data": {
      "text/plain": [
       "[('dawg', 0.5259075164794922),\n",
       " ('fauntroy', 0.5076769590377808),\n",
       " ('wassup', 0.5017056465148926),\n",
       " ('homies', 0.49874264001846313),\n",
       " ('olaf', 0.4968283772468567),\n",
       " ('man_#2', 0.49010512232780457),\n",
       " ('greggo', 0.48965418338775635),\n",
       " ('buck', 0.4878474473953247),\n",
       " ('all_talking_at_once', 0.4856850206851959),\n",
       " ('dissed', 0.4842264950275421)]"
      ]
     },
     "execution_count": 335,
     "metadata": {},
     "output_type": "execute_result"
    }
   ],
   "source": [
    "mvD2V_dra_female.most_similar(positive = ['man','boy'], negative = ['girl'], topn = 10)"
   ]
  },
  {
   "cell_type": "code",
   "execution_count": 335,
   "metadata": {},
   "outputs": [
    {
     "data": {
      "text/plain": [
       "[('dawg', 0.5259075164794922),\n",
       " ('fauntroy', 0.5076769590377808),\n",
       " ('wassup', 0.5017056465148926),\n",
       " ('homies', 0.49874264001846313),\n",
       " ('olaf', 0.4968283772468567),\n",
       " ('man_#2', 0.49010512232780457),\n",
       " ('greggo', 0.48965418338775635),\n",
       " ('buck', 0.4878474473953247),\n",
       " ('all_talking_at_once', 0.4856850206851959),\n",
       " ('dissed', 0.4842264950275421)]"
      ]
     },
     "execution_count": 335,
     "metadata": {},
     "output_type": "execute_result"
    }
   ],
   "source": [
    "mvD2V_dra_female.most_similar(positive = ['man','boy'], negative = ['girl'], topn = 10)"
   ]
  },
  {
   "cell_type": "code",
   "execution_count": 337,
   "metadata": {},
   "outputs": [
    {
     "data": {
      "text/plain": [
       "[('buddy', 0.5120669603347778),\n",
       " ('pac', 0.47389137744903564),\n",
       " ('attaboy', 0.44622546434402466),\n",
       " ('homey', 0.43432217836380005),\n",
       " ('dougie', 0.43285679817199707),\n",
       " ('roofing', 0.43127161264419556),\n",
       " ('lad', 0.4297362267971039),\n",
       " ('shin', 0.42944592237472534),\n",
       " ('timer', 0.42912164330482483),\n",
       " ('stooge', 0.4236592948436737)]"
      ]
     },
     "execution_count": 337,
     "metadata": {},
     "output_type": "execute_result"
    }
   ],
   "source": [
    "mvD2V_com_female.most_similar(positive = ['man','boy'], negative = ['girl'], topn = 10)"
   ]
  },
  {
   "cell_type": "code",
   "execution_count": 273,
   "metadata": {},
   "outputs": [
    {
     "data": {
      "text/plain": [
       "[('holla', 0.5561041831970215),\n",
       " ('homie', 0.5540950298309326),\n",
       " ('buddy', 0.5457623600959778),\n",
       " (\"ol'\", 0.5332292318344116),\n",
       " ('lad', 0.5123417377471924),\n",
       " ('jangers', 0.5032162070274353),\n",
       " ('baldy', 0.4975564479827881),\n",
       " ('looky', 0.4960930347442627),\n",
       " ('dawg', 0.4960693120956421),\n",
       " ('sparring', 0.49574899673461914)]"
      ]
     },
     "execution_count": 273,
     "metadata": {},
     "output_type": "execute_result"
    }
   ],
   "source": [
    "mvD2V_female10.most_similar(positive = ['man','boy'], negative = ['woman'], topn = 10)"
   ]
  },
  {
   "cell_type": "code",
   "execution_count": 256,
   "metadata": {},
   "outputs": [
    {
     "data": {
      "text/plain": [
       "[('The Sheik', 0.3647248148918152),\n",
       " ('The Trials of Muhammad Ali', 0.35542288422584534),\n",
       " ('Michael Che Matters', 0.3355468809604645),\n",
       " ('Islam: The Untold Story', 0.32005053758621216),\n",
       " ('The Infidel', 0.31960564851760864)]"
      ]
     },
     "execution_count": 256,
     "metadata": {},
     "output_type": "execute_result"
    }
   ],
   "source": [
    "mvD2V_female10.docvecs.most_similar([ mvD2V_female10['woman'] ], topn=5 )"
   ]
  },
  {
   "cell_type": "code",
   "execution_count": 257,
   "metadata": {
    "scrolled": true
   },
   "outputs": [
    {
     "data": {
      "text/plain": [
       "[('Kill Kapone', 0.4358126223087311),\n",
       " ('Moonlight', 0.4162462651729584),\n",
       " ('Gimme the Loot', 0.3777922987937927),\n",
       " ('Popstar: Never Stop Never Stopping', 0.3574278652667999),\n",
       " ('11:55', 0.35534051060676575)]"
      ]
     },
     "execution_count": 257,
     "metadata": {},
     "output_type": "execute_result"
    }
   ],
   "source": [
    "mvD2V_female10.docvecs.most_similar([ mvD2V_female10['man'] ], topn=5 )"
   ]
  },
  {
   "cell_type": "code",
   "execution_count": 274,
   "metadata": {
    "scrolled": true
   },
   "outputs": [
    {
     "data": {
      "text/plain": [
       "[('mousy', 0.4952544569969177),\n",
       " ('viviane', 0.48638713359832764),\n",
       " ('teenage', 0.46564269065856934),\n",
       " ('kahlo', 0.4628382921218872),\n",
       " ('daughter', 0.4587686359882355),\n",
       " ('repulsive', 0.4586496651172638),\n",
       " ('midwife', 0.4584082365036011),\n",
       " ('prettiest', 0.4486565887928009),\n",
       " ('thatta', 0.4433322846889496),\n",
       " ('plaything', 0.44203343987464905)]"
      ]
     },
     "execution_count": 274,
     "metadata": {},
     "output_type": "execute_result"
    }
   ],
   "source": [
    "mvD2V_male10.most_similar(positive = ['woman','girl'], negative = ['man'], topn = 10)"
   ]
  },
  {
   "cell_type": "code",
   "execution_count": 275,
   "metadata": {
    "scrolled": true
   },
   "outputs": [
    {
     "data": {
      "text/plain": [
       "[('attractive', 0.5243823528289795),\n",
       " ('spouse', 0.4797504246234894),\n",
       " ('viviane', 0.46638941764831543),\n",
       " ('lady', 0.45652347803115845),\n",
       " ('women', 0.4493873119354248),\n",
       " ('vag', 0.4432179033756256),\n",
       " ('attentions', 0.43785402178764343),\n",
       " ('slowmusicplaying', 0.4377157390117645),\n",
       " ('youwould', 0.4332337975502014),\n",
       " ('threesome', 0.42975151538848877)]"
      ]
     },
     "execution_count": 275,
     "metadata": {},
     "output_type": "execute_result"
    }
   ],
   "source": [
    "mvD2V_male10.most_similar(positive = ['woman','girl'], negative = ['boy'], topn = 10)"
   ]
  },
  {
   "cell_type": "code",
   "execution_count": 264,
   "metadata": {},
   "outputs": [
    {
     "data": {
      "text/plain": [
       "[('looky', 0.5742918848991394),\n",
       " ('cutz', 0.572991132736206),\n",
       " ('ozzie', 0.5533235669136047),\n",
       " ('dawg', 0.5314915180206299),\n",
       " ('homie', 0.529471755027771),\n",
       " ('holla', 0.527309238910675),\n",
       " ('homey', 0.525794506072998),\n",
       " ('blanco', 0.5239157676696777),\n",
       " ('ralphie', 0.5217177867889404),\n",
       " ('watusi', 0.5209876298904419)]"
      ]
     },
     "execution_count": 264,
     "metadata": {},
     "output_type": "execute_result"
    }
   ],
   "source": [
    "mvD2V_male10.most_similar(positive = ['man','boy', 'male'], negative = ['woman'], topn = 10)"
   ]
  },
  {
   "cell_type": "code",
   "execution_count": 261,
   "metadata": {},
   "outputs": [
    {
     "data": {
      "text/plain": [
       "[('The Coalition', 0.3954083323478699),\n",
       " ('Secrets of a Psychopath', 0.3932313024997711),\n",
       " (563, 0.3836069107055664),\n",
       " ('Naked', 0.3682278096675873),\n",
       " ('Da Sweet Blood of Jesus', 0.35995328426361084)]"
      ]
     },
     "execution_count": 261,
     "metadata": {},
     "output_type": "execute_result"
    }
   ],
   "source": [
    "mvD2V_male10.docvecs.most_similar([ mvD2V_male10['woman'] ], topn=5 )"
   ]
  },
  {
   "cell_type": "code",
   "execution_count": 262,
   "metadata": {
    "scrolled": true
   },
   "outputs": [
    {
     "data": {
      "text/plain": [
       "[('Moonlight', 0.4425789713859558),\n",
       " ('Gimme the Loot', 0.3990898132324219),\n",
       " (964, 0.37310439348220825),\n",
       " ('Popstar: Never Stop Never Stopping', 0.3723667860031128),\n",
       " ('American Brawler', 0.360543429851532)]"
      ]
     },
     "execution_count": 262,
     "metadata": {},
     "output_type": "execute_result"
    }
   ],
   "source": [
    "mvD2V_male10.docvecs.most_similar([ mvD2V_male10['man'] ], topn=5 )"
   ]
  },
  {
   "cell_type": "code",
   "execution_count": 314,
   "metadata": {},
   "outputs": [
    {
     "name": "stderr",
     "output_type": "stream",
     "text": [
      "C:\\Users\\iarak\\Anaconda3\\Anaconda\\lib\\site-packages\\gensim\\models\\doc2vec.py:574: UserWarning: The parameter `size` is deprecated, will be removed in 4.0.0, use `vector_size` instead.\n",
      "  warnings.warn(\"The parameter `size` is deprecated, will be removed in 4.0.0, use `vector_size` instead.\")\n"
     ]
    }
   ],
   "source": [
    "mvD2V_com_male = gensim.models.doc2vec.Doc2Vec(mov_comedy['Tagged_Male'], size = 100)"
   ]
  },
  {
   "cell_type": "code",
   "execution_count": 315,
   "metadata": {},
   "outputs": [
    {
     "name": "stderr",
     "output_type": "stream",
     "text": [
      "C:\\Users\\iarak\\Anaconda3\\Anaconda\\lib\\site-packages\\gensim\\models\\doc2vec.py:574: UserWarning: The parameter `size` is deprecated, will be removed in 4.0.0, use `vector_size` instead.\n",
      "  warnings.warn(\"The parameter `size` is deprecated, will be removed in 4.0.0, use `vector_size` instead.\")\n"
     ]
    }
   ],
   "source": [
    "mvD2V_com_female = gensim.models.doc2vec.Doc2Vec(mov_comedy['Tagged_Female'], size = 100)"
   ]
  },
  {
   "cell_type": "code",
   "execution_count": 316,
   "metadata": {},
   "outputs": [
    {
     "name": "stderr",
     "output_type": "stream",
     "text": [
      "C:\\Users\\iarak\\Anaconda3\\Anaconda\\lib\\site-packages\\gensim\\models\\doc2vec.py:574: UserWarning: The parameter `size` is deprecated, will be removed in 4.0.0, use `vector_size` instead.\n",
      "  warnings.warn(\"The parameter `size` is deprecated, will be removed in 4.0.0, use `vector_size` instead.\")\n"
     ]
    }
   ],
   "source": [
    "mvD2V_dra_male = gensim.models.doc2vec.Doc2Vec(mov_drama['Tagged_Male'], size = 100)"
   ]
  },
  {
   "cell_type": "code",
   "execution_count": 317,
   "metadata": {},
   "outputs": [
    {
     "name": "stderr",
     "output_type": "stream",
     "text": [
      "C:\\Users\\iarak\\Anaconda3\\Anaconda\\lib\\site-packages\\gensim\\models\\doc2vec.py:574: UserWarning: The parameter `size` is deprecated, will be removed in 4.0.0, use `vector_size` instead.\n",
      "  warnings.warn(\"The parameter `size` is deprecated, will be removed in 4.0.0, use `vector_size` instead.\")\n"
     ]
    }
   ],
   "source": [
    "mvD2V_dra_female = gensim.models.doc2vec.Doc2Vec(mov_drama['Tagged_Female'], size = 100)"
   ]
  },
  {
   "cell_type": "code",
   "execution_count": 318,
   "metadata": {},
   "outputs": [
    {
     "name": "stderr",
     "output_type": "stream",
     "text": [
      "C:\\Users\\iarak\\Anaconda3\\Anaconda\\lib\\site-packages\\gensim\\models\\doc2vec.py:574: UserWarning: The parameter `size` is deprecated, will be removed in 4.0.0, use `vector_size` instead.\n",
      "  warnings.warn(\"The parameter `size` is deprecated, will be removed in 4.0.0, use `vector_size` instead.\")\n"
     ]
    }
   ],
   "source": [
    "mvD2V_hor_male = gensim.models.doc2vec.Doc2Vec(mov_horror['Tagged_Male'], size = 100)"
   ]
  },
  {
   "cell_type": "code",
   "execution_count": 319,
   "metadata": {},
   "outputs": [
    {
     "name": "stderr",
     "output_type": "stream",
     "text": [
      "C:\\Users\\iarak\\Anaconda3\\Anaconda\\lib\\site-packages\\gensim\\models\\doc2vec.py:574: UserWarning: The parameter `size` is deprecated, will be removed in 4.0.0, use `vector_size` instead.\n",
      "  warnings.warn(\"The parameter `size` is deprecated, will be removed in 4.0.0, use `vector_size` instead.\")\n"
     ]
    }
   ],
   "source": [
    "mvD2V_hor_female = gensim.models.doc2vec.Doc2Vec(mov_horror['Tagged_Female'], size = 100)"
   ]
  },
  {
   "cell_type": "code",
   "execution_count": 320,
   "metadata": {},
   "outputs": [
    {
     "name": "stderr",
     "output_type": "stream",
     "text": [
      "C:\\Users\\iarak\\Anaconda3\\Anaconda\\lib\\site-packages\\gensim\\models\\doc2vec.py:574: UserWarning: The parameter `size` is deprecated, will be removed in 4.0.0, use `vector_size` instead.\n",
      "  warnings.warn(\"The parameter `size` is deprecated, will be removed in 4.0.0, use `vector_size` instead.\")\n"
     ]
    }
   ],
   "source": [
    "mvD2V_sci_male = gensim.models.doc2vec.Doc2Vec(mov_scifi['Tagged_Male'], size = 100)"
   ]
  },
  {
   "cell_type": "code",
   "execution_count": 321,
   "metadata": {},
   "outputs": [
    {
     "name": "stderr",
     "output_type": "stream",
     "text": [
      "C:\\Users\\iarak\\Anaconda3\\Anaconda\\lib\\site-packages\\gensim\\models\\doc2vec.py:574: UserWarning: The parameter `size` is deprecated, will be removed in 4.0.0, use `vector_size` instead.\n",
      "  warnings.warn(\"The parameter `size` is deprecated, will be removed in 4.0.0, use `vector_size` instead.\")\n"
     ]
    }
   ],
   "source": [
    "mvD2V_sci_female = gensim.models.doc2vec.Doc2Vec(mov_scifi['Tagged_Female'], size = 100)"
   ]
  },
  {
   "cell_type": "code",
   "execution_count": 322,
   "metadata": {},
   "outputs": [
    {
     "name": "stderr",
     "output_type": "stream",
     "text": [
      "C:\\Users\\iarak\\Anaconda3\\Anaconda\\lib\\site-packages\\gensim\\models\\doc2vec.py:574: UserWarning: The parameter `size` is deprecated, will be removed in 4.0.0, use `vector_size` instead.\n",
      "  warnings.warn(\"The parameter `size` is deprecated, will be removed in 4.0.0, use `vector_size` instead.\")\n"
     ]
    }
   ],
   "source": [
    "mvD2V_sport_male = gensim.models.doc2vec.Doc2Vec(mov_sport['Tagged_Male'], size = 100)"
   ]
  },
  {
   "cell_type": "code",
   "execution_count": 323,
   "metadata": {},
   "outputs": [
    {
     "name": "stderr",
     "output_type": "stream",
     "text": [
      "C:\\Users\\iarak\\Anaconda3\\Anaconda\\lib\\site-packages\\gensim\\models\\doc2vec.py:574: UserWarning: The parameter `size` is deprecated, will be removed in 4.0.0, use `vector_size` instead.\n",
      "  warnings.warn(\"The parameter `size` is deprecated, will be removed in 4.0.0, use `vector_size` instead.\")\n"
     ]
    }
   ],
   "source": [
    "mvD2V_sport_female = gensim.models.doc2vec.Doc2Vec(mov_sport['Tagged_Female'], size = 100)"
   ]
  },
  {
   "cell_type": "markdown",
   "metadata": {},
   "source": [
    "Counting Words - Frequency of different specific gendered words."
   ]
  },
  {
   "cell_type": "code",
   "execution_count": 344,
   "metadata": {},
   "outputs": [],
   "source": [
    "def wordCounter(wordLst):\n",
    "    wordCounts = {}\n",
    "    for word in wordLst:\n",
    "        #We usually need to normalize the case\n",
    "        wLower = word.lower()\n",
    "        if wLower in wordCounts:\n",
    "            wordCounts[wLower] += 1\n",
    "        else:\n",
    "            wordCounts[wLower] = 1\n",
    "    #convert to DataFrame\n",
    "    countsForFrame = {'word' : [], 'count' : []}\n",
    "    for w, c in wordCounts.items():\n",
    "        countsForFrame['word'].append(w)\n",
    "        countsForFrame['count'].append(c)\n",
    "    return pandas.DataFrame(countsForFrame)"
   ]
  },
  {
   "cell_type": "code",
   "execution_count": 345,
   "metadata": {},
   "outputs": [
    {
     "data": {
      "text/html": [
       "<div>\n",
       "<style scoped>\n",
       "    .dataframe tbody tr th:only-of-type {\n",
       "        vertical-align: middle;\n",
       "    }\n",
       "\n",
       "    .dataframe tbody tr th {\n",
       "        vertical-align: top;\n",
       "    }\n",
       "\n",
       "    .dataframe thead th {\n",
       "        text-align: right;\n",
       "    }\n",
       "</style>\n",
       "<table border=\"1\" class=\"dataframe\">\n",
       "  <thead>\n",
       "    <tr style=\"text-align: right;\">\n",
       "      <th></th>\n",
       "      <th>Unnamed: 0</th>\n",
       "      <th>Unnamed: 0.1</th>\n",
       "      <th>Movie Name</th>\n",
       "      <th>Genre</th>\n",
       "      <th>Year</th>\n",
       "      <th>Country</th>\n",
       "      <th>IMDb</th>\n",
       "      <th>Tokenized</th>\n",
       "      <th>Text</th>\n",
       "      <th>word_count</th>\n",
       "      <th>normalized_tokens</th>\n",
       "      <th>Tagged_Female</th>\n",
       "      <th>Tagged_Male</th>\n",
       "    </tr>\n",
       "  </thead>\n",
       "  <tbody>\n",
       "    <tr>\n",
       "      <th>0</th>\n",
       "      <td>0</td>\n",
       "      <td>3547424</td>\n",
       "      <td>Goodbye to All That</td>\n",
       "      <td>Short, Musical</td>\n",
       "      <td>1930</td>\n",
       "      <td>English</td>\n",
       "      <td>290635</td>\n",
       "      <td>['In', 'the', 'future', 'a', 'computer', 'prog...</td>\n",
       "      <td>@3547424 In the future , a computer program ca...</td>\n",
       "      <td>35320</td>\n",
       "      <td>['future', 'computer', 'program', 'called', 's...</td>\n",
       "      <td>([future, computer, program, called, skynet, d...</td>\n",
       "      <td>([future, computer, program, called, skynet, d...</td>\n",
       "    </tr>\n",
       "    <tr>\n",
       "      <th>1</th>\n",
       "      <td>1</td>\n",
       "      <td>3660608</td>\n",
       "      <td>Abraham Lincoln</td>\n",
       "      <td>Biography, Drama, History</td>\n",
       "      <td>1930</td>\n",
       "      <td>English</td>\n",
       "      <td>20620</td>\n",
       "      <td>['Tom', 'Lincoln', 'It', \"'s\", 'a', 'comin', '...</td>\n",
       "      <td>@3660608 Tom Lincoln ! It's a comin ' - Boy or...</td>\n",
       "      <td>49770</td>\n",
       "      <td>['tom', 'lincoln', 'comin', 'boy', 'gal', 't',...</td>\n",
       "      <td>([tom, lincoln, comin, boy, gal, t, ai, nt, fu...</td>\n",
       "      <td>([tom, lincoln, comin, boy, gal, t, ai, nt, fu...</td>\n",
       "    </tr>\n",
       "    <tr>\n",
       "      <th>2</th>\n",
       "      <td>2</td>\n",
       "      <td>60053</td>\n",
       "      <td>All Quiet on the Western Front</td>\n",
       "      <td>Drama, War</td>\n",
       "      <td>1930</td>\n",
       "      <td>English, French, German, Latin</td>\n",
       "      <td>20629</td>\n",
       "      <td>['Thirty', 'thousand', 'From', 'the', 'Russian...</td>\n",
       "      <td>@60053 - Thirty thousand . - From the Russians...</td>\n",
       "      <td>69596</td>\n",
       "      <td>['russians', 'french', 'russians', 'capture', ...</td>\n",
       "      <td>([russians, french, russians, capture, day, mr...</td>\n",
       "      <td>([russians, french, russians, capture, day, mr...</td>\n",
       "    </tr>\n",
       "    <tr>\n",
       "      <th>3</th>\n",
       "      <td>3</td>\n",
       "      <td>3435788</td>\n",
       "      <td>Born Reckless</td>\n",
       "      <td>Crime, Drama, Film-Noir</td>\n",
       "      <td>1930</td>\n",
       "      <td>English, Italian, French</td>\n",
       "      <td>20702</td>\n",
       "      <td>['Louis', 'Louis', 'Beretti', 'Shh', 'Put', 't...</td>\n",
       "      <td>@3435788 Louis ? Louis ? - Beretti ? - Shh ! P...</td>\n",
       "      <td>49565</td>\n",
       "      <td>['louis', 'louis', 'beretti', 'shh', 'sap', 'k...</td>\n",
       "      <td>([louis, louis, beretti, shh, sap, know, bette...</td>\n",
       "      <td>([louis, louis, beretti, shh, sap, know, bette...</td>\n",
       "    </tr>\n",
       "    <tr>\n",
       "      <th>4</th>\n",
       "      <td>4</td>\n",
       "      <td>6922578</td>\n",
       "      <td>King of Jazz</td>\n",
       "      <td>Animation, Music</td>\n",
       "      <td>1930</td>\n",
       "      <td>English</td>\n",
       "      <td>21025</td>\n",
       "      <td>['Music', 'hath', 'charms', 'that', 'nothing',...</td>\n",
       "      <td>@6922578 Music hath charms that nothing else h...</td>\n",
       "      <td>33966</td>\n",
       "      <td>['music', 'hath', 'charms', 'music', 'hath', '...</td>\n",
       "      <td>([music, hath, charms, music, hath, charms, cl...</td>\n",
       "      <td>([music, hath, charms, music, hath, charms, cl...</td>\n",
       "    </tr>\n",
       "  </tbody>\n",
       "</table>\n",
       "</div>"
      ],
      "text/plain": [
       "   Unnamed: 0  Unnamed: 0.1                      Movie Name  \\\n",
       "0           0       3547424             Goodbye to All That   \n",
       "1           1       3660608                 Abraham Lincoln   \n",
       "2           2         60053  All Quiet on the Western Front   \n",
       "3           3       3435788                   Born Reckless   \n",
       "4           4       6922578                    King of Jazz   \n",
       "\n",
       "                       Genre  Year                         Country    IMDb  \\\n",
       "0             Short, Musical  1930                         English  290635   \n",
       "1  Biography, Drama, History  1930                         English   20620   \n",
       "2                 Drama, War  1930  English, French, German, Latin   20629   \n",
       "3    Crime, Drama, Film-Noir  1930        English, Italian, French   20702   \n",
       "4           Animation, Music  1930                         English   21025   \n",
       "\n",
       "                                           Tokenized  \\\n",
       "0  ['In', 'the', 'future', 'a', 'computer', 'prog...   \n",
       "1  ['Tom', 'Lincoln', 'It', \"'s\", 'a', 'comin', '...   \n",
       "2  ['Thirty', 'thousand', 'From', 'the', 'Russian...   \n",
       "3  ['Louis', 'Louis', 'Beretti', 'Shh', 'Put', 't...   \n",
       "4  ['Music', 'hath', 'charms', 'that', 'nothing',...   \n",
       "\n",
       "                                                Text  word_count  \\\n",
       "0  @3547424 In the future , a computer program ca...       35320   \n",
       "1  @3660608 Tom Lincoln ! It's a comin ' - Boy or...       49770   \n",
       "2  @60053 - Thirty thousand . - From the Russians...       69596   \n",
       "3  @3435788 Louis ? Louis ? - Beretti ? - Shh ! P...       49565   \n",
       "4  @6922578 Music hath charms that nothing else h...       33966   \n",
       "\n",
       "                                   normalized_tokens  \\\n",
       "0  ['future', 'computer', 'program', 'called', 's...   \n",
       "1  ['tom', 'lincoln', 'comin', 'boy', 'gal', 't',...   \n",
       "2  ['russians', 'french', 'russians', 'capture', ...   \n",
       "3  ['louis', 'louis', 'beretti', 'shh', 'sap', 'k...   \n",
       "4  ['music', 'hath', 'charms', 'music', 'hath', '...   \n",
       "\n",
       "                                       Tagged_Female  \\\n",
       "0  ([future, computer, program, called, skynet, d...   \n",
       "1  ([tom, lincoln, comin, boy, gal, t, ai, nt, fu...   \n",
       "2  ([russians, french, russians, capture, day, mr...   \n",
       "3  ([louis, louis, beretti, shh, sap, know, bette...   \n",
       "4  ([music, hath, charms, music, hath, charms, cl...   \n",
       "\n",
       "                                         Tagged_Male  \n",
       "0  ([future, computer, program, called, skynet, d...  \n",
       "1  ([tom, lincoln, comin, boy, gal, t, ai, nt, fu...  \n",
       "2  ([russians, french, russians, capture, day, mr...  \n",
       "3  ([louis, louis, beretti, shh, sap, know, bette...  \n",
       "4  ([music, hath, charms, music, hath, charms, cl...  "
      ]
     },
     "execution_count": 345,
     "metadata": {},
     "output_type": "execute_result"
    }
   ],
   "source": [
    "movdf_norm.head()"
   ]
  },
  {
   "cell_type": "code",
   "execution_count": 348,
   "metadata": {},
   "outputs": [],
   "source": [
    "def wordCounter(wordLst):\n",
    "    wordCounts = {}\n",
    "    for word in wordLst:\n",
    "        #We usually need to normalize the case\n",
    "        wLower = word.lower()\n",
    "        if wLower in wordCounts:\n",
    "            wordCounts[wLower] += 1\n",
    "        else:\n",
    "            wordCounts[wLower] = 1\n",
    "    #convert to DataFrame\n",
    "    countsForFrame = {'word' : [], 'count' : []}\n",
    "    for w, c in wordCounts.items():\n",
    "        countsForFrame['word'].append(w)\n",
    "        countsForFrame['count'].append(c)\n",
    "    return pandas.DataFrame(countsForFrame)"
   ]
  },
  {
   "cell_type": "code",
   "execution_count": 375,
   "metadata": {},
   "outputs": [],
   "source": [
    "Text_30s = nltk.Text(only_1930s['Tokenized'])"
   ]
  },
  {
   "cell_type": "code",
   "execution_count": 378,
   "metadata": {},
   "outputs": [
    {
     "name": "stdout",
     "output_type": "stream",
     "text": [
      "no matches\n"
     ]
    }
   ],
   "source": [
    "whitehouseIndex = nltk.text.ConcordanceIndex(Text_30s) \n",
    "whitehouseIndex.print_concordance('woman')"
   ]
  },
  {
   "cell_type": "code",
   "execution_count": 376,
   "metadata": {},
   "outputs": [
    {
     "name": "stdout",
     "output_type": "stream",
     "text": [
      "('The following word(s) were not found:', 'woman')\n"
     ]
    }
   ],
   "source": [
    "Text_30s.common_contexts(['woman'])"
   ]
  },
  {
   "cell_type": "code",
   "execution_count": 367,
   "metadata": {},
   "outputs": [],
   "source": [
    "def spacy_pos(word_list):\n",
    "    tags = []\n",
    "    doc = nlp(word_list.lower())\n",
    "    for w in doc:\n",
    "        tags.append((w.text, w.tag_))\n",
    "    return tags"
   ]
  },
  {
   "cell_type": "code",
   "execution_count": null,
   "metadata": {},
   "outputs": [],
   "source": [
    "only_2010s['normalized_tokens_POS_title'] = [spacy_pos(t) for t in only_2010s['Movie Name']] #Running it on movie names to see associations there, \n",
    "#"
   ]
  },
  {
   "cell_type": "code",
   "execution_count": null,
   "metadata": {},
   "outputs": [],
   "source": [
    "only_1930s['normalized_tokens_POS_title'] = [spacy_pos(t) for t in only_1930s['Movie Name']] #Running it on movie names to see associations there, \n",
    "#"
   ]
  },
  {
   "cell_type": "code",
   "execution_count": null,
   "metadata": {},
   "outputs": [],
   "source": [
    "tokens30 = nltk.word_tokenize(only_1930s['Text'])\n",
    "tokens10 = nltk.word_tokenize(only_2010s['Text'])"
   ]
  },
  {
   "cell_type": "code",
   "execution_count": null,
   "metadata": {},
   "outputs": [],
   "source": [
    "Fin_econ_01"
   ]
  },
  {
   "cell_type": "code",
   "execution_count": null,
   "metadata": {},
   "outputs": [],
   "source": [
    "Fin_econ_countedWords.sort_values('count', ascending=False, inplace=True)\n",
    "Business_countedWords.sort_values('count', ascending=False, inplace=True)"
   ]
  },
  {
   "cell_type": "code",
   "execution_count": null,
   "metadata": {},
   "outputs": [],
   "source": [
    "nltk.download('stopwords')"
   ]
  },
  {
   "cell_type": "code",
   "execution_count": null,
   "metadata": {},
   "outputs": [],
   "source": [
    "Fin_econ_Text = nltk.Text(Fin_econ_tokens)\n",
    "Fin_econ_Text.collocations()\n",
    "print('--------')\n",
    "Business_Text = nltk.Text(Business_tokens)\n",
    "Business_Text.collocations()\n",
    "print('--------')"
   ]
  },
  {
   "cell_type": "code",
   "execution_count": null,
   "metadata": {},
   "outputs": [],
   "source": [
    "sns.reset_orig() #Seaborn messes with this plot, disabling it\n",
    "Fin_econ_Text.dispersion_plot(['crisis', 'panic' ,'depression', 'bush','obama'])\n",
    "sns.set()\n",
    "\n",
    "sns.reset_orig() #Seaborn messes with this plot, disabling it\n",
    "Business_Text.dispersion_plot(['crisis', 'panic' ,'depression', 'bush','obama'])\n",
    "sns.set()"
   ]
  },
  {
   "cell_type": "code",
   "execution_count": null,
   "metadata": {},
   "outputs": [],
   "source": [
    "nltk.download('wordnet')\n",
    "wordnet = nltk.stem.WordNetLemmatizer()\n",
    "#wordnet.lemmatize('are')\n",
    "stop_words_nltk = stopwords.words('english')\n",
    "#stop_words = [\"the\",\"it\",\"she\",\"he\", \"a\"] #Uncomment this line if you want to use your own list of stopwords.\n",
    "\n",
    "#The stemmers and lemmers need to be initialized before bing run\n",
    "porter = nltk.stem.porter.PorterStemmer()\n",
    "snowball = nltk.stem.snowball.SnowballStemmer('english')\n",
    "wordnet = nltk.stem.WordNetLemmatizer()\n",
    "\n",
    "def normlizeTokens(tokenLst, stopwordLst = None, stemmer = None, lemmer = None):\n",
    "    #We can use a generator here as we just need to iterate over it\n",
    "\n",
    "    #Lowering the case and removing non-words\n",
    "    workingIter = (w.lower() for w in tokenLst if w.isalpha())\n",
    "\n",
    "    #Now we can use the semmer, if provided\n",
    "    if stemmer is not None:\n",
    "        workingIter = (stemmer.stem(w) for w in workingIter)\n",
    "        \n",
    "    #And the lemmer\n",
    "    if lemmer is not None:\n",
    "        workingIter = (lemmer.lemmatize(w) for w in workingIter)\n",
    "    \n",
    "    #And remove the stopwords\n",
    "    if stopwordLst is not None:\n",
    "        workingIter = (w for w in workingIter if w not in stopwordLst)\n",
    "    #We will return a list with the stopwords removed\n",
    "    return list(workingIter)"
   ]
  },
  {
   "cell_type": "code",
   "execution_count": null,
   "metadata": {},
   "outputs": [],
   "source": [
    "# --------Stop List + Snowball Stemmer--------\n",
    "Fin_econ_normalized = normlizeTokens(Fin_econ_tokens, \n",
    "                                     stopwordLst = stop_words_nltk, \n",
    "                                     stemmer = snowball)\n",
    "\n",
    "# --------Stop List + Snowball Stemmer--------\n",
    "Business_normalized = normlizeTokens(Business_tokens, \n",
    "                                     stopwordLst = stop_words_nltk, \n",
    "                                     stemmer = snowball)"
   ]
  },
  {
   "cell_type": "code",
   "execution_count": null,
   "metadata": {},
   "outputs": [],
   "source": []
  },
  {
   "cell_type": "code",
   "execution_count": null,
   "metadata": {},
   "outputs": [],
   "source": []
  },
  {
   "cell_type": "code",
   "execution_count": null,
   "metadata": {},
   "outputs": [],
   "source": []
  },
  {
   "cell_type": "code",
   "execution_count": 374,
   "metadata": {},
   "outputs": [
    {
     "data": {
      "text/plain": [
       "0       ['In', 'the', 'future', 'a', 'computer', 'prog...\n",
       "1       ['Tom', 'Lincoln', 'It', \"'s\", 'a', 'comin', '...\n",
       "2       ['Thirty', 'thousand', 'From', 'the', 'Russian...\n",
       "3       ['Louis', 'Louis', 'Beretti', 'Shh', 'Put', 't...\n",
       "4       ['Music', 'hath', 'charms', 'that', 'nothing',...\n",
       "                              ...                        \n",
       "9904    ['Jakob', 'Are', 'you', 'there', 'Jakob', 'Are...\n",
       "9905    ['How', 'do', 'you', 'feel', 'Alive', 'What', ...\n",
       "9906    ['Peter', 'Your', 'momma', 'wants', 'to', 'spe...\n",
       "9907    ['MAN', '911', 'what', \"'s\", 'your', 'emergenc...\n",
       "9908    ['I', \"'m\", 'going', 'to', 'talk', 'to', 'you'...\n",
       "Name: Tokenized, Length: 9909, dtype: object"
      ]
     },
     "execution_count": 374,
     "metadata": {},
     "output_type": "execute_result"
    }
   ],
   "source": [
    "mosptok"
   ]
  },
  {
   "cell_type": "code",
   "execution_count": 369,
   "metadata": {},
   "outputs": [],
   "source": [
    "sport_countedWords.sort_values('count', ascending=False, inplace=True)"
   ]
  },
  {
   "cell_type": "code",
   "execution_count": 364,
   "metadata": {},
   "outputs": [
    {
     "name": "stdout",
     "output_type": "stream",
     "text": [
      "[nltk_data] Downloading package stopwords to\n",
      "[nltk_data]     C:\\Users\\iarak\\AppData\\Roaming\\nltk_data...\n",
      "[nltk_data]   Package stopwords is already up-to-date!\n"
     ]
    },
    {
     "data": {
      "text/plain": [
       "True"
      ]
     },
     "execution_count": 364,
     "metadata": {},
     "output_type": "execute_result"
    }
   ],
   "source": [
    "nltk.download('stopwords')"
   ]
  },
  {
   "cell_type": "code",
   "execution_count": 370,
   "metadata": {},
   "outputs": [
    {
     "name": "stdout",
     "output_type": "stream",
     "text": [
      "\n"
     ]
    }
   ],
   "source": [
    "sprt_Text = nltk.Text(mosptok)\n",
    "sprt_Text.collocations()"
   ]
  },
  {
   "cell_type": "code",
   "execution_count": 371,
   "metadata": {},
   "outputs": [
    {
     "data": {
      "image/png": "[encoded data removed]",
      "text/plain": [
       "<Figure size 640x480 with 1 Axes>"
      ]
     },
     "metadata": {},
     "output_type": "display_data"
    }
   ],
   "source": [
    "\n",
    "sns.reset_orig() #Seaborn messes with this plot, disabling it\n",
    "sprt_Text.dispersion_plot(['woman', 'girl' ,'brunette', 'blonde','wife'])\n",
    "sns.set()"
   ]
  },
  {
   "cell_type": "code",
   "execution_count": 121,
   "metadata": {},
   "outputs": [],
   "source": [
    "import wordcloud"
   ]
  },
  {
   "cell_type": "code",
   "execution_count": 122,
   "metadata": {},
   "outputs": [
    {
     "data": {
      "image/png": "[encoded data removed]",
      "text/plain": [
       "<Figure size 432x288 with 1 Axes>"
      ]
     },
     "metadata": {
      "needs_background": "light"
     },
     "output_type": "display_data"
    }
   ],
   "source": [
    "wc = wordcloud.WordCloud(background_color=\"white\", max_words=500, width= 1000, height = 1000, mode ='RGBA', scale=.5).generate(' '.join(only_1950s['normalized_tokens'].sum()))\n",
    "plt.imshow(wc)\n",
    "plt.axis(\"off\")\n",
    "plt.savefig(\"text_word_cloud.pdf\", format = 'pdf')"
   ]
  },
  {
   "cell_type": "code",
   "execution_count": 144,
   "metadata": {},
   "outputs": [
    {
     "data": {
      "image/png": "[encoded data removed]",
      "text/plain": [
       "<Figure size 432x288 with 1 Axes>"
      ]
     },
     "metadata": {
      "needs_background": "light"
     },
     "output_type": "display_data"
    }
   ],
   "source": [
    "wc = wordcloud.WordCloud(background_color=\"white\", max_words=500, width= 1000, height = 1000, mode ='RGBA', scale=.5).generate(' '.join(only_2000s['normalized_tokens'].sum()))\n",
    "plt.imshow(wc)\n",
    "plt.axis(\"off\")\n",
    "plt.savefig(\"text_word_cloud.pdf\", format = 'pdf')"
   ]
  },
  {
   "cell_type": "code",
   "execution_count": null,
   "metadata": {},
   "outputs": [],
   "source": [
    "only_30s = only_1930s[:30]"
   ]
  },
  {
   "cell_type": "code",
   "execution_count": null,
   "metadata": {},
   "outputs": [],
   "source": [
    "only_10s = only_2010s[:30]"
   ]
  },
  {
   "cell_type": "code",
   "execution_count": null,
   "metadata": {},
   "outputs": [],
   "source": [
    "only_30s['tokenized_sents'] = only_30s['Text'].apply(lambda x: [lucem_illud_2020.word_tokenize(s) for s in lucem_illud_2020.sent_tokenize(x)])\n",
    "only_30s['normalized_sents'] = only_30s['tokenized_sents'].apply(lambda x: [lucem_illud_2020.normalizeTokens(s) for s in x])"
   ]
  },
  {
   "cell_type": "code",
   "execution_count": null,
   "metadata": {},
   "outputs": [],
   "source": [
    "only_10s['tokenized_sents'] = only_10s['Text'].apply(lambda x: [lucem_illud_2020.word_tokenize(s) for s in lucem_illud_2020.sent_tokenize(x)])\n",
    "only_10s['normalized_sents'] = only_10s['tokenized_sents'].apply(lambda x: [lucem_illud_2020.normalizeTokens(s) for s in x])"
   ]
  },
  {
   "cell_type": "code",
   "execution_count": 408,
   "metadata": {},
   "outputs": [],
   "source": [
    "def wordCooccurrence(sentences, makeMatrix = False):\n",
    "    words = set()\n",
    "    for sent in sentences:\n",
    "        words |= set(sent)\n",
    "    wordLst = list(words)\n",
    "    wordIndices = {w: i for i, w in enumerate(wordLst)}\n",
    "    wordCoCounts = {}\n",
    "    #consider a sparse matrix if memory becomes an issue\n",
    "    coOcMat = np.zeros((len(wordIndices), len(wordIndices)))\n",
    "    for sent in sentences:\n",
    "        for i, word1 in enumerate(sent):\n",
    "            word1Index = wordIndices[word1]\n",
    "            for word2 in sent[i + 1:]:\n",
    "                coOcMat[word1Index][wordIndices[word2]] += 1\n",
    "    if makeMatrix:\n",
    "        return coOcMat, wordLst\n",
    "    else:\n",
    "        coOcMat = coOcMat.T + coOcMat\n",
    "        g = nx.convert_matrix.from_numpy_matrix(coOcMat)\n",
    "        g = nx.relabel_nodes(g, {i : w for i, w in enumerate(wordLst)})\n",
    "        return g"
   ]
  },
  {
   "cell_type": "code",
   "execution_count": 409,
   "metadata": {},
   "outputs": [],
   "source": [
    "def posCooccurrence(sentences, *posType, makeMatrix = False):\n",
    "    words = set()\n",
    "    reducedSents = []\n",
    "    #Only using the first kind of POS for each word\n",
    "    wordsMap = {}\n",
    "    for sent in sentences:\n",
    "        s = [(w, t) for w, t in lucem_illud_2020.spacy_pos(sent) if t in posType]\n",
    "        for w, t in s:\n",
    "            if w not in wordsMap:\n",
    "                wordsMap[w] = t\n",
    "        reducedSent = [w for w, t in s]\n",
    "        words |= set(reducedSent)\n",
    "        reducedSents.append(reducedSent)\n",
    "    wordLst = list(words)\n",
    "    wordIndices = {w: i for i, w in enumerate(wordLst)}\n",
    "    wordCoCounts = {}\n",
    "    #consider a sparse matrix if memory becomes an issue\n",
    "    coOcMat = np.zeros((len(wordIndices), len(wordIndices)))\n",
    "    for sent in reducedSents:\n",
    "        for i, word1 in enumerate(sent):\n",
    "            word1Index = wordIndices[word1]\n",
    "            for word2 in sent[i + 1:]:\n",
    "                coOcMat[word1Index][wordIndices[word2]] += 1\n",
    "    if makeMatrix:\n",
    "        return coOcMat, wordLst\n",
    "    else:\n",
    "        coOcMat = coOcMat.T + coOcMat\n",
    "        g = nx.convert_matrix.from_numpy_matrix(coOcMat)\n",
    "        g = nx.relabel_nodes(g, {i : w for i, w in enumerate(wordLst)})\n",
    "        for w in g.nodes:\n",
    "            g.nodes[w]['bipartite'] = wordsMap[w]\n",
    "        return g"
   ]
  },
  {
   "cell_type": "code",
   "execution_count": 413,
   "metadata": {},
   "outputs": [],
   "source": [
    "is_1930s =  movdf_norm['Year'].isin([\"1930\", \"1931\",\"1932\", \"1933\", \"1934\", \"1935\", \"1936\", \"1937\", \"1938\", \"1939\"])\n",
    "only_1930s = movdf_norm[is_1930s]\n",
    "is_1940s =  movdf_norm['Year'].isin([\"1940\", \"1941\",\"1942\", \"1943\", \"1944\", \"1945\", \"1946\", \"1947\", \"1948\", \"1949\"])\n",
    "only_1940s = movdf_norm[is_1940s]\n",
    "is_1950s =  movdf_norm['Year'].isin([\"1950\", \"1951\",\"1952\", \"1953\", \"1954\", \"1955\", \"1956\", \"1957\", \"1958\", \"1959\"])\n",
    "only_1950s = movdf_norm[is_1950s]\n",
    "is_1960s =  movdf_norm['Year'].isin([\"1960\", \"1961\",\"1962\", \"1963\", \"1964\", \"1965\", \"1966\", \"1967\", \"1968\", \"1969\"])\n",
    "only_1960s = movdf_norm[is_1960s]\n",
    "is_1970s =  movdf_norm['Year'].isin([\"1970\", \"1971\",\"1972\", \"1973\", \"1974\", \"1975\", \"1976\", \"1977\", \"1978\", \"1979\"])\n",
    "only_1970s = movdf_norm[is_1970s]\n",
    "is_1980s =  movdf_norm['Year'].isin([\"1980\", \"1981\",\"1982\", \"1983\", \"1984\", \"1985\", \"1986\", \"1987\", \"1988\", \"1989\"])\n",
    "only_1980s = movdf_norm[is_1980s]\n",
    "is_1990s =  movdf_norm['Year'].isin([\"1990\", \"1991\",\"1992\", \"1993\", \"1994\", \"1995\", \"1996\", \"1997\", \"1998\", \"1999\"])\n",
    "only_1990s = movdf_norm[is_1990s]\n",
    "is_2000s =  movdf_norm['Year'].isin([\"2000\", \"2001\",\"2002\", \"2003\", \"2004\", \"2005\", \"2006\", \"2007\", \"2008\", \"2009\"])\n",
    "only_2000s = movdf_norm[is_2000s]\n",
    "is_2010s =  movdf_norm['Year'].isin([\"2010\", \"2011\",\"2012\", \"2013\", \"2014\", \"2015\", \"2016\", \"2017\", \"2018\", \"2019\"])\n",
    "only_2010s = movdf_norm[is_2010s]"
   ]
  },
  {
   "cell_type": "code",
   "execution_count": 414,
   "metadata": {},
   "outputs": [],
   "source": [
    "mov_romance = movdf_norm[movdf_norm['Genre'].str.contains('Romance', na=False)] #114 movies\n",
    "mov_drama = movdf_norm[movdf_norm['Genre'].str.contains('Drama', na=False)] #114 movies\n",
    "mov_comedy = movdf_norm[movdf_norm['Genre'].str.contains('Comedy', na=False)] #114 movies\n",
    "mov_horror = movdf_norm[movdf_norm['Genre'].str.contains('Horror', na=False)] #114 movies\n",
    "mov_scifi = movdf_norm[movdf_norm['Genre'].str.contains('Sci-Fi', na=False)] #114 movies\n",
    "mov_sport = movdf_norm[movdf_norm['Genre'].str.contains('Sport', na=False)] #114 movies"
   ]
  },
  {
   "cell_type": "code",
   "execution_count": 416,
   "metadata": {},
   "outputs": [],
   "source": [
    "only_30s = only_1930s[:30]\n",
    "only_10s = only_2010s[:30]"
   ]
  },
  {
   "cell_type": "code",
   "execution_count": 417,
   "metadata": {},
   "outputs": [
    {
     "name": "stderr",
     "output_type": "stream",
     "text": [
      "C:\\Users\\iarak\\Anaconda3\\Anaconda\\lib\\site-packages\\ipykernel_launcher.py:1: SettingWithCopyWarning: \n",
      "A value is trying to be set on a copy of a slice from a DataFrame.\n",
      "Try using .loc[row_indexer,col_indexer] = value instead\n",
      "\n",
      "See the caveats in the documentation: https://pandas.pydata.org/pandas-docs/stable/user_guide/indexing.html#returning-a-view-versus-a-copy\n",
      "  \"\"\"Entry point for launching an IPython kernel.\n",
      "C:\\Users\\iarak\\Anaconda3\\Anaconda\\lib\\site-packages\\ipykernel_launcher.py:2: SettingWithCopyWarning: \n",
      "A value is trying to be set on a copy of a slice from a DataFrame.\n",
      "Try using .loc[row_indexer,col_indexer] = value instead\n",
      "\n",
      "See the caveats in the documentation: https://pandas.pydata.org/pandas-docs/stable/user_guide/indexing.html#returning-a-view-versus-a-copy\n",
      "  \n"
     ]
    }
   ],
   "source": [
    "only_30s['tokenized_sents'] = only_30s['Text'].apply(lambda x: [lucem_illud_2020.word_tokenize(s) for s in lucem_illud_2020.sent_tokenize(x)])\n",
    "only_30s['normalized_sents'] = only_30s['tokenized_sents'].apply(lambda x: [lucem_illud_2020.normalizeTokens(s) for s in x])"
   ]
  },
  {
   "cell_type": "code",
   "execution_count": 418,
   "metadata": {},
   "outputs": [
    {
     "name": "stderr",
     "output_type": "stream",
     "text": [
      "C:\\Users\\iarak\\Anaconda3\\Anaconda\\lib\\site-packages\\ipykernel_launcher.py:1: SettingWithCopyWarning: \n",
      "A value is trying to be set on a copy of a slice from a DataFrame.\n",
      "Try using .loc[row_indexer,col_indexer] = value instead\n",
      "\n",
      "See the caveats in the documentation: https://pandas.pydata.org/pandas-docs/stable/user_guide/indexing.html#returning-a-view-versus-a-copy\n",
      "  \"\"\"Entry point for launching an IPython kernel.\n",
      "C:\\Users\\iarak\\Anaconda3\\Anaconda\\lib\\site-packages\\ipykernel_launcher.py:2: SettingWithCopyWarning: \n",
      "A value is trying to be set on a copy of a slice from a DataFrame.\n",
      "Try using .loc[row_indexer,col_indexer] = value instead\n",
      "\n",
      "See the caveats in the documentation: https://pandas.pydata.org/pandas-docs/stable/user_guide/indexing.html#returning-a-view-versus-a-copy\n",
      "  \n"
     ]
    }
   ],
   "source": [
    "only_10s['tokenized_sents'] = only_10s['Text'].apply(lambda x: [lucem_illud_2020.word_tokenize(s) for s in lucem_illud_2020.sent_tokenize(x)])\n",
    "only_10s['normalized_sents'] = only_10s['tokenized_sents'].apply(lambda x: [lucem_illud_2020.normalizeTokens(s) for s in x])"
   ]
  },
  {
   "cell_type": "code",
   "execution_count": 419,
   "metadata": {},
   "outputs": [],
   "source": [
    "gNV_10 = posCooccurrence(only_10s['normalized_sents'].sum(), 'NN', 'VB')"
   ]
  },
  {
   "cell_type": "code",
   "execution_count": 420,
   "metadata": {},
   "outputs": [
    {
     "ename": "NameError",
     "evalue": "name 'gNV' is not defined",
     "output_type": "error",
     "traceback": [
      "\u001b[1;31m---------------------------------------------------------------------------\u001b[0m",
      "\u001b[1;31mNameError\u001b[0m                                 Traceback (most recent call last)",
      "\u001b[1;32m<ipython-input-420-ee5656a8f631>\u001b[0m in \u001b[0;36m<module>\u001b[1;34m()\u001b[0m\n\u001b[1;32m----> 1\u001b[1;33m \u001b[0mgNV_10\u001b[0m\u001b[1;33m.\u001b[0m\u001b[0mremove_edges_from\u001b[0m\u001b[1;33m(\u001b[0m\u001b[1;33m[\u001b[0m\u001b[1;33m(\u001b[0m\u001b[0mn1\u001b[0m\u001b[1;33m,\u001b[0m\u001b[0mn2\u001b[0m\u001b[1;33m)\u001b[0m \u001b[1;32mfor\u001b[0m \u001b[0mn1\u001b[0m\u001b[1;33m,\u001b[0m\u001b[0mn2\u001b[0m\u001b[1;33m,\u001b[0m\u001b[0md\u001b[0m \u001b[1;32min\u001b[0m \u001b[0mgNV_10\u001b[0m\u001b[1;33m.\u001b[0m\u001b[0medges\u001b[0m\u001b[1;33m(\u001b[0m\u001b[0mdata\u001b[0m \u001b[1;33m=\u001b[0m \u001b[1;32mTrue\u001b[0m\u001b[1;33m)\u001b[0m \u001b[1;32mif\u001b[0m \u001b[0mgNV\u001b[0m\u001b[1;33m.\u001b[0m\u001b[0mnodes\u001b[0m\u001b[1;33m[\u001b[0m\u001b[0mn1\u001b[0m\u001b[1;33m]\u001b[0m\u001b[1;33m[\u001b[0m\u001b[1;34m'bipartite'\u001b[0m\u001b[1;33m]\u001b[0m \u001b[1;33m==\u001b[0m \u001b[0mgNV_10\u001b[0m\u001b[1;33m.\u001b[0m\u001b[0mnodes\u001b[0m\u001b[1;33m[\u001b[0m\u001b[0mn2\u001b[0m\u001b[1;33m]\u001b[0m\u001b[1;33m[\u001b[0m\u001b[1;34m'bipartite'\u001b[0m\u001b[1;33m]\u001b[0m\u001b[1;33m]\u001b[0m\u001b[1;33m)\u001b[0m\u001b[1;33m\u001b[0m\u001b[0m\n\u001b[0m",
      "\u001b[1;32m<ipython-input-420-ee5656a8f631>\u001b[0m in \u001b[0;36m<listcomp>\u001b[1;34m(.0)\u001b[0m\n\u001b[1;32m----> 1\u001b[1;33m \u001b[0mgNV_10\u001b[0m\u001b[1;33m.\u001b[0m\u001b[0mremove_edges_from\u001b[0m\u001b[1;33m(\u001b[0m\u001b[1;33m[\u001b[0m\u001b[1;33m(\u001b[0m\u001b[0mn1\u001b[0m\u001b[1;33m,\u001b[0m\u001b[0mn2\u001b[0m\u001b[1;33m)\u001b[0m \u001b[1;32mfor\u001b[0m \u001b[0mn1\u001b[0m\u001b[1;33m,\u001b[0m\u001b[0mn2\u001b[0m\u001b[1;33m,\u001b[0m\u001b[0md\u001b[0m \u001b[1;32min\u001b[0m \u001b[0mgNV_10\u001b[0m\u001b[1;33m.\u001b[0m\u001b[0medges\u001b[0m\u001b[1;33m(\u001b[0m\u001b[0mdata\u001b[0m \u001b[1;33m=\u001b[0m \u001b[1;32mTrue\u001b[0m\u001b[1;33m)\u001b[0m \u001b[1;32mif\u001b[0m \u001b[0mgNV\u001b[0m\u001b[1;33m.\u001b[0m\u001b[0mnodes\u001b[0m\u001b[1;33m[\u001b[0m\u001b[0mn1\u001b[0m\u001b[1;33m]\u001b[0m\u001b[1;33m[\u001b[0m\u001b[1;34m'bipartite'\u001b[0m\u001b[1;33m]\u001b[0m \u001b[1;33m==\u001b[0m \u001b[0mgNV_10\u001b[0m\u001b[1;33m.\u001b[0m\u001b[0mnodes\u001b[0m\u001b[1;33m[\u001b[0m\u001b[0mn2\u001b[0m\u001b[1;33m]\u001b[0m\u001b[1;33m[\u001b[0m\u001b[1;34m'bipartite'\u001b[0m\u001b[1;33m]\u001b[0m\u001b[1;33m]\u001b[0m\u001b[1;33m)\u001b[0m\u001b[1;33m\u001b[0m\u001b[0m\n\u001b[0m",
      "\u001b[1;31mNameError\u001b[0m: name 'gNV' is not defined"
     ]
    }
   ],
   "source": [
    "gNV_10.remove_edges_from([(n1,n2) for n1,n2,d in gNV_10.edges(data = True) if gNV.nodes[n1]['bipartite'] == gNV_10.nodes[n2]['bipartite']])"
   ]
  },
  {
   "cell_type": "code",
   "execution_count": null,
   "metadata": {},
   "outputs": [],
   "source": [
    "gNV.remove_edges_from([(n1, n2) for n1, n2, d in gNV.edges(data = True) if d['weight'] <= 2])\n",
    "gNV.remove_nodes_from([n for n in gNV.nodes if len(set(gNV.neighbors(n))) <= 5])"
   ]
  },
  {
   "cell_type": "code",
   "execution_count": null,
   "metadata": {},
   "outputs": [],
   "source": [
    "storyNeighbors = gNV_10.neighbors('woman')\n",
    "set(storyNeighbors)"
   ]
  },
  {
   "cell_type": "code",
   "execution_count": 467,
   "metadata": {},
   "outputs": [
    {
     "data": {
      "text/html": [
       "<div>\n",
       "<style scoped>\n",
       "    .dataframe tbody tr th:only-of-type {\n",
       "        vertical-align: middle;\n",
       "    }\n",
       "\n",
       "    .dataframe tbody tr th {\n",
       "        vertical-align: top;\n",
       "    }\n",
       "\n",
       "    .dataframe thead th {\n",
       "        text-align: right;\n",
       "    }\n",
       "</style>\n",
       "<table border=\"1\" class=\"dataframe\">\n",
       "  <thead>\n",
       "    <tr style=\"text-align: right;\">\n",
       "      <th></th>\n",
       "      <th>Unnamed: 0</th>\n",
       "      <th>Unnamed: 0.1</th>\n",
       "      <th>Movie Name</th>\n",
       "      <th>Genre</th>\n",
       "      <th>Year</th>\n",
       "      <th>Country</th>\n",
       "      <th>IMDb</th>\n",
       "      <th>Tokenized</th>\n",
       "      <th>Text</th>\n",
       "      <th>word_count</th>\n",
       "      <th>normalized_tokens</th>\n",
       "      <th>Tagged_Female</th>\n",
       "      <th>Tagged_Male</th>\n",
       "      <th>reduced_tokens</th>\n",
       "    </tr>\n",
       "  </thead>\n",
       "  <tbody>\n",
       "    <tr>\n",
       "      <th>0</th>\n",
       "      <td>0</td>\n",
       "      <td>3547424</td>\n",
       "      <td>Goodbye to All That</td>\n",
       "      <td>Short, Musical</td>\n",
       "      <td>1930</td>\n",
       "      <td>English</td>\n",
       "      <td>290635</td>\n",
       "      <td>['In', 'the', 'future', 'a', 'computer', 'prog...</td>\n",
       "      <td>@3547424 In the future , a computer program ca...</td>\n",
       "      <td>35320</td>\n",
       "      <td>['future', 'computer', 'program', 'called', 's...</td>\n",
       "      <td>([future, computer, program, called, skynet, d...</td>\n",
       "      <td>([future, computer, program, called, skynet, d...</td>\n",
       "      <td>[]</td>\n",
       "    </tr>\n",
       "    <tr>\n",
       "      <th>1</th>\n",
       "      <td>1</td>\n",
       "      <td>3660608</td>\n",
       "      <td>Abraham Lincoln</td>\n",
       "      <td>Biography, Drama, History</td>\n",
       "      <td>1930</td>\n",
       "      <td>English</td>\n",
       "      <td>20620</td>\n",
       "      <td>['Tom', 'Lincoln', 'It', \"'s\", 'a', 'comin', '...</td>\n",
       "      <td>@3660608 Tom Lincoln ! It's a comin ' - Boy or...</td>\n",
       "      <td>49770</td>\n",
       "      <td>['tom', 'lincoln', 'comin', 'boy', 'gal', 't',...</td>\n",
       "      <td>([tom, lincoln, comin, boy, gal, t, ai, nt, fu...</td>\n",
       "      <td>([tom, lincoln, comin, boy, gal, t, ai, nt, fu...</td>\n",
       "      <td>[]</td>\n",
       "    </tr>\n",
       "    <tr>\n",
       "      <th>2</th>\n",
       "      <td>2</td>\n",
       "      <td>60053</td>\n",
       "      <td>All Quiet on the Western Front</td>\n",
       "      <td>Drama, War</td>\n",
       "      <td>1930</td>\n",
       "      <td>English, French, German, Latin</td>\n",
       "      <td>20629</td>\n",
       "      <td>['Thirty', 'thousand', 'From', 'the', 'Russian...</td>\n",
       "      <td>@60053 - Thirty thousand . - From the Russians...</td>\n",
       "      <td>69596</td>\n",
       "      <td>['russians', 'french', 'russians', 'capture', ...</td>\n",
       "      <td>([russians, french, russians, capture, day, mr...</td>\n",
       "      <td>([russians, french, russians, capture, day, mr...</td>\n",
       "      <td>[]</td>\n",
       "    </tr>\n",
       "    <tr>\n",
       "      <th>3</th>\n",
       "      <td>3</td>\n",
       "      <td>3435788</td>\n",
       "      <td>Born Reckless</td>\n",
       "      <td>Crime, Drama, Film-Noir</td>\n",
       "      <td>1930</td>\n",
       "      <td>English, Italian, French</td>\n",
       "      <td>20702</td>\n",
       "      <td>['Louis', 'Louis', 'Beretti', 'Shh', 'Put', 't...</td>\n",
       "      <td>@3435788 Louis ? Louis ? - Beretti ? - Shh ! P...</td>\n",
       "      <td>49565</td>\n",
       "      <td>['louis', 'louis', 'beretti', 'shh', 'sap', 'k...</td>\n",
       "      <td>([louis, louis, beretti, shh, sap, know, bette...</td>\n",
       "      <td>([louis, louis, beretti, shh, sap, know, bette...</td>\n",
       "      <td>[]</td>\n",
       "    </tr>\n",
       "    <tr>\n",
       "      <th>4</th>\n",
       "      <td>4</td>\n",
       "      <td>6922578</td>\n",
       "      <td>King of Jazz</td>\n",
       "      <td>Animation, Music</td>\n",
       "      <td>1930</td>\n",
       "      <td>English</td>\n",
       "      <td>21025</td>\n",
       "      <td>['Music', 'hath', 'charms', 'that', 'nothing',...</td>\n",
       "      <td>@6922578 Music hath charms that nothing else h...</td>\n",
       "      <td>33966</td>\n",
       "      <td>['music', 'hath', 'charms', 'music', 'hath', '...</td>\n",
       "      <td>([music, hath, charms, music, hath, charms, cl...</td>\n",
       "      <td>([music, hath, charms, music, hath, charms, cl...</td>\n",
       "      <td>[]</td>\n",
       "    </tr>\n",
       "  </tbody>\n",
       "</table>\n",
       "</div>"
      ],
      "text/plain": [
       "   Unnamed: 0  Unnamed: 0.1                      Movie Name  \\\n",
       "0           0       3547424             Goodbye to All That   \n",
       "1           1       3660608                 Abraham Lincoln   \n",
       "2           2         60053  All Quiet on the Western Front   \n",
       "3           3       3435788                   Born Reckless   \n",
       "4           4       6922578                    King of Jazz   \n",
       "\n",
       "                       Genre  Year                         Country    IMDb  \\\n",
       "0             Short, Musical  1930                         English  290635   \n",
       "1  Biography, Drama, History  1930                         English   20620   \n",
       "2                 Drama, War  1930  English, French, German, Latin   20629   \n",
       "3    Crime, Drama, Film-Noir  1930        English, Italian, French   20702   \n",
       "4           Animation, Music  1930                         English   21025   \n",
       "\n",
       "                                           Tokenized  \\\n",
       "0  ['In', 'the', 'future', 'a', 'computer', 'prog...   \n",
       "1  ['Tom', 'Lincoln', 'It', \"'s\", 'a', 'comin', '...   \n",
       "2  ['Thirty', 'thousand', 'From', 'the', 'Russian...   \n",
       "3  ['Louis', 'Louis', 'Beretti', 'Shh', 'Put', 't...   \n",
       "4  ['Music', 'hath', 'charms', 'that', 'nothing',...   \n",
       "\n",
       "                                                Text  word_count  \\\n",
       "0  @3547424 In the future , a computer program ca...       35320   \n",
       "1  @3660608 Tom Lincoln ! It's a comin ' - Boy or...       49770   \n",
       "2  @60053 - Thirty thousand . - From the Russians...       69596   \n",
       "3  @3435788 Louis ? Louis ? - Beretti ? - Shh ! P...       49565   \n",
       "4  @6922578 Music hath charms that nothing else h...       33966   \n",
       "\n",
       "                                   normalized_tokens  \\\n",
       "0  ['future', 'computer', 'program', 'called', 's...   \n",
       "1  ['tom', 'lincoln', 'comin', 'boy', 'gal', 't',...   \n",
       "2  ['russians', 'french', 'russians', 'capture', ...   \n",
       "3  ['louis', 'louis', 'beretti', 'shh', 'sap', 'k...   \n",
       "4  ['music', 'hath', 'charms', 'music', 'hath', '...   \n",
       "\n",
       "                                       Tagged_Female  \\\n",
       "0  ([future, computer, program, called, skynet, d...   \n",
       "1  ([tom, lincoln, comin, boy, gal, t, ai, nt, fu...   \n",
       "2  ([russians, french, russians, capture, day, mr...   \n",
       "3  ([louis, louis, beretti, shh, sap, know, bette...   \n",
       "4  ([music, hath, charms, music, hath, charms, cl...   \n",
       "\n",
       "                                         Tagged_Male reduced_tokens  \n",
       "0  ([future, computer, program, called, skynet, d...             []  \n",
       "1  ([tom, lincoln, comin, boy, gal, t, ai, nt, fu...             []  \n",
       "2  ([russians, french, russians, capture, day, mr...             []  \n",
       "3  ([louis, louis, beretti, shh, sap, know, bette...             []  \n",
       "4  ([music, hath, charms, music, hath, charms, cl...             []  "
      ]
     },
     "execution_count": 467,
     "metadata": {},
     "output_type": "execute_result"
    }
   ],
   "source": [
    "only_1930s.head()"
   ]
  },
  {
   "cell_type": "code",
   "execution_count": 464,
   "metadata": {},
   "outputs": [],
   "source": [
    "#Similar parameters to before, but stricter max df and no max num occurrences\n",
    "TFVectorizer30 = sklearn.feature_extraction.text.TfidfVectorizer(max_df=100, min_df=2, stop_words='english', norm='l2')\n",
    "TFVects30 = TFVectorizer30.fit_transform(only_1930s['Text'])"
   ]
  },
  {
   "cell_type": "code",
   "execution_count": 465,
   "metadata": {},
   "outputs": [],
   "source": [
    "def dropMissing(wordLst, vocab):\n",
    "    return [w for w in wordLst if w in vocab]\n"
   ]
  },
  {
   "cell_type": "code",
   "execution_count": 466,
   "metadata": {},
   "outputs": [
    {
     "name": "stderr",
     "output_type": "stream",
     "text": [
      "C:\\Users\\iarak\\Anaconda3\\Anaconda\\lib\\site-packages\\ipykernel_launcher.py:1: SettingWithCopyWarning: \n",
      "A value is trying to be set on a copy of a slice from a DataFrame.\n",
      "Try using .loc[row_indexer,col_indexer] = value instead\n",
      "\n",
      "See the caveats in the documentation: https://pandas.pydata.org/pandas-docs/stable/user_guide/indexing.html#returning-a-view-versus-a-copy\n",
      "  \"\"\"Entry point for launching an IPython kernel.\n"
     ]
    }
   ],
   "source": [
    "only_1930s['reduced_tokens'] = only_1930s['normalized_tokens'].apply(lambda x: dropMissing(x, TFVectorizer30.vocabulary_.keys()))\n",
    "\n",
    "dictionary = gensim.corpora.Dictionary(only_1930s['reduced_tokens'])"
   ]
  },
  {
   "cell_type": "code",
   "execution_count": 456,
   "metadata": {},
   "outputs": [],
   "source": [
    "corpus = [dictionary.doc2bow(text) for text in only_1930s['reduced_tokens']]"
   ]
  },
  {
   "cell_type": "code",
   "execution_count": 457,
   "metadata": {},
   "outputs": [],
   "source": [
    "gensim.corpora.MmCorpus.serialize('mv30.mm', corpus)\n",
    "mv30 = gensim.corpora.MmCorpus('mv30.mm')"
   ]
  },
  {
   "cell_type": "code",
   "execution_count": 458,
   "metadata": {},
   "outputs": [
    {
     "ename": "ValueError",
     "evalue": "cannot compute LDA over an empty collection (no terms)",
     "output_type": "error",
     "traceback": [
      "\u001b[1;31m---------------------------------------------------------------------------\u001b[0m",
      "\u001b[1;31mValueError\u001b[0m                                Traceback (most recent call last)",
      "\u001b[1;32m<ipython-input-458-32d5e494daaa>\u001b[0m in \u001b[0;36m<module>\u001b[1;34m()\u001b[0m\n\u001b[1;32m----> 1\u001b[1;33m \u001b[0mmv30lda\u001b[0m \u001b[1;33m=\u001b[0m \u001b[0mgensim\u001b[0m\u001b[1;33m.\u001b[0m\u001b[0mmodels\u001b[0m\u001b[1;33m.\u001b[0m\u001b[0mldamodel\u001b[0m\u001b[1;33m.\u001b[0m\u001b[0mLdaModel\u001b[0m\u001b[1;33m(\u001b[0m\u001b[0mcorpus\u001b[0m\u001b[1;33m=\u001b[0m\u001b[0mmv30\u001b[0m\u001b[1;33m,\u001b[0m \u001b[0mid2word\u001b[0m\u001b[1;33m=\u001b[0m\u001b[0mdictionary\u001b[0m\u001b[1;33m,\u001b[0m \u001b[0mnum_topics\u001b[0m\u001b[1;33m=\u001b[0m\u001b[1;36m10\u001b[0m\u001b[1;33m,\u001b[0m \u001b[0malpha\u001b[0m\u001b[1;33m=\u001b[0m\u001b[1;34m'auto'\u001b[0m\u001b[1;33m,\u001b[0m \u001b[0meta\u001b[0m\u001b[1;33m=\u001b[0m\u001b[1;34m'auto'\u001b[0m\u001b[1;33m)\u001b[0m\u001b[1;33m\u001b[0m\u001b[0m\n\u001b[0m",
      "\u001b[1;32m~\\Anaconda3\\Anaconda\\lib\\site-packages\\gensim\\models\\ldamodel.py\u001b[0m in \u001b[0;36m__init__\u001b[1;34m(self, corpus, num_topics, id2word, distributed, chunksize, passes, update_every, alpha, eta, decay, offset, eval_every, iterations, gamma_threshold, minimum_probability, random_state, ns_conf, minimum_phi_value, per_word_topics, callbacks, dtype)\u001b[0m\n\u001b[0;32m    439\u001b[0m \u001b[1;33m\u001b[0m\u001b[0m\n\u001b[0;32m    440\u001b[0m         \u001b[1;32mif\u001b[0m \u001b[0mself\u001b[0m\u001b[1;33m.\u001b[0m\u001b[0mnum_terms\u001b[0m \u001b[1;33m==\u001b[0m \u001b[1;36m0\u001b[0m\u001b[1;33m:\u001b[0m\u001b[1;33m\u001b[0m\u001b[0m\n\u001b[1;32m--> 441\u001b[1;33m             \u001b[1;32mraise\u001b[0m \u001b[0mValueError\u001b[0m\u001b[1;33m(\u001b[0m\u001b[1;34m\"cannot compute LDA over an empty collection (no terms)\"\u001b[0m\u001b[1;33m)\u001b[0m\u001b[1;33m\u001b[0m\u001b[0m\n\u001b[0m\u001b[0;32m    442\u001b[0m \u001b[1;33m\u001b[0m\u001b[0m\n\u001b[0;32m    443\u001b[0m         \u001b[0mself\u001b[0m\u001b[1;33m.\u001b[0m\u001b[0mdistributed\u001b[0m \u001b[1;33m=\u001b[0m \u001b[0mbool\u001b[0m\u001b[1;33m(\u001b[0m\u001b[0mdistributed\u001b[0m\u001b[1;33m)\u001b[0m\u001b[1;33m\u001b[0m\u001b[0m\n",
      "\u001b[1;31mValueError\u001b[0m: cannot compute LDA over an empty collection (no terms)"
     ]
    }
   ],
   "source": [
    "mv30lda = gensim.models.ldamodel.LdaModel(corpus=mv30, id2word=dictionary, num_topics=10, alpha='auto', eta='auto')"
   ]
  },
  {
   "cell_type": "code",
   "execution_count": null,
   "metadata": {},
   "outputs": [],
   "source": [
    "sen1Bow = dictionary.doc2bow(senReleasesTraining['reduced_tokens'][0])\n",
    "sen1lda = senlda[sen1Bow]\n",
    "print(\"The topics of the text: {}\".format(senReleasesTraining['name'][0]))\n",
    "print(\"are: {}\".format(sen1lda))"
   ]
  },
  {
   "cell_type": "code",
   "execution_count": null,
   "metadata": {},
   "outputs": [],
   "source": []
  },
  {
   "cell_type": "code",
   "execution_count": null,
   "metadata": {},
   "outputs": [],
   "source": []
  },
  {
   "cell_type": "code",
   "execution_count": 123,
   "metadata": {},
   "outputs": [],
   "source": [
    "import numpy as np #For divergences/distances\n",
    "import scipy #For divergences/distances\n",
    "import seaborn as sns #makes our plots look nicer\n",
    "import sklearn.manifold #For a manifold plot\n",
    "import json #For API responses\n",
    "import urllib.parse #For joining urls\n",
    "\n",
    "# comp-linguistics\n",
    "import spacy\n",
    "\n",
    "#Displays the graphs\n",
    "import graphviz #You also need to install the command line graphviz\n",
    "% matplotlib inline"
   ]
  },
  {
   "cell_type": "code",
   "execution_count": 126,
   "metadata": {},
   "outputs": [],
   "source": [
    "import nltk"
   ]
  },
  {
   "cell_type": "code",
   "execution_count": null,
   "metadata": {},
   "outputs": [],
   "source": [
    "Text50 = nltk.Text(Tokens_50)\n",
    "\n",
    "whitehouseIndex = nltk.text.ConcordanceIndex(whText) \n",
    "whitehouseIndex.print_concordance('Whitehouse')"
   ]
  },
  {
   "cell_type": "code",
   "execution_count": 20,
   "metadata": {},
   "outputs": [
    {
     "ename": "NameError",
     "evalue": "name 'clean_18' is not defined",
     "output_type": "error",
     "traceback": [
      "\u001b[1;31m---------------------------------------------------------------------------\u001b[0m",
      "\u001b[1;31mNameError\u001b[0m                                 Traceback (most recent call last)",
      "\u001b[1;32m<ipython-input-20-84e1e7e6f18b>\u001b[0m in \u001b[0;36m<module>\u001b[1;34m()\u001b[0m\n\u001b[1;32m----> 1\u001b[1;33m \u001b[0mcountedWords\u001b[0m \u001b[1;33m=\u001b[0m \u001b[0mwordCounter\u001b[0m\u001b[1;33m(\u001b[0m\u001b[0mword_tokenize\u001b[0m\u001b[1;33m(\u001b[0m\u001b[0mclean_18\u001b[0m\u001b[1;33m[\u001b[0m\u001b[1;36m1\u001b[0m\u001b[1;33m]\u001b[0m\u001b[1;33m)\u001b[0m\u001b[1;33m)\u001b[0m\u001b[1;33m\u001b[0m\u001b[0m\n\u001b[0m\u001b[0;32m      2\u001b[0m \u001b[0mcountedWords\u001b[0m\u001b[1;33m[\u001b[0m\u001b[1;33m:\u001b[0m\u001b[1;36m10\u001b[0m\u001b[1;33m]\u001b[0m\u001b[1;33m\u001b[0m\u001b[0m\n",
      "\u001b[1;31mNameError\u001b[0m: name 'clean_18' is not defined"
     ]
    }
   ],
   "source": [
    "countedWords = wordCounter(word_tokenize(clean_18[1]))\n",
    "countedWords[:10]"
   ]
  },
  {
   "cell_type": "code",
   "execution_count": null,
   "metadata": {},
   "outputs": [],
   "source": [
    "#Doing this in place (changing the original DataFrame) as we don't need the unsorted DataFrame\n",
    "countedWords.sort_values('count', ascending=False, inplace=True)\n",
    "countedWords[:100]"
   ]
  },
  {
   "cell_type": "code",
   "execution_count": null,
   "metadata": {},
   "outputs": [],
   "source": [
    "countTarget = 'NN'\n",
    "targetCounts = {}\n",
    "for entry in movie_df2['POS_sents'] :\n",
    "    for sentence in entry:\n",
    "        for ent, kind in sentence:\n",
    "            if kind != countTarget:\n",
    "                continue\n",
    "            elif ent in targetCounts:\n",
    "                targetCounts[ent] += 1\n",
    "            else:\n",
    "                targetCounts[ent] = 1\n",
    "sortedTargets = sorted(targetCounts.items(), key = lambda x: x[1], reverse = True)\n",
    "sortedTargets[:20]"
   ]
  },
  {
   "cell_type": "code",
   "execution_count": null,
   "metadata": {},
   "outputs": [],
   "source": [
    "sent = nlp(str(movie_df2['Text']))"
   ]
  },
  {
   "cell_type": "code",
   "execution_count": null,
   "metadata": {},
   "outputs": [],
   "source": [
    "for token in sent:\n",
    "    print(token.text, token.ent_type_)"
   ]
  },
  {
   "cell_type": "code",
   "execution_count": null,
   "metadata": {},
   "outputs": [],
   "source": [
    "for ent in sent.ents:\n",
    "    print(ent.text, ent.label_)"
   ]
  },
  {
   "cell_type": "code",
   "execution_count": null,
   "metadata": {},
   "outputs": [],
   "source": [
    "def tag_sents_ner(sentences):\n",
    "    \"\"\"\n",
    "    function which replicates NLTK ner tagging on sentences.\n",
    "    \"\"\"\n",
    "    new_sents = []\n",
    "    for sentence in sentences:\n",
    "        new_sent = ' '.join(sentence)\n",
    "        new_sents.append(new_sent)\n",
    "    final_string = ' '.join(new_sents)\n",
    "    doc = nlp(final_string)\n",
    "    \n",
    "    pos_sents = []\n",
    "    for sent in doc.sents:\n",
    "        pos_sent = []\n",
    "        for ent in sent.ents:\n",
    "            pos_sent.append((ent.text, ent.label_))\n",
    "        pos_sents.append(pos_sent)\n",
    "    \n",
    "    return pos_sents"
   ]
  },
  {
   "cell_type": "code",
   "execution_count": null,
   "metadata": {},
   "outputs": [],
   "source": [
    "movie_df2['classified_sents'] = movie_df2['sentences'].apply(lambda x: tag_sents_ner(x))"
   ]
  },
  {
   "cell_type": "code",
   "execution_count": null,
   "metadata": {},
   "outputs": [],
   "source": [
    "entityCounts = {}\n",
    "for entry in movie_df2['classified_sents']:\n",
    "    for sentence in entry:\n",
    "        for ent, kind in sentence:\n",
    "            if ent in entityCounts:\n",
    "                entityCounts[ent] += 1\n",
    "            else:\n",
    "                entityCounts[ent] = 1\n",
    "sortedEntities = sorted(entityCounts.items(), key = lambda x: x[1], reverse = True)\n",
    "sortedEntities[:10]"
   ]
  },
  {
   "cell_type": "code",
   "execution_count": null,
   "metadata": {},
   "outputs": [],
   "source": [
    "nonObjCounts = {}\n",
    "for entry in movie_df2['classified_sents']:\n",
    "    for sentence in entry:\n",
    "        for ent, kind in sentence:\n",
    "            if kind == 'ORG':\n",
    "                continue\n",
    "            elif ent in nonObjCounts:\n",
    "                nonObjCounts[ent] += 1\n",
    "            else:\n",
    "                nonObjCounts[ent] = 1\n",
    "sortedNonObj = sorted(nonObjCounts.items(), key = lambda x: x[1], reverse = True)\n",
    "sortedNonObj[:10]"
   ]
  },
  {
   "cell_type": "code",
   "execution_count": null,
   "metadata": {},
   "outputs": [],
   "source": []
  },
  {
   "cell_type": "code",
   "execution_count": null,
   "metadata": {},
   "outputs": [],
   "source": []
  },
  {
   "cell_type": "code",
   "execution_count": null,
   "metadata": {},
   "outputs": [],
   "source": []
  },
  {
   "cell_type": "code",
   "execution_count": null,
   "metadata": {},
   "outputs": [],
   "source": []
  },
  {
   "cell_type": "code",
   "execution_count": null,
   "metadata": {},
   "outputs": [],
   "source": []
  },
  {
   "cell_type": "code",
   "execution_count": null,
   "metadata": {},
   "outputs": [],
   "source": []
  },
  {
   "cell_type": "code",
   "execution_count": null,
   "metadata": {},
   "outputs": [],
   "source": []
  },
  {
   "cell_type": "code",
   "execution_count": null,
   "metadata": {},
   "outputs": [],
   "source": []
  },
  {
   "cell_type": "code",
   "execution_count": null,
   "metadata": {},
   "outputs": [],
   "source": []
  },
  {
   "cell_type": "code",
   "execution_count": null,
   "metadata": {},
   "outputs": [],
   "source": []
  },
  {
   "cell_type": "code",
   "execution_count": null,
   "metadata": {},
   "outputs": [],
   "source": []
  },
  {
   "cell_type": "code",
   "execution_count": null,
   "metadata": {},
   "outputs": [],
   "source": []
  },
  {
   "cell_type": "code",
   "execution_count": null,
   "metadata": {},
   "outputs": [],
   "source": []
  },
  {
   "cell_type": "code",
   "execution_count": null,
   "metadata": {},
   "outputs": [],
   "source": []
  },
  {
   "cell_type": "code",
   "execution_count": null,
   "metadata": {},
   "outputs": [],
   "source": []
  },
  {
   "cell_type": "code",
   "execution_count": null,
   "metadata": {},
   "outputs": [],
   "source": []
  },
  {
   "cell_type": "code",
   "execution_count": null,
   "metadata": {},
   "outputs": [],
   "source": []
  },
  {
   "cell_type": "code",
   "execution_count": null,
   "metadata": {},
   "outputs": [],
   "source": []
  },
  {
   "cell_type": "code",
   "execution_count": null,
   "metadata": {},
   "outputs": [],
   "source": []
  },
  {
   "cell_type": "code",
   "execution_count": null,
   "metadata": {},
   "outputs": [],
   "source": []
  },
  {
   "cell_type": "code",
   "execution_count": null,
   "metadata": {},
   "outputs": [],
   "source": []
  },
  {
   "cell_type": "code",
   "execution_count": null,
   "metadata": {},
   "outputs": [],
   "source": []
  },
  {
   "cell_type": "code",
   "execution_count": null,
   "metadata": {},
   "outputs": [],
   "source": []
  },
  {
   "cell_type": "code",
   "execution_count": null,
   "metadata": {},
   "outputs": [],
   "source": []
  },
  {
   "cell_type": "code",
   "execution_count": null,
   "metadata": {},
   "outputs": [],
   "source": []
  },
  {
   "cell_type": "code",
   "execution_count": null,
   "metadata": {},
   "outputs": [],
   "source": []
  },
  {
   "cell_type": "code",
   "execution_count": null,
   "metadata": {},
   "outputs": [],
   "source": []
  },
  {
   "cell_type": "code",
   "execution_count": null,
   "metadata": {},
   "outputs": [],
   "source": []
  },
  {
   "cell_type": "code",
   "execution_count": null,
   "metadata": {},
   "outputs": [],
   "source": []
  },
  {
   "cell_type": "code",
   "execution_count": null,
   "metadata": {},
   "outputs": [],
   "source": []
  },
  {
   "cell_type": "code",
   "execution_count": null,
   "metadata": {},
   "outputs": [],
   "source": []
  },
  {
   "cell_type": "code",
   "execution_count": null,
   "metadata": {},
   "outputs": [],
   "source": []
  },
  {
   "cell_type": "code",
   "execution_count": null,
   "metadata": {},
   "outputs": [],
   "source": []
  },
  {
   "cell_type": "code",
   "execution_count": null,
   "metadata": {},
   "outputs": [],
   "source": []
  },
  {
   "cell_type": "code",
   "execution_count": null,
   "metadata": {},
   "outputs": [],
   "source": []
  },
  {
   "cell_type": "code",
   "execution_count": null,
   "metadata": {},
   "outputs": [],
   "source": []
  },
  {
   "cell_type": "code",
   "execution_count": null,
   "metadata": {},
   "outputs": [],
   "source": []
  },
  {
   "cell_type": "code",
   "execution_count": null,
   "metadata": {},
   "outputs": [],
   "source": []
  },
  {
   "cell_type": "code",
   "execution_count": null,
   "metadata": {},
   "outputs": [],
   "source": []
  },
  {
   "cell_type": "code",
   "execution_count": null,
   "metadata": {},
   "outputs": [],
   "source": []
  },
  {
   "cell_type": "code",
   "execution_count": null,
   "metadata": {},
   "outputs": [],
   "source": []
  },
  {
   "cell_type": "code",
   "execution_count": null,
   "metadata": {},
   "outputs": [],
   "source": []
  },
  {
   "cell_type": "code",
   "execution_count": null,
   "metadata": {},
   "outputs": [],
   "source": [
    "import nltk"
   ]
  },
  {
   "cell_type": "code",
   "execution_count": null,
   "metadata": {},
   "outputs": [],
   "source": [
    "countsDict = {}\n",
    "for word in movie_df['Tokenized'].sum():\n",
    "    if word in countsDict:\n",
    "        countsDict[word] += 1\n",
    "    else:\n",
    "        countsDict[word] = 1\n",
    "word_counts = sorted(countsDict.items(), key = lambda x : x[1], reverse = True)\n",
    "word_counts[:25]"
   ]
  },
  {
   "cell_type": "code",
   "execution_count": null,
   "metadata": {},
   "outputs": [],
   "source": [
    "from nltk.stem.snowball import SnowballStemmer\n",
    "from nltk.stem.wordnet import WordNetLemmatizer\n",
    "from nltk.corpus import stopwords"
   ]
  },
  {
   "cell_type": "code",
   "execution_count": null,
   "metadata": {},
   "outputs": [],
   "source": [
    "snowball = SnowballStemmer(language = 'english')\n"
   ]
  },
  {
   "cell_type": "code",
   "execution_count": null,
   "metadata": {},
   "outputs": [],
   "source": [
    "def stemming(words):\n",
    "    new = []\n",
    "    stem_words = [snowball.stem(x) for x in (words[:][0])]\n",
    "    new.append(stem_words)\n",
    "    return new"
   ]
  },
  {
   "cell_type": "code",
   "execution_count": null,
   "metadata": {},
   "outputs": [],
   "source": [
    "stemlist = stemming(movie_df['Tokenized'])"
   ]
  },
  {
   "cell_type": "code",
   "execution_count": null,
   "metadata": {},
   "outputs": [],
   "source": [
    "import itertools\n",
    "stems = list(itertools.chain(*stemlist))"
   ]
  },
  {
   "cell_type": "code",
   "execution_count": null,
   "metadata": {},
   "outputs": [],
   "source": [
    "stemcount = wordCounter(stems)"
   ]
  },
  {
   "cell_type": "code",
   "execution_count": null,
   "metadata": {},
   "outputs": [],
   "source": [
    "#The stop list is then all words that occur before the first noun\n",
    "stop_words_freq = []\n",
    "for word, count in word_counts:\n",
    "    if word == 'Whitehouse':\n",
    "        break\n",
    "    else:\n",
    "        stop_words_freq.append(word)\n",
    "stop_words_freq"
   ]
  },
  {
   "cell_type": "code",
   "execution_count": null,
   "metadata": {},
   "outputs": [],
   "source": [
    "def normalizeTokens(word_list, extra_stop=[]):\n",
    "    #We can use a generator here as we just need to iterate over it\n",
    "    normalized = []\n",
    "    if type(word_list) == list and len(word_list) == 1:\n",
    "        word_list = word_list[0]\n",
    "\n",
    "    if type(word_list) == list:\n",
    "        word_list = ' '.join([str(elem) for elem in word_list]) \n",
    "\n",
    "    doc = nlp(word_list.lower())\n",
    "    \n",
    "    # add the property of stop word to words considered as stop words\n",
    "    if len(extra_stop) > 0:\n",
    "        for stopword in extra_stop:\n",
    "            lexeme = nlp.vocab[stopword]\n",
    "            lexeme.is_stop = True\n",
    "\n",
    "    for w in doc:\n",
    "        # if it's not a stop word or punctuation mark, add it to our article\n",
    "        if w.text != '\\n' and not w.is_stop and not w.is_punct and not w.like_num and len(w.text.strip()) > 0:\n",
    "            # we add the lematized version of the word\n",
    "            normalized.append(str(w.lemma_))\n",
    "\n",
    "    return normalized"
   ]
  },
  {
   "cell_type": "code",
   "execution_count": 379,
   "metadata": {},
   "outputs": [
    {
     "name": "stdout",
     "output_type": "stream",
     "text": [
      "7857096\n"
     ]
    }
   ],
   "source": [
    "#.sum() adds together the lists from each row into a single list\n",
    "mov30_cfdist = nltk.ConditionalFreqDist(((len(w), w) for w in only_1930s['normalized_tokens'].sum()))\n",
    "\n",
    "#print the number of words\n",
    "print(mov30_cfdist.N())"
   ]
  },
  {
   "cell_type": "code",
   "execution_count": 380,
   "metadata": {},
   "outputs": [],
   "source": [
    "def spacy_pos(word_list):\n",
    "    tags = []\n",
    "    doc = nlp(word_list.lower())\n",
    "    for w in doc:\n",
    "        tags.append((w.text, w.tag_))\n",
    "    return tags"
   ]
  },
  {
   "cell_type": "code",
   "execution_count": 382,
   "metadata": {},
   "outputs": [
    {
     "name": "stderr",
     "output_type": "stream",
     "text": [
      "C:\\Users\\iarak\\Anaconda3\\Anaconda\\lib\\site-packages\\ipykernel_launcher.py:1: SettingWithCopyWarning: \n",
      "A value is trying to be set on a copy of a slice from a DataFrame.\n",
      "Try using .loc[row_indexer,col_indexer] = value instead\n",
      "\n",
      "See the caveats in the documentation: https://pandas.pydata.org/pandas-docs/stable/user_guide/indexing.html#returning-a-view-versus-a-copy\n",
      "  \"\"\"Entry point for launching an IPython kernel.\n"
     ]
    }
   ],
   "source": [
    "only_1930s['normalized_tokens_POS'] = [spacy_pos(t) for t in only_1930s['Text']] #Running it on movie names to see associations there, \n",
    "#when I rerun this will do it with the original clean raw text, which is not in this dataframe so will add it when I rerun it\n",
    "#- Cannot run it on the tokenized text"
   ]
  },
  {
   "cell_type": "code",
   "execution_count": 383,
   "metadata": {},
   "outputs": [
    {
     "data": {
      "text/plain": [
       "[('@3547424', FreqDist({'IN': 1})),\n",
       " ('in', FreqDist({'IN': 19818, 'RP': 1818, 'RB': 1405, 'NN': 9, 'JJ': 1})),\n",
       " ('the', FreqDist({'DT': 63819})),\n",
       " ('future', FreqDist({'NN': 144, 'JJ': 40, 'NNP': 2})),\n",
       " (',', FreqDist({',': 148936})),\n",
       " ('a',\n",
       "  FreqDist({'DT': 45307, 'NN': 37, 'RB': 31, 'NNP': 27, 'FW': 14, 'LS': 8})),\n",
       " ('computer', FreqDist({'NN': 6})),\n",
       " ('program', FreqDist({'NN': 16})),\n",
       " ('called', FreqDist({'VBN': 216, 'VBD': 196})),\n",
       " ('skynet', FreqDist({'NN': 6}))]"
      ]
     },
     "execution_count": 383,
     "metadata": {},
     "output_type": "execute_result"
    }
   ],
   "source": [
    "mov30_cfdist_WordtoPOS = nltk.ConditionalFreqDist(only_1930s['normalized_tokens_POS'].sum())\n",
    "list(mov30_cfdist_WordtoPOS.items())[:10]"
   ]
  },
  {
   "cell_type": "code",
   "execution_count": 404,
   "metadata": {},
   "outputs": [
    {
     "data": {
      "text/plain": [
       "FreqDist({'NN': 1191, 'NNP': 2, 'XX': 1})"
      ]
     },
     "execution_count": 404,
     "metadata": {},
     "output_type": "execute_result"
    }
   ],
   "source": [
    "mov30_cfdist_WordtoPOS['woman']"
   ]
  },
  {
   "cell_type": "code",
   "execution_count": 405,
   "metadata": {},
   "outputs": [
    {
     "data": {
      "text/plain": [
       "FreqDist({'JJ': 22, 'NNP': 8, 'NN': 8})"
      ]
     },
     "execution_count": 405,
     "metadata": {},
     "output_type": "execute_result"
    }
   ],
   "source": [
    "mov30_cfdist_WordtoPOS['blonde']"
   ]
  },
  {
   "cell_type": "code",
   "execution_count": 406,
   "metadata": {},
   "outputs": [
    {
     "data": {
      "text/plain": [
       "FreqDist({'NN': 1608, 'NNP': 13, 'VB': 2, 'VBP': 1})"
      ]
     },
     "execution_count": 406,
     "metadata": {},
     "output_type": "execute_result"
    }
   ],
   "source": [
    "mov30_cfdist_WordtoPOS['girl']"
   ]
  },
  {
   "cell_type": "code",
   "execution_count": 407,
   "metadata": {},
   "outputs": [
    {
     "data": {
      "text/plain": [
       "FreqDist({'NN': 4031, 'UH': 34, 'NNP': 32, 'VB': 5, 'VBP': 1})"
      ]
     },
     "execution_count": 407,
     "metadata": {},
     "output_type": "execute_result"
    }
   ],
   "source": [
    "mov30_cfdist_WordtoPOS['man']"
   ]
  },
  {
   "cell_type": "code",
   "execution_count": 384,
   "metadata": {},
   "outputs": [],
   "source": [
    "mov30_cfdist_POStoWord = nltk.ConditionalFreqDist((p, w) for w, p in only_1930s['normalized_tokens_POS'].sum())"
   ]
  },
  {
   "cell_type": "code",
   "execution_count": 385,
   "metadata": {
    "scrolled": true
   },
   "outputs": [
    {
     "data": {
      "text/plain": [
       "[('good', 6315),\n",
       " ('little', 3704),\n",
       " ('right', 3166),\n",
       " ('old', 2183),\n",
       " ('sorry', 1646)]"
      ]
     },
     "execution_count": 385,
     "metadata": {},
     "output_type": "execute_result"
    }
   ],
   "source": [
    "mov30_cfdist_POStoWord['JJ'].most_common(5)"
   ]
  },
  {
   "cell_type": "code",
   "execution_count": 397,
   "metadata": {
    "scrolled": true
   },
   "outputs": [
    {
     "data": {
      "text/plain": [
       "[('@', 12548),\n",
       " ('.', 8491),\n",
       " ('mr', 5379),\n",
       " ('sir', 3826),\n",
       " ('miss', 2446),\n",
       " ('mrs', 1482),\n",
       " ('joe', 718),\n",
       " ('mary', 639),\n",
       " ('dr', 561),\n",
       " ('father', 517),\n",
       " ('new', 513),\n",
       " ('madame', 470),\n",
       " ('bill', 452),\n",
       " ('lord', 432),\n",
       " ('jack', 430)]"
      ]
     },
     "execution_count": 397,
     "metadata": {},
     "output_type": "execute_result"
    }
   ],
   "source": [
    "mov30_cfdist_POStoWord['NNP'].most_common(15)"
   ]
  },
  {
   "cell_type": "code",
   "execution_count": 402,
   "metadata": {
    "scrolled": true
   },
   "outputs": [
    {
     "data": {
      "text/plain": [
       "[('indians', 82),\n",
       " ('heavens', 50),\n",
       " ('americans', 33),\n",
       " ('russians', 24),\n",
       " ('arabs', 17),\n",
       " ('germans', 16),\n",
       " ('groans', 15),\n",
       " ('purvis', 15),\n",
       " ('seas', 8),\n",
       " ('marines', 7),\n",
       " ('laughs', 7),\n",
       " ('games', 6),\n",
       " ('yankees', 6),\n",
       " ('ammonites', 6),\n",
       " ('chiefs', 5)]"
      ]
     },
     "execution_count": 402,
     "metadata": {},
     "output_type": "execute_result"
    }
   ],
   "source": [
    "mov30_cfdist_POStoWord['NNPS'].most_common(15)"
   ]
  },
  {
   "cell_type": "code",
   "execution_count": 401,
   "metadata": {
    "scrolled": true
   },
   "outputs": [
    {
     "data": {
      "text/plain": [
       "[('you', 101954),\n",
       " ('i', 91601),\n",
       " ('it', 38840),\n",
       " ('me', 22882),\n",
       " ('he', 16058),\n",
       " ('we', 15708),\n",
       " ('him', 9236),\n",
       " ('she', 7924),\n",
       " ('they', 7906),\n",
       " ('her', 4781),\n",
       " ('them', 4742),\n",
       " ('us', 3226),\n",
       " (\"'s\", 1748),\n",
       " ('yourself', 1242),\n",
       " ('myself', 1147)]"
      ]
     },
     "execution_count": 401,
     "metadata": {},
     "output_type": "execute_result"
    }
   ],
   "source": [
    "mov30_cfdist_POStoWord['PRP'].most_common(15)"
   ]
  },
  {
   "cell_type": "code",
   "execution_count": 400,
   "metadata": {
    "scrolled": true
   },
   "outputs": [
    {
     "data": {
      "text/plain": [
       "[('you', 101954),\n",
       " ('i', 91601),\n",
       " ('it', 38840),\n",
       " ('me', 22882),\n",
       " ('he', 16058),\n",
       " ('we', 15708),\n",
       " ('him', 9236),\n",
       " ('she', 7924),\n",
       " ('they', 7906),\n",
       " ('her', 4781),\n",
       " ('them', 4742),\n",
       " ('us', 3226),\n",
       " (\"'s\", 1748),\n",
       " ('yourself', 1242),\n",
       " ('myself', 1147)]"
      ]
     },
     "execution_count": 400,
     "metadata": {},
     "output_type": "execute_result"
    }
   ],
   "source": [
    "mov30_cfdist_POStoWord['PRP'].most_common(15)"
   ]
  },
  {
   "cell_type": "code",
   "execution_count": 387,
   "metadata": {},
   "outputs": [
    {
     "data": {
      "text/plain": [
       "[('man', 4031),\n",
       " ('time', 3941),\n",
       " ('way', 3166),\n",
       " ('something', 2750),\n",
       " ('night', 2699),\n",
       " ('anything', 2511),\n",
       " ('nothing', 2324),\n",
       " ('thing', 2066),\n",
       " ('minute', 1978),\n",
       " ('money', 1715),\n",
       " ('life', 1641),\n",
       " ('girl', 1608),\n",
       " ('morning', 1566),\n",
       " ('everything', 1565),\n",
       " ('day', 1540)]"
      ]
     },
     "execution_count": 387,
     "metadata": {},
     "output_type": "execute_result"
    }
   ],
   "source": [
    "mov30_cfdist_POStoWord['NN'].most_common(15)"
   ]
  },
  {
   "cell_type": "code",
   "execution_count": null,
   "metadata": {},
   "outputs": [],
   "source": [
    "movie_cpdist_POStoWord = nltk.ConditionalProbDist(movie_cfdist_POStoWord, nltk.ELEProbDist)\n",
    "\n",
    "#print the most common nouns\n",
    "print(movie_cpdist_POStoWord['NN'].max())\n",
    "\n",
    "#And its probability\n",
    "print(movie_cpdist_POStoWord['NN'].prob(movie_cpdist_POStoWord['NN'].max()))"
   ]
  },
  {
   "cell_type": "code",
   "execution_count": 395,
   "metadata": {},
   "outputs": [],
   "source": [
    "word_dist = nltk.FreqDist(only_1930s['Tokenized'].str.cat(sep=' '))"
   ]
  },
  {
   "cell_type": "code",
   "execution_count": 391,
   "metadata": {},
   "outputs": [],
   "source": [
    "rslt = pd.DataFrame(word_dist.most_common(4),\n",
    "                    columns=['Word', 'Frequency'])"
   ]
  },
  {
   "cell_type": "code",
   "execution_count": 392,
   "metadata": {},
   "outputs": [
    {
     "data": {
      "text/html": [
       "<div>\n",
       "<style scoped>\n",
       "    .dataframe tbody tr th:only-of-type {\n",
       "        vertical-align: middle;\n",
       "    }\n",
       "\n",
       "    .dataframe tbody tr th {\n",
       "        vertical-align: top;\n",
       "    }\n",
       "\n",
       "    .dataframe thead th {\n",
       "        text-align: right;\n",
       "    }\n",
       "</style>\n",
       "<table border=\"1\" class=\"dataframe\">\n",
       "  <thead>\n",
       "    <tr style=\"text-align: right;\">\n",
       "      <th></th>\n",
       "      <th>Word</th>\n",
       "      <th>Frequency</th>\n",
       "    </tr>\n",
       "  </thead>\n",
       "  <tbody>\n",
       "    <tr>\n",
       "      <th>0</th>\n",
       "      <td>['In', 'the', 'future', 'a', 'computer', 'prog...</td>\n",
       "      <td>1</td>\n",
       "    </tr>\n",
       "    <tr>\n",
       "      <th>1</th>\n",
       "      <td>['Tom', 'Lincoln', 'It', \"'s\", 'a', 'comin', '...</td>\n",
       "      <td>1</td>\n",
       "    </tr>\n",
       "    <tr>\n",
       "      <th>2</th>\n",
       "      <td>['Thirty', 'thousand', 'From', 'the', 'Russian...</td>\n",
       "      <td>1</td>\n",
       "    </tr>\n",
       "    <tr>\n",
       "      <th>3</th>\n",
       "      <td>['Louis', 'Louis', 'Beretti', 'Shh', 'Put', 't...</td>\n",
       "      <td>1</td>\n",
       "    </tr>\n",
       "  </tbody>\n",
       "</table>\n",
       "</div>"
      ],
      "text/plain": [
       "                                                Word  Frequency\n",
       "0  ['In', 'the', 'future', 'a', 'computer', 'prog...          1\n",
       "1  ['Tom', 'Lincoln', 'It', \"'s\", 'a', 'comin', '...          1\n",
       "2  ['Thirty', 'thousand', 'From', 'the', 'Russian...          1\n",
       "3  ['Louis', 'Louis', 'Beretti', 'Shh', 'Put', 't...          1"
      ]
     },
     "execution_count": 392,
     "metadata": {},
     "output_type": "execute_result"
    }
   ],
   "source": [
    "rslt"
   ]
  },
  {
   "cell_type": "code",
   "execution_count": null,
   "metadata": {},
   "outputs": [],
   "source": []
  },
  {
   "cell_type": "code",
   "execution_count": null,
   "metadata": {},
   "outputs": [],
   "source": []
  },
  {
   "cell_type": "code",
   "execution_count": null,
   "metadata": {},
   "outputs": [],
   "source": []
  },
  {
   "cell_type": "code",
   "execution_count": null,
   "metadata": {},
   "outputs": [],
   "source": []
  },
  {
   "cell_type": "code",
   "execution_count": null,
   "metadata": {},
   "outputs": [],
   "source": []
  },
  {
   "cell_type": "code",
   "execution_count": null,
   "metadata": {},
   "outputs": [],
   "source": []
  },
  {
   "cell_type": "code",
   "execution_count": null,
   "metadata": {},
   "outputs": [],
   "source": []
  },
  {
   "cell_type": "code",
   "execution_count": null,
   "metadata": {},
   "outputs": [],
   "source": []
  },
  {
   "cell_type": "code",
   "execution_count": null,
   "metadata": {},
   "outputs": [],
   "source": [
    "wc = wordcloud.WordCloud(background_color=\"white\", max_words=500, width= 1000, height = 1000, mode ='RGBA', scale=.5).generate(' '.join(movie_df['normalized_tokens'].sum()))\n",
    "plt.imshow(wc)\n",
    "plt.axis(\"off\")\n",
    "plt.savefig(\"text_word_cloud.pdf\", format = 'pdf')"
   ]
  },
  {
   "cell_type": "code",
   "execution_count": null,
   "metadata": {},
   "outputs": [],
   "source": [
    "\n",
    "wc3 = wordcloud.WordCloud(background_color=\"white\", max_words=500, width= 1000, height = 1000, mode ='RGBA', scale=.5).generate(' '.join(movie_df['normalized_tokens_genres'].sum()))\n",
    "plt.imshow(wc3)\n",
    "plt.axis(\"off\")\n",
    "plt.savefig(\"moviegenre_word_cloud.pdf\", format = 'pdf')"
   ]
  },
  {
   "cell_type": "code",
   "execution_count": null,
   "metadata": {},
   "outputs": [],
   "source": [
    "def sent_tokenize(word_list):\n",
    "    doc = nlp(word_list)\n",
    "    sentences = [sent.string.strip() for sent in doc.sents]\n",
    "    return sentences"
   ]
  },
  {
   "cell_type": "code",
   "execution_count": null,
   "metadata": {},
   "outputs": [],
   "source": [
    "def tag_sents_pos(sentences):\n",
    "    \"\"\"\n",
    "    function which replicates NLTK pos tagging on sentences.\n",
    "    \"\"\"\n",
    "    new_sents = []\n",
    "    for sentence in sentences:\n",
    "        new_sent = ' '.join(sentence)\n",
    "        new_sents.append(new_sent)\n",
    "    final_string = ' '.join(new_sents)\n",
    "    doc = nlp(final_string)\n",
    "    \n",
    "    pos_sents = []\n",
    "    for sent in doc.sents:\n",
    "        pos_sent = []\n",
    "        for token in sent:\n",
    "            pos_sent.append((token.text, token.tag_))\n",
    "        pos_sents.append(pos_sent)\n",
    "    \n",
    "    return pos_sents"
   ]
  },
  {
   "cell_type": "code",
   "execution_count": null,
   "metadata": {},
   "outputs": [],
   "source": []
  },
  {
   "cell_type": "code",
   "execution_count": null,
   "metadata": {},
   "outputs": [],
   "source": []
  },
  {
   "cell_type": "code",
   "execution_count": null,
   "metadata": {},
   "outputs": [],
   "source": []
  },
  {
   "cell_type": "code",
   "execution_count": null,
   "metadata": {},
   "outputs": [],
   "source": []
  },
  {
   "cell_type": "code",
   "execution_count": null,
   "metadata": {},
   "outputs": [],
   "source": []
  },
  {
   "cell_type": "code",
   "execution_count": null,
   "metadata": {},
   "outputs": [],
   "source": [
    "movie_df['tokenized_sents'] = movie_df['Text'].apply(lambda x: [lucem_illud_2020.word_tokenize(s) for s in lucem_illud_2020.sent_tokenize(x)])\n",
    "movie_df['normalized_sents'] = movie_df['tokenized_sents'].apply(lambda x: [lucem_illud_2020.normalizeTokens(s) for s in x])"
   ]
  },
  {
   "cell_type": "code",
   "execution_count": null,
   "metadata": {},
   "outputs": [],
   "source": [
    "movie_df = movie_df.join(movie_df['Genre'].str.split(',', expand=True).add_prefix('Genre').fillna(np.nan))"
   ]
  },
  {
   "cell_type": "code",
   "execution_count": null,
   "metadata": {},
   "outputs": [],
   "source": [
    "movie_df_genre = pd.concat([movie_df,movie_df.Genre.str.get_dummies(sep=', ')],1)"
   ]
  },
  {
   "cell_type": "code",
   "execution_count": null,
   "metadata": {},
   "outputs": [],
   "source": [
    "movie_romance = movie_df[movie_df['Genre'].str.contains('Romance', na=False)] #114 movies"
   ]
  },
  {
   "cell_type": "code",
   "execution_count": 3,
   "metadata": {},
   "outputs": [
    {
     "ename": "NameError",
     "evalue": "name 'movie_df' is not defined",
     "output_type": "error",
     "traceback": [
      "\u001b[1;31m---------------------------------------------------------------------------\u001b[0m",
      "\u001b[1;31mNameError\u001b[0m                                 Traceback (most recent call last)",
      "\u001b[1;32m<ipython-input-3-f56623020a09>\u001b[0m in \u001b[0;36m<module>\u001b[1;34m()\u001b[0m\n\u001b[1;32m----> 1\u001b[1;33m \u001b[0mmovie_df\u001b[0m\u001b[1;33m.\u001b[0m\u001b[0mhead\u001b[0m\u001b[1;33m(\u001b[0m\u001b[1;33m)\u001b[0m\u001b[1;33m\u001b[0m\u001b[0m\n\u001b[0m",
      "\u001b[1;31mNameError\u001b[0m: name 'movie_df' is not defined"
     ]
    }
   ],
   "source": [
    "movie_df.head()"
   ]
  },
  {
   "cell_type": "markdown",
   "metadata": {},
   "source": [
    "Finally, we measure the co-occurrence of male and female character by finding whether they appear together in the same sentence for movie synopses or in the same paragraph for movie scripts and books"
   ]
  },
  {
   "cell_type": "markdown",
   "metadata": {},
   "source": [
    "The analysis is based on the scripts of movies from different genres that looks to analyze the gender and minority breakdown within the different movies over time. I will first be doing a POS analysis for noun-verbs and noun-adjective relationships and then the word embedding vector relationships. The word frequency and phrase frequency relationships will also allow us to learn more about how the films function in the context of gender and minority relationships."
   ]
  },
  {
   "cell_type": "markdown",
   "metadata": {},
   "source": [
    "The tokenized words can be extracted into different relationship structures for analysis.\n",
    "\n",
    "Research Question : How do gender and minority relationships between characters change over the decades "
   ]
  },
  {
   "cell_type": "markdown",
   "metadata": {},
   "source": [
    "Word Frequency and Counts"
   ]
  },
  {
   "cell_type": "markdown",
   "metadata": {},
   "source": [
    "First step is to count the word frequency of men and women, race related words in the movie scripts. "
   ]
  },
  {
   "cell_type": "code",
   "execution_count": 24,
   "metadata": {},
   "outputs": [],
   "source": [
    "def wordCounter(wordLst):\n",
    "    wordCounts = {}\n",
    "    for word in wordLst:\n",
    "        #We usually need to normalize the case\n",
    "        wLower = word.lower()\n",
    "        if wLower in wordCounts:\n",
    "            wordCounts[wLower] += 1\n",
    "        else:\n",
    "            wordCounts[wLower] = 1\n",
    "    #convert to DataFrame\n",
    "    countsForFrame = {'word' : [], 'count' : []}\n",
    "    for w, c in wordCounts.items():\n",
    "        countsForFrame['word'].append(w)\n",
    "        countsForFrame['count'].append(c)\n",
    "    return pandas.DataFrame(countsForFrame)"
   ]
  }
 ],
 "metadata": {
  "kernelspec": {
   "display_name": "Python 3",
   "language": "python",
   "name": "python3"
  },
  "language_info": {
   "codemirror_mode": {
    "name": "ipython",
    "version": 3
   },
   "file_extension": ".py",
   "mimetype": "text/x-python",
   "name": "python",
   "nbconvert_exporter": "python",
   "pygments_lexer": "ipython3",
   "version": "3.7.0"
  }
 },
 "nbformat": 4,
 "nbformat_minor": 2
}
